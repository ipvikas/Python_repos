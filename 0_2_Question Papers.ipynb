{
 "cells": [
  {
   "cell_type": "markdown",
   "metadata": {},
   "source": [
    "# 1. Fizz Buzz"
   ]
  },
  {
   "cell_type": "code",
   "execution_count": 1,
   "metadata": {},
   "outputs": [
    {
     "name": "stdout",
     "output_type": "stream",
     "text": [
      "1\n",
      "2\n",
      "\t fizz \n",
      "\n",
      "4\n",
      "\t buzz \n",
      "\n",
      "\t fizz \n",
      "\n",
      "7\n",
      "8\n",
      "\t fizz \n",
      "\n"
     ]
    }
   ],
   "source": [
    "for i in range(1,10):\n",
    "    if i%3==0 and i%5==0:\n",
    "        print('\\t','fizz buzz','\\n')\n",
    "    elif i%3==0:\n",
    "        print('\\t','fizz','\\n')\n",
    "    elif i%5==0:\n",
    "        print('\\t','buzz','\\n')\n",
    "\n",
    "    else:\n",
    "        print(i)"
   ]
  },
  {
   "cell_type": "code",
   "execution_count": 1,
   "metadata": {},
   "outputs": [
    {
     "name": "stdout",
     "output_type": "stream",
     "text": [
      "1\n",
      "2\n",
      "Fizz\n",
      "4\n",
      "Buzz\n",
      "Fizz\n",
      "7\n",
      "8\n",
      "Fizz\n",
      "Buzz\n",
      "11\n",
      "Fizz\n",
      "13\n",
      "14\n",
      "FizzBuzz\n",
      "16\n",
      "17\n",
      "Fizz\n",
      "19\n"
     ]
    }
   ],
   "source": [
    "#BEST\n",
    "for i in range(1,20):\n",
    "    output = ''\n",
    "    if i%3==0:\n",
    "        output = 'Fizz'\n",
    "    if i%5==0:\n",
    "        output+='Buzz'\n",
    "    print(output or i)"
   ]
  },
  {
   "cell_type": "code",
   "execution_count": 5,
   "metadata": {},
   "outputs": [
    {
     "name": "stdout",
     "output_type": "stream",
     "text": [
      "1\n",
      "2\n",
      "Fizz\n",
      "4\n",
      "Buzz\n",
      "Fizz\n",
      "7\n",
      "8\n",
      "Fizz\n",
      "Buzz\n",
      "11\n",
      "Fizz\n",
      "13\n",
      "14\n",
      "FizzBuzz\n",
      "16\n",
      "17\n",
      "Fizz\n",
      "19\n"
     ]
    }
   ],
   "source": [
    "#Ternary operator\n",
    "for i in range (1,20):\n",
    "    output = 'Fizz' if i%3 == 0 else ''\n",
    "    output+= 'Buzz' if i%5 == 0 else ''\n",
    "    \n",
    "    print(i) if output =='' else print(output)  "
   ]
  },
  {
   "cell_type": "code",
   "execution_count": 6,
   "metadata": {},
   "outputs": [
    {
     "name": "stdout",
     "output_type": "stream",
     "text": [
      "1\n",
      "2\n",
      "Fizz\n",
      "4\n",
      "Buzz\n",
      "Fizz\n",
      "7\n",
      "8\n",
      "Fizz\n",
      "Buzz\n",
      "11\n",
      "Fizz\n",
      "13\n",
      "14\n",
      "FizzBuzz\n",
      "16\n",
      "17\n",
      "Fizz\n",
      "19\n"
     ]
    }
   ],
   "source": [
    "for i in range (1,20):\n",
    "    print ('Fizz' * (i%3 <1) +(i%5<1)*'Buzz' or i)"
   ]
  },
  {
   "cell_type": "code",
   "execution_count": 7,
   "metadata": {},
   "outputs": [
    {
     "data": {
      "text/plain": [
       "True"
      ]
     },
     "execution_count": 7,
     "metadata": {},
     "output_type": "execute_result"
    }
   ],
   "source": []
  },
  {
   "cell_type": "code",
   "execution_count": 8,
   "metadata": {},
   "outputs": [
    {
     "data": {
      "text/plain": [
       "0.30000000000000004"
      ]
     },
     "execution_count": 8,
     "metadata": {},
     "output_type": "execute_result"
    }
   ],
   "source": []
  },
  {
   "cell_type": "code",
   "execution_count": 9,
   "metadata": {},
   "outputs": [
    {
     "name": "stdout",
     "output_type": "stream",
     "text": [
      "70\n"
     ]
    }
   ],
   "source": [
    "'''Given 2 integers n and m representing an n by m grid, determine the number of ways you can get from the top-left to \n",
    "the bottom-right of the matrix y going only right or down.\n",
    "\n",
    "Example: n = 2, m = 2\n",
    "\n",
    "This should return 2, since the only possible routes are: Right, down Down, right.'''\n",
    "\n",
    "#https://www.geeksforgeeks.org/count-the-number-of-ways-to-traverse-a-matrix/\n",
    "# count number of ways to reach mat[m-1][n-1] from mat[0][0] in a matrix mat[][]\n",
    " \n",
    "def countPaths(m, n) :\n",
    " \n",
    "    # Return 1 if it is the first row or\n",
    "    # first column\n",
    "    if m == 1 or n == 1 :\n",
    "        return 1\n",
    " \n",
    "    # Recursively find the no of way to\n",
    "    # reach the last cell.\n",
    "    return (countPaths(m - 1, n) +\n",
    "            countPaths(m, n - 1))\n",
    " \n",
    " \n",
    "# Driver code    \n",
    "if __name__ == \"__main__\" :\n",
    " \n",
    "    n = 5\n",
    "    m = 5\n",
    "    print(countPaths(n, m))"
   ]
  },
  {
   "cell_type": "code",
   "execution_count": 10,
   "metadata": {},
   "outputs": [
    {
     "name": "stdout",
     "output_type": "stream",
     "text": [
      "70\n"
     ]
    }
   ],
   "source": [
    "def countPaths(m, n):\n",
    " \n",
    "    dp = [[0 for i in range(m + 1)]\n",
    "             for j in range(n + 1)]\n",
    "     \n",
    "    for i in range(1, m + 1):\n",
    "        for j in range(1, n + 1):\n",
    "            if (i == 1 or j == 1):\n",
    "                dp[i][j] = 1\n",
    "            else:\n",
    "                dp[i][j] = (dp[i - 1][j] +\n",
    "                            dp[i][j - 1])            \n",
    "     \n",
    "    return dp[m][n]\n",
    " \n",
    "# Driver code\n",
    "if __name__ ==\"__main__\":\n",
    "     \n",
    "    n = 5\n",
    "    m = 5\n",
    "    print(countPaths(n, m))"
   ]
  },
  {
   "cell_type": "markdown",
   "metadata": {},
   "source": [
    "# 2. Find Missing number from a list "
   ]
  },
  {
   "cell_type": "code",
   "execution_count": 11,
   "metadata": {},
   "outputs": [
    {
     "name": "stdout",
     "output_type": "stream",
     "text": [
      "[3, 5, 6, 8, 9]\n"
     ]
    }
   ],
   "source": [
    "'''Question: 1: Find missing integer in list You are given 98 numbers ranging from 1 to 10. Input: 1,4,7,2,10\n",
    "few numbers are missing between 1 to 10. Write a simple code to find the missing numbers in any given consecutive series'''\n",
    "\n",
    "#Method #1 : Using set: BEST\n",
    "def find_missing(lst):\n",
    "    return sorted(set(range(lst[0], lst[-1])) - set(lst))\n",
    "  \n",
    "# Driver code\n",
    "lst = [1,4,7,2,10]\n",
    "print(find_missing(lst))"
   ]
  },
  {
   "cell_type": "code",
   "execution_count": 12,
   "metadata": {},
   "outputs": [
    {
     "name": "stdout",
     "output_type": "stream",
     "text": [
      "[3, 5, 6, 8, 9]\n"
     ]
    }
   ],
   "source": [
    "#Method #2 : List comprehension. Time complexity = O(n^2)\n",
    "def missing_no (lst):\n",
    "    return[x for x in range(lst[0],lst[-1]+1) if x not in lst]\n",
    "\n",
    "lst = [1,4,7,2,10]\n",
    "print(missing_no (lst))"
   ]
  },
  {
   "cell_type": "code",
   "execution_count": 13,
   "metadata": {},
   "outputs": [
    {
     "name": "stdout",
     "output_type": "stream",
     "text": [
      "[3, 5, 6, 8, 9]\n"
     ]
    }
   ],
   "source": [
    "#Method #3 : Using difference()\n",
    "def find_missing(lst):\n",
    "    start = lst[0]\n",
    "    end = lst[-1]\n",
    "    return sorted(set(range(start, end + 1)).difference(lst))\n",
    "  \n",
    "# Driver code\n",
    "lst = [1,4,7,2,10]\n",
    "print(find_missing(lst))"
   ]
  },
  {
   "cell_type": "code",
   "execution_count": 14,
   "metadata": {},
   "outputs": [
    {
     "name": "stdout",
     "output_type": "stream",
     "text": [
      "3 5 6 8 9 "
     ]
    }
   ],
   "source": [
    "#o(m) = m(maximum number in the list)\n",
    "def mis_num(lst,n):\n",
    "    b = [0]*(lst[n-1]+1)\n",
    "    for i in range (n):\n",
    "        b[lst[i]] =1\n",
    "    for i in range (lst[0],lst[n-1]+1):\n",
    "        if (b[i]==0):\n",
    "            print(i,end=' ')\n",
    "lst = [1,4,7,2,10] \n",
    "n = len(lst)\n",
    "mis_num(lst,n)  "
   ]
  },
  {
   "cell_type": "code",
   "execution_count": 13,
   "metadata": {},
   "outputs": [
    {
     "name": "stdout",
     "output_type": "stream",
     "text": [
      "1\n"
     ]
    }
   ],
   "source": [
    "#Given an unsorted integer list of numbers, return the first missing positive integer\n",
    "#nums = [1,3,-5,0,2,-1]\n",
    "\n",
    "nums= [-1, 3, 4, 5, 0, 2]#[1,3,4,5,0,2]\n",
    "nums=set(nums)\n",
    "n=1\n",
    "while n in nums:\n",
    "    n=n+1\n",
    "print(n)"
   ]
  },
  {
   "cell_type": "code",
   "execution_count": 14,
   "metadata": {},
   "outputs": [
    {
     "name": "stdout",
     "output_type": "stream",
     "text": [
      "3\n",
      "1\n",
      "4\n"
     ]
    }
   ],
   "source": [
    "'''#Minimum Size Subarray Sum\n",
    "Given an array of n positive integers and a positive integer s, find the minimal length of a contiguous subarray of which\n",
    "the sum ≥ s. If there isn't one, return 0 instead.\n",
    "Input: s = 7, nums = [2,3,1,2,4,3]\n",
    "Output: 2'''\n",
    "def smallestSubWithSum(arr, n, x):\n",
    " \n",
    "    # Initilize length of smallest\n",
    "    # subarray as n+1\n",
    "    min_len = n + 1\n",
    " \n",
    "    # Pick every element as starting point\n",
    "    for start in range(0,n):\n",
    "     \n",
    "        # Initialize sum starting\n",
    "        # with current start\n",
    "        curr_sum = arr[start]\n",
    " \n",
    "        # If first element itself is greater\n",
    "        if (curr_sum > x):\n",
    "            return 1\n",
    " \n",
    "        # Try different ending points\n",
    "        # for curremt start\n",
    "        for end in range(start+1,n):\n",
    "         \n",
    "            # add last element to current sum\n",
    "            curr_sum += arr[end]\n",
    " \n",
    "            # If sum becomes more than x\n",
    "            # and length of this subarray\n",
    "            # is smaller than current smallest\n",
    "            # length, update the smallest\n",
    "            # length (or result)\n",
    "            if curr_sum > x and (end - start + 1) < min_len:\n",
    "                min_len = (end - start + 1)\n",
    "         \n",
    "    return min_len;\n",
    " \n",
    " \n",
    "# Driver program to test above function */\n",
    "arr1 = [1, 4, 45, 6, 10, 19]\n",
    "x = 51\n",
    "n1 = len(arr1)\n",
    "res1 = smallestSubWithSum(arr1, n1, x);\n",
    "if res1 == n1+1:\n",
    "    print(\"Not possible\")\n",
    "else:\n",
    "    print(res1)\n",
    " \n",
    "arr2 = [1, 10, 5, 2, 7]\n",
    "n2 = len(arr2)\n",
    "x = 9\n",
    "res2 = smallestSubWithSum(arr2, n2, x);\n",
    "if res2 == n2+1:\n",
    "    print(\"Not possible\")\n",
    "else:\n",
    "    print(res2)\n",
    " \n",
    "arr3 = [1, 11, 100, 1, 0, 200, 3, 2, 1, 250]\n",
    "n3 = len(arr3)\n",
    "x = 280\n",
    "res3 = smallestSubWithSum(arr3, n3, x)\n",
    "if res3 == n3+1:\n",
    "    print(\"Not possible\")\n",
    "else:\n",
    "    print(res3)\n",
    "     \n",
    "# This code is contributed by Smitha Dinesh Semwal"
   ]
  },
  {
   "cell_type": "code",
   "execution_count": 15,
   "metadata": {},
   "outputs": [
    {
     "name": "stdout",
     "output_type": "stream",
     "text": [
      "3\n",
      "1\n",
      "4\n"
     ]
    }
   ],
   "source": [
    "'''Find smallest subarray with sum greater than x. Returns length of smallest subarray with sum greater than x. \n",
    "If there is no subarray with given sum, then returns n + 1\n",
    " '''\n",
    " \n",
    "def smallestSubWithSum(arr, n, x):\n",
    " \n",
    "    # Initialize current sum and minimum length\n",
    "    curr_sum = 0\n",
    "    min_len = n + 1\n",
    " \n",
    "    # Initialize starting and ending indexes\n",
    "    start = 0\n",
    "    end = 0\n",
    "    while (end < n):\n",
    " \n",
    "        # Keep adding array elements while current\n",
    "        # sum is smaller than or equal to x\n",
    "        while (curr_sum <= x and end < n):\n",
    "            curr_sum += arr[end]\n",
    "            end += 1\n",
    " \n",
    "        # If current sum becomes greater than x.\n",
    "        while (curr_sum > x and start < n):\n",
    " \n",
    "            # Update minimum length if needed\n",
    "            if (end - start < min_len):\n",
    "                min_len = end - start\n",
    " \n",
    "            # remove starting elements\n",
    "            curr_sum -= arr[start]\n",
    "            start += 1\n",
    " \n",
    "    return min_len\n",
    " \n",
    " \n",
    "# Driver program\n",
    "arr1 = [1, 4, 45, 6, 10, 19]\n",
    "x = 51\n",
    "n1 = len(arr1)\n",
    "res1 = smallestSubWithSum(arr1, n1, x)\n",
    "print(\"Not possible\") if (res1 == n1 + 1) else print(res1)\n",
    " \n",
    "arr2 = [1, 10, 5, 2, 7]\n",
    "n2 = len(arr2)\n",
    "x = 9\n",
    "res2 = smallestSubWithSum(arr2, n2, x)\n",
    "print(\"Not possible\") if (res2 == n2 + 1) else print(res2)\n",
    " \n",
    "arr3 = [1, 11, 100, 1, 0, 200, 3, 2, 1, 250]\n",
    "n3 = len(arr3)\n",
    "x = 280\n",
    "res3 = smallestSubWithSum(arr3, n3, x)\n",
    "print(\"Not possible\") if (res3 == n3 + 1) else print(res3)\n",
    " \n",
    "# This code is contributed by\n",
    "# Smitha Dinesh Semwal"
   ]
  },
  {
   "cell_type": "code",
   "execution_count": null,
   "metadata": {},
   "outputs": [],
   "source": []
  },
  {
   "cell_type": "code",
   "execution_count": 16,
   "metadata": {},
   "outputs": [
    {
     "name": "stdout",
     "output_type": "stream",
     "text": [
      "pattern found at 0, 0\n",
      "pattern found at 0, 8\n",
      "pattern found at 1, 0\n",
      "\n",
      "pattern found at 0, 2\n",
      "pattern found at 0, 10\n",
      "pattern found at 2, 2\n",
      "pattern found at 2, 12\n"
     ]
    }
   ],
   "source": [
    "# Python3 program to search a word in a 2D grid\n",
    "class GFG:\n",
    "     \n",
    "    def __init__(self):\n",
    "        self.R = None\n",
    "        self.C = None\n",
    "        self.dir = [[-1, 0], [1, 0], [1, 1],\n",
    "                    [1, -1], [-1, -1], [-1, 1],\n",
    "                    [0, 1], [0, -1]]\n",
    "                     \n",
    "    # This function searches in all 8-direction\n",
    "    # from point(row, col) in grid[][]\n",
    "    def search2D(self, grid, row, col, word):\n",
    "         \n",
    "        # If first character of word doesn't match\n",
    "        # with the given starting point in grid.\n",
    "        if grid[row][col] != word[0]:\n",
    "            return False\n",
    "             \n",
    "        # Search word in all 8 directions\n",
    "        # starting from (row, col)\n",
    "        for x, y in self.dir:\n",
    "             \n",
    "            # Initialize starting point\n",
    "            # for current direction\n",
    "            rd, cd = row + x, col + y\n",
    "            flag = True\n",
    "             \n",
    "            # First character is already checked,\n",
    "            # match remaining characters\n",
    "            for k in range(1, len(word)):\n",
    "                 \n",
    "                # If out of bound or not matched, break\n",
    "                if (0 <= rd <self.R and\n",
    "                    0 <= cd < self.C and\n",
    "                    word[k] == grid[rd][cd]):\n",
    "                     \n",
    "                    # Moving in particular direction\n",
    "                    rd += x\n",
    "                    cd += y\n",
    "                else:\n",
    "                    flag = False\n",
    "                    break\n",
    "             \n",
    "            # If all character matched, then\n",
    "            # value of flag must be false       \n",
    "            if flag:\n",
    "                return True\n",
    "        return False\n",
    "         \n",
    "    # Searches given word in a given matrix\n",
    "    # in all 8 directions   \n",
    "    def patternSearch(self, grid, word):\n",
    "         \n",
    "        # Rows and columns in given grid\n",
    "        self.R = len(grid)\n",
    "        self.C = len(grid[0])\n",
    "         \n",
    "        # Consider every point as starting point\n",
    "        # and search given word\n",
    "        for row in range(self.R):\n",
    "            for col in range(self.C):\n",
    "                if self.search2D(grid, row, col, word):\n",
    "                    print(\"pattern found at \" +\n",
    "                           str(row) + ', ' + str(col))\n",
    "                     \n",
    "# Driver Code\n",
    "if __name__=='__main__':\n",
    "    grid = [\"GEEKSFORGEEKS\",\n",
    "            \"GEEKSQUIZGEEK\",\n",
    "            \"IDEQAPRACTICE\"]\n",
    "    gfg = GFG()\n",
    "    gfg.patternSearch(grid, 'GEEKS')\n",
    "    print('')\n",
    "    gfg.patternSearch(grid, 'EEE')\n",
    "     \n",
    "# This code is contributed by Yezheng Li"
   ]
  },
  {
   "cell_type": "code",
   "execution_count": null,
   "metadata": {},
   "outputs": [],
   "source": []
  },
  {
   "cell_type": "code",
   "execution_count": 17,
   "metadata": {},
   "outputs": [
    {
     "name": "stdout",
     "output_type": "stream",
     "text": [
      "[1, 2, 3, 4, 5]\n"
     ]
    }
   ],
   "source": [
    "from collections.abc import Iterable\n",
    "\n",
    "def tips_deep_flatten(lst): \n",
    "  return [a for i in lst for a in tips_deep_flatten(i)] if isinstance(lst, Iterable) else [lst]\n",
    "\n",
    "print(tips_deep_flatten([1, [2], [[3], 4], 5]))"
   ]
  },
  {
   "cell_type": "code",
   "execution_count": 18,
   "metadata": {},
   "outputs": [
    {
     "name": "stdout",
     "output_type": "stream",
     "text": [
      "[[0, 0, 0, 0], [0, 1, 2, 3], [0, 2, 4, 6]]\n"
     ]
    }
   ],
   "source": [
    "#from m (row) and n (column) as input and generates a two-dimensional array. \n",
    "#The element value in the i-th row and j-th column of the array should be i*j.\n",
    "row_cnt = 3\n",
    "col_cnt = 4\n",
    "mult = [[0 for col  in range(col_cnt)] for row in range(row_cnt)]\n",
    "for row in range(row_cnt):\n",
    "    for col in range(col_cnt):\n",
    "        mult[row][col] = row*col\n",
    "        \n",
    "print(mult)"
   ]
  },
  {
   "cell_type": "code",
   "execution_count": 19,
   "metadata": {},
   "outputs": [
    {
     "data": {
      "text/plain": [
       "[[0, 0, 0, 0], [0, 1, 2, 3], [0, 2, 4, 6]]"
      ]
     },
     "execution_count": 19,
     "metadata": {},
     "output_type": "execute_result"
    }
   ],
   "source": [
    "[[0, 0, 0, 0], [0, 1, 2, 3], [0, 2, 4, 6]]"
   ]
  },
  {
   "cell_type": "code",
   "execution_count": null,
   "metadata": {},
   "outputs": [],
   "source": []
  },
  {
   "cell_type": "code",
   "execution_count": 22,
   "metadata": {},
   "outputs": [
    {
     "name": "stdout",
     "output_type": "stream",
     "text": [
      "Array after pushing all zeros to end of array:\n",
      "[1, 9, 8, 4, 2, 7, 6, 9, 0, 0, 0, 0]\n"
     ]
    }
   ],
   "source": [
    "#Move zeros\n",
    "#Given an array nums, write a function to move all 0's to the end of it while maintaining the relative order of the non-zero elements.\n",
    "\n",
    "\n",
    "def pushZerosToEnd(arr, n):\n",
    "    count = 0 # Count of non-zero elements\n",
    "     \n",
    "#Traverse the array. If element encountered is non-zero, then replace the element at index 'count' with this element\n",
    "    for i in range(n):\n",
    "        if arr[i] != 0:\n",
    "            # here count is incremented\n",
    "            arr[count] = arr[i]\n",
    "            count+=1\n",
    "#Now all non-zero elements have been shifted to front and 'count' is set as index of first 0. \n",
    "#Make all elements 0 from count to end.\n",
    "    while count < n:\n",
    "        arr[count] = 0\n",
    "        count += 1\n",
    "         \n",
    "# Driver code\n",
    "arr = [1, 9, 8, 4, 0, 0, 2, 7, 0, 6, 0, 9]\n",
    "n = len(arr)\n",
    "pushZerosToEnd(arr, n)\n",
    "print(\"Array after pushing all zeros to end of array:\")\n",
    "print(arr)"
   ]
  },
  {
   "cell_type": "code",
   "execution_count": null,
   "metadata": {},
   "outputs": [],
   "source": []
  },
  {
   "cell_type": "code",
   "execution_count": 23,
   "metadata": {},
   "outputs": [
    {
     "name": "stdout",
     "output_type": "stream",
     "text": [
      "3\n",
      "2\n"
     ]
    }
   ],
   "source": [
    "#https://github.com/kristinauko/challenge_100/blob/master/day28.py\n",
    "\n",
    "def edit_distance(string1, string2):\n",
    "    \"\"\"Take two strings and compute the edit distance between them\"\"\"\n",
    "\n",
    "    if len(string1) > len(string2):\n",
    "        difference = len(string1) - len(string2)\n",
    "        string1[:difference]\n",
    "\n",
    "    elif len(string2) > len(string1):\n",
    "        difference = len(string2) - len(string1)\n",
    "        string2[:difference]\n",
    "\n",
    "    else:\n",
    "        difference = 0\n",
    "\n",
    "    for i in range(len(string1)):\n",
    "        if string1[i] != string2[i]:\n",
    "            difference += 1\n",
    "\n",
    "    return difference\n",
    "\n",
    "print(edit_distance(\"kitten\", \"sitting\")) #3\n",
    "print(edit_distance(\"medium\", \"median\")) #2"
   ]
  },
  {
   "cell_type": "code",
   "execution_count": 24,
   "metadata": {},
   "outputs": [
    {
     "name": "stdout",
     "output_type": "stream",
     "text": [
      "Maximum contiguous sum is 137\n"
     ]
    }
   ],
   "source": [
    "# Contiguous Subarray with Maximum Sum: Twitter\n",
    "'''You are given an array of integers. Find the maximum sum of all possible contiguous subarrays of the array.\n",
    "\n",
    "Example:\n",
    "\n",
    "[34, -50, 42, 14, -5, 86]\n",
    "\n",
    "Given this input array, the output should be 137. The contiguous subarray with the maximum sum is [42, 14, -5, 86].'''\n",
    "#https://www.geeksforgeeks.org/largest-sum-contiguous-subarray/\n",
    "def maxSubArraySum(a,size):\n",
    "     \n",
    "    max_so_far =a[0]\n",
    "    curr_max = a[0]\n",
    "     \n",
    "    for i in range(1,size):\n",
    "        curr_max = max(a[i], curr_max + a[i])\n",
    "        max_so_far = max(max_so_far,curr_max)\n",
    "         \n",
    "    return max_so_far\n",
    " \n",
    "# Driver function to check the above function\n",
    "# a = [-2, -3, 4, -1, -2, 1, 5, -3]\n",
    "a = [34, -50, 42, 14, -5, 86]\n",
    "print(\"Maximum contiguous sum is\" , maxSubArraySum(a,len(a)))"
   ]
  },
  {
   "cell_type": "code",
   "execution_count": null,
   "metadata": {},
   "outputs": [],
   "source": []
  },
  {
   "cell_type": "code",
   "execution_count": 25,
   "metadata": {},
   "outputs": [
    {
     "name": "stdout",
     "output_type": "stream",
     "text": [
      "Maximum product is 1200\n"
     ]
    }
   ],
   "source": [
    "# Python3 program to find a maximum\n",
    "# product of a triplet in array\n",
    "# of integers\n",
    "import sys\n",
    " \n",
    "# Function to find a maximum\n",
    "# product of a triplet in array\n",
    "# of integers of size n\n",
    "def maxProduct(arr, n):\n",
    " \n",
    "    # if size is less than 3,\n",
    "    # no triplet exists\n",
    "    if n < 3:\n",
    "        return -1\n",
    " \n",
    "    # will contain max product\n",
    "    max_product = -(sys.maxsize - 1)\n",
    "     \n",
    "    for i in range(0, n - 2):\n",
    "        for j in range(i + 1, n - 1):\n",
    "            for k in range(j + 1, n):\n",
    "                max_product = max(\n",
    "                    max_product, arr[i]\n",
    "                    * arr[j] * arr[k])\n",
    " \n",
    "    return max_product\n",
    " \n",
    "# Driver Program\n",
    "arr = [10, 3, 5, 6, 20]\n",
    "n = len(arr)\n",
    " \n",
    "max = maxProduct(arr, n)\n",
    " \n",
    "if max == -1:\n",
    "    print(\"No Tripplet Exits\")\n",
    "else:\n",
    "    print(\"Maximum product is\", max)\n",
    " \n",
    "# This code is contributed by Shrikant13"
   ]
  },
  {
   "cell_type": "code",
   "execution_count": null,
   "metadata": {},
   "outputs": [],
   "source": []
  },
  {
   "cell_type": "code",
   "execution_count": 26,
   "metadata": {},
   "outputs": [
    {
     "name": "stdout",
     "output_type": "stream",
     "text": [
      "Integer form of Roman Numeral MCMIV is:  1904\n"
     ]
    }
   ],
   "source": [
    "# Python program to convert Roman Numerals to Numbers\n",
    "\n",
    "def value(r):\n",
    "    if (r == 'I'):\n",
    "        return 1\n",
    "    if (r == 'V'):\n",
    "        return 5\n",
    "    if (r == 'X'):\n",
    "        return 10\n",
    "    if (r == 'L'):\n",
    "        return 50\n",
    "    if (r == 'C'):\n",
    "        return 100\n",
    "    if (r == 'D'):\n",
    "        return 500\n",
    "    if (r == 'M'):\n",
    "        return 1000\n",
    "    return -1\n",
    " \n",
    " \n",
    "def romanToDecimal(str):\n",
    "    res = 0\n",
    "    i = 0\n",
    " \n",
    "    while (i < len(str)):\n",
    " \n",
    "        # Getting value of symbol s[i]\n",
    "        s1 = value(str[i])\n",
    " \n",
    "        if (i + 1 < len(str)):\n",
    " \n",
    "            # Getting value of symbol s[i + 1]\n",
    "            s2 = value(str[i + 1])\n",
    " \n",
    "            # Comparing both values\n",
    "            if (s1 >= s2):\n",
    " \n",
    "                # Value of current symbol is greater\n",
    "                # or equal to the next symbol\n",
    "                res = res + s1\n",
    "                i = i + 1\n",
    "            else:\n",
    " \n",
    "                # Value of current symbol is greater\n",
    "                # or equal to the next symbol\n",
    "                res = res + s2 - s1\n",
    "                i = i + 2\n",
    "        else:\n",
    "            res = res + s1\n",
    "            i = i + 1\n",
    " \n",
    "    return res\n",
    " \n",
    " \n",
    "# Driver code\n",
    "print(\"Integer form of Roman Numeral MCMIV is: \" , romanToDecimal(\"MCMIV\"))\n",
    "# print(romanToDecimal(\"MCMIV\"))"
   ]
  },
  {
   "cell_type": "code",
   "execution_count": 27,
   "metadata": {},
   "outputs": [
    {
     "name": "stdout",
     "output_type": "stream",
     "text": [
      "Integer form of Roman Numeral MMMCMLXXXVI is:  3986\n",
      "Integer form of Roman Numeral MMMM is:  4000\n",
      "Integer form of Roman Numeral C is:  100\n"
     ]
    }
   ],
   "source": [
    "class py_solution:\n",
    "    def roman_to_int(self, s):\n",
    "        rom_val = {'I': 1, 'V': 5, 'X': 10, 'L': 50, 'C': 100, 'D': 500, 'M': 1000}\n",
    "        int_val = 0\n",
    "        for i in range(len(s)):\n",
    "            if i > 0 and rom_val[s[i]] > rom_val[s[i - 1]]:\n",
    "                int_val += rom_val[s[i]] - 2 * rom_val[s[i - 1]]\n",
    "            else:\n",
    "                int_val += rom_val[s[i]]\n",
    "        return int_val\n",
    "\n",
    "print(\"Integer form of Roman Numeral MMMCMLXXXVI is: \", py_solution().roman_to_int('MMMCMLXXXVI'))\n",
    "print(\"Integer form of Roman Numeral MMMM is: \",py_solution().roman_to_int('MMMM'))\n",
    "print(\"Integer form of Roman Numeral C is: \",py_solution().roman_to_int('C'))"
   ]
  },
  {
   "cell_type": "code",
   "execution_count": 8,
   "metadata": {},
   "outputs": [
    {
     "name": "stdout",
     "output_type": "stream",
     "text": [
      "Enter a Roman number e.g. LVIIILVIII\n",
      "Integer form of Roman Numeral LVIII is:  58\n"
     ]
    }
   ],
   "source": [
    "#Convert Roman Numerals to Decimal\n",
    "#https://github.com/RakeshKrishna143/Leetcode\n",
    "#https://www.youtube.com/watch?v=nCDoMK-E7mc\n",
    "\n",
    "s = input('Enter a Roman number e.g. LVIII')\n",
    "\n",
    "def romanToInt(s):\n",
    "    d = {\"I\":1,\"IV\":4,\"V\":5,\"IX\":9,\"X\":10,\"XL\":40,\"L\":50,\"XC\":90,\"C\":100,\"CD\":400,\"D\":500,\"CM\":900,\"M\":1000}\n",
    "    ans = 0\n",
    "    for i in range(len(s)):\n",
    "        if i+1 !=len(s) and d[s[i]]<d[s[i+1]]:\n",
    "            ans = ans - d[s[i]]\n",
    "        else:\n",
    "            ans =ans + d[s[i]]\n",
    "    return ans    \n",
    "print(\"Integer form of Roman Numeral %s\" %s,\"is: \",  romanToInt(s))      "
   ]
  },
  {
   "cell_type": "code",
   "execution_count": 30,
   "metadata": {},
   "outputs": [
    {
     "name": "stdout",
     "output_type": "stream",
     "text": [
      "XLIX\n",
      "IV\n",
      "MCCXLIX\n",
      "LXVII\n"
     ]
    }
   ],
   "source": [
    "# Task: Write a Python function that can convert an integer to its equivalent Roman numeral.\n",
    "def int_to_rome(x):\n",
    "    numbers = [1,4,5,9,10,40,50,90,100,400,500,900,1000]\n",
    "    roman = ['I','IV','V','IX', 'X','XL', 'L','XC', 'C','CD', 'D','CM','M']\n",
    "    i = 12  \n",
    "    roman_numeral = ''\n",
    "    while x != 0:\n",
    "        if numbers[i] <= x:    \n",
    "            roman_numeral += roman[i] \n",
    "            x = x - numbers[i]\n",
    "        else:\n",
    "            i -= 1 # i = i - 1\n",
    "    return roman_numeral \n",
    "\n",
    "print(int_to_rome(49))\n",
    "print(int_to_rome(4))\n",
    "print(int_to_rome(1249))\n",
    "print(int_to_rome(67))"
   ]
  },
  {
   "cell_type": "code",
   "execution_count": null,
   "metadata": {},
   "outputs": [],
   "source": [
    "#Integer to Roman number\n",
    "class int_roman:\n",
    "    def int_to_roman(self,num):\n",
    "        val = [1000,900,500,400,100,90,50,40,10,9,5,4,1]\n",
    "        syb = ['M','CM','D','CD','C','XC','L','XL','X','IX','V','IV','I']\n",
    "        roman_num = ''\n",
    "        i =0\n",
    "        while num>0:\n",
    "            for _ in range(num//val[i]):\n",
    "                roman_num +=syb[i]\n",
    "                num -= val[i]\n",
    "            i+=1\n",
    "        return roman_num \n",
    "print(int_roman().int_to_roman(80))"
   ]
  },
  {
   "cell_type": "code",
   "execution_count": 35,
   "metadata": {},
   "outputs": [],
   "source": [
    "# #Find the Single Element in an Array of Duplicates\n",
    "# #Given an array of integers, arr, where all numbers occur twice except one number which occurs once, find the number.\n",
    "\n",
    "# def findSingle(arr, n):\n",
    "#     res = ar[0]\n",
    "#     # Do XOR of all elements and return\n",
    "#     for i in range(1,n):\n",
    "#         res = res ^ ar[i]     \n",
    "#     return res\n",
    "# # arr = [2, 3, 5, 4, 5, 3, 4]\n",
    "# arr = [ 3, 5, 5, 4, 3,11, 4, 8, 8]\n",
    "# print (\"Element occurring once is\", findSingle(ar, len(ar)))"
   ]
  },
  {
   "cell_type": "raw",
   "metadata": {},
   "source": [
    "The Fibonacci sequence is the integer sequence defined by the recurrence relation: F(n) = F(n-1) + F(n-2), where F(0) = 0 and F(1) = 1. In other words, the nth Fibonacci number is the sum of the prior two Fibonacci numbers. Below are the first few values of the sequence:\n",
    "\n",
    "0, 1, 1, 2, 3, 5, 8, 13, 21, 34, 55, 89, 144..."
   ]
  },
  {
   "cell_type": "code",
   "execution_count": 6,
   "metadata": {},
   "outputs": [
    {
     "name": "stdout",
     "output_type": "stream",
     "text": [
      "0\n",
      "1\n",
      "1\n",
      "2\n",
      "3\n",
      "5\n",
      "8\n",
      "13\n",
      "21\n",
      "34\n"
     ]
    }
   ],
   "source": [
    "#Fibonacci sequence\n",
    "a,b = 0,1\n",
    "for i in range(0,10):\n",
    "    print(a)\n",
    "    a,b = b,a+b"
   ]
  },
  {
   "cell_type": "code",
   "execution_count": 4,
   "metadata": {},
   "outputs": [
    {
     "name": "stdout",
     "output_type": "stream",
     "text": [
      "Enter the number for Fibonacci series: 5\n",
      "Fibonacci series up to:  5\n",
      "0\n",
      "1\n",
      "1\n",
      "2\n",
      "3\n",
      "nth Fibonacci number is:  3\n"
     ]
    }
   ],
   "source": [
    "#Write a program to print the Fibonacci series up to 100 numbers\n",
    "range1=int(input(\"Enter the number for Fibonacci series: \"))\n",
    "n1=0\n",
    "n2=1\n",
    "i=2\n",
    "if range1<= 0:\n",
    "    print (\"Enter a positive integer.\")\n",
    "elif range1== 1:\n",
    "    print (\"Fibonacci series up to: \",range1)\n",
    "    print (n1)\n",
    "else:\n",
    "    print (\"Fibonacci series up to: \",range1)\n",
    "    print (n1)\n",
    "    print (n2)\n",
    "    while i<range1:\n",
    "        n3=n1+n2\n",
    "        print (n3)\n",
    "        n1=n2\n",
    "        n2=n3\n",
    "        i=i+1\n",
    "    print('nth Fibonacci number is: ',n3)"
   ]
  },
  {
   "cell_type": "code",
   "execution_count": null,
   "metadata": {},
   "outputs": [],
   "source": []
  },
  {
   "cell_type": "code",
   "execution_count": 38,
   "metadata": {},
   "outputs": [
    {
     "name": "stdout",
     "output_type": "stream",
     "text": [
      "w4a3dex6yw3\n"
     ]
    }
   ],
   "source": [
    "#https://www.educative.io/edpresso/what-is-the-string-compression-algorithm\n",
    "\n",
    "\n",
    "ind = 0\n",
    "\n",
    "def gen_compressed_str(string):\n",
    "  global ind\n",
    "  comp_str = \"\"\n",
    "  len_str = len(string)\n",
    "  while (ind != len_str):\n",
    "    count = 1\n",
    "\n",
    "    while ((ind < (len_str-1)) and (string[ind] == string[ind+1])):\n",
    "      count = count + 1\n",
    "      ind = ind + 1\n",
    "\n",
    "\n",
    "    if (count == 1):\n",
    "      comp_str = comp_str + str(string[ind])\n",
    "    else:\n",
    "      comp_str = comp_str + str(string[ind]) + str(count)\n",
    "    \n",
    "    ind = ind + 1\n",
    "\n",
    "  return comp_str\n",
    "      \n",
    "\n",
    "\n",
    "string = \"wwwwaaadexxxxxxywww\"\n",
    "print (gen_compressed_str(string))"
   ]
  },
  {
   "cell_type": "code",
   "execution_count": 39,
   "metadata": {},
   "outputs": [
    {
     "name": "stdout",
     "output_type": "stream",
     "text": [
      "4w3a1d1e6x\n"
     ]
    }
   ],
   "source": [
    "##https://www.geeksforgeeks.org/run-length-encoding-python/\n",
    "def encode(message):\n",
    "    encoded_message = \"\"\n",
    "    i = 0\n",
    "   \n",
    "    while (i <= len(message)-1):\n",
    "        count = 1\n",
    "        ch = message[i]\n",
    "        j = i\n",
    "        while (j < len(message)-1):\n",
    "            if (message[j] == message[j+1]):\n",
    "                count = count+1\n",
    "                j = j+1\n",
    "            else:\n",
    "                break\n",
    "        encoded_message=encoded_message+str(count)+ch\n",
    "        i = j+1\n",
    "    return encoded_message\n",
    "  \n",
    "#Provide different values for message and test your program\n",
    "# encoded_message=encode(\"ABBBBCCCCCCCCAB\")\n",
    "encoded_message=encode(\"wwwwaaadexxxxxx\")\n",
    "print(encoded_message)"
   ]
  },
  {
   "cell_type": "code",
   "execution_count": null,
   "metadata": {},
   "outputs": [],
   "source": []
  },
  {
   "cell_type": "code",
   "execution_count": 40,
   "metadata": {},
   "outputs": [
    {
     "name": "stdout",
     "output_type": "stream",
     "text": [
      "40\n"
     ]
    }
   ],
   "source": [
    "#Smallest Number that is not a Sum of a Subset of List\n",
    "#Given a sorted list of positive numbers, find the smallest positive number that cannot be a sum of any subset in the list\n",
    "def get_smallest_positive(A):\n",
    "    n = len(A) #6\n",
    "    ans = 1\n",
    "#     A.sort()\n",
    "    for i in range(0,n):\n",
    "        if A[i]<= ans:\n",
    "            ans+=A[i]\n",
    "            \n",
    "        else:\n",
    "            break\n",
    "    return ans\n",
    "\n",
    "# A = [1, 4, 8, 12, 13, 17]\n",
    "# A = [1, 3, 4, 5]\n",
    "#A = [1, 2, 6, 10, 11, 15]\n",
    "# A = [1, 1, 1, 1]\n",
    "# A = [1, 1, 3, 4]\n",
    "# A = [1, 6,2, 3, 8, 9, 10]\n",
    "A = [1, 2, 3, 6,8, 9, 10]\n",
    "print(get_smallest_positive(A))   "
   ]
  },
  {
   "cell_type": "code",
   "execution_count": null,
   "metadata": {},
   "outputs": [],
   "source": []
  },
  {
   "cell_type": "code",
   "execution_count": 1,
   "metadata": {},
   "outputs": [
    {
     "name": "stdout",
     "output_type": "stream",
     "text": [
      "67454335138\n"
     ]
    }
   ],
   "source": []
  },
  {
   "cell_type": "code",
   "execution_count": 3,
   "metadata": {},
   "outputs": [
    {
     "name": "stdout",
     "output_type": "stream",
     "text": [
      "67454335138\n"
     ]
    }
   ],
   "source": []
  },
  {
   "cell_type": "code",
   "execution_count": null,
   "metadata": {},
   "outputs": [],
   "source": []
  },
  {
   "cell_type": "code",
   "execution_count": 43,
   "metadata": {},
   "outputs": [
    {
     "name": "stdout",
     "output_type": "stream",
     "text": [
      "3\n"
     ]
    }
   ],
   "source": [
    "#H-Index\n",
    "# The h-index is a metric that attempts to measure the productivity and citation impact of the publication of a scholar. \n",
    "#The definition of the h-index is if a scholar has at least h of their papers cited h times.\n",
    "def H_index(citations):\n",
    "      \n",
    "    # sorting in ascending order\n",
    "    citations.sort()\n",
    "      \n",
    "    # iterating over the list\n",
    "    for i, cited in enumerate(citations):\n",
    "          \n",
    "        # finding current result\n",
    "        result = len(citations) - i\n",
    "          \n",
    "        # if result is less than or equal\n",
    "        # to cited then return result\n",
    "        if result <= cited:\n",
    "            return result\n",
    "           \n",
    "    return 0\n",
    "  \n",
    "# creating the citations\n",
    "# citation = [50, 40, 33, 23, 12, 11, 8, 5, 1, 0]\n",
    "citation =[3, 5, 0, 1, 3]\n",
    "  \n",
    "# calling the function\n",
    "print(H_index(citation))"
   ]
  },
  {
   "cell_type": "code",
   "execution_count": null,
   "metadata": {},
   "outputs": [],
   "source": []
  },
  {
   "cell_type": "code",
   "execution_count": 44,
   "metadata": {},
   "outputs": [
    {
     "name": "stdout",
     "output_type": "stream",
     "text": [
      "abacaca\n"
     ]
    }
   ],
   "source": [
    "#Remove All Adjacent Duplicates In String\n",
    "class Solution(object):\n",
    "    def removeDuplicates(self, S):\n",
    "        st = []\n",
    "        i = 0\n",
    "        while i < len(S):\n",
    "            if len(st)!=0 and st[-1]==S[i]:\n",
    "                st.pop(-1)\n",
    "            else:\n",
    "                st.append(S[i])\n",
    "                i+=1\n",
    "        return \"\".join(i for i in st)\n",
    "    \n",
    "ob1 = Solution()\n",
    "print(ob1.removeDuplicates(\"abbacaca\"))"
   ]
  },
  {
   "cell_type": "code",
   "execution_count": null,
   "metadata": {},
   "outputs": [],
   "source": []
  },
  {
   "cell_type": "code",
   "execution_count": 45,
   "metadata": {},
   "outputs": [
    {
     "name": "stdout",
     "output_type": "stream",
     "text": [
      "[3, 5, 6]\n",
      "[3, 6, 5]\n",
      "[5, 3, 6]\n",
      "[5, 6, 3]\n",
      "[6, 3, 5]\n",
      "[6, 5, 3]\n"
     ]
    }
   ],
   "source": [
    "#Permutations of numbers\n",
    "#You are given an array of integers. Return all the permutations of this array.\n",
    "def permute(LIST):\n",
    "    length=len(LIST)\n",
    "    if length <= 1:\n",
    "        yield LIST\n",
    "    else:\n",
    "        for n in range(0,length):\n",
    "            for end in permute( LIST[:n] + LIST[n+1:] ):\n",
    "                yield [ LIST[n] ] + end\n",
    "\n",
    "for x in permute([3,5,6]):\n",
    "    print (x)"
   ]
  },
  {
   "cell_type": "code",
   "execution_count": null,
   "metadata": {},
   "outputs": [],
   "source": []
  },
  {
   "cell_type": "code",
   "execution_count": 46,
   "metadata": {},
   "outputs": [
    {
     "name": "stdout",
     "output_type": "stream",
     "text": [
      "[1, 2, 3]\n",
      "[1, 3, 2]\n",
      "[2, 1, 3]\n",
      "[2, 3, 1]\n",
      "[3, 1, 2]\n",
      "[3, 2, 1]\n"
     ]
    }
   ],
   "source": [
    "class Solution:\n",
    "    def __int__(self):\n",
    "        self.res = []\n",
    "        \n",
    "    def permute(List):\n",
    "        self.backtrack(nums,[])\n",
    "        return self.res\n",
    "    def backtrack(self,nums,path):\n",
    "        if not nums:\n",
    "            self.res.append(path)\n",
    "        for x in range(len(nums)):           \n",
    "            self.backtrack(nums[:x]+nums[x+1:],path+[nums[x]]) \n",
    "# Driver program to test above function\n",
    "# data = ['1','2','3']\n",
    "data = [1,2,3]\n",
    "for p in permute(data):\n",
    "    print (p)\n",
    "        "
   ]
  },
  {
   "cell_type": "code",
   "execution_count": 47,
   "metadata": {},
   "outputs": [
    {
     "name": "stdout",
     "output_type": "stream",
     "text": [
      "['6', '9', '8']\n",
      "['6', '8', '9']\n",
      "['9', '6', '8']\n",
      "['9', '8', '6']\n",
      "['8', '6', '9']\n",
      "['8', '9', '6']\n"
     ]
    }
   ],
   "source": [
    "# Python function to print permutations of a given list\n",
    "def permutation(lst):\n",
    "  \n",
    "    # If lst is empty then there are no permutations\n",
    "    if len(lst) == 0:\n",
    "        return []\n",
    "  \n",
    "    # If there is only one element in lst then, only\n",
    "    # one permuatation is possible\n",
    "    if len(lst) == 1:\n",
    "        return [lst]\n",
    "  \n",
    "    # Find the permutations for lst if there are\n",
    "    # more than 1 characters\n",
    "  \n",
    "    l = [] # empty list that will store current permutation\n",
    "  \n",
    "    # Iterate the input(lst) and calculate the permutation\n",
    "    for i in range(len(lst)):\n",
    "       m = lst[i]\n",
    "  \n",
    "       # Extract lst[i] or m from the list.  remLst is\n",
    "       # remaining list\n",
    "       remLst = lst[:i] + lst[i+1:]\n",
    "  \n",
    "       # Generating all permutations where m is first\n",
    "       # element\n",
    "       for p in permutation(remLst):\n",
    "           l.append([m] + p)\n",
    "    return l\n",
    "  \n",
    "  \n",
    "# Driver program to test above function\n",
    "data = list('698')\n",
    "for p in permutation(data):\n",
    "    print (p)"
   ]
  },
  {
   "cell_type": "code",
   "execution_count": null,
   "metadata": {},
   "outputs": [],
   "source": []
  },
  {
   "cell_type": "code",
   "execution_count": 48,
   "metadata": {},
   "outputs": [
    {
     "name": "stdout",
     "output_type": "stream",
     "text": [
      "True\n"
     ]
    }
   ],
   "source": [
    "#Palindrome Linked List in Python\n",
    "\n",
    "class ListNode:\n",
    "   def __init__(self, data, next = None):\n",
    "      self.data = data\n",
    "      self.next = next\n",
    "def make_list(elements):\n",
    "   head = ListNode(elements[0])\n",
    "   for element in elements[1:]:\n",
    "      ptr = head\n",
    "      while ptr.next:\n",
    "         ptr = ptr.next\n",
    "      ptr.next = ListNode(element)\n",
    "   return head\n",
    "class Solution(object):\n",
    "   def isPalindrome(self, head):\n",
    "      fast,slow = head,head\n",
    "      rev = None\n",
    "      flag = 1\n",
    "      if not head:\n",
    "         return True\n",
    "      while fast and fast.next:\n",
    "         if not fast.next.next:\n",
    "            flag = 0\n",
    "            break\n",
    "         fast = fast.next.next\n",
    "         temp = slow\n",
    "         slow = slow.next\n",
    "         temp.next = rev\n",
    "         rev = temp\n",
    "      #print(fast.val)\n",
    "      fast = slow.next\n",
    "      slow.next = rev\n",
    "      if flag:\n",
    "         slow = slow.next\n",
    "      while fast and slow:\n",
    "         if fast.data != slow.data:\n",
    "            return False\n",
    "         fast = fast.next\n",
    "         slow = slow.next\n",
    "      return True\n",
    "# head = make_list([1,2,3,2,1])\n",
    "head = make_list(['r','a','d','a','r'])\n",
    "ob1 = Solution()\n",
    "print(ob1.isPalindrome(head))"
   ]
  },
  {
   "cell_type": "code",
   "execution_count": null,
   "metadata": {},
   "outputs": [],
   "source": []
  },
  {
   "cell_type": "raw",
   "metadata": {},
   "source": [
    "#Given a non-empty list of words, return the k most frequent words. The output should be sorted from highest to lowest frequency, and if two words have the same frequency, the word with lower alphabetical order comes first. Input will contain only lower-case letters."
   ]
  },
  {
   "cell_type": "code",
   "execution_count": 50,
   "metadata": {},
   "outputs": [],
   "source": [
    "# #https://www.youtube.com/watch?v=96hCN6t6rDg\n",
    "\n",
    "# # words = [\"daily\", \"interview\", \"pro\", \"pro\", \"for\", \"daily\", \"pro\", \"problems\"]\n",
    "# # k = 2\n",
    "\n",
    "# class Solution:\n",
    "#     def topKFrequent(self, words, k):\n",
    "        \n",
    "#         #error checking \n",
    "#         if not words or k <= 0: \n",
    "#             return []\n",
    "#         #create dictionary \n",
    "#         wordsDict = {} \n",
    "#         for word in words: \n",
    "#             if word in wordsDict: \n",
    "#                 wordsDict[word] += 1 \n",
    "#             else: \n",
    "#                 wordsDict[word] = 1 \n",
    "#         # create heap \n",
    "#         heap = [(- freq, word) for word, freq in wordsDict.items()] \n",
    "#         heapq.heapify(heap)\n",
    "#         #return top k results from heap \n",
    "#         return [heapq.heappop(heap)[1] for _ in range(k)]\n",
    "\n",
    "# words = [\"daily\", \"interview\", \"pro\", \"pro\", \"for\", \"daily\", \"pro\", \"problems\"]\n",
    "# k = 2  \n",
    "# ob1 = Solution()\n",
    "# print(ob1.topKFrequent(words,k))"
   ]
  },
  {
   "cell_type": "code",
   "execution_count": 52,
   "metadata": {},
   "outputs": [],
   "source": [
    "# words = [\"daily\", \"interview\", \"pro\", \"pro\", \"for\", \"daily\", \"pro\", \"problems\"]\n",
    "# k = 2\n",
    "# def topKFrequent(words, k):\n",
    "#     #error checking \n",
    "#     if not words or k <= 0:\n",
    "#         return []\n",
    "#     #create dictionary \n",
    "#     wordsDict = {} \n",
    "#     for word in words:\n",
    "#         if word in wordsDict:\n",
    "#             wordsDict[word] += 1 \n",
    "#         else: \n",
    "#             wordsDict[word] = 1 \n",
    "#     # create heap \n",
    "#     heap = [(-freq, word) for word, freq in wordsDict.items()] \n",
    "#     heapq.heapify(heap) \n",
    "#     #return top k results from heap \n",
    "#     return [heapq.heappop(heap)[1] for _ in range(k)]\n",
    "\n",
    "# print(topKFrequent(words, k))"
   ]
  },
  {
   "cell_type": "code",
   "execution_count": 25,
   "metadata": {},
   "outputs": [
    {
     "name": "stdout",
     "output_type": "stream",
     "text": [
      "{'l', 'n', 'c', 'e', 'a', 'j', 'k'}\n",
      "['l', 'n', 'c', 'e', 'a', 'j', 'k']\n"
     ]
    }
   ],
   "source": [
    "#Common Characters\n",
    "#string_list = ['google', 'facebook', 'youtube']\n",
    "# string1 = 'google' \n",
    "# string2 = 'facebook' \n",
    "string1=\"abcdefghijklmnopqrstuvwxyz\" \n",
    "string2=\"ancjkle\"\n",
    "\n",
    "s1 = set(string1) \n",
    "s2 = set(string2) \n",
    "common_char = s1 & s2    # Letters in both s1 and s2 \n",
    "\n",
    "print(common_char)\n"
   ]
  },
  {
   "cell_type": "code",
   "execution_count": 18,
   "metadata": {},
   "outputs": [
    {
     "name": "stdout",
     "output_type": "stream",
     "text": [
      "Common character are: a n c j k l e\n"
     ]
    }
   ],
   "source": [
    "#Common Characters\n",
    "string1=\"abcdefghijklmnopqrstuvwxyz\" \n",
    "string2=\"ancjkle\" \n",
    "result=[] \n",
    "if(len(string1)<len(string2)): \n",
    "\tfor i in string1: \n",
    "\t\tif(i in string2): \n",
    "\t\t\tresult.append(i) \n",
    "else: \n",
    "\tfor i in string2: \n",
    "\t\tif(i in string1): \n",
    "\t\t\tresult.append(i) \n",
    "print(\"Common character are:\",*result) "
   ]
  },
  {
   "cell_type": "code",
   "execution_count": null,
   "metadata": {},
   "outputs": [],
   "source": []
  },
  {
   "cell_type": "markdown",
   "metadata": {},
   "source": [
    "## Binary Search"
   ]
  },
  {
   "cell_type": "code",
   "execution_count": 6,
   "metadata": {},
   "outputs": [
    {
     "data": {
      "text/plain": [
       "7"
      ]
     },
     "execution_count": 6,
     "metadata": {},
     "output_type": "execute_result"
    }
   ],
   "source": [
    "#https://www.youtube.com/watch?v=WBff69BscnM\n",
    "arr_1 = [1, 2, 4, 5, 8, 9, 11, 22, 23, 28, 32] #all integer are sorted\n",
    "\n",
    "val_search = 22\n",
    "\n",
    "def binary_search(inp_list, item):\n",
    "    low = 0\n",
    "    high = len(inp_list) - 1\n",
    "\n",
    "    while low <= high:\n",
    "        mid_index = (low + high)//2\n",
    "        mid_value = inp_list[mid_index]\n",
    "\n",
    "        if item == mid_value:\n",
    "            return mid_index\n",
    "        if mid_value > item:\n",
    "            high = mid_index - 1\n",
    "        else:\n",
    "            low = mid_index + 1\n",
    "    return None\n",
    "\n",
    "binary_search(arr_1, val_search)"
   ]
  },
  {
   "cell_type": "code",
   "execution_count": 8,
   "metadata": {},
   "outputs": [
    {
     "name": "stdout",
     "output_type": "stream",
     "text": [
      "{'l': 1, 'i': 4, 'n': 2, 'k': 1, 'e': 2, 'd': 1, ' ': 3, 's': 2, 'a': 1, 't': 1}\n"
     ]
    }
   ],
   "source": [
    "#Find number of occurances of any character\n",
    "name = 'LinkedIn is a site'\n",
    "name = name.lower()\n",
    "name\n",
    "\n",
    "d = {}\n",
    "for i in name:\n",
    "    d[i]=0\n",
    "    \n",
    "for i in name:\n",
    "    d[i] += 1\n",
    "\n",
    "print(d)   "
   ]
  },
  {
   "cell_type": "code",
   "execution_count": 3,
   "metadata": {},
   "outputs": [],
   "source": []
  },
  {
   "cell_type": "raw",
   "metadata": {},
   "source": [
    "Q1. Write a function find_bigrams to take a string and return a list of all bigrams.\n",
    "\n",
    "example:\n",
    "\n",
    "sentence = \"\"\"\n",
    "Have free hours and love children? \n",
    "Drive kids to school, soccer practice \n",
    "and other activities.\n",
    "\"\"\"\n",
    "def find_bigrams(sentence) ->\n",
    "\n",
    " [('have', 'free'),\n",
    " ('free', 'hours'),\n",
    " ('hours', 'and'),\n",
    " ('and', 'love'),\n",
    " ('love', 'children?'),\n",
    " ('children?', 'drive'),\n",
    " ('drive', 'kids'),\n",
    " ('kids', 'to'),\n",
    " ('to', 'school,'),\n",
    " ('school,', 'soccer'),\n",
    " ('soccer', 'practice'),\n",
    " ('practice', 'and'),\n",
    " ('and', 'other'),\n",
    " ('other', 'activities.')]\n"
   ]
  },
  {
   "cell_type": "code",
   "execution_count": null,
   "metadata": {},
   "outputs": [],
   "source": []
  },
  {
   "cell_type": "raw",
   "metadata": {},
   "source": [
    "Q2. Given a list of timestamps in sequential order, return a list of lists grouped by week (7 days) using the first timestamp as the starting point.\n",
    "\n",
    "example:\n",
    "\n",
    "ts = [\n",
    "    '2019-01-01', \n",
    "    '2019-01-02',\n",
    "    '2019-01-08', \n",
    "    '2019-02-01', \n",
    "    '2019-02-02',\n",
    "    '2019-02-05',\n",
    "]\n",
    "\n",
    "def weekly_aggregation(ts) -> [\n",
    "    ['2019-01-01', '2019-01-02'], \n",
    "    ['2019-01-08'], \n",
    "    ['2019-02-01', '2019-02-02'],\n",
    "    ['2019-02-05'],\n",
    "]"
   ]
  },
  {
   "cell_type": "code",
   "execution_count": null,
   "metadata": {},
   "outputs": [],
   "source": []
  },
  {
   "cell_type": "raw",
   "metadata": {},
   "source": [
    "Q3. Write a function to locate the left insertion point for a specified value in a sorted order.\n",
    "\n",
    "Here's an answer for a Python data manipulation question:\n",
    "\n",
    "import bisect\n",
    "def index(a, x):\n",
    "i = bisect.bisect_left(a, x)\n",
    "return i\n",
    "a = [1,2,4,5]\n",
    "print(index(a, 6))\n",
    "print(index(a, 3))"
   ]
  },
  {
   "cell_type": "code",
   "execution_count": null,
   "metadata": {},
   "outputs": [],
   "source": []
  },
  {
   "cell_type": "raw",
   "metadata": {},
   "source": [
    "Q1. Given a string, write a function recurring_char to find its first recurring character. Return None if there is no recurring character.\n",
    "input = \"interviewquery\"\n",
    "output = \"i\"\n",
    "\n",
    "input = \"interv\"\n",
    "output = \"None\""
   ]
  },
  {
   "cell_type": "code",
   "execution_count": null,
   "metadata": {},
   "outputs": [],
   "source": []
  },
  {
   "cell_type": "raw",
   "metadata": {},
   "source": [
    "Q2. Given a dictionary consisting of many roots and a sentence, write a function replace_words to stem all the words in the sentence with the root forming it. If a word has many roots that can form it, replace it with the root with the shortest length.\n",
    "\n",
    "Input:\n",
    "roots = [\"cat\", \"bat\", \"rat\"]\n",
    "sentence = \"the cattle was rattled by the battery\"\n",
    "\n",
    "Output:\n",
    "\"the cat was rat by the bat\""
   ]
  },
  {
   "cell_type": "code",
   "execution_count": null,
   "metadata": {},
   "outputs": [],
   "source": []
  },
  {
   "cell_type": "raw",
   "metadata": {},
   "source": [
    "Q3. Given a list of integers, find all combinations that equal the value N.\n",
    "\n",
    "Example:\n",
    "\n",
    "integers = [2,3,5], target = 8,\n",
    "output = [\n",
    "[2,2,2,2],\n",
    "[2,3,3],\n",
    "[3,5]\n",
    "]"
   ]
  },
  {
   "cell_type": "code",
   "execution_count": null,
   "metadata": {},
   "outputs": [],
   "source": []
  },
  {
   "cell_type": "raw",
   "metadata": {},
   "source": [
    "Q4. Given a percentile_threshold, sample size N, and mean and standard deviation m and sd of the normal distribution, write a function truncated_dist to simulate a normal distribution truncated at percentile_threshold.\n",
    "\n",
    "input:\n",
    "\n",
    "m = 2\n",
    "sd = 1\n",
    "n = 6\n",
    "percentile_threshold = 0.75\n",
    "\n",
    "output:\n",
    "\n",
    "def truncated_dist(m,sd,n, percentile_threshold): ->\n",
    "[2, 1.1, 2.2, 3, 1.5, 1.3]\n",
    "# All values in the output sample are in the lower 75% = percentile_threshold of the distribution."
   ]
  },
  {
   "cell_type": "code",
   "execution_count": 20,
   "metadata": {},
   "outputs": [
    {
     "name": "stdout",
     "output_type": "stream",
     "text": [
      "True\n",
      "False\n"
     ]
    }
   ],
   "source": [
    "# Python program to check if two strings are isomorphic: \n",
    "#Given two strings, find if there is a one-to-one mapping of characters between the two strings.\n",
    "MAX_CHARS = 256\n",
    "  \n",
    "def areIsomorphic(string1, string2):\n",
    "    m = len(string1)\n",
    "    n = len(string2)\n",
    "  \n",
    "    # Length of both strings must be same for one to one corresponance\n",
    "    if m != n:\n",
    "        return False\n",
    "  \n",
    "    # To mark visited characters in str2\n",
    "    marked = [False] * MAX_CHARS\n",
    "  \n",
    "    # To store mapping of every character from str1 to that of str2. Initialize all entries of map as -1\n",
    "    map = [-1] * MAX_CHARS\n",
    "  \n",
    "    # Process all characters one by one\n",
    "    for i in range(n):\n",
    "  \n",
    "        # if current character of str1 is seen first time in it.\n",
    "        if map[ord(string1[i])] == -1:\n",
    "  \n",
    "            # if current character of st2 is already seen, one to one mapping not possible\n",
    "            if marked[ord(string2[i])] == True:\n",
    "                return False\n",
    "  \n",
    "            # Mark current character of str2 as visited\n",
    "            marked[ord(string2[i])] = True\n",
    "  \n",
    "            # Store mapping of current characters\n",
    "            map[ord(string1[i])] = string2[i]\n",
    "  \n",
    "            # If this is not first appearance of current character in str1, \n",
    "    #then check if previous appearance mapped to same character of str2\n",
    "        elif map[ord(string1[i])] != string2[i]:\n",
    "            return False\n",
    "  \n",
    "    return True\n",
    " \n",
    "# Driver program\n",
    "print (areIsomorphic(\"aab\", \"xxy\"))\n",
    "print (areIsomorphic(\"aab\", \"xyz\"))"
   ]
  },
  {
   "cell_type": "raw",
   "metadata": {},
   "source": []
  },
  {
   "cell_type": "code",
   "execution_count": 14,
   "metadata": {},
   "outputs": [
    {
     "name": "stdout",
     "output_type": "stream",
     "text": [
      "[203, 217, 224, 231, 238, 252, 259, 266, 273, 287, 294]\n"
     ]
    }
   ],
   "source": [
    "#Write a program which will find all such numbers which are divisible by 7 but are not a multiple of 5,\n",
    "#between 200 and 300(both included). \n",
    "#The numbers obtained should be printed in a comma-seperated sequence on a single line.\n",
    "l=[]\n",
    "for i in range(203,294+1):\n",
    "    if (i%7==0 and i%5!=0):\n",
    "        l.append(i)\n",
    "print(l)"
   ]
  },
  {
   "cell_type": "code",
   "execution_count": 23,
   "metadata": {},
   "outputs": [
    {
     "name": "stdout",
     "output_type": "stream",
     "text": [
      "Enter first name: vikas\n",
      "Enter last name: Kumar\n",
      "sakiv ramuK\n"
     ]
    }
   ],
   "source": [
    "#Write a Python program to accept the user's first and last name \n",
    "#and getting them printed in the reverse order with a space between the first name and last name.\n",
    "fname = input('Enter first name: ')\n",
    "lname = input('Enter last name: ')\n",
    "print(fname [len(fname)-1::-1], lname[len(lname)-1::-1])"
   ]
  },
  {
   "cell_type": "code",
   "execution_count": null,
   "metadata": {},
   "outputs": [],
   "source": [
    "lst = "
   ]
  },
  {
   "cell_type": "code",
   "execution_count": 1,
   "metadata": {},
   "outputs": [
    {
     "name": "stdout",
     "output_type": "stream",
     "text": [
      "True\n",
      "False\n",
      "True\n"
     ]
    }
   ],
   "source": [
    "#https://github.com/kristinauko/challenge_100\n",
    "\"\"\"\n",
    "Given a list of numbers and a number k, return whether any two numbers from the list add up to k.\n",
    "For example, given [10, 15, 3, 7] and k of 17, return true since 10 + 7 is 17.\n",
    "Bonus: Can you do this in one pass?\n",
    "\"\"\"\n",
    "def is_sum(list_of_numbers, k): #Take a list of numbers and integer k and return if any numbers in list add up to k\n",
    "\n",
    "    for i in range(len(list_of_numbers)):\n",
    "        for j in range(i+1, len(list_of_numbers)):\n",
    "            if list_of_numbers[i] + list_of_numbers[j] == k:\n",
    "                return True\n",
    "\n",
    "    return False\n",
    "print(is_sum([10, 15, 3, 7], 17))\n",
    "print(is_sum([10, 10, 3, 7], 12))\n",
    "print(is_sum([0, 0], 0))"
   ]
  },
  {
   "cell_type": "code",
   "execution_count": 2,
   "metadata": {},
   "outputs": [
    {
     "name": "stdout",
     "output_type": "stream",
     "text": [
      "[2, 3]\n"
     ]
    }
   ],
   "source": [
    "\"\"\"Given an array of integers, return indices of the two numbers such that \n",
    "they add up to a specific target.\n",
    "You may assume that each input would have exactly one solution, \n",
    "and you may not use the same element twice.\"\"\"\n",
    "\n",
    "\n",
    "def twoSum(nums, target):\n",
    "    \"\"\"Take an array of integers, return indices of the two numbers such that \n",
    "they add up to a specific target\"\"\"\n",
    "    \n",
    "    list_of_indexes = []\n",
    "    for i in range(len(nums)):\n",
    "        for j in range(i+1, len(nums)):\n",
    "            if nums[i] + nums[j] == target:\n",
    "                list_of_indexes.append(i)\n",
    "                list_of_indexes.append(j)\n",
    "                return list_of_indexes\n",
    "\n",
    "\n",
    "print(twoSum([3, 4, 7, 10], 17))"
   ]
  },
  {
   "cell_type": "code",
   "execution_count": 3,
   "metadata": {},
   "outputs": [
    {
     "name": "stdout",
     "output_type": "stream",
     "text": [
      "[120, 60, 40, 30, 24]\n",
      "[2, 3, 6]\n"
     ]
    }
   ],
   "source": [
    "\"\"\"\n",
    "Given an array of integers, return a new array such that each element at \n",
    "index i of the new array is the product of all the numbers in the \n",
    "original array except the one at i.\n",
    "For example, if our input was [1, 2, 3, 4, 5], the expected output \n",
    "would be [120, 60, 40, 30, 24]. If our input was [3, 2, 1], the expected \n",
    "output would be [2, 3, 6].\n",
    "Follow-up: what if you can't use division?\n",
    "\"\"\"\n",
    "\n",
    "def product(int_list):\n",
    "    \"\"\"Take array of integers, return new array in which each element at \n",
    "    index i is the product of all the numbers in the \n",
    "    original array except the one at i\"\"\"\n",
    "\n",
    "    new_list = []\n",
    "\n",
    "    for i in int_list:\n",
    "        product = 1\n",
    "\n",
    "        for j in int_list:     \n",
    "            if j != i:\n",
    "                product = product * j\n",
    "        new_list.append(product)\n",
    "\n",
    "    return new_list\n",
    "\n",
    "print(product([1, 2, 3, 4, 5]))\n",
    "print(product([3, 2, 1]))"
   ]
  },
  {
   "cell_type": "code",
   "execution_count": 4,
   "metadata": {},
   "outputs": [
    {
     "name": "stdout",
     "output_type": "stream",
     "text": [
      "ball\n",
      "a\n"
     ]
    }
   ],
   "source": [
    "\"\"\"Given a paragraph and a list of banned words, return the most frequent word that \n",
    "is not in the list of banned words.  It is guaranteed there is at least one word that \n",
    "isn't banned, and that the answer is unique.\n",
    "Words in the list of banned words are given in lowercase, and free of punctuation.  \n",
    "Words in the paragraph are not case sensitive.  \n",
    "The answer is in lowercase.\n",
    "\"\"\"\n",
    "\n",
    "\n",
    "import re\n",
    "\n",
    "def mostCommonWord(paragraph, banned):\n",
    "    \"\"\"Given a paragraph and a list of banned words, return the most frequent word that \n",
    "is not in the list of banned words.\"\"\"    \n",
    "    paragraph_items = re.findall(r\"[\\w']+|[.,!?;]\", paragraph)\n",
    "\n",
    "    dictionary_of_words = {}\n",
    "\n",
    "    for word in paragraph_items:\n",
    "\n",
    "        if word in \".,!?;\":\n",
    "            continue\n",
    "        else:\n",
    "            word = word.lower()\n",
    "\n",
    "            if word in banned:\n",
    "                continue\n",
    "\n",
    "            if word in dictionary_of_words:\n",
    "                count = dictionary_of_words[word]\n",
    "                count += 1\n",
    "                dictionary_of_words[word] = count\n",
    "            else:\n",
    "                dictionary_of_words[word] = 1\n",
    "\n",
    "    count_max_word = 0\n",
    "    max_word = None\n",
    "\n",
    "    for word in dictionary_of_words:\n",
    "\n",
    "        if count_max_word < dictionary_of_words[word]:\n",
    "            count_max_word = dictionary_of_words[word]\n",
    "            max_word = word\n",
    "            \n",
    "    return max_word\n",
    "\n",
    "\n",
    "print(mostCommonWord(\"Bob hit a ball, the hit BALL flew far after it was hit.\", [\"hit\"]))\n",
    "print(mostCommonWord(\"FAKE Bob hit a FAKE ball as a event, the hit a fake BALL which was fake and it was hit, fake.\", [\"hit\", \"fake\"]))"
   ]
  },
  {
   "cell_type": "code",
   "execution_count": 5,
   "metadata": {},
   "outputs": [
    {
     "name": "stdout",
     "output_type": "stream",
     "text": [
      "2\n",
      "2\n",
      "7\n",
      "2\n",
      "3\n",
      "1\n"
     ]
    }
   ],
   "source": [
    "\"\"\"Given an array of integers, find the first missing positive integer in \n",
    "linear time and constant space. In other words, find the lowest positive \n",
    "integer that does not exist in the array. The array can contain duplicates \n",
    "and negative numbers as well.\n",
    "For example, the input [3, 4, -1, 1] should give 2. The input \n",
    "[1, 2, 0] should give 3.\n",
    "\"\"\"\n",
    "\n",
    "def first_missing(int_list):\n",
    "    \"\"\"Given an array of integers, find the first missing positive integer in \n",
    "linear time and constant space\"\"\"\n",
    "\n",
    "    if len(int_list) == 0:\n",
    "        return 1\n",
    "        \n",
    "    int_list.sort()\n",
    "    smallest_int = 0\n",
    "    \n",
    "    for i in range(len(int_list) - 1):\n",
    "\n",
    "        if int_list[i] <= 0 or int_list[i] == int_list[i + 1]:\n",
    "            continue\n",
    "        else:\n",
    "            if int_list[i + 1] - int_list[i] != 1:\n",
    "                smallest_int = int_list[i] + 1\n",
    "                return smallest_int\n",
    "    \n",
    "    if smallest_int == 0:\n",
    "        smallest_int = int_list[-1] + 1\n",
    "\n",
    "    return smallest_int\n",
    "    \n",
    "\n",
    "\n",
    "print(first_missing([3, 3, 4, 4, -1, 1])) \n",
    "print(first_missing([1, 1, 3, 4, -1, 1]))\n",
    "print(first_missing([1, 2, 3, 4, 5, 6]))\n",
    "print(first_missing([3, 4, -1, 1]))\n",
    "print(first_missing([1, 2, 0]))\n",
    "print(first_missing([]))"
   ]
  },
  {
   "cell_type": "code",
   "execution_count": 6,
   "metadata": {},
   "outputs": [
    {
     "name": "stdout",
     "output_type": "stream",
     "text": [
      "True\n",
      "False\n"
     ]
    }
   ],
   "source": [
    "\"\"\"\n",
    "Given a string, determine if it is a palindrome, considering only alphanumeric \n",
    "characters and ignoring cases.\n",
    "Note: For the purpose of this problem, we define empty string as valid \n",
    "palindrome.\"\"\"\n",
    "\n",
    "def is_palindrome(str):\n",
    "\t\"\"\"Takes a string and returns true if string is palindrome\"\"\"\n",
    "\n",
    "\tnew_str = \"\"\n",
    "\n",
    "\tfor char in str:\n",
    "\t\tif char in \".,?!:; \":\n",
    "\t\t\tcontinue\n",
    "\t\telse:\n",
    "\t\t\tnew_str += char.lower()\n",
    "\n",
    "\tget_boolean = palindrome(new_str)\n",
    "\treturn get_boolean\n",
    "\n",
    "\n",
    "def palindrome(new_str):\n",
    "\t\"\"\"Takes string and checks if it's palindrome\"\"\"\n",
    "\n",
    "\tif new_str == '':\n",
    "\t\treturn True\n",
    "\n",
    "\tif new_str[0]== new_str[-1]:\n",
    "\t\treturn palindrome(new_str[1:-1])\n",
    "\telse:\n",
    "\t\treturn False\n",
    "\n",
    "\n",
    "print(is_palindrome(\"A man, a plan, a canal: Panama\")) #TRUE \n",
    "print(is_palindrome(\"race a car\")) #FALSE"
   ]
  },
  {
   "cell_type": "code",
   "execution_count": null,
   "metadata": {},
   "outputs": [],
   "source": [
    "#https://github.com/kristinauko/challenge_100\n",
    "#start from Q6"
   ]
  },
  {
   "cell_type": "code",
   "execution_count": 7,
   "metadata": {},
   "outputs": [
    {
     "name": "stdout",
     "output_type": "stream",
     "text": [
      "  Section Name  Roll No      Name\n",
      "1        Deneb        1     Vikas\n",
      "2        Deneb        2   Prakash\n",
      "3        Deneb        3    Mahesh\n",
      "4       Sirius       10  Siddhant\n",
      "5       Sirius       15      Avik\n",
      "6       Sirius       20    Sharvi\n"
     ]
    }
   ],
   "source": [
    "import pandas as pd\n",
    "df1 = pd.DataFrame({'Section Name':['Deneb'], 'Roll No':[1,2,3],'Name':['Vikas','Prakash','Mahesh']},index = [1,2,3])\n",
    "# print(df1)\n",
    "\n",
    "df2 = pd.DataFrame({'Section Name':['Sirius'],'Roll No':[10,15,20],'Name': ['Siddhant','Avik','Sharvi']},index = [4,5,6])\n",
    "# print(df2)\n",
    "\n",
    "res = [df1,df2]\n",
    "\n",
    "df = pd.concat(res)\n",
    "print(df)"
   ]
  },
  {
   "cell_type": "code",
   "execution_count": 8,
   "metadata": {},
   "outputs": [
    {
     "name": "stdout",
     "output_type": "stream",
     "text": [
      "1\n"
     ]
    }
   ],
   "source": [
    "#https://www.youtube.com/watch?v=uKcvoXmfXZc\n",
    "#Given a number n, return the number of lists of \"consecutive\" positive integers that sum up to n.\n",
    "#For example, for n = 9, you should return 3 since the lists are: [2, 3, 4], [4, 5], and [9]. \n",
    "#Sum of consecutive numbers\n",
    "def countConsecutive(N):\n",
    "    count = 0\n",
    "    L = 1\n",
    "    while( L * (L + 1) < 2 * N):\n",
    "        a = (1.0 * N - (L * (L + 1) ) / 2) / (L + 1)\n",
    "        if (a - int(a) == 0.0):\n",
    "            count += 1\n",
    "        L += 1\n",
    "        #print(L, end=' ')        \n",
    "    return count\n",
    "\n",
    " \n",
    "# Driver code\n",
    " \n",
    "N = 5\n",
    "print (countConsecutive(N))\n",
    "# N = 10\n",
    "# print (countConsecutive(N))"
   ]
  },
  {
   "cell_type": "code",
   "execution_count": null,
   "metadata": {},
   "outputs": [],
   "source": [
    "#Given a number n, return the number of lists of \"consecutive\" positive integers that sum up to n.\n",
    "#For example, for n = 9, you should return 3 since the lists are: [2, 3, 4], [4, 5], and [9]. \n",
    "#Sum of consecutive numbers\n",
    "\n",
    "count = 0\n",
    "def findConsecutive(N):\n",
    " \n",
    "    start = 1\n",
    "    end = 1\n",
    "    sum = 1\n",
    "     \n",
    "    while start <= N/2:\n",
    "         \n",
    "        if sum < N:\n",
    "            end += 1\n",
    "            sum += end\n",
    "         \n",
    "        if sum > N:\n",
    "            sum -= start\n",
    "            start += 1\n",
    "             \n",
    "        if sum == N:\n",
    "             \n",
    "            for i in range(start, end + 1):\n",
    "                print(i, end=' ')\n",
    "                \n",
    "            print( )\n",
    "            sum -= start\n",
    "            start += 1\n",
    " \n",
    "# Driver code\n",
    "N = 5\n",
    "findConsecutive(N)\n"
   ]
  },
  {
   "cell_type": "code",
   "execution_count": null,
   "metadata": {},
   "outputs": [],
   "source": []
  },
  {
   "cell_type": "code",
   "execution_count": null,
   "metadata": {},
   "outputs": [],
   "source": []
  },
  {
   "cell_type": "code",
   "execution_count": null,
   "metadata": {},
   "outputs": [],
   "source": []
  },
  {
   "cell_type": "code",
   "execution_count": null,
   "metadata": {},
   "outputs": [],
   "source": []
  }
 ],
 "metadata": {
  "kernelspec": {
   "display_name": "Python 3 (ipykernel)",
   "language": "python",
   "name": "python3"
  },
  "language_info": {
   "codemirror_mode": {
    "name": "ipython",
    "version": 3
   },
   "file_extension": ".py",
   "mimetype": "text/x-python",
   "name": "python",
   "nbconvert_exporter": "python",
   "pygments_lexer": "ipython3",
   "version": "3.9.7"
  }
 },
 "nbformat": 4,
 "nbformat_minor": 2
}
