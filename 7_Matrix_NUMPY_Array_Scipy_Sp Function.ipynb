{
 "cells": [
  {
   "cell_type": "markdown",
   "metadata": {},
   "source": [
    "# Array"
   ]
  },
  {
   "cell_type": "raw",
   "metadata": {},
   "source": [
    "List: Can have different types of data e.g. int, float, string\n",
    "List: The Python core library provided lists. A list is the Python equivalent of an array but is resizable and can contain elements of different types.\n",
    "\n",
    "Array: takes only a single data type elements; are mutable\n",
    "\n",
    "numpy is the core library for scientific computing in Python. It provides a high performance, multidimensional array object and tools for working with these arrays. A numpy array is a grid of values all of the same type and is indexed by a  tuple of non-negative integers. \n",
    "\n",
    "With the sense of \"Size, Performance and Functionality\", numpy is better than list"
   ]
  },
  {
   "cell_type": "code",
   "execution_count": 1,
   "metadata": {},
   "outputs": [
    {
     "data": {
      "text/plain": [
       "array.array"
      ]
     },
     "execution_count": 1,
     "metadata": {},
     "output_type": "execute_result"
    }
   ],
   "source": [
    "import array\n",
    "array.array "
   ]
  },
  {
   "cell_type": "code",
   "execution_count": 2,
   "metadata": {},
   "outputs": [
    {
     "data": {
      "text/plain": [
       "array.array"
      ]
     },
     "execution_count": 2,
     "metadata": {},
     "output_type": "execute_result"
    }
   ],
   "source": [
    "import array as arr\n",
    "arr.array "
   ]
  },
  {
   "cell_type": "code",
   "execution_count": 3,
   "metadata": {},
   "outputs": [
    {
     "name": "stdout",
     "output_type": "stream",
     "text": [
      "array('i', [2, -3, 4])\n"
     ]
    }
   ],
   "source": [
    "from array import *\n",
    "vals = array('i',[2,-3,4]) #'i' means integer type\n",
    "print(vals)"
   ]
  },
  {
   "cell_type": "code",
   "execution_count": 4,
   "metadata": {},
   "outputs": [
    {
     "name": "stdout",
     "output_type": "stream",
     "text": [
      "array('d', [2.0, -3.0, 4.0])\n"
     ]
    }
   ],
   "source": [
    "from array import *\n",
    "vals = array('d',[2,-3,4]) #d means 'float' type\n",
    "print(vals)"
   ]
  },
  {
   "cell_type": "code",
   "execution_count": 5,
   "metadata": {},
   "outputs": [
    {
     "name": "stdout",
     "output_type": "stream",
     "text": [
      "4.0\n",
      "3\n",
      "array('d', [2.0, -3.0, 4.0, 66.0])\n"
     ]
    }
   ],
   "source": [
    "print(vals[-1]) #ith index value\n",
    "print(len(vals)) # lngth of an array\n",
    "vals.append(66) # only 1 value is appended\n",
    "print(vals)"
   ]
  },
  {
   "cell_type": "code",
   "execution_count": 6,
   "metadata": {},
   "outputs": [
    {
     "data": {
      "text/plain": [
       "array('d', [2.0, -3.0, 4.0, 66.0, 3.0, 55.0, 77.0])"
      ]
     },
     "execution_count": 6,
     "metadata": {},
     "output_type": "execute_result"
    }
   ],
   "source": [
    "vals.extend([3,55,77]) #using square bracket\n",
    "# multiple values are added\n",
    "vals"
   ]
  },
  {
   "cell_type": "code",
   "execution_count": 7,
   "metadata": {},
   "outputs": [
    {
     "data": {
      "text/plain": [
       "array('d', [2.0, -3.0, 6.0, 4.0, 66.0, 3.0, 55.0, 77.0])"
      ]
     },
     "execution_count": 7,
     "metadata": {},
     "output_type": "execute_result"
    }
   ],
   "source": [
    "vals.insert(2,6) #at 2nd index position 6 is added\n",
    "vals"
   ]
  },
  {
   "cell_type": "code",
   "execution_count": 8,
   "metadata": {},
   "outputs": [
    {
     "name": "stdout",
     "output_type": "stream",
     "text": [
      "55.0\n"
     ]
    }
   ],
   "source": [
    "print(vals.pop(-2)) # i.e. without parameter, last value"
   ]
  },
  {
   "cell_type": "code",
   "execution_count": 9,
   "metadata": {},
   "outputs": [
    {
     "name": "stdout",
     "output_type": "stream",
     "text": [
      "array('d', [2.0, -3.0, 6.0, 4.0, 66.0, 3.0, 77.0])\n"
     ]
    }
   ],
   "source": [
    "print(vals)"
   ]
  },
  {
   "cell_type": "code",
   "execution_count": 10,
   "metadata": {},
   "outputs": [
    {
     "name": "stdout",
     "output_type": "stream",
     "text": [
      "array('d', [2.0, -3.0, 4.0, 66.0, 3.0, 77.0])\n"
     ]
    }
   ],
   "source": [
    "vals.remove(6) #remove 6\n",
    "print(vals)"
   ]
  },
  {
   "cell_type": "code",
   "execution_count": 11,
   "metadata": {},
   "outputs": [
    {
     "data": {
      "text/plain": [
       "array('d', [2.0, -3.0, 4.0, 66.0, 3.0])"
      ]
     },
     "execution_count": 11,
     "metadata": {},
     "output_type": "execute_result"
    }
   ],
   "source": [
    "vals[0:-1]"
   ]
  },
  {
   "cell_type": "code",
   "execution_count": 12,
   "metadata": {},
   "outputs": [
    {
     "data": {
      "text/plain": [
       "array('d', [2.0])"
      ]
     },
     "execution_count": 12,
     "metadata": {},
     "output_type": "execute_result"
    }
   ],
   "source": [
    "vals[::11]"
   ]
  },
  {
   "cell_type": "code",
   "execution_count": 13,
   "metadata": {},
   "outputs": [
    {
     "data": {
      "text/plain": [
       "(2314110572768, 3)"
      ]
     },
     "execution_count": 13,
     "metadata": {},
     "output_type": "execute_result"
    }
   ],
   "source": [
    "from array import *\n",
    "vals = array('i',[2,-3,4])\n",
    "vals.buffer_info() # address, no of entities"
   ]
  },
  {
   "cell_type": "code",
   "execution_count": 14,
   "metadata": {},
   "outputs": [
    {
     "data": {
      "text/plain": [
       "'i'"
      ]
     },
     "execution_count": 14,
     "metadata": {},
     "output_type": "execute_result"
    }
   ],
   "source": [
    "from array import *\n",
    "vals = array('i',[2,-3,4])\n",
    "vals.typecode"
   ]
  },
  {
   "cell_type": "code",
   "execution_count": 15,
   "metadata": {},
   "outputs": [
    {
     "data": {
      "text/plain": [
       "array('i', [4, -3, 2])"
      ]
     },
     "execution_count": 15,
     "metadata": {},
     "output_type": "execute_result"
    }
   ],
   "source": [
    "from array import *\n",
    "vals = array('i',[2,-3,4])\n",
    "vals.reverse()\n",
    "vals"
   ]
  },
  {
   "cell_type": "code",
   "execution_count": 16,
   "metadata": {},
   "outputs": [
    {
     "name": "stdout",
     "output_type": "stream",
     "text": [
      "2\n",
      "-3\n",
      "4\n",
      "10\n",
      "3\n",
      "2\n",
      "-2\n",
      "-2\n"
     ]
    }
   ],
   "source": [
    "from array import *\n",
    "vals = array('i',[2,-3,4,10,3,2,-2,-2])\n",
    "for e in range(len(vals)):# when we don't know the array size\n",
    "    print(vals[e])"
   ]
  },
  {
   "cell_type": "code",
   "execution_count": 17,
   "metadata": {},
   "outputs": [
    {
     "name": "stdout",
     "output_type": "stream",
     "text": [
      "2\n",
      "-3\n",
      "4\n",
      "10\n",
      "3\n",
      "2\n",
      "-2\n",
      "-2\n"
     ]
    }
   ],
   "source": [
    "from array import *\n",
    "vals = array('i',[2,-3,4,10,3,2,-2,-2])\n",
    "newarray = array(vals.typecode,(a for a in vals))# Copying array values in new array\n",
    "for e in newarray:\n",
    "    print(e)"
   ]
  },
  {
   "cell_type": "code",
   "execution_count": null,
   "metadata": {},
   "outputs": [],
   "source": []
  },
  {
   "cell_type": "raw",
   "metadata": {},
   "source": []
  },
  {
   "cell_type": "markdown",
   "metadata": {},
   "source": [
    "# An Array occupies more size than numpy"
   ]
  },
  {
   "cell_type": "code",
   "execution_count": 18,
   "metadata": {},
   "outputs": [
    {
     "data": {
      "text/plain": [
       "56"
      ]
     },
     "execution_count": 18,
     "metadata": {},
     "output_type": "execute_result"
    }
   ],
   "source": [
    "from sys import getsizeof\n",
    "x_list=[] # 1. an array is defined\n",
    "getsizeof(x_list) #2. get the size of that array"
   ]
  },
  {
   "cell_type": "code",
   "execution_count": 19,
   "metadata": {},
   "outputs": [
    {
     "data": {
      "text/plain": [
       "85176"
      ]
     },
     "execution_count": 19,
     "metadata": {},
     "output_type": "execute_result"
    }
   ],
   "source": [
    "n_elements = 10000\n",
    "x_list=[x for x in range(n_elements)] # 1. an array is defined with a range of 10000\n",
    "getsizeof(x_list) #2. get the size of that array"
   ]
  },
  {
   "cell_type": "code",
   "execution_count": 20,
   "metadata": {},
   "outputs": [
    {
     "data": {
      "text/plain": [
       "40112"
      ]
     },
     "execution_count": 20,
     "metadata": {},
     "output_type": "execute_result"
    }
   ],
   "source": [
    "import numpy as np\n",
    "x_np = np.array(x_list)\n",
    "getsizeof(x_np)#get the size of that numpy"
   ]
  },
  {
   "cell_type": "code",
   "execution_count": 21,
   "metadata": {},
   "outputs": [
    {
     "data": {
      "text/plain": [
       "45064"
      ]
     },
     "execution_count": 21,
     "metadata": {},
     "output_type": "execute_result"
    }
   ],
   "source": [
    "getsizeof(x_list) - getsizeof(x_np) # see the small \"size\" occupied by numpy than the array. 87616 - 40096 = 47520"
   ]
  },
  {
   "cell_type": "markdown",
   "metadata": {},
   "source": [
    "# Performance of numpy is better than an array"
   ]
  },
  {
   "cell_type": "markdown",
   "metadata": {},
   "source": [
    "Reason why NumPy is faster is that it utilizes C and Fortran for expensive function calls and loops.\n",
    "NumPy utilizes the C-API to bridge Python and C, creating an abstracted, more straightforward programming experience without compromising on speed."
   ]
  },
  {
   "cell_type": "code",
   "execution_count": 22,
   "metadata": {},
   "outputs": [],
   "source": [
    "\n",
    "x_modified_new = []\n",
    "for element in x_list:\n",
    "    x_modified_new.append(element+1000000)"
   ]
  },
  {
   "cell_type": "code",
   "execution_count": 23,
   "metadata": {},
   "outputs": [
    {
     "data": {
      "text/plain": [
       "[1000000, 1000001, 1000002, 1000003, 1000004]"
      ]
     },
     "execution_count": 23,
     "metadata": {},
     "output_type": "execute_result"
    }
   ],
   "source": [
    "x_modified_new[:5]"
   ]
  },
  {
   "cell_type": "code",
   "execution_count": 24,
   "metadata": {},
   "outputs": [
    {
     "data": {
      "text/plain": [
       "[1009995, 1009996, 1009997, 1009998, 1009999]"
      ]
     },
     "execution_count": 24,
     "metadata": {},
     "output_type": "execute_result"
    }
   ],
   "source": [
    "x_modified_new[-5:]"
   ]
  },
  {
   "cell_type": "code",
   "execution_count": 25,
   "metadata": {},
   "outputs": [
    {
     "name": "stdout",
     "output_type": "stream",
     "text": [
      "0.0\n"
     ]
    }
   ],
   "source": [
    "import time\n",
    "start = time.process_time()\n",
    "x_1000000_added = [x+1000000 for x in x_list]\n",
    "non_numpy_time = time.process_time()-start\n",
    "print(non_numpy_time)"
   ]
  },
  {
   "cell_type": "code",
   "execution_count": 26,
   "metadata": {},
   "outputs": [
    {
     "name": "stdout",
     "output_type": "stream",
     "text": [
      "0.0\n"
     ]
    }
   ],
   "source": [
    "import time\n",
    "x_numpy = np.array(x_list)\n",
    "\n",
    "start = time.process_time()\n",
    "x_np_10000000_added = x_numpy +1000000\n",
    "numpy_time = time.process_time()-start\n",
    "print(numpy_time)"
   ]
  },
  {
   "cell_type": "code",
   "execution_count": 27,
   "metadata": {},
   "outputs": [
    {
     "data": {
      "text/plain": [
       "0.0"
      ]
     },
     "execution_count": 27,
     "metadata": {},
     "output_type": "execute_result"
    }
   ],
   "source": [
    "non_numpy_time-numpy_time"
   ]
  },
  {
   "cell_type": "code",
   "execution_count": null,
   "metadata": {},
   "outputs": [],
   "source": []
  },
  {
   "cell_type": "markdown",
   "metadata": {},
   "source": [
    "# Sparse Matrix"
   ]
  },
  {
   "cell_type": "code",
   "execution_count": 28,
   "metadata": {},
   "outputs": [
    {
     "name": "stdout",
     "output_type": "stream",
     "text": [
      "Original Matrix: \n",
      " [[1 2 3]\n",
      " [4 5 6]\n",
      " [7 8 9]]\n"
     ]
    }
   ],
   "source": [
    "import numpy as np\n",
    "from scipy import sparse\n",
    "matrix = np.array([[1,2,3],\n",
    "                 [4,5,6],\n",
    "                 [7,8,9]])\n",
    "\n",
    "print(\"Original Matrix: \\n\", matrix)"
   ]
  },
  {
   "cell_type": "code",
   "execution_count": 29,
   "metadata": {},
   "outputs": [
    {
     "name": "stdout",
     "output_type": "stream",
     "text": [
      "  (0, 0)\t1\n",
      "  (0, 1)\t2\n",
      "  (0, 2)\t3\n",
      "  (1, 0)\t4\n",
      "  (1, 1)\t5\n",
      "  (1, 2)\t6\n",
      "  (2, 0)\t7\n",
      "  (2, 1)\t8\n",
      "  (2, 2)\t9\n"
     ]
    }
   ],
   "source": [
    "print(sparse.dok_matrix(matrix))"
   ]
  },
  {
   "cell_type": "code",
   "execution_count": 30,
   "metadata": {},
   "outputs": [
    {
     "name": "stdout",
     "output_type": "stream",
     "text": [
      "  (2, 0)\t7\n",
      "  (1, 0)\t4\n",
      "  (2, 1)\t8\n",
      "  (0, 0)\t1\n",
      "  (1, 1)\t5\n",
      "  (2, 2)\t9\n",
      "  (0, 1)\t2\n",
      "  (1, 2)\t6\n",
      "  (0, 2)\t3\n"
     ]
    }
   ],
   "source": [
    "print(sparse.dia_matrix(matrix))"
   ]
  },
  {
   "cell_type": "code",
   "execution_count": null,
   "metadata": {},
   "outputs": [],
   "source": []
  },
  {
   "cell_type": "code",
   "execution_count": 167,
   "metadata": {},
   "outputs": [
    {
     "name": "stdout",
     "output_type": "stream",
     "text": [
      "[12 12 14 15]\n",
      "['12' '12' '14' '15']\n",
      "(4,)\n",
      "<U2\n",
      "1\n"
     ]
    }
   ],
   "source": [
    "import numpy as np\n",
    "lst1 =[12,12,14,15]\n",
    "arr =np.array(lst1)\n",
    "print(arr)\n",
    "\n",
    "arr =np.array(lst1,dtype='str') # dtype='float'\n",
    "print(arr)\n",
    "\n",
    "print(arr.shape) #length of that vector\n",
    "print(arr.dtype)\n",
    "print(arr.ndim)"
   ]
  },
  {
   "cell_type": "code",
   "execution_count": 168,
   "metadata": {},
   "outputs": [
    {
     "name": "stdout",
     "output_type": "stream",
     "text": [
      "['True' 'False']\n",
      "<U5\n",
      "(2,)\n",
      "<U5\n",
      "1\n"
     ]
    }
   ],
   "source": [
    "lst1 =['True','False']\n",
    "arr =np.array(lst1)\n",
    "print(arr)\n",
    "\n",
    "print(arr.shape) #length of that vector\n",
    "print(arr.dtype)\n",
    "print(arr.ndim)"
   ]
  },
  {
   "cell_type": "code",
   "execution_count": 33,
   "metadata": {},
   "outputs": [
    {
     "name": "stdout",
     "output_type": "stream",
     "text": [
      "[[1 2 3]\n",
      " [4 5 6]\n",
      " [1 2 3]\n",
      " [4 5 6]]\n",
      "(4, 3)\n",
      "int32\n",
      "2\n"
     ]
    }
   ],
   "source": [
    "arr = np.array([[1,2,3],[4,5,6],[1,2,3],[4,5,6]])\n",
    "print(arr)\n",
    "\n",
    "print(arr.shape) #length of that vector\n",
    "print(arr.dtype)\n",
    "print(arr.ndim)"
   ]
  },
  {
   "cell_type": "code",
   "execution_count": 187,
   "metadata": {},
   "outputs": [
    {
     "name": "stdout",
     "output_type": "stream",
     "text": [
      "[[ 1  2  3]\n",
      " [ 4  5  6]\n",
      " [ 7  8  9]\n",
      " [11 12 13]]\n",
      "(4, 3)\n",
      "int32\n",
      "2\n",
      "\n",
      "\n",
      "AFTER FLIPPING: \n",
      "[[13 12 11]\n",
      " [ 9  8  7]\n",
      " [ 6  5  4]\n",
      " [ 3  2  1]]\n",
      "(4, 3)\n",
      "int32\n",
      "2\n"
     ]
    }
   ],
   "source": [
    "arr = np.array([[1,2,3],[4,5,6],[7,8,9],[11,12,13]])\n",
    "print(arr)\n",
    "print(arr.shape) #length of that vector\n",
    "print(arr.dtype)\n",
    "print(arr.ndim)\n",
    "\n",
    "print(\"\\n\")\n",
    "\n",
    "flipped = np.flip(arr)\n",
    "print(\"AFTER FLIPPING: \")\n",
    "print(flipped)\n",
    "\n",
    "print(flipped.shape) #length of that vector\n",
    "print(flipped.dtype)\n",
    "print(flipped.ndim)"
   ]
  },
  {
   "cell_type": "code",
   "execution_count": 34,
   "metadata": {},
   "outputs": [
    {
     "name": "stdout",
     "output_type": "stream",
     "text": [
      "[0 1 2 3 4 5 6 7 8 9]\n"
     ]
    }
   ],
   "source": [
    "print(np.arange(10)) "
   ]
  },
  {
   "cell_type": "code",
   "execution_count": 35,
   "metadata": {},
   "outputs": [
    {
     "name": "stdout",
     "output_type": "stream",
     "text": [
      "[ 6  7  8  9 10 11 12 13 14 15 16 17 18 19]\n"
     ]
    }
   ],
   "source": [
    "print( np.arange(6,20))"
   ]
  },
  {
   "cell_type": "code",
   "execution_count": 36,
   "metadata": {},
   "outputs": [
    {
     "name": "stdout",
     "output_type": "stream",
     "text": [
      "[ 6  8 10 12 14 16 18]\n"
     ]
    }
   ],
   "source": [
    "print(np.arange(6,20,2)) #from 6 to 20 with a gap of 2"
   ]
  },
  {
   "cell_type": "code",
   "execution_count": 170,
   "metadata": {},
   "outputs": [
    {
     "name": "stdout",
     "output_type": "stream",
     "text": [
      "[ 6.001  8.001 10.001 12.001 14.001 16.001 18.001 20.001]\n"
     ]
    }
   ],
   "source": [
    "print(np.arange(6.001,20.05,2,dtype='float'))"
   ]
  },
  {
   "cell_type": "code",
   "execution_count": 38,
   "metadata": {},
   "outputs": [
    {
     "name": "stdout",
     "output_type": "stream",
     "text": [
      "[0. 0. 0. 0. 0. 0.]\n",
      "[1. 1. 1. 1. 1. 1.]\n",
      "[[1. 1. 1. 1. 1. 1.]\n",
      " [1. 1. 1. 1. 1. 1.]\n",
      " [1. 1. 1. 1. 1. 1.]\n",
      " [1. 1. 1. 1. 1. 1.]\n",
      " [1. 1. 1. 1. 1. 1.]]\n",
      "[[0. 0. 0.]\n",
      " [0. 0. 0.]]\n",
      "[[0 0 0]\n",
      " [0 0 0]]\n"
     ]
    }
   ],
   "source": [
    "print(np.zeros(6))\n",
    "print(np.ones(6))\n",
    "print(np.ones((5,6)))\n",
    "print(np.zeros((2,3)))  # default type is \"Float type\"\n",
    "print(np.zeros((2,3),dtype = 'int32'))"
   ]
  },
  {
   "cell_type": "code",
   "execution_count": 39,
   "metadata": {},
   "outputs": [
    {
     "data": {
      "text/plain": [
       "(array([ 1.        ,  1.18367347,  1.36734694,  1.55102041,  1.73469388,\n",
       "         1.91836735,  2.10204082,  2.28571429,  2.46938776,  2.65306122,\n",
       "         2.83673469,  3.02040816,  3.20408163,  3.3877551 ,  3.57142857,\n",
       "         3.75510204,  3.93877551,  4.12244898,  4.30612245,  4.48979592,\n",
       "         4.67346939,  4.85714286,  5.04081633,  5.2244898 ,  5.40816327,\n",
       "         5.59183673,  5.7755102 ,  5.95918367,  6.14285714,  6.32653061,\n",
       "         6.51020408,  6.69387755,  6.87755102,  7.06122449,  7.24489796,\n",
       "         7.42857143,  7.6122449 ,  7.79591837,  7.97959184,  8.16326531,\n",
       "         8.34693878,  8.53061224,  8.71428571,  8.89795918,  9.08163265,\n",
       "         9.26530612,  9.44897959,  9.63265306,  9.81632653, 10.        ]),\n",
       " 0.1836734693877551)"
      ]
     },
     "execution_count": 39,
     "metadata": {},
     "output_type": "execute_result"
    }
   ],
   "source": [
    "np.linspace(1,10,retstep=True)# 50 values created, last value i.e. 10 is also included"
   ]
  },
  {
   "cell_type": "code",
   "execution_count": 173,
   "metadata": {},
   "outputs": [
    {
     "data": {
      "text/plain": [
       "(array([ 1.  ,  3.25,  5.5 ,  7.75, 10.  ]), 2.25)"
      ]
     },
     "execution_count": 173,
     "metadata": {},
     "output_type": "execute_result"
    }
   ],
   "source": [
    "np.linspace(1,10,5, retstep=True) #from 1 to 10, both included with 5 divisions"
   ]
  },
  {
   "cell_type": "code",
   "execution_count": 42,
   "metadata": {},
   "outputs": [
    {
     "data": {
      "text/plain": [
       "(array([1. , 2.8, 4.6, 6.4, 8.2]), 1.8)"
      ]
     },
     "execution_count": 42,
     "metadata": {},
     "output_type": "execute_result"
    }
   ],
   "source": [
    "np.linspace(1,10,5,endpoint=False, retstep=True)# last value i.e. 10 is NOT included"
   ]
  },
  {
   "cell_type": "code",
   "execution_count": 43,
   "metadata": {},
   "outputs": [
    {
     "data": {
      "text/plain": [
       "array([[1., 0., 0., 0.],\n",
       "       [0., 1., 0., 0.],\n",
       "       [0., 0., 1., 0.],\n",
       "       [0., 0., 0., 1.]])"
      ]
     },
     "execution_count": 43,
     "metadata": {},
     "output_type": "execute_result"
    }
   ],
   "source": [
    "np.eye(4) #Identity matrix"
   ]
  },
  {
   "cell_type": "code",
   "execution_count": 44,
   "metadata": {},
   "outputs": [
    {
     "data": {
      "text/plain": [
       "array([[1., 0., 0., 0., 0.],\n",
       "       [0., 1., 0., 0., 0.],\n",
       "       [0., 0., 1., 0., 0.],\n",
       "       [0., 0., 0., 1., 0.]])"
      ]
     },
     "execution_count": 44,
     "metadata": {},
     "output_type": "execute_result"
    }
   ],
   "source": [
    "np.eye(4,5) #Identity matrix"
   ]
  },
  {
   "cell_type": "code",
   "execution_count": 45,
   "metadata": {},
   "outputs": [
    {
     "data": {
      "text/plain": [
       "array([[0., 0., 0., 0., 0.],\n",
       "       [1., 0., 0., 0., 0.],\n",
       "       [0., 1., 0., 0., 0.],\n",
       "       [0., 0., 1., 0., 0.]])"
      ]
     },
     "execution_count": 45,
     "metadata": {},
     "output_type": "execute_result"
    }
   ],
   "source": [
    "np.eye(4,5,-1) #Identity matrix i.e. at -1st position, 1 will be placed and then identity matrix will be formed"
   ]
  },
  {
   "cell_type": "code",
   "execution_count": 175,
   "metadata": {},
   "outputs": [
    {
     "data": {
      "text/plain": [
       "array([[0., 0., 1., 0., 0.],\n",
       "       [0., 0., 0., 1., 0.],\n",
       "       [0., 0., 0., 0., 1.],\n",
       "       [0., 0., 0., 0., 0.]])"
      ]
     },
     "execution_count": 175,
     "metadata": {},
     "output_type": "execute_result"
    }
   ],
   "source": [
    "np.eye(4,5,2) #Identity matrix i.e. at 4th position, 1 will be placed and then identity matrix will be formed"
   ]
  },
  {
   "cell_type": "code",
   "execution_count": 47,
   "metadata": {},
   "outputs": [
    {
     "data": {
      "text/plain": [
       "array([[0., 0., 0., 0., 0.],\n",
       "       [0., 0., 0., 0., 0.],\n",
       "       [0., 0., 0., 0., 0.],\n",
       "       [0., 0., 0., 0., 0.]])"
      ]
     },
     "execution_count": 47,
     "metadata": {},
     "output_type": "execute_result"
    }
   ],
   "source": [
    "np.eye(4,5,5) #Identity matrix as 5th position is NOT here hence all values are 0"
   ]
  },
  {
   "cell_type": "code",
   "execution_count": 176,
   "metadata": {},
   "outputs": [
    {
     "data": {
      "text/plain": [
       "0.05433926702850633"
      ]
     },
     "execution_count": 176,
     "metadata": {},
     "output_type": "execute_result"
    }
   ],
   "source": [
    "np.random.rand()"
   ]
  },
  {
   "cell_type": "code",
   "execution_count": 49,
   "metadata": {},
   "outputs": [
    {
     "data": {
      "text/plain": [
       "array([0.69848593, 0.93486906, 0.14994482])"
      ]
     },
     "execution_count": 49,
     "metadata": {},
     "output_type": "execute_result"
    }
   ],
   "source": [
    "np.random.rand(3)#those many numbers"
   ]
  },
  {
   "cell_type": "code",
   "execution_count": 50,
   "metadata": {},
   "outputs": [
    {
     "data": {
      "text/plain": [
       "array([[0.82382071, 0.87376856, 0.95223507],\n",
       "       [0.2945978 , 0.08412841, 0.27868451],\n",
       "       [0.95481838, 0.99659045, 0.00786629],\n",
       "       [0.99872837, 0.90442646, 0.20358122],\n",
       "       [0.12736813, 0.29841801, 0.90035623]])"
      ]
     },
     "execution_count": 50,
     "metadata": {},
     "output_type": "execute_result"
    }
   ],
   "source": [
    "np.random.rand(5,3)#those many numbers"
   ]
  },
  {
   "cell_type": "code",
   "execution_count": 51,
   "metadata": {},
   "outputs": [
    {
     "data": {
      "text/plain": [
       "array([-1.681568  ,  1.28489394,  1.93895306, -0.68552576, -0.6189499 ])"
      ]
     },
     "execution_count": 51,
     "metadata": {},
     "output_type": "execute_result"
    }
   ],
   "source": [
    "np.random.randn(5)#negative or positive number"
   ]
  },
  {
   "cell_type": "code",
   "execution_count": 52,
   "metadata": {},
   "outputs": [
    {
     "data": {
      "text/plain": [
       "2"
      ]
     },
     "execution_count": 52,
     "metadata": {},
     "output_type": "execute_result"
    }
   ],
   "source": [
    "np.random.randint(2,3)#lower,higher"
   ]
  },
  {
   "cell_type": "code",
   "execution_count": 53,
   "metadata": {},
   "outputs": [
    {
     "data": {
      "text/plain": [
       "array([6, 6, 6, 3, 6])"
      ]
     },
     "execution_count": 53,
     "metadata": {},
     "output_type": "execute_result"
    }
   ],
   "source": [
    "np.random.randint(2,9,5) # i.e.Between 2 and 9, 5 random values "
   ]
  },
  {
   "cell_type": "code",
   "execution_count": 54,
   "metadata": {},
   "outputs": [
    {
     "data": {
      "text/plain": [
       "array([[7, 3, 5],\n",
       "       [3, 8, 7],\n",
       "       [4, 5, 4],\n",
       "       [3, 5, 5],\n",
       "       [3, 8, 7]])"
      ]
     },
     "execution_count": 54,
     "metadata": {},
     "output_type": "execute_result"
    }
   ],
   "source": [
    "np.random.randint(2,9,(5,3)) # i.e. Between 2 and 9, 5 by 3 matrix "
   ]
  },
  {
   "cell_type": "code",
   "execution_count": 55,
   "metadata": {},
   "outputs": [
    {
     "name": "stdout",
     "output_type": "stream",
     "text": [
      "[4 2 2 1 1 4 4 1 1 4]\n"
     ]
    },
    {
     "data": {
      "text/plain": [
       "array([[4, 2],\n",
       "       [2, 1],\n",
       "       [1, 4],\n",
       "       [4, 1],\n",
       "       [1, 4]])"
      ]
     },
     "execution_count": 55,
     "metadata": {},
     "output_type": "execute_result"
    }
   ],
   "source": [
    "arr=np.random.randint(1,5,10)\n",
    "print(arr)\n",
    "arr.reshape(5,2) # product should be same as size"
   ]
  },
  {
   "cell_type": "code",
   "execution_count": 56,
   "metadata": {},
   "outputs": [
    {
     "name": "stdout",
     "output_type": "stream",
     "text": [
      "[[17 14]\n",
      " [21  1]\n",
      " [24  3]\n",
      " [ 4 18]\n",
      " [ 4  6]]\n"
     ]
    },
    {
     "data": {
      "text/plain": [
       "array([[17, 14, 21,  1, 24],\n",
       "       [ 3,  4, 18,  4,  6]])"
      ]
     },
     "execution_count": 56,
     "metadata": {},
     "output_type": "execute_result"
    }
   ],
   "source": [
    "#IMP\n",
    "arr=np.random.randint(1,25,(5,2))\n",
    "print(arr)\n",
    "arr.reshape(2,5) # product should be same as size"
   ]
  },
  {
   "cell_type": "code",
   "execution_count": 57,
   "metadata": {},
   "outputs": [
    {
     "name": "stdout",
     "output_type": "stream",
     "text": [
      "[[20 98 25 94 60]\n",
      " [82 81 13 25 83]\n",
      " [97 22 37 56 43]]\n",
      "98\n",
      "13\n",
      "1\n",
      "7\n",
      "<built-in method argmin of numpy.ndarray object at 0x0000021ADB44B750>\n"
     ]
    }
   ],
   "source": [
    "arr=np.random.randint(1,100,(3,5))\n",
    "print(arr)\n",
    "print(arr.max())\n",
    "print(arr.min())\n",
    "print(arr.argmax()) # position of max number\n",
    "print(arr.argmin()) #default axis is\n",
    "print(arr.argmin)"
   ]
  },
  {
   "cell_type": "code",
   "execution_count": 180,
   "metadata": {},
   "outputs": [
    {
     "name": "stdout",
     "output_type": "stream",
     "text": [
      "[[96 35 18 53 52]\n",
      " [76 24 92 47  4]\n",
      " [27 61  2 67 66]\n",
      " [86 57 17 70 54]\n",
      " [ 1  2 50 23 30]]\n",
      "[96 92 67 86 50]\n",
      "[18  4  2 17  1]\n",
      "[0 2 3 0 2]\n",
      "[2 4 2 2 0]\n"
     ]
    }
   ],
   "source": [
    "#IMP\n",
    "arr=np.random.randint(1,100,(5,5))\n",
    "print(arr)\n",
    "print(arr.max(axis=1)) # In 1 D array, write all maximum values from each row\n",
    "print(arr.min(axis=1)) # In 1 D array, write all minimum values from each row\n",
    "print(arr.argmax(axis=1)) # position of max number\n",
    "print(arr.argmin(axis=1)) #position of min number"
   ]
  },
  {
   "cell_type": "code",
   "execution_count": 60,
   "metadata": {},
   "outputs": [
    {
     "name": "stdout",
     "output_type": "stream",
     "text": [
      "[[25 44 76 28 24]\n",
      " [84 16 97 99 39]\n",
      " [ 1 55 27 40  7]\n",
      " [84 10 56 22 62]]\n"
     ]
    },
    {
     "data": {
      "text/plain": [
       "array([84, 16, 97, 99, 39])"
      ]
     },
     "execution_count": 60,
     "metadata": {},
     "output_type": "execute_result"
    }
   ],
   "source": [
    "arr=np.random.randint(1,100,(4,5))\n",
    "print(arr)\n",
    "arr[1]"
   ]
  },
  {
   "cell_type": "code",
   "execution_count": 181,
   "metadata": {},
   "outputs": [
    {
     "name": "stdout",
     "output_type": "stream",
     "text": [
      "[[68 24 44 89 35]\n",
      " [55 34 35 63 50]\n",
      " [96 29 10 86 51]\n",
      " [34 23 59 56 93]]\n",
      "63\n",
      "63\n"
     ]
    }
   ],
   "source": [
    "arr=np.random.randint(1,100,(4,5))\n",
    "print(arr)\n",
    "print(arr[1][3])\n",
    "print(arr[1,3])"
   ]
  },
  {
   "cell_type": "code",
   "execution_count": 62,
   "metadata": {},
   "outputs": [
    {
     "name": "stdout",
     "output_type": "stream",
     "text": [
      "[[47 64 79 16 81]\n",
      " [15 81 99 28 34]\n",
      " [14 36 23 55 48]\n",
      " [53 14 56 82 11]]\n",
      "[[15 81 99 28 34]\n",
      " [14 36 23 55 48]]\n",
      "[[15 81 99 28 34]\n",
      " [14 36 23 55 48]\n",
      " [53 14 56 82 11]]\n"
     ]
    }
   ],
   "source": [
    "arr=np.random.randint(1,100,(4,5))\n",
    "print(arr)\n",
    "\n",
    "print(arr[1:3])\n",
    "\n",
    "print(arr[1:])"
   ]
  },
  {
   "cell_type": "code",
   "execution_count": 63,
   "metadata": {
    "scrolled": true
   },
   "outputs": [
    {
     "name": "stdout",
     "output_type": "stream",
     "text": [
      "[[74 63 93 36 96]\n",
      " [90 52 68  4 55]\n",
      " [76 39 18 96 43]\n",
      " [84 51 94 33 91]]\n",
      "[[90 52]\n",
      " [76 39]\n",
      " [84 51]]\n"
     ]
    }
   ],
   "source": [
    "arr=np.random.randint(1,100,(4,5))\n",
    "print(arr)\n",
    "\n",
    "print(arr[1:, :2]) #from 1st row till 2nd column only"
   ]
  },
  {
   "cell_type": "code",
   "execution_count": 64,
   "metadata": {},
   "outputs": [
    {
     "name": "stdout",
     "output_type": "stream",
     "text": [
      "[[40 73 44 52 68]\n",
      " [58 57 35 52 73]\n",
      " [40 67  6 10 77]\n",
      " [19 61 23  8 43]]\n",
      "[[40 73 44]\n",
      " [58 57 35]]\n"
     ]
    }
   ],
   "source": [
    "arr=np.random.randint(1,100,(4,5))\n",
    "print(arr)\n",
    "\n",
    "print(arr[:2,:3])"
   ]
  },
  {
   "cell_type": "code",
   "execution_count": 65,
   "metadata": {},
   "outputs": [
    {
     "name": "stdout",
     "output_type": "stream",
     "text": [
      "[[37 88 72 26 84]\n",
      " [17 67 77 40 61]\n",
      " [83 91 40 93 19]\n",
      " [12 72 46 56 23]]\n",
      "[[88 72]]\n"
     ]
    }
   ],
   "source": [
    "arr=np.random.randint(1,100,(4,5))\n",
    "print(arr)\n",
    "\n",
    "print(arr[:1,1:3])"
   ]
  },
  {
   "cell_type": "code",
   "execution_count": 66,
   "metadata": {},
   "outputs": [
    {
     "name": "stdout",
     "output_type": "stream",
     "text": [
      "[[12 77 39 19 63]\n",
      " [65 49 98 62  4]\n",
      " [11 54 46 34 19]\n",
      " [72 65 27 11  7]]\n",
      "[63  4 19  7]\n"
     ]
    }
   ],
   "source": [
    "arr=np.random.randint(1,100,(4,5))\n",
    "print(arr)\n",
    "\n",
    "print(arr[:,-1])"
   ]
  },
  {
   "cell_type": "code",
   "execution_count": 67,
   "metadata": {},
   "outputs": [
    {
     "data": {
      "text/plain": [
       "array([[False,  True,  True, False,  True],\n",
       "       [ True,  True,  True,  True, False],\n",
       "       [False,  True,  True,  True, False],\n",
       "       [ True,  True,  True, False, False]])"
      ]
     },
     "execution_count": 67,
     "metadata": {},
     "output_type": "execute_result"
    }
   ],
   "source": [
    "arr>25 # position where the condition is true, shows 'True'"
   ]
  },
  {
   "cell_type": "code",
   "execution_count": 68,
   "metadata": {},
   "outputs": [
    {
     "data": {
      "text/plain": [
       "array([[12, 77, 39, 19, 63],\n",
       "       [65, 49, 98, 62,  4],\n",
       "       [11, 54, 46, 34, 19],\n",
       "       [72, 65, 27, 11,  7]])"
      ]
     },
     "execution_count": 68,
     "metadata": {},
     "output_type": "execute_result"
    }
   ],
   "source": [
    "arr"
   ]
  },
  {
   "cell_type": "code",
   "execution_count": 69,
   "metadata": {},
   "outputs": [
    {
     "data": {
      "text/plain": [
       "array([77, 39, 63, 65, 49, 98, 62, 54, 46, 34, 72, 65, 27])"
      ]
     },
     "execution_count": 69,
     "metadata": {},
     "output_type": "execute_result"
    }
   ],
   "source": [
    "arr[arr>25] # all the values where the condition is met"
   ]
  },
  {
   "cell_type": "code",
   "execution_count": 70,
   "metadata": {},
   "outputs": [
    {
     "data": {
      "text/plain": [
       "array([39, 49, 46, 34, 27])"
      ]
     },
     "execution_count": 70,
     "metadata": {},
     "output_type": "execute_result"
    }
   ],
   "source": [
    "arr[(arr>25) & (arr<50)]"
   ]
  },
  {
   "cell_type": "code",
   "execution_count": 71,
   "metadata": {},
   "outputs": [
    {
     "data": {
      "text/plain": [
       "array([12, 77, 39, 19, 63, 65, 49, 98, 62,  4, 11, 54, 46, 34, 19, 72, 65,\n",
       "       27, 11,  7])"
      ]
     },
     "execution_count": 71,
     "metadata": {},
     "output_type": "execute_result"
    }
   ],
   "source": [
    "arr[(arr>25) |(arr<50)] #everything will come with pipe operator"
   ]
  },
  {
   "cell_type": "code",
   "execution_count": 72,
   "metadata": {},
   "outputs": [
    {
     "data": {
      "text/plain": [
       "True"
      ]
     },
     "execution_count": 72,
     "metadata": {},
     "output_type": "execute_result"
    }
   ],
   "source": [
    "np.allclose(arr,arr)"
   ]
  },
  {
   "cell_type": "code",
   "execution_count": 73,
   "metadata": {},
   "outputs": [
    {
     "name": "stdout",
     "output_type": "stream",
     "text": [
      "[[92 95 83 16 69 59 28 48 34 31  3 55  1 28 45  6 69 22 95  3]\n",
      " [27  1 36 84 13 68 71 75 86 74 36 35 42 87 19 98 37 17 44 47]\n",
      " [80 57 89 95 10 67 92  9 74 47 30 42  4 77 76 79 97 16 51 35]\n",
      " [38 39 90  9 29 35 80 72 76 71 50 40 36 27 75 25 66 76 55 44]\n",
      " [56 43 19 68 75 14 99 68 72 87 22 95 90 54 46 87 26 60 74 51]]\n"
     ]
    }
   ],
   "source": [
    "arr1=np.random.randint(1,100,(5,20))\n",
    "print(arr1)"
   ]
  },
  {
   "cell_type": "code",
   "execution_count": 74,
   "metadata": {},
   "outputs": [
    {
     "data": {
      "text/plain": [
       "True"
      ]
     },
     "execution_count": 74,
     "metadata": {},
     "output_type": "execute_result"
    }
   ],
   "source": [
    "arr1 = np.array([34,46,56,72])\n",
    "arr2 = np.array([34, 46,56,72])\n",
    "np.allclose(arr1,arr2) # tru if all values are equal"
   ]
  },
  {
   "cell_type": "code",
   "execution_count": 75,
   "metadata": {},
   "outputs": [
    {
     "data": {
      "text/plain": [
       "False"
      ]
     },
     "execution_count": 75,
     "metadata": {},
     "output_type": "execute_result"
    }
   ],
   "source": [
    "arr1 = np.array([np.nan,46,56,72])\n",
    "arr2 = np.array([34, 46,56,72])\n",
    "np.allclose(arr1,arr2)"
   ]
  },
  {
   "cell_type": "code",
   "execution_count": 76,
   "metadata": {},
   "outputs": [
    {
     "data": {
      "text/plain": [
       "False"
      ]
     },
     "execution_count": 76,
     "metadata": {},
     "output_type": "execute_result"
    }
   ],
   "source": [
    "arr1 = np.array([np.nan,46,56,72])\n",
    "arr2 = np.array([np.nan,46,56,72]) # although both seems same as same 'np.nan' has been used, but result is false\n",
    "np.allclose(arr1,arr2)"
   ]
  },
  {
   "cell_type": "code",
   "execution_count": 77,
   "metadata": {},
   "outputs": [
    {
     "data": {
      "text/plain": [
       "array([False,  True,  True,  True])"
      ]
     },
     "execution_count": 77,
     "metadata": {},
     "output_type": "execute_result"
    }
   ],
   "source": [
    "arr1 = np.array([np.nan,46,56,72])\n",
    "arr2 = np.array([34, 46,56,72])\n",
    "\n",
    "arr1 == arr2"
   ]
  },
  {
   "cell_type": "code",
   "execution_count": 78,
   "metadata": {},
   "outputs": [
    {
     "data": {
      "text/plain": [
       "True"
      ]
     },
     "execution_count": 78,
     "metadata": {},
     "output_type": "execute_result"
    }
   ],
   "source": [
    "arr1 = np.array([np.nan,46,56,72])\n",
    "arr2 = np.array([np.nan,46,56,72])\n",
    "\n",
    "np.allclose(arr1,arr2,equal_nan=True) #'equal_nan=True' makes both the np.nan as \"SAME\"\n",
    "#'allclose' function returns \"Single boolean value\""
   ]
  },
  {
   "cell_type": "code",
   "execution_count": 79,
   "metadata": {},
   "outputs": [
    {
     "data": {
      "text/plain": [
       "False"
      ]
     },
     "execution_count": 79,
     "metadata": {},
     "output_type": "execute_result"
    }
   ],
   "source": [
    "arr1 = np.array([np.nan,46,56,72])\n",
    "arr2 = np.array([46,np.nan,56,72])\n",
    "\n",
    "np.allclose(arr1,arr2,equal_nan=True) # values are different in this case, hence false"
   ]
  },
  {
   "cell_type": "code",
   "execution_count": 80,
   "metadata": {},
   "outputs": [
    {
     "name": "stdout",
     "output_type": "stream",
     "text": [
      "[1, 3, 5]\n",
      "[2, 4, 6]\n"
     ]
    }
   ],
   "source": [
    "''' Program to transpose a matrix using list comprehension'''\n",
    "\n",
    "x = [[1,2],[3,4],[5,6]]\n",
    "result = [[x[j][i] for j in range(len(x))] for i in range(len(x[0]))]\n",
    "for r in result:\n",
    "    print(r)"
   ]
  },
  {
   "cell_type": "code",
   "execution_count": null,
   "metadata": {},
   "outputs": [],
   "source": []
  },
  {
   "cell_type": "code",
   "execution_count": null,
   "metadata": {},
   "outputs": [],
   "source": []
  },
  {
   "cell_type": "markdown",
   "metadata": {},
   "source": [
    "# Broadcast"
   ]
  },
  {
   "cell_type": "code",
   "execution_count": 81,
   "metadata": {},
   "outputs": [
    {
     "name": "stdout",
     "output_type": "stream",
     "text": [
      "[[12 77 39 19 63]\n",
      " [65 49 98 62  4]\n",
      " [11 54 46 34 19]\n",
      " [72 65 27 11  7]]\n"
     ]
    }
   ],
   "source": [
    "print(arr)"
   ]
  },
  {
   "cell_type": "code",
   "execution_count": 82,
   "metadata": {},
   "outputs": [
    {
     "data": {
      "text/plain": [
       "array([[12, 77, 39, 19, 63],\n",
       "       [65, 40, 40, 40, 40],\n",
       "       [11, 40, 40, 40, 40],\n",
       "       [72, 40, 40, 40, 40]])"
      ]
     },
     "execution_count": 82,
     "metadata": {},
     "output_type": "execute_result"
    }
   ],
   "source": [
    "arr[1:,1:] = 40 # all values in that range get changed to 40 #broadcasting\n",
    "arr"
   ]
  },
  {
   "cell_type": "code",
   "execution_count": 83,
   "metadata": {},
   "outputs": [
    {
     "name": "stdout",
     "output_type": "stream",
     "text": [
      "[12 77 39 19 63 65 40 40 40 40 11 40 40 40 40 72 40 40 40 40]\n",
      "Closest value:  40\n",
      "At position:  6\n"
     ]
    }
   ],
   "source": [
    "#IMP\n",
    "#nearest value\n",
    "arr = arr.reshape(20,)\n",
    "print(arr)\n",
    "val = 40\n",
    "\n",
    "print(\"Closest value: \", arr[np.abs(arr-val).argmin()])\n",
    "print(\"At position: \", np.abs(arr-val).argmin())"
   ]
  },
  {
   "cell_type": "code",
   "execution_count": 84,
   "metadata": {},
   "outputs": [
    {
     "name": "stdout",
     "output_type": "stream",
     "text": [
      "[12 77 39 19 63 65 40 40 40 40 11 40 40 40 40 72 40 40 40 40]\n",
      "10\n",
      "Closest value 11\n"
     ]
    }
   ],
   "source": [
    "val = 10\n",
    "print(arr)\n",
    "r = np.abs(arr-val).argmin()\n",
    "print(r)\n",
    "print(\"Closest value\", arr.flat[r]) #flat is an iterator"
   ]
  },
  {
   "cell_type": "code",
   "execution_count": 85,
   "metadata": {},
   "outputs": [
    {
     "name": "stdout",
     "output_type": "stream",
     "text": [
      "[12 77 39 19 63 65 40 40 40 40 11 40 40 40 40 72 40 40 40 40]\n",
      "Closet value 11\n"
     ]
    }
   ],
   "source": [
    "val = 10\n",
    "print(arr)\n",
    "r = np.abs(arr-val).argmin()\n",
    "print(\"Closet value\", arr.flatten()[r]) # flatten() function returns \"Vector\" version of that matrix"
   ]
  },
  {
   "cell_type": "code",
   "execution_count": 86,
   "metadata": {},
   "outputs": [
    {
     "data": {
      "text/plain": [
       "array([0, 3, 2, 0, 0, 2, 1, 1, 1, 1, 0, 0, 1, 1, 0, 1], dtype=int64)"
      ]
     },
     "execution_count": 86,
     "metadata": {},
     "output_type": "execute_result"
    }
   ],
   "source": [
    "arr = np.array([1,12,15,2,13,5,6,7,1,8,1,2,5,9]) # i.e. if these are the index value then repeated how many times??\n",
    "np.bincount(arr) #ONLY for positive index positions"
   ]
  },
  {
   "cell_type": "code",
   "execution_count": 87,
   "metadata": {},
   "outputs": [
    {
     "data": {
      "text/plain": [
       "1"
      ]
     },
     "execution_count": 87,
     "metadata": {},
     "output_type": "execute_result"
    }
   ],
   "source": [
    "arr = np.array([1,12,15,2,13,5,6,7,1,8,1,2,5,9]) # i.e. if these are the index value then repeated how many times??\n",
    "np.bincount(arr).argmax() #from that array, max value at which index position"
   ]
  },
  {
   "cell_type": "code",
   "execution_count": 88,
   "metadata": {},
   "outputs": [
    {
     "data": {
      "text/plain": [
       "array([ 1, 12, 15,  2, 13,  5,  6,  7,  1,  8,  1,  2,  5,  9])"
      ]
     },
     "execution_count": 88,
     "metadata": {},
     "output_type": "execute_result"
    }
   ],
   "source": [
    "arr"
   ]
  },
  {
   "cell_type": "code",
   "execution_count": 89,
   "metadata": {},
   "outputs": [
    {
     "data": {
      "text/plain": [
       "array([nan, 46., 56., 72.])"
      ]
     },
     "execution_count": 89,
     "metadata": {},
     "output_type": "execute_result"
    }
   ],
   "source": [
    "arr1"
   ]
  },
  {
   "cell_type": "code",
   "execution_count": 90,
   "metadata": {},
   "outputs": [
    {
     "data": {
      "text/plain": [
       "array([46., nan, 56., 72.])"
      ]
     },
     "execution_count": 90,
     "metadata": {},
     "output_type": "execute_result"
    }
   ],
   "source": [
    "arr2"
   ]
  },
  {
   "cell_type": "code",
   "execution_count": 91,
   "metadata": {},
   "outputs": [
    {
     "data": {
      "text/plain": [
       "array([1, 2, 3])"
      ]
     },
     "execution_count": 91,
     "metadata": {},
     "output_type": "execute_result"
    }
   ],
   "source": [
    "arr2 = np.array([1,2,3])\n",
    "arr2"
   ]
  },
  {
   "cell_type": "code",
   "execution_count": 92,
   "metadata": {},
   "outputs": [
    {
     "data": {
      "text/plain": [
       "array([4, 5, 6])"
      ]
     },
     "execution_count": 92,
     "metadata": {},
     "output_type": "execute_result"
    }
   ],
   "source": [
    "arr3 = np.array([4,5,6])\n",
    "arr3"
   ]
  },
  {
   "cell_type": "code",
   "execution_count": 93,
   "metadata": {},
   "outputs": [
    {
     "name": "stdout",
     "output_type": "stream",
     "text": [
      "[5 7 9]\n",
      "[-3 -3 -3]\n",
      "[ 4 10 18]\n",
      "[0.25 0.4  0.5 ]\n"
     ]
    }
   ],
   "source": [
    "print(arr2+arr3)\n",
    "print(arr2-arr3)\n",
    "print(arr2*arr3)\n",
    "print(arr2/arr3)\n"
   ]
  },
  {
   "cell_type": "code",
   "execution_count": 94,
   "metadata": {},
   "outputs": [
    {
     "name": "stdout",
     "output_type": "stream",
     "text": [
      "[1.         3.46410162 3.87298335 1.41421356 3.60555128 2.23606798\n",
      " 2.44948974 2.64575131 1.         2.82842712 1.         1.41421356\n",
      " 2.23606798 3.        ]\n"
     ]
    }
   ],
   "source": [
    "print(np.sqrt(arr))"
   ]
  },
  {
   "cell_type": "code",
   "execution_count": 95,
   "metadata": {},
   "outputs": [
    {
     "name": "stdout",
     "output_type": "stream",
     "text": [
      "[2.71828183e+00 1.62754791e+05 3.26901737e+06 7.38905610e+00\n",
      " 4.42413392e+05 1.48413159e+02 4.03428793e+02 1.09663316e+03\n",
      " 2.71828183e+00 2.98095799e+03 2.71828183e+00 7.38905610e+00\n",
      " 1.48413159e+02 8.10308393e+03]\n"
     ]
    }
   ],
   "source": [
    "print(np.exp(arr))"
   ]
  },
  {
   "cell_type": "code",
   "execution_count": 96,
   "metadata": {},
   "outputs": [
    {
     "data": {
      "text/plain": [
       "array([ 0.84147098, -0.53657292,  0.65028784,  0.90929743,  0.42016704,\n",
       "       -0.95892427, -0.2794155 ,  0.6569866 ,  0.84147098,  0.98935825,\n",
       "        0.84147098,  0.90929743, -0.95892427,  0.41211849])"
      ]
     },
     "execution_count": 96,
     "metadata": {},
     "output_type": "execute_result"
    }
   ],
   "source": [
    "np.sin(arr)"
   ]
  },
  {
   "cell_type": "code",
   "execution_count": 97,
   "metadata": {},
   "outputs": [
    {
     "data": {
      "text/plain": [
       "array([ 0.54030231,  0.84385396, -0.75968791, -0.41614684,  0.90744678,\n",
       "        0.28366219,  0.96017029,  0.75390225,  0.54030231, -0.14550003,\n",
       "        0.54030231, -0.41614684,  0.28366219, -0.91113026])"
      ]
     },
     "execution_count": 97,
     "metadata": {},
     "output_type": "execute_result"
    }
   ],
   "source": [
    "np.cos(arr)"
   ]
  },
  {
   "cell_type": "code",
   "execution_count": 98,
   "metadata": {},
   "outputs": [
    {
     "data": {
      "text/plain": [
       "array([0.        , 2.48490665, 2.7080502 , 0.69314718, 2.56494936,\n",
       "       1.60943791, 1.79175947, 1.94591015, 0.        , 2.07944154,\n",
       "       0.        , 0.69314718, 1.60943791, 2.19722458])"
      ]
     },
     "execution_count": 98,
     "metadata": {},
     "output_type": "execute_result"
    }
   ],
   "source": [
    "np.log(arr)"
   ]
  },
  {
   "cell_type": "code",
   "execution_count": 99,
   "metadata": {},
   "outputs": [
    {
     "data": {
      "text/plain": [
       "87"
      ]
     },
     "execution_count": 99,
     "metadata": {},
     "output_type": "execute_result"
    }
   ],
   "source": [
    "np.sum(arr)"
   ]
  },
  {
   "cell_type": "code",
   "execution_count": 100,
   "metadata": {},
   "outputs": [
    {
     "data": {
      "text/plain": [
       "4.5383850404643065"
      ]
     },
     "execution_count": 100,
     "metadata": {},
     "output_type": "execute_result"
    }
   ],
   "source": [
    "np.std(arr)"
   ]
  },
  {
   "cell_type": "code",
   "execution_count": 101,
   "metadata": {},
   "outputs": [
    {
     "data": {
      "text/plain": [
       "87"
      ]
     },
     "execution_count": 101,
     "metadata": {},
     "output_type": "execute_result"
    }
   ],
   "source": [
    "arr.sum()"
   ]
  },
  {
   "cell_type": "code",
   "execution_count": 102,
   "metadata": {},
   "outputs": [
    {
     "data": {
      "text/plain": [
       "87"
      ]
     },
     "execution_count": 102,
     "metadata": {},
     "output_type": "execute_result"
    }
   ],
   "source": [
    "arr.sum(axis=0)"
   ]
  },
  {
   "cell_type": "code",
   "execution_count": 103,
   "metadata": {},
   "outputs": [
    {
     "data": {
      "text/plain": [
       "array([ 1, 12, 15,  2, 13,  5,  6,  7,  1,  8,  1,  2,  5,  9])"
      ]
     },
     "execution_count": 103,
     "metadata": {},
     "output_type": "execute_result"
    }
   ],
   "source": [
    "arr"
   ]
  },
  {
   "cell_type": "code",
   "execution_count": 104,
   "metadata": {},
   "outputs": [
    {
     "data": {
      "text/plain": [
       "87"
      ]
     },
     "execution_count": 104,
     "metadata": {},
     "output_type": "execute_result"
    }
   ],
   "source": [
    "arr.sum(axis=0)"
   ]
  },
  {
   "cell_type": "code",
   "execution_count": 105,
   "metadata": {},
   "outputs": [
    {
     "name": "stdout",
     "output_type": "stream",
     "text": [
      "[[2 4]\n",
      " [2 2]\n",
      " [2 4]\n",
      " [2 3]\n",
      " [3 4]]\n"
     ]
    }
   ],
   "source": [
    "arr1=np.random.randint(2,5,(5,2))\n",
    "print(arr1)"
   ]
  },
  {
   "cell_type": "code",
   "execution_count": 106,
   "metadata": {},
   "outputs": [
    {
     "data": {
      "text/plain": [
       "array([[ 9, 11, 13],\n",
       "       [15, 17, 19]])"
      ]
     },
     "execution_count": 106,
     "metadata": {},
     "output_type": "execute_result"
    }
   ],
   "source": [
    "a = np.array([(1,2,3),(4,5,6)])\n",
    "b = np.array([(8,9,10),(11,12,13)])\n",
    "a+b"
   ]
  },
  {
   "cell_type": "code",
   "execution_count": 107,
   "metadata": {},
   "outputs": [
    {
     "data": {
      "text/plain": [
       "array([[  2.71828183,   7.3890561 ,  20.08553692],\n",
       "       [ 54.59815003, 148.4131591 , 403.42879349]])"
      ]
     },
     "execution_count": 107,
     "metadata": {},
     "output_type": "execute_result"
    }
   ],
   "source": [
    "np.exp(a)"
   ]
  },
  {
   "cell_type": "code",
   "execution_count": 108,
   "metadata": {},
   "outputs": [
    {
     "data": {
      "text/plain": [
       "nan"
      ]
     },
     "execution_count": 108,
     "metadata": {},
     "output_type": "execute_result"
    }
   ],
   "source": [
    "arr=np.array([12,45,89,10,np.nan,36,np.nan])\n",
    "np.sum(arr)"
   ]
  },
  {
   "cell_type": "code",
   "execution_count": 109,
   "metadata": {},
   "outputs": [
    {
     "data": {
      "text/plain": [
       "192.0"
      ]
     },
     "execution_count": 109,
     "metadata": {},
     "output_type": "execute_result"
    }
   ],
   "source": [
    "arr=np.array([12,45,89,10,np.nan,36,np.nan])\n",
    "np.nansum(arr)"
   ]
  },
  {
   "cell_type": "code",
   "execution_count": 110,
   "metadata": {},
   "outputs": [
    {
     "data": {
      "text/plain": [
       "True"
      ]
     },
     "execution_count": 110,
     "metadata": {},
     "output_type": "execute_result"
    }
   ],
   "source": [
    "arr=np.array([12,45,89,10,np.nan,36,np.nan])\n",
    "np.any(arr)"
   ]
  },
  {
   "cell_type": "code",
   "execution_count": 111,
   "metadata": {},
   "outputs": [
    {
     "data": {
      "text/plain": [
       "True"
      ]
     },
     "execution_count": 111,
     "metadata": {},
     "output_type": "execute_result"
    }
   ],
   "source": [
    "arr=np.array([True])\n",
    "np.any(arr)"
   ]
  },
  {
   "cell_type": "code",
   "execution_count": 112,
   "metadata": {},
   "outputs": [
    {
     "data": {
      "text/plain": [
       "True"
      ]
     },
     "execution_count": 112,
     "metadata": {},
     "output_type": "execute_result"
    }
   ],
   "source": [
    "arr=np.array([True])\n",
    "np.all(arr)"
   ]
  },
  {
   "cell_type": "markdown",
   "metadata": {},
   "source": [
    "# Fancy Indexing"
   ]
  },
  {
   "cell_type": "code",
   "execution_count": 113,
   "metadata": {},
   "outputs": [
    {
     "name": "stdout",
     "output_type": "stream",
     "text": [
      "[45 93 55  7 41 31 74  3 77 92 92 72 53 57 47 33 55 52 51 12 52 98 22 65]\n",
      "[45 55 31]\n"
     ]
    }
   ],
   "source": [
    "arr=np.random.randint(1,100,24)\n",
    "print(arr) # for an array\n",
    "ind = [0,2,5]\n",
    "print(arr[ind])# value at these 3 index position will be returned"
   ]
  },
  {
   "cell_type": "code",
   "execution_count": 114,
   "metadata": {},
   "outputs": [
    {
     "name": "stdout",
     "output_type": "stream",
     "text": [
      "[[45 93 55  7 41 31]\n",
      " [74  3 77 92 92 72]\n",
      " [53 57 47 33 55 52]\n",
      " [51 12 52 98 22 65]]\n",
      "[[45 93 55  7 41 31]\n",
      " [53 57 47 33 55 52]]\n"
     ]
    }
   ],
   "source": [
    "arr = arr.reshape(4,6) # for a matrix\n",
    "print(arr)\n",
    "ind = [0,2]\n",
    "print(arr[ind])# value at these 3 index position will be returned"
   ]
  },
  {
   "cell_type": "code",
   "execution_count": 115,
   "metadata": {},
   "outputs": [
    {
     "data": {
      "text/plain": [
       "array([47, 53, 57])"
      ]
     },
     "execution_count": 115,
     "metadata": {},
     "output_type": "execute_result"
    }
   ],
   "source": [
    "row = [1,2,0]\n",
    "col = [2,0,1]\n",
    "arr[2,col] # i.e in row 2, show column values at index 2,0,1"
   ]
  },
  {
   "cell_type": "code",
   "execution_count": 116,
   "metadata": {},
   "outputs": [
    {
     "data": {
      "text/plain": [
       "array([77, 47, 55])"
      ]
     },
     "execution_count": 116,
     "metadata": {},
     "output_type": "execute_result"
    }
   ],
   "source": [
    "row = [1,2,0]\n",
    "col = [2,0,1]\n",
    "arr[row,2] "
   ]
  },
  {
   "cell_type": "code",
   "execution_count": 117,
   "metadata": {},
   "outputs": [
    {
     "data": {
      "text/plain": [
       "array([[ 45,  93, 100,   7,  41,  31],\n",
       "       [ 74,   3, 100,  92,  92,  72],\n",
       "       [ 53,  57, 100,  33,  55,  52],\n",
       "       [ 51,  12,  52,  98,  22,  65]])"
      ]
     },
     "execution_count": 117,
     "metadata": {},
     "output_type": "execute_result"
    }
   ],
   "source": [
    "row = [1,2,0]\n",
    "col = [2,0,1]\n",
    "arr[row,2]=100\n",
    "arr"
   ]
  },
  {
   "cell_type": "code",
   "execution_count": 118,
   "metadata": {},
   "outputs": [
    {
     "data": {
      "text/plain": [
       "array([[ 45,  93, 100,   7,  41, 100],\n",
       "       [ 74,   3, 100,  92,  92, 100],\n",
       "       [ 53,  57, 100,  33,  55, 100],\n",
       "       [ 51,  12,  52,  98,  22,  65]])"
      ]
     },
     "execution_count": 118,
     "metadata": {},
     "output_type": "execute_result"
    }
   ],
   "source": [
    "row = [1,2,0]\n",
    "col = [2,0,1]\n",
    "arr[row,5:]=100\n",
    "arr"
   ]
  },
  {
   "cell_type": "code",
   "execution_count": 119,
   "metadata": {},
   "outputs": [
    {
     "name": "stdout",
     "output_type": "stream",
     "text": [
      "[4 2 4]\n",
      "[4 2 4]\n"
     ]
    }
   ],
   "source": [
    "row=[0 ,1 ,0]\n",
    "col=[1,0,1]\n",
    "\n",
    "print(arr1[row,col])\n",
    "print(arr1[row,1])"
   ]
  },
  {
   "cell_type": "code",
   "execution_count": 120,
   "metadata": {},
   "outputs": [
    {
     "data": {
      "text/plain": [
       "array([[2, 4],\n",
       "       [2, 2],\n",
       "       [2, 4],\n",
       "       [2, 3],\n",
       "       [3, 4]])"
      ]
     },
     "execution_count": 120,
     "metadata": {},
     "output_type": "execute_result"
    }
   ],
   "source": [
    "arr1"
   ]
  },
  {
   "cell_type": "markdown",
   "metadata": {},
   "source": [
    "# Sorting"
   ]
  },
  {
   "cell_type": "code",
   "execution_count": 121,
   "metadata": {},
   "outputs": [
    {
     "data": {
      "text/plain": [
       "array([36,  2, 10, 48,  2, 44, 32,  4, 41,  3])"
      ]
     },
     "execution_count": 121,
     "metadata": {},
     "output_type": "execute_result"
    }
   ],
   "source": [
    "arr = np.random.randint(1,50,10)\n",
    "arr"
   ]
  },
  {
   "cell_type": "code",
   "execution_count": 122,
   "metadata": {},
   "outputs": [
    {
     "name": "stdout",
     "output_type": "stream",
     "text": [
      "[0 1 2 3 4 5 6 7 9 8]\n"
     ]
    }
   ],
   "source": [
    "arr_sort = np.sort(arr)[::-1]\n",
    "print(np.argsort(arr_sort)[::-1])"
   ]
  },
  {
   "cell_type": "code",
   "execution_count": 123,
   "metadata": {},
   "outputs": [
    {
     "name": "stdout",
     "output_type": "stream",
     "text": [
      "[48 44 41 36 32 10  4  3  2  2]\n",
      "None\n"
     ]
    }
   ],
   "source": [
    "arr = np.sort(arr)[::-1] # to reverse\n",
    "print(arr)\n",
    "\n",
    "arr=arr.reshape(2,5)\n",
    "print(arr.sort(axis=1))"
   ]
  },
  {
   "cell_type": "code",
   "execution_count": 124,
   "metadata": {},
   "outputs": [
    {
     "name": "stdout",
     "output_type": "stream",
     "text": [
      "[[47 43 40  4]\n",
      " [32 49 28 16]\n",
      " [19 31 16 17]]\n",
      "[[ 4 40 43 47]\n",
      " [16 17 19 31]]\n"
     ]
    }
   ],
   "source": [
    "arr = np.random.randint(1,50,[3,4])\n",
    "print(arr)\n",
    "arr = np.sort(arr)[::2] # to reverse\n",
    "print(arr)"
   ]
  },
  {
   "cell_type": "code",
   "execution_count": 125,
   "metadata": {},
   "outputs": [
    {
     "name": "stdout",
     "output_type": "stream",
     "text": [
      "[[20 18 32  8]\n",
      " [13 26 43  5]\n",
      " [11 23 49 34]]\n",
      "[[ 8 18 20 32]\n",
      " [ 5 13 26 43]\n",
      " [11 23 34 49]]\n"
     ]
    }
   ],
   "source": [
    "arr = np.random.randint(1,50,[3,4])\n",
    "print(arr)\n",
    "\n",
    "arr.sort(axis=1) #1 means sort row wise \n",
    "print(arr)"
   ]
  },
  {
   "cell_type": "code",
   "execution_count": 126,
   "metadata": {},
   "outputs": [
    {
     "name": "stdout",
     "output_type": "stream",
     "text": [
      "[[ 6 44 24 23]\n",
      " [49  1 29 33]\n",
      " [ 5 39 47 31]]\n",
      "[[ 5  1 24 23]\n",
      " [ 6 39 29 31]\n",
      " [49 44 47 33]]\n"
     ]
    }
   ],
   "source": [
    "arr = np.random.randint(1,50,[3,4])\n",
    "print(arr)\n",
    "\n",
    "arr.sort(axis=0) #1 means sort column wise \n",
    "print(arr)"
   ]
  },
  {
   "cell_type": "code",
   "execution_count": 127,
   "metadata": {},
   "outputs": [
    {
     "name": "stdout",
     "output_type": "stream",
     "text": [
      "[1.93076232]\n"
     ]
    }
   ],
   "source": [
    "print(np.random.randn(1))"
   ]
  },
  {
   "cell_type": "code",
   "execution_count": 128,
   "metadata": {},
   "outputs": [
    {
     "name": "stdout",
     "output_type": "stream",
     "text": [
      "[[ 4 40 43 44]\n",
      " [ 6  7 33 47]\n",
      " [19 20 28 38]]\n"
     ]
    }
   ],
   "source": [
    "arr = np.random.randint(1,50,[3,4])\n",
    "arr.sort() #default is row wise sorting\n",
    "print(arr)"
   ]
  },
  {
   "cell_type": "code",
   "execution_count": 129,
   "metadata": {},
   "outputs": [
    {
     "name": "stdout",
     "output_type": "stream",
     "text": [
      "[[16 23  7  5]\n",
      " [27 33 38 19]\n",
      " [32 45 48 49]]\n"
     ]
    }
   ],
   "source": [
    "arr = np.random.randint(1,50,[3,4])\n",
    "arr.sort(axis=0)#0 means sort columnwise\n",
    "print(arr)"
   ]
  },
  {
   "cell_type": "code",
   "execution_count": 188,
   "metadata": {},
   "outputs": [
    {
     "name": "stdout",
     "output_type": "stream",
     "text": [
      "[ 2  2  2  4  5  5  5  7  8  8 10 12]\n"
     ]
    }
   ],
   "source": [
    "arr = np.array([2, 2, 2, 4, 5, 5, 5, 7, 8, 8, 10, 12])\n",
    "print(np.sort(arr, axis=None, kind=\"mergesort\", order=None))\n",
    "#4 parameters are 'array to be sorted', 'axis parameter (integer)','sorting algorithm parameter (string)','order parameter (string)'"
   ]
  },
  {
   "cell_type": "code",
   "execution_count": 185,
   "metadata": {},
   "outputs": [
    {
     "name": "stdout",
     "output_type": "stream",
     "text": [
      "[list([1]) list([]) list([])]\n"
     ]
    },
    {
     "data": {
      "text/plain": [
       "array([], shape=(0, 1), dtype=int64)"
      ]
     },
     "execution_count": 185,
     "metadata": {},
     "output_type": "execute_result"
    }
   ],
   "source": [
    "arr = np.array( [[1],[],[]],dtype='object')\n",
    "print(arr)\n",
    "np.argwhere(arr==3) # all positions where '3' is present"
   ]
  },
  {
   "cell_type": "code",
   "execution_count": 131,
   "metadata": {},
   "outputs": [
    {
     "name": "stdout",
     "output_type": "stream",
     "text": [
      "[[15 15]\n",
      " [15 15]]\n"
     ]
    }
   ],
   "source": [
    "print(np.random.randint(15,16,(2,2)))"
   ]
  },
  {
   "cell_type": "code",
   "execution_count": 132,
   "metadata": {},
   "outputs": [
    {
     "name": "stdout",
     "output_type": "stream",
     "text": [
      "[[15 16]\n",
      " [15 15]]\n"
     ]
    }
   ],
   "source": [
    "print(np.eye(2,2,1,'int32')+15)"
   ]
  },
  {
   "cell_type": "markdown",
   "metadata": {},
   "source": [
    "# partition: partial sort"
   ]
  },
  {
   "cell_type": "code",
   "execution_count": 133,
   "metadata": {},
   "outputs": [
    {
     "name": "stdout",
     "output_type": "stream",
     "text": [
      "[26 24 34  6 16 19 26 49  9 23]\n",
      "[19 16  9  6 23 24 26 26 34 49]\n"
     ]
    }
   ],
   "source": [
    "arr = np.random.randint(1,50,10)\n",
    "print(arr)\n",
    "print(np.partition(arr,5)) #sorted first "
   ]
  },
  {
   "cell_type": "markdown",
   "metadata": {},
   "source": [
    "# NumPy’s Structured Arrays"
   ]
  },
  {
   "cell_type": "code",
   "execution_count": 134,
   "metadata": {},
   "outputs": [
    {
     "name": "stdout",
     "output_type": "stream",
     "text": [
      "[(1, b'macbook', 568.) (2, b'thinkpad', 545.) (0, b'',   0.)]\n",
      "macbook\n",
      "thinkpad\n",
      "\n"
     ]
    }
   ],
   "source": [
    "import numpy as np # using tuples\n",
    "product = np.zeros(3, dtype=[('id','i4'),('name', 'a20'), ('price', 'f4')])\n",
    "product[0]=(1,'macbook',568.00)\n",
    "\n",
    "product[1]=(2,'thinkpad',545.00)\n",
    "print(product)\n",
    "for i in product:\n",
    "    print(i['name'].decode('utf-8')) "
   ]
  },
  {
   "cell_type": "code",
   "execution_count": 135,
   "metadata": {},
   "outputs": [
    {
     "name": "stdout",
     "output_type": "stream",
     "text": [
      "[ 100. 1990.    0.    0.    0.]\n",
      "[(1, b'vipin',  100.) (2, b'suman', 1990.) (0, b'',    0.) (0, b'',    0.)\n",
      " (0, b'',    0.)]\n"
     ]
    }
   ],
   "source": [
    "student = np.zeros(5,dtype={'names': ['roll no', 'name', 'marks'],'formats': ['i4','a20','f4']})\n",
    "student[0] = (1,'vipin', 100)\n",
    "student[1] = (2,'suman', 1990)\n",
    "snames =student['marks']\n",
    "print(snames)\n",
    "print(student)"
   ]
  },
  {
   "cell_type": "raw",
   "metadata": {},
   "source": [
    "1. Find the rows for which the first value (value in position 0) in the row is greater than 2.\n",
    "\n",
    "example_list = np.array([[1, 2, 4, 3],[3, 5, 4 ,2],[4, 6, 1, 7],[5, 3, 3, 1],[0, 4, 3, 2], [1 ,9 ,8, 3]])\n",
    "print(example_list)\n",
    "\n",
    "print(example_list[example_list[:,0]>2])"
   ]
  },
  {
   "cell_type": "code",
   "execution_count": 136,
   "metadata": {},
   "outputs": [
    {
     "name": "stdout",
     "output_type": "stream",
     "text": [
      "[[1 2 4 3]\n",
      " [3 5 4 2]\n",
      " [4 6 1 7]\n",
      " [5 3 3 1]\n",
      " [0 4 3 2]\n",
      " [1 9 8 3]]\n",
      "[[0 4 3 2]]\n"
     ]
    }
   ],
   "source": [
    "# 2.Find the rows where the element in position 2 in the row equals 4\n",
    "example_list = np.array([[1, 2, 4, 3],[3, 5, 4 ,2],[4, 6, 1, 7],[5, 3, 3, 1],[0, 4, 3, 2], [1 ,9 ,8, 3]])\n",
    "print(example_list)\n",
    "\n",
    "print(example_list[example_list[:,1]==4])"
   ]
  },
  {
   "cell_type": "code",
   "execution_count": 138,
   "metadata": {},
   "outputs": [
    {
     "name": "stdout",
     "output_type": "stream",
     "text": [
      "[[3 4 5]]\n",
      "[[3 5 4]]\n"
     ]
    },
    {
     "data": {
      "text/plain": [
       "False"
      ]
     },
     "execution_count": 138,
     "metadata": {},
     "output_type": "execute_result"
    }
   ],
   "source": [
    "# 4.Check whether the two arrays are equal: ar_list1=[3,4,5] ; ar_list2=[3,5,4]\n",
    "ar_list1 = np.array([[3,4,5]])\n",
    "print(ar_list1)\n",
    "\n",
    "ar_list2 = np.array([[3,5,4]])\n",
    "print(ar_list2)\n",
    "\n",
    "np.allclose(ar_list1,ar_list2)"
   ]
  },
  {
   "cell_type": "code",
   "execution_count": 139,
   "metadata": {},
   "outputs": [
    {
     "name": "stdout",
     "output_type": "stream",
     "text": [
      "[[40 19 99 37]\n",
      " [50 27 47 26]\n",
      " [12 88 14 69]\n",
      " [40 98 53 19]\n",
      " [63 75 58 26]\n",
      " [41 23 44 24]\n",
      " [ 4 50 16 52]\n",
      " [53 86 49 40]\n",
      " [15 15 64 52]\n",
      " [68 60 38 96]]\n",
      "[[40 19 99 37]\n",
      " [50 27 47 26]\n",
      " [12 88 14 69]\n",
      " [40 98 53 19]\n",
      " [63 75 58 26]]\n",
      "[[40 19 99 37 50 27 47 26 12 88 14 69 40 98 53 19 63 75 58 26]]\n"
     ]
    }
   ],
   "source": [
    "# 5.Create a random 10x4 array and extract the first five rows of the array and store them into a variable.\n",
    "arr=np.random.randint(1,100,(10,4))\n",
    "print(arr)\n",
    "\n",
    "#print(arr[:5])\n",
    "arr_1to5 = arr[:5]\n",
    "print(arr_1to5)\n",
    "\n",
    "arr_1to5=arr_1to5.reshape(1,20)\n",
    "print(arr_1to5)"
   ]
  },
  {
   "cell_type": "code",
   "execution_count": 140,
   "metadata": {},
   "outputs": [
    {
     "name": "stdout",
     "output_type": "stream",
     "text": [
      "original array is:  [30  6 77 91 32 19 80 48 32 99]\n",
      "Sorted in ascending order:  [ 6 19 30 32 32 48 77 80 91 99]\n",
      "Sorted in descending order:  [99 91 80 77 48 32 32 30 19  6]\n"
     ]
    }
   ],
   "source": [
    "# 6.Create a random vector of size 10 and sort it in ascending and descending.\n",
    "import numpy as np\n",
    "arr=np.random.randint(1,100,10)\n",
    "print(\"original array is: \", arr)\n",
    "\n",
    "arr_sort_asc = np.sort(arr)\n",
    "print(\"Sorted in ascending order: \", arr_sort_asc)\n",
    "\n",
    "arr_sort_desc = np.sort(arr)[::-1]\n",
    "print(\"Sorted in descending order: \", arr_sort_desc)"
   ]
  },
  {
   "cell_type": "code",
   "execution_count": 141,
   "metadata": {},
   "outputs": [
    {
     "name": "stdout",
     "output_type": "stream",
     "text": [
      "[[12  3  4]\n",
      " [ 6  7  4]\n",
      " [10  8 11]]\n"
     ]
    },
    {
     "data": {
      "text/plain": [
       "8"
      ]
     },
     "execution_count": 141,
     "metadata": {},
     "output_type": "execute_result"
    }
   ],
   "source": [
    "# 7.Find the nearest value from a given value in an array:\n",
    "# example_list = [[12,3,4],[6,7,4],[10,8,11]] & value is 7.8\n",
    "\n",
    "example_list=np.array([[12,3,4],[6,7,4],[10,8,11]])\n",
    "print(example_list)\n",
    "val = 7.8\n",
    "example_list.flat[np.abs(example_list-val).argmin()]"
   ]
  },
  {
   "cell_type": "code",
   "execution_count": 142,
   "metadata": {},
   "outputs": [
    {
     "name": "stdout",
     "output_type": "stream",
     "text": [
      "[20 19 71 74 44 83 40 87 45 90 75 63 94 98 92]\n",
      "98\n",
      "[20 19 71 74 44 83 40 87 45 90 75 63 94 -1 92]\n"
     ]
    }
   ],
   "source": [
    "# 8.Create a random vector of size 15 and replace the maximum value by -1\n",
    "import numpy as np\n",
    "arr=np.random.randint(1,100,15)\n",
    "print(arr)\n",
    "print(arr.max())\n",
    "arr[arr.argmax()]=-1\n",
    "print(arr)"
   ]
  },
  {
   "cell_type": "code",
   "execution_count": 143,
   "metadata": {},
   "outputs": [
    {
     "name": "stdout",
     "output_type": "stream",
     "text": [
      "[5.0, 4.0, 3.0]\n",
      "[5.0, 4.0, 3.0]\n"
     ]
    }
   ],
   "source": [
    "#Calculate speed of a bike\n",
    "speed =[]\n",
    "distance = [10,20,30]\n",
    "time = [2,5,10]\n",
    "\n",
    "for i in range (len(distance)):\n",
    "    speed.append (distance[i]/time[i])\n",
    "    \n",
    "print(speed)\n",
    "print([d/t for d,t in zip(distance,time)])"
   ]
  },
  {
   "cell_type": "markdown",
   "metadata": {},
   "source": [
    "# Scipy"
   ]
  },
  {
   "cell_type": "code",
   "execution_count": 144,
   "metadata": {},
   "outputs": [],
   "source": [
    "# https://docs.scipy.org/doc/scipy/reference/"
   ]
  },
  {
   "cell_type": "code",
   "execution_count": 145,
   "metadata": {},
   "outputs": [],
   "source": [
    "from scipy import cluster"
   ]
  },
  {
   "cell_type": "markdown",
   "metadata": {},
   "source": [
    "# Special function"
   ]
  },
  {
   "cell_type": "code",
   "execution_count": 146,
   "metadata": {},
   "outputs": [
    {
     "name": "stdout",
     "output_type": "stream",
     "text": [
      "100.0\n"
     ]
    }
   ],
   "source": [
    "from scipy import special\n",
    "a=special.exp10(2)\n",
    "print(a)"
   ]
  },
  {
   "cell_type": "code",
   "execution_count": 147,
   "metadata": {},
   "outputs": [
    {
     "name": "stdout",
     "output_type": "stream",
     "text": [
      "8.0\n"
     ]
    }
   ],
   "source": [
    "b= special.exp2(3)\n",
    "print(b)"
   ]
  },
  {
   "cell_type": "code",
   "execution_count": 148,
   "metadata": {},
   "outputs": [
    {
     "name": "stdout",
     "output_type": "stream",
     "text": [
      "1.0\n"
     ]
    }
   ],
   "source": [
    "c = special.sindg(90)\n",
    "print(c)"
   ]
  },
  {
   "cell_type": "code",
   "execution_count": 149,
   "metadata": {},
   "outputs": [
    {
     "name": "stdout",
     "output_type": "stream",
     "text": [
      "0.7071067811865475\n"
     ]
    }
   ],
   "source": [
    "c = special.cosdg(45)\n",
    "print(c)"
   ]
  },
  {
   "cell_type": "markdown",
   "metadata": {},
   "source": [
    "# Integration function"
   ]
  },
  {
   "cell_type": "code",
   "execution_count": 150,
   "metadata": {},
   "outputs": [
    {
     "name": "stdout",
     "output_type": "stream",
     "text": [
      "(3.9086503371292665, 4.3394735994897923e-14)\n"
     ]
    }
   ],
   "source": [
    "import scipy.integrate as integrate\n",
    "import scipy\n",
    "i =scipy.integrate.quad(lambda x: special.exp10(x),0,1)\n",
    "print(i)"
   ]
  },
  {
   "cell_type": "code",
   "execution_count": 151,
   "metadata": {},
   "outputs": [
    {
     "data": {
      "text/plain": [
       "(-0.0, 4.405142707569776e-14)"
      ]
     },
     "execution_count": 151,
     "metadata": {},
     "output_type": "execute_result"
    }
   ],
   "source": [
    "e = lambda x,y: x*y**2\n",
    "f = lambda x: 1\n",
    "g = lambda x: -1\n",
    "integrate.dblquad(e,0,2,f,g)"
   ]
  },
  {
   "cell_type": "code",
   "execution_count": 152,
   "metadata": {},
   "outputs": [
    {
     "name": "stdout",
     "output_type": "stream",
     "text": [
      "[10.-0.j -2.+2.j -2.-0.j -2.-2.j]\n"
     ]
    }
   ],
   "source": [
    "# Fourier Transformations\n",
    "from scipy.fftpack import fft,ifft\n",
    "import numpy as np\n",
    "x = np.array([1,2,3,4])\n",
    "y = fft(x)\n",
    "print(y)"
   ]
  },
  {
   "cell_type": "code",
   "execution_count": 153,
   "metadata": {},
   "outputs": [
    {
     "name": "stdout",
     "output_type": "stream",
     "text": [
      "[ 2.5-0.j  -0.5-0.5j -0.5-0.j  -0.5+0.5j]\n"
     ]
    }
   ],
   "source": [
    "from scipy.fftpack import fft,ifft\n",
    "import numpy as np\n",
    "x = np.array([1,2,3,4])\n",
    "y = ifft(x)\n",
    "print(y)"
   ]
  },
  {
   "cell_type": "code",
   "execution_count": 154,
   "metadata": {},
   "outputs": [
    {
     "name": "stdout",
     "output_type": "stream",
     "text": [
      "[[-2.   1. ]\n",
      " [ 1.5 -0.5]]\n"
     ]
    }
   ],
   "source": [
    "# Linear Algebra\n",
    "#Inverse of a matrix\n",
    "from scipy import linalg\n",
    "a = np.array([[1,2],[3,4]])\n",
    "b = linalg.inv(a)\n",
    "print(b)"
   ]
  },
  {
   "cell_type": "markdown",
   "metadata": {},
   "source": [
    "# Interpolate Function"
   ]
  },
  {
   "cell_type": "code",
   "execution_count": 155,
   "metadata": {},
   "outputs": [
    {
     "data": {
      "image/png": "[encoded data removed]",
      "text/plain": [
       "<Figure size 432x288 with 1 Axes>"
      ]
     },
     "metadata": {
      "needs_background": "light"
     },
     "output_type": "display_data"
    }
   ],
   "source": [
    "import  matplotlib.pyplot as plt\n",
    "from scipy import interpolate\n",
    "x = np.arange(5,20)\n",
    "y = np.exp(x/3)\n",
    "\n",
    "f = interpolate.interp1d(x,y)\n",
    "\n",
    "x1 = np.arange(6,12)\n",
    "y1 = f(x1)\n",
    "\n",
    "plt.plot(x,y,'o',x1,y1,'--')\n",
    "plt.show()"
   ]
  },
  {
   "cell_type": "code",
   "execution_count": null,
   "metadata": {},
   "outputs": [],
   "source": []
  },
  {
   "cell_type": "code",
   "execution_count": null,
   "metadata": {},
   "outputs": [],
   "source": []
  },
  {
   "cell_type": "code",
   "execution_count": 156,
   "metadata": {},
   "outputs": [],
   "source": [
    "# https://www.youtube.com/playlist?list=PL5-da3qGB5ICCsgW1MxlZ0Hq8LL5U3u9y\n",
    "import numpy as np\n",
    "import pandas as pd"
   ]
  },
  {
   "cell_type": "code",
   "execution_count": 157,
   "metadata": {},
   "outputs": [
    {
     "name": "stdout",
     "output_type": "stream",
     "text": [
      "[9 7 7 8 6]\n",
      "a    9\n",
      "b    7\n",
      "c    7\n",
      "d    8\n",
      "e    6\n",
      "dtype: int32\n"
     ]
    },
    {
     "data": {
      "text/plain": [
       "a    9.0\n",
       "b    7.0\n",
       "c    7.0\n",
       "d    8.0\n",
       "e    6.0\n",
       "dtype: float32"
      ]
     },
     "execution_count": 157,
     "metadata": {},
     "output_type": "execute_result"
    }
   ],
   "source": [
    "arr=np.random.randint(5,10,5)#random array\n",
    "print(arr)\n",
    "\n",
    "se1 = pd.Series(arr,index=['a','b','c','d','e'])\n",
    "print(se1)\n",
    "\n",
    "se1 = pd.Series(arr,index=['a','b','c','d','e'],dtype='float32') # only \"float\" is also valid Index is passed as a list\n",
    "se1"
   ]
  },
  {
   "cell_type": "code",
   "execution_count": 158,
   "metadata": {},
   "outputs": [
    {
     "name": "stdout",
     "output_type": "stream",
     "text": [
      "a    21\n",
      "b    22\n",
      "c    10\n",
      "d     1\n",
      "e    24\n",
      "f     4\n",
      "g    17\n",
      "h     7\n",
      "i    13\n",
      "j     5\n",
      "k     7\n",
      "l    11\n",
      "m    16\n",
      "n     4\n",
      "o    19\n",
      "p    19\n",
      "q     5\n",
      "r    19\n",
      "s    11\n",
      "t    24\n",
      "u     7\n",
      "v     8\n",
      "w    17\n",
      "x     8\n",
      "y    10\n",
      "z    22\n",
      "dtype: int32\n"
     ]
    }
   ],
   "source": [
    "arr=np.random.randint(1,26,26)#random array\n",
    "\n",
    "ind = []\n",
    "for i in range(97,123):\n",
    "    ind.append(chr(i))\n",
    "se1 = pd.Series(arr,index=ind)\n",
    "print(se1)"
   ]
  },
  {
   "cell_type": "code",
   "execution_count": 159,
   "metadata": {},
   "outputs": [
    {
     "name": "stdout",
     "output_type": "stream",
     "text": [
      "one      1\n",
      "two      2\n",
      "three    3\n",
      "dtype: int64\n"
     ]
    }
   ],
   "source": [
    "#pass value as dictionary\n",
    "dict1={'one': 1,'two': 2,'three': 3}\n",
    "se_dict = pd.Series(dict1)\n",
    "print(se_dict)"
   ]
  },
  {
   "cell_type": "code",
   "execution_count": 160,
   "metadata": {},
   "outputs": [
    {
     "name": "stdout",
     "output_type": "stream",
     "text": [
      "Three    NaN\n",
      "one      1.0\n",
      "a        NaN\n",
      "dtype: float64\n"
     ]
    }
   ],
   "source": [
    "dict1={'one': 1,'two': 2,'three': 3}\n",
    "se_dict = pd.Series(dict1,index=['Three','one','a'])\n",
    "# If key is 'unrecognized'then NaN will appear. Beacuse of NaN, changed  from int64 to float64,\n",
    "print(se_dict)"
   ]
  },
  {
   "cell_type": "code",
   "execution_count": 161,
   "metadata": {},
   "outputs": [
    {
     "data": {
      "text/plain": [
       "1    5\n",
       "2    5\n",
       "3    5\n",
       "dtype: int64"
      ]
     },
     "execution_count": 161,
     "metadata": {},
     "output_type": "execute_result"
    }
   ],
   "source": [
    "sca =5\n",
    "se_sca = pd.Series(sca, index=[1,2,3]) # Scala value will be assigned to all the index values\n",
    "se_sca"
   ]
  },
  {
   "cell_type": "code",
   "execution_count": 162,
   "metadata": {},
   "outputs": [
    {
     "name": "stdout",
     "output_type": "stream",
     "text": [
      "a    1\n",
      "b    2\n",
      "c    3\n",
      "dtype: int64 \n",
      "\n",
      "1 \n",
      "\n",
      "a    1\n",
      "b    2\n",
      "c    3\n",
      "dtype: int64 \n",
      "\n",
      "c    3\n",
      "b    2\n",
      "a    1\n",
      "dtype: int64 \n",
      "\n",
      "a    1\n",
      "b    2\n",
      "dtype: int64 \n",
      "\n"
     ]
    }
   ],
   "source": [
    "d1 ={'a':1,'b':2,'c':3}\n",
    "se2=pd.Series(d1)\n",
    "print(se2, '\\n')\n",
    "\n",
    "print(se2['a'],'\\n')\n",
    "\n",
    "print(se2[['a','b','c']],'\\n') # for more indices\n",
    "\n",
    "print(se2[::-1],'\\n')\n",
    "print(se2[0:-1],'\\n')"
   ]
  },
  {
   "cell_type": "code",
   "execution_count": 163,
   "metadata": {},
   "outputs": [
    {
     "name": "stdout",
     "output_type": "stream",
     "text": [
      "mean:  2.0\n"
     ]
    },
    {
     "data": {
      "text/plain": [
       "c    3\n",
       "dtype: int64"
      ]
     },
     "execution_count": 163,
     "metadata": {},
     "output_type": "execute_result"
    }
   ],
   "source": [
    "print('mean: ', se2.mean())\n",
    "se2[se2>se2.mean()]"
   ]
  },
  {
   "cell_type": "code",
   "execution_count": 164,
   "metadata": {},
   "outputs": [
    {
     "name": "stdout",
     "output_type": "stream",
     "text": [
      "a    1\n",
      "b    2\n",
      "c    3\n",
      "dtype: int64 \n",
      " a    1\n",
      "c    3\n",
      "e    5\n",
      "dtype: int64\n",
      "a    2.0\n",
      "b    NaN\n",
      "c    6.0\n",
      "e    NaN\n",
      "dtype: float64 \n",
      "\n",
      "a    0.0\n",
      "b    NaN\n",
      "c    0.0\n",
      "e    NaN\n",
      "dtype: float64\n",
      "a    1.0\n",
      "b    NaN\n",
      "c    9.0\n",
      "e    NaN\n",
      "dtype: float64\n",
      "a    1.0\n",
      "b    NaN\n",
      "c    1.0\n",
      "e    NaN\n",
      "dtype: float64\n",
      "a    6\n",
      "b    7\n",
      "c    8\n",
      "dtype: int64\n"
     ]
    }
   ],
   "source": [
    "se3 = pd.Series({'a':1,'c':3,'e':5})\n",
    "print(se2,'\\n',se3)\n",
    "print(se2+se3,'\\n')\n",
    "print(se2-se3)\n",
    "print(se2*se3)\n",
    "print(se2/se3)\n",
    "print(se2+5)"
   ]
  },
  {
   "cell_type": "code",
   "execution_count": 165,
   "metadata": {},
   "outputs": [
    {
     "name": "stdout",
     "output_type": "stream",
     "text": [
      "0    5\n",
      "dtype: int64\n",
      "0    10\n",
      "dtype: int64\n",
      "0    15\n",
      "dtype: int64 \n",
      "\n",
      "0   -5\n",
      "dtype: int64 \n",
      "\n",
      "0    50\n",
      "dtype: int64 \n",
      "\n",
      "0    0.5\n",
      "dtype: float64 \n",
      "\n"
     ]
    }
   ],
   "source": [
    "#Using Scala\n",
    "sca_1 = 5\n",
    "se_sca_1 = pd.Series(sca_1)\n",
    "print(se_sca_1)\n",
    "\n",
    "sca_2 = 10\n",
    "se_sca_2 = pd.Series(sca_2)\n",
    "print(se_sca_2)\n",
    "\n",
    "print(se_sca_1+se_sca_2,'\\n')\n",
    "print(se_sca_1-se_sca_2,'\\n')\n",
    "print(se_sca_1*se_sca_2,'\\n')\n",
    "print(se_sca_1/se_sca_2,'\\n')"
   ]
  },
  {
   "cell_type": "code",
   "execution_count": 166,
   "metadata": {},
   "outputs": [
    {
     "name": "stdout",
     "output_type": "stream",
     "text": [
      "a    13\n",
      "b    67\n",
      "c    90\n",
      "d    67\n",
      "e    34\n",
      "f     6\n",
      "g    89\n",
      "h    32\n",
      "Name: scalar, dtype: int64\n",
      "a    13\n",
      "b    67\n",
      "c    90\n",
      "d    67\n",
      "e    34\n",
      "f     6\n",
      "g    89\n",
      "h    32\n",
      "Name: scalar_Rename, dtype: int64\n"
     ]
    }
   ],
   "source": [
    "#Assigning a name to a series\n",
    "se5 = pd.Series([13,67,90,67,34,6,89,32],index=['a','b','c','d','e','f','g','h'], name='scalar')#Giving name\n",
    "print(se5)\n",
    "se5 = se5.rename('scalar_Rename')#renamed\n",
    "print(se5)"
   ]
  },
  {
   "cell_type": "code",
   "execution_count": null,
   "metadata": {},
   "outputs": [],
   "source": []
  },
  {
   "cell_type": "code",
   "execution_count": null,
   "metadata": {},
   "outputs": [],
   "source": []
  },
  {
   "cell_type": "code",
   "execution_count": null,
   "metadata": {},
   "outputs": [],
   "source": []
  }
 ],
 "metadata": {
  "kernelspec": {
   "display_name": "Python 3 (ipykernel)",
   "language": "python",
   "name": "python3"
  },
  "language_info": {
   "codemirror_mode": {
    "name": "ipython",
    "version": 3
   },
   "file_extension": ".py",
   "mimetype": "text/x-python",
   "name": "python",
   "nbconvert_exporter": "python",
   "pygments_lexer": "ipython3",
   "version": "3.9.7"
  }
 },
 "nbformat": 4,
 "nbformat_minor": 2
}
