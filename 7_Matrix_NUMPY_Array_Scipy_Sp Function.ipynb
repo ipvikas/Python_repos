{
 "cells": [
  {
   "cell_type": "markdown",
   "metadata": {},
   "source": [
    "# Array"
   ]
  },
  {
   "cell_type": "raw",
   "metadata": {},
   "source": [
    "List: Can have different types of data e.g. int, float, string\n",
    "List: The Python core library provided lists. A list is the Python equivalent of an array but is resizable and can contain elements of different types.\n",
    "\n",
    "Array: takes only a single data type elements; are mutable\n",
    "\n",
    "numpy is the core library for scientific computing in Python. It provides a high performance, multidimensional array object and tools for working with these arrays. A numpy array is a grid of values all of the same type and is indexed by a  tuple of non-negative integers. \n",
    "\n",
    "With the sense of \"Size, Performance and Functionality\", numpy is better than list"
   ]
  },
  {
   "cell_type": "code",
   "execution_count": 1,
   "metadata": {},
   "outputs": [
    {
     "data": {
      "text/plain": [
       "array.array"
      ]
     },
     "execution_count": 1,
     "metadata": {},
     "output_type": "execute_result"
    }
   ],
   "source": [
    "import array\n",
    "array.array "
   ]
  },
  {
   "cell_type": "code",
   "execution_count": 2,
   "metadata": {},
   "outputs": [
    {
     "data": {
      "text/plain": [
       "array.array"
      ]
     },
     "execution_count": 2,
     "metadata": {},
     "output_type": "execute_result"
    }
   ],
   "source": [
    "import array as arr\n",
    "arr.array "
   ]
  },
  {
   "cell_type": "code",
   "execution_count": null,
   "metadata": {},
   "outputs": [],
   "source": [
    "import numpy as np\n",
    "# 1-D array\n",
    "d = np.array([1, 2, 3])\n",
    "#type(d)\n",
    "d"
   ]
  },
  {
   "cell_type": "code",
   "execution_count": 3,
   "metadata": {},
   "outputs": [
    {
     "name": "stdout",
     "output_type": "stream",
     "text": [
      "array('i', [2, -3, 4])\n"
     ]
    }
   ],
   "source": [
    "from array import *\n",
    "vals = array('i',[2,-3,4]) #'i' means integer type\n",
    "print(vals)"
   ]
  },
  {
   "cell_type": "code",
   "execution_count": 4,
   "metadata": {},
   "outputs": [
    {
     "name": "stdout",
     "output_type": "stream",
     "text": [
      "array('d', [2.0, -3.0, 4.0])\n"
     ]
    }
   ],
   "source": [
    "from array import *\n",
    "vals = array('d',[2,-3,4]) #d means 'float' type\n",
    "print(vals)"
   ]
  },
  {
   "cell_type": "code",
   "execution_count": 5,
   "metadata": {},
   "outputs": [
    {
     "name": "stdout",
     "output_type": "stream",
     "text": [
      "4.0\n",
      "3\n",
      "array('d', [2.0, -3.0, 4.0, 66.0])\n"
     ]
    }
   ],
   "source": [
    "print(vals[-1]) #ith index value\n",
    "print(len(vals)) # lngth of an array\n",
    "vals.append(66) # only 1 value is appended\n",
    "print(vals)"
   ]
  },
  {
   "cell_type": "code",
   "execution_count": 6,
   "metadata": {},
   "outputs": [
    {
     "data": {
      "text/plain": [
       "array('d', [2.0, -3.0, 4.0, 66.0, 3.0, 55.0, 77.0])"
      ]
     },
     "execution_count": 6,
     "metadata": {},
     "output_type": "execute_result"
    }
   ],
   "source": [
    "vals.extend([3,55,77]) #using square bracket\n",
    "# multiple values are added\n",
    "vals"
   ]
  },
  {
   "cell_type": "code",
   "execution_count": 7,
   "metadata": {},
   "outputs": [
    {
     "data": {
      "text/plain": [
       "array('d', [2.0, -3.0, 6.0, 4.0, 66.0, 3.0, 55.0, 77.0])"
      ]
     },
     "execution_count": 7,
     "metadata": {},
     "output_type": "execute_result"
    }
   ],
   "source": [
    "vals.insert(2,6) #at 2nd index position 6 is added\n",
    "vals"
   ]
  },
  {
   "cell_type": "code",
   "execution_count": 8,
   "metadata": {},
   "outputs": [
    {
     "name": "stdout",
     "output_type": "stream",
     "text": [
      "55.0\n"
     ]
    }
   ],
   "source": [
    "print(vals.pop(-2)) # i.e. without parameter, last value"
   ]
  },
  {
   "cell_type": "code",
   "execution_count": 9,
   "metadata": {},
   "outputs": [
    {
     "name": "stdout",
     "output_type": "stream",
     "text": [
      "array('d', [2.0, -3.0, 6.0, 4.0, 66.0, 3.0, 77.0])\n"
     ]
    }
   ],
   "source": [
    "print(vals)"
   ]
  },
  {
   "cell_type": "code",
   "execution_count": 10,
   "metadata": {},
   "outputs": [
    {
     "name": "stdout",
     "output_type": "stream",
     "text": [
      "array('d', [2.0, -3.0, 4.0, 66.0, 3.0, 77.0])\n"
     ]
    }
   ],
   "source": [
    "vals.remove(6) #remove 6\n",
    "print(vals)"
   ]
  },
  {
   "cell_type": "code",
   "execution_count": 11,
   "metadata": {},
   "outputs": [
    {
     "data": {
      "text/plain": [
       "array('d', [2.0, -3.0, 4.0, 66.0, 3.0])"
      ]
     },
     "execution_count": 11,
     "metadata": {},
     "output_type": "execute_result"
    }
   ],
   "source": [
    "vals[0:-1]"
   ]
  },
  {
   "cell_type": "code",
   "execution_count": 12,
   "metadata": {},
   "outputs": [
    {
     "data": {
      "text/plain": [
       "array('d', [2.0])"
      ]
     },
     "execution_count": 12,
     "metadata": {},
     "output_type": "execute_result"
    }
   ],
   "source": [
    "vals[::11]"
   ]
  },
  {
   "cell_type": "code",
   "execution_count": 13,
   "metadata": {},
   "outputs": [
    {
     "data": {
      "text/plain": [
       "(2144652630240, 3)"
      ]
     },
     "execution_count": 13,
     "metadata": {},
     "output_type": "execute_result"
    }
   ],
   "source": [
    "from array import *\n",
    "vals = array('i',[2,-3,4])\n",
    "vals.buffer_info() # address, no of entities"
   ]
  },
  {
   "cell_type": "code",
   "execution_count": 14,
   "metadata": {},
   "outputs": [
    {
     "data": {
      "text/plain": [
       "'i'"
      ]
     },
     "execution_count": 14,
     "metadata": {},
     "output_type": "execute_result"
    }
   ],
   "source": [
    "from array import *\n",
    "vals = array('i',[2,-3,4])\n",
    "vals.typecode"
   ]
  },
  {
   "cell_type": "code",
   "execution_count": 15,
   "metadata": {},
   "outputs": [
    {
     "data": {
      "text/plain": [
       "array('i', [4, -3, 2])"
      ]
     },
     "execution_count": 15,
     "metadata": {},
     "output_type": "execute_result"
    }
   ],
   "source": [
    "from array import *\n",
    "vals = array('i',[2,-3,4])\n",
    "vals.reverse()\n",
    "vals"
   ]
  },
  {
   "cell_type": "code",
   "execution_count": 16,
   "metadata": {},
   "outputs": [
    {
     "name": "stdout",
     "output_type": "stream",
     "text": [
      "2\n",
      "-3\n",
      "4\n",
      "10\n",
      "3\n",
      "2\n",
      "-2\n",
      "-2\n"
     ]
    }
   ],
   "source": [
    "from array import *\n",
    "vals = array('i',[2,-3,4,10,3,2,-2,-2])\n",
    "for e in range(len(vals)):# when we don't know the array size\n",
    "    print(vals[e])"
   ]
  },
  {
   "cell_type": "code",
   "execution_count": 17,
   "metadata": {},
   "outputs": [
    {
     "name": "stdout",
     "output_type": "stream",
     "text": [
      "2\n",
      "-3\n",
      "4\n",
      "10\n",
      "3\n",
      "2\n",
      "-2\n",
      "-2\n"
     ]
    }
   ],
   "source": [
    "from array import *\n",
    "vals = array('i',[2,-3,4,10,3,2,-2,-2])\n",
    "newarray = array(vals.typecode,(a for a in vals))# Copying array values in new array\n",
    "for e in newarray:\n",
    "    print(e)"
   ]
  },
  {
   "cell_type": "code",
   "execution_count": null,
   "metadata": {},
   "outputs": [],
   "source": []
  },
  {
   "cell_type": "raw",
   "metadata": {},
   "source": []
  },
  {
   "cell_type": "markdown",
   "metadata": {},
   "source": [
    "# An Array occupies more size than numpy"
   ]
  },
  {
   "cell_type": "code",
   "execution_count": 18,
   "metadata": {},
   "outputs": [
    {
     "data": {
      "text/plain": [
       "56"
      ]
     },
     "execution_count": 18,
     "metadata": {},
     "output_type": "execute_result"
    }
   ],
   "source": [
    "from sys import getsizeof\n",
    "x_list=[] # 1. an array is defined\n",
    "getsizeof(x_list) #2. get the size of that array"
   ]
  },
  {
   "cell_type": "code",
   "execution_count": 19,
   "metadata": {},
   "outputs": [
    {
     "data": {
      "text/plain": [
       "85176"
      ]
     },
     "execution_count": 19,
     "metadata": {},
     "output_type": "execute_result"
    }
   ],
   "source": [
    "n_elements = 10000\n",
    "x_list=[x for x in range(n_elements)] # 1. an array is defined with a range of 10000\n",
    "getsizeof(x_list) #2. get the size of that array"
   ]
  },
  {
   "cell_type": "code",
   "execution_count": 20,
   "metadata": {},
   "outputs": [
    {
     "data": {
      "text/plain": [
       "40112"
      ]
     },
     "execution_count": 20,
     "metadata": {},
     "output_type": "execute_result"
    }
   ],
   "source": [
    "import numpy as np\n",
    "x_np = np.array(x_list)\n",
    "getsizeof(x_np)#get the size of that numpy"
   ]
  },
  {
   "cell_type": "code",
   "execution_count": 21,
   "metadata": {},
   "outputs": [
    {
     "data": {
      "text/plain": [
       "45064"
      ]
     },
     "execution_count": 21,
     "metadata": {},
     "output_type": "execute_result"
    }
   ],
   "source": [
    "getsizeof(x_list) - getsizeof(x_np) # see the small \"size\" occupied by numpy than the array. 87616 - 40096 = 47520"
   ]
  },
  {
   "cell_type": "markdown",
   "metadata": {},
   "source": [
    "# Performance of numpy is better than an array"
   ]
  },
  {
   "cell_type": "markdown",
   "metadata": {},
   "source": [
    "Reason why NumPy is faster is that it utilizes C and Fortran for expensive function calls and loops.\n",
    "NumPy utilizes the C-API to bridge Python and C, creating an abstracted, more straightforward programming experience without compromising on speed."
   ]
  },
  {
   "cell_type": "code",
   "execution_count": 22,
   "metadata": {},
   "outputs": [],
   "source": [
    "\n",
    "x_modified_new = []\n",
    "for element in x_list:\n",
    "    x_modified_new.append(element+1000000)"
   ]
  },
  {
   "cell_type": "code",
   "execution_count": 23,
   "metadata": {},
   "outputs": [
    {
     "data": {
      "text/plain": [
       "[1000000, 1000001, 1000002, 1000003, 1000004]"
      ]
     },
     "execution_count": 23,
     "metadata": {},
     "output_type": "execute_result"
    }
   ],
   "source": [
    "x_modified_new[:5]"
   ]
  },
  {
   "cell_type": "code",
   "execution_count": 24,
   "metadata": {},
   "outputs": [
    {
     "data": {
      "text/plain": [
       "[1009995, 1009996, 1009997, 1009998, 1009999]"
      ]
     },
     "execution_count": 24,
     "metadata": {},
     "output_type": "execute_result"
    }
   ],
   "source": [
    "x_modified_new[-5:]"
   ]
  },
  {
   "cell_type": "code",
   "execution_count": 25,
   "metadata": {},
   "outputs": [
    {
     "name": "stdout",
     "output_type": "stream",
     "text": [
      "0.0\n"
     ]
    }
   ],
   "source": [
    "import time\n",
    "start = time.process_time()\n",
    "x_1000000_added = [x+1000000 for x in x_list]\n",
    "non_numpy_time = time.process_time()-start\n",
    "print(non_numpy_time)"
   ]
  },
  {
   "cell_type": "code",
   "execution_count": 26,
   "metadata": {},
   "outputs": [
    {
     "name": "stdout",
     "output_type": "stream",
     "text": [
      "0.0\n"
     ]
    }
   ],
   "source": [
    "import time\n",
    "x_numpy = np.array(x_list)\n",
    "\n",
    "start = time.process_time()\n",
    "x_np_10000000_added = x_numpy +1000000\n",
    "numpy_time = time.process_time()-start\n",
    "print(numpy_time)"
   ]
  },
  {
   "cell_type": "code",
   "execution_count": 27,
   "metadata": {},
   "outputs": [
    {
     "data": {
      "text/plain": [
       "0.0"
      ]
     },
     "execution_count": 27,
     "metadata": {},
     "output_type": "execute_result"
    }
   ],
   "source": [
    "non_numpy_time-numpy_time"
   ]
  },
  {
   "cell_type": "code",
   "execution_count": null,
   "metadata": {},
   "outputs": [],
   "source": []
  },
  {
   "cell_type": "markdown",
   "metadata": {},
   "source": [
    "# Sparse Matrix"
   ]
  },
  {
   "cell_type": "code",
   "execution_count": 28,
   "metadata": {},
   "outputs": [
    {
     "name": "stdout",
     "output_type": "stream",
     "text": [
      "Original Matrix: \n",
      " [[1 2 3]\n",
      " [4 5 6]\n",
      " [7 8 9]]\n"
     ]
    }
   ],
   "source": [
    "import numpy as np\n",
    "from scipy import sparse\n",
    "matrix = np.array([[1,2,3],\n",
    "                 [4,5,6],\n",
    "                 [7,8,9]])\n",
    "\n",
    "print(\"Original Matrix: \\n\", matrix)"
   ]
  },
  {
   "cell_type": "code",
   "execution_count": 29,
   "metadata": {},
   "outputs": [
    {
     "name": "stdout",
     "output_type": "stream",
     "text": [
      "  (0, 0)\t1\n",
      "  (0, 1)\t2\n",
      "  (0, 2)\t3\n",
      "  (1, 0)\t4\n",
      "  (1, 1)\t5\n",
      "  (1, 2)\t6\n",
      "  (2, 0)\t7\n",
      "  (2, 1)\t8\n",
      "  (2, 2)\t9\n"
     ]
    }
   ],
   "source": [
    "print(sparse.dok_matrix(matrix))"
   ]
  },
  {
   "cell_type": "code",
   "execution_count": 30,
   "metadata": {},
   "outputs": [
    {
     "name": "stdout",
     "output_type": "stream",
     "text": [
      "  (2, 0)\t7\n",
      "  (1, 0)\t4\n",
      "  (2, 1)\t8\n",
      "  (0, 0)\t1\n",
      "  (1, 1)\t5\n",
      "  (2, 2)\t9\n",
      "  (0, 1)\t2\n",
      "  (1, 2)\t6\n",
      "  (0, 2)\t3\n"
     ]
    }
   ],
   "source": [
    "print(sparse.dia_matrix(matrix))"
   ]
  },
  {
   "cell_type": "code",
   "execution_count": 31,
   "metadata": {},
   "outputs": [
    {
     "name": "stdout",
     "output_type": "stream",
     "text": [
      "[1. 2. 3.]\n",
      "float64\n"
     ]
    }
   ],
   "source": [
    "# convert string-list to float\n",
    "a = ['1', '2', '3']\n",
    "a_arr = np.array(a, dtype=np.string_) # convert list to ndarray\n",
    "af = a_arr.astype(float) # change ndarray type\n",
    "print(af)\n",
    "print(af.dtype)"
   ]
  },
  {
   "cell_type": "code",
   "execution_count": 32,
   "metadata": {},
   "outputs": [
    {
     "name": "stdout",
     "output_type": "stream",
     "text": [
      "[12 12 14 15]\n",
      "['12' '12' '14' '15']\n",
      "(4,)\n",
      "<U2\n",
      "1\n"
     ]
    }
   ],
   "source": [
    "import numpy as np\n",
    "lst1 =[12,12,14,15]\n",
    "arr =np.array(lst1)\n",
    "print(arr)\n",
    "\n",
    "arr =np.array(lst1,dtype='str') # dtype='float'\n",
    "print(arr)\n",
    "\n",
    "print(arr.shape) #length of that vector\n",
    "print(arr.dtype)\n",
    "print(arr.ndim)"
   ]
  },
  {
   "cell_type": "code",
   "execution_count": 33,
   "metadata": {},
   "outputs": [
    {
     "name": "stdout",
     "output_type": "stream",
     "text": [
      "['True' 'False']\n",
      "(2,)\n",
      "<U5\n",
      "1\n"
     ]
    }
   ],
   "source": [
    "lst1 =['True','False']\n",
    "arr =np.array(lst1)\n",
    "print(arr)\n",
    "\n",
    "print(arr.shape) #length of that vector\n",
    "print(arr.dtype)\n",
    "print(arr.ndim)"
   ]
  },
  {
   "cell_type": "code",
   "execution_count": 34,
   "metadata": {},
   "outputs": [
    {
     "name": "stdout",
     "output_type": "stream",
     "text": [
      "[[1 2 3]\n",
      " [4 5 6]\n",
      " [1 2 3]\n",
      " [4 5 6]]\n",
      "(4, 3)\n",
      "int32\n",
      "2\n"
     ]
    }
   ],
   "source": [
    "arr = np.array([[1,2,3],[4,5,6],[1,2,3],[4,5,6]])\n",
    "print(arr)\n",
    "\n",
    "print(arr.shape) #length of that vector\n",
    "print(arr.dtype)\n",
    "print(arr.ndim)"
   ]
  },
  {
   "cell_type": "code",
   "execution_count": 35,
   "metadata": {},
   "outputs": [
    {
     "name": "stdout",
     "output_type": "stream",
     "text": [
      "[[ 1  2  3]\n",
      " [ 4  5  6]\n",
      " [ 7  8  9]\n",
      " [11 12 13]]\n",
      "(4, 3)\n",
      "int32\n",
      "2\n",
      "\n",
      "\n",
      "AFTER FLIPPING: \n",
      "[[13 12 11]\n",
      " [ 9  8  7]\n",
      " [ 6  5  4]\n",
      " [ 3  2  1]]\n",
      "(4, 3)\n",
      "int32\n",
      "2\n"
     ]
    }
   ],
   "source": [
    "arr = np.array([[1,2,3],[4,5,6],[7,8,9],[11,12,13]])\n",
    "print(arr)\n",
    "print(arr.shape) #length of that vector\n",
    "print(arr.dtype)\n",
    "print(arr.ndim)\n",
    "\n",
    "print(\"\\n\")\n",
    "\n",
    "flipped = np.flip(arr)\n",
    "print(\"AFTER FLIPPING: \")\n",
    "print(flipped)\n",
    "\n",
    "print(flipped.shape) #length of that vector\n",
    "print(flipped.dtype)\n",
    "print(flipped.ndim)"
   ]
  },
  {
   "cell_type": "code",
   "execution_count": 36,
   "metadata": {},
   "outputs": [
    {
     "name": "stdout",
     "output_type": "stream",
     "text": [
      "[0 1 2 3 4 5 6 7 8 9]\n"
     ]
    }
   ],
   "source": [
    "print(np.arange(10)) "
   ]
  },
  {
   "cell_type": "code",
   "execution_count": 37,
   "metadata": {},
   "outputs": [
    {
     "name": "stdout",
     "output_type": "stream",
     "text": [
      "[ 6  7  8  9 10 11 12 13 14 15 16 17 18 19]\n"
     ]
    }
   ],
   "source": [
    "print( np.arange(6,20))"
   ]
  },
  {
   "cell_type": "code",
   "execution_count": 38,
   "metadata": {},
   "outputs": [
    {
     "name": "stdout",
     "output_type": "stream",
     "text": [
      "[ 6  8 10 12 14 16 18]\n"
     ]
    }
   ],
   "source": [
    "print(np.arange(6,20,2)) #from 6 to 20 with a gap of 2"
   ]
  },
  {
   "cell_type": "code",
   "execution_count": 39,
   "metadata": {},
   "outputs": [
    {
     "name": "stdout",
     "output_type": "stream",
     "text": [
      "[ 6.001  8.001 10.001 12.001 14.001 16.001 18.001 20.001]\n"
     ]
    }
   ],
   "source": [
    "print(np.arange(6.001,20.05,2,dtype='float'))"
   ]
  },
  {
   "cell_type": "code",
   "execution_count": 40,
   "metadata": {},
   "outputs": [
    {
     "name": "stdout",
     "output_type": "stream",
     "text": [
      "[0. 0. 0. 0. 0. 0.]\n",
      "[1. 1. 1. 1. 1. 1.]\n",
      "[[1. 1. 1. 1. 1. 1.]\n",
      " [1. 1. 1. 1. 1. 1.]\n",
      " [1. 1. 1. 1. 1. 1.]\n",
      " [1. 1. 1. 1. 1. 1.]\n",
      " [1. 1. 1. 1. 1. 1.]]\n",
      "[[0. 0. 0.]\n",
      " [0. 0. 0.]]\n",
      "[[0 0 0]\n",
      " [0 0 0]]\n"
     ]
    }
   ],
   "source": [
    "print(np.zeros(6)) # define zero matrix\n",
    "print(np.ones(6))\n",
    "print(np.ones((5,6)))\n",
    "print(np.zeros((2,3)))  # default type is \"Float type\"\n",
    "print(np.zeros((2,3),dtype = 'int32'))"
   ]
  },
  {
   "cell_type": "code",
   "execution_count": 41,
   "metadata": {},
   "outputs": [
    {
     "data": {
      "text/plain": [
       "(array([ 1.        ,  1.18367347,  1.36734694,  1.55102041,  1.73469388,\n",
       "         1.91836735,  2.10204082,  2.28571429,  2.46938776,  2.65306122,\n",
       "         2.83673469,  3.02040816,  3.20408163,  3.3877551 ,  3.57142857,\n",
       "         3.75510204,  3.93877551,  4.12244898,  4.30612245,  4.48979592,\n",
       "         4.67346939,  4.85714286,  5.04081633,  5.2244898 ,  5.40816327,\n",
       "         5.59183673,  5.7755102 ,  5.95918367,  6.14285714,  6.32653061,\n",
       "         6.51020408,  6.69387755,  6.87755102,  7.06122449,  7.24489796,\n",
       "         7.42857143,  7.6122449 ,  7.79591837,  7.97959184,  8.16326531,\n",
       "         8.34693878,  8.53061224,  8.71428571,  8.89795918,  9.08163265,\n",
       "         9.26530612,  9.44897959,  9.63265306,  9.81632653, 10.        ]),\n",
       " 0.1836734693877551)"
      ]
     },
     "execution_count": 41,
     "metadata": {},
     "output_type": "execute_result"
    }
   ],
   "source": [
    "np.linspace(1,10,retstep=True)# 50 values created, last value i.e. 10 is also included"
   ]
  },
  {
   "cell_type": "code",
   "execution_count": 42,
   "metadata": {},
   "outputs": [
    {
     "data": {
      "text/plain": [
       "(array([ 1.  ,  3.25,  5.5 ,  7.75, 10.  ]), 2.25)"
      ]
     },
     "execution_count": 42,
     "metadata": {},
     "output_type": "execute_result"
    }
   ],
   "source": [
    "np.linspace(1,10,5, retstep=True) #from 1 to 10, both included with 5 divisions"
   ]
  },
  {
   "cell_type": "code",
   "execution_count": 43,
   "metadata": {},
   "outputs": [
    {
     "data": {
      "text/plain": [
       "(array([1. , 2.8, 4.6, 6.4, 8.2]), 1.8)"
      ]
     },
     "execution_count": 43,
     "metadata": {},
     "output_type": "execute_result"
    }
   ],
   "source": [
    "np.linspace(1,10,5,endpoint=False, retstep=True)# last value i.e. 10 is NOT included"
   ]
  },
  {
   "cell_type": "code",
   "execution_count": 44,
   "metadata": {},
   "outputs": [
    {
     "data": {
      "text/plain": [
       "array([[1., 0., 0., 0.],\n",
       "       [0., 1., 0., 0.],\n",
       "       [0., 0., 1., 0.],\n",
       "       [0., 0., 0., 1.]])"
      ]
     },
     "execution_count": 44,
     "metadata": {},
     "output_type": "execute_result"
    }
   ],
   "source": [
    "np.eye(4) #Identity matrix or diagonal matrix"
   ]
  },
  {
   "cell_type": "code",
   "execution_count": 45,
   "metadata": {},
   "outputs": [
    {
     "data": {
      "text/plain": [
       "array([[1., 0., 0., 0., 0.],\n",
       "       [0., 1., 0., 0., 0.],\n",
       "       [0., 0., 1., 0., 0.],\n",
       "       [0., 0., 0., 1., 0.]])"
      ]
     },
     "execution_count": 45,
     "metadata": {},
     "output_type": "execute_result"
    }
   ],
   "source": [
    "np.eye(4,5) #Identity matrix"
   ]
  },
  {
   "cell_type": "code",
   "execution_count": 46,
   "metadata": {},
   "outputs": [
    {
     "data": {
      "text/plain": [
       "array([[0., 0., 0., 0., 0.],\n",
       "       [1., 0., 0., 0., 0.],\n",
       "       [0., 1., 0., 0., 0.],\n",
       "       [0., 0., 1., 0., 0.]])"
      ]
     },
     "execution_count": 46,
     "metadata": {},
     "output_type": "execute_result"
    }
   ],
   "source": [
    "np.eye(4,5,-1) #Identity matrix i.e. at -1st position, 1 will be placed and then identity matrix will be formed"
   ]
  },
  {
   "cell_type": "code",
   "execution_count": 47,
   "metadata": {},
   "outputs": [
    {
     "data": {
      "text/plain": [
       "array([[0., 0., 1., 0., 0.],\n",
       "       [0., 0., 0., 1., 0.],\n",
       "       [0., 0., 0., 0., 1.],\n",
       "       [0., 0., 0., 0., 0.]])"
      ]
     },
     "execution_count": 47,
     "metadata": {},
     "output_type": "execute_result"
    }
   ],
   "source": [
    "np.eye(4,5,2) #Identity matrix i.e. at 4th position, 1 will be placed and then identity matrix will be formed"
   ]
  },
  {
   "cell_type": "code",
   "execution_count": 48,
   "metadata": {},
   "outputs": [
    {
     "data": {
      "text/plain": [
       "array([[0., 0., 0., 0., 0.],\n",
       "       [0., 0., 0., 0., 0.],\n",
       "       [0., 0., 0., 0., 0.],\n",
       "       [0., 0., 0., 0., 0.]])"
      ]
     },
     "execution_count": 48,
     "metadata": {},
     "output_type": "execute_result"
    }
   ],
   "source": [
    "np.eye(4,5,5) #Identity matrix as 5th position is NOT here hence all values are 0"
   ]
  },
  {
   "cell_type": "code",
   "execution_count": null,
   "metadata": {},
   "outputs": [],
   "source": []
  },
  {
   "cell_type": "code",
   "execution_count": 49,
   "metadata": {},
   "outputs": [
    {
     "data": {
      "text/plain": [
       "0.4479107424552463"
      ]
     },
     "execution_count": 49,
     "metadata": {},
     "output_type": "execute_result"
    }
   ],
   "source": [
    "np.random.rand()"
   ]
  },
  {
   "cell_type": "code",
   "execution_count": 50,
   "metadata": {},
   "outputs": [
    {
     "data": {
      "text/plain": [
       "array([0.1972952 , 0.76607246, 0.84702547])"
      ]
     },
     "execution_count": 50,
     "metadata": {},
     "output_type": "execute_result"
    }
   ],
   "source": [
    "np.random.rand(3)#those many numbers"
   ]
  },
  {
   "cell_type": "code",
   "execution_count": 51,
   "metadata": {},
   "outputs": [
    {
     "data": {
      "text/plain": [
       "array([[0.24918671, 0.67200621, 0.39114736],\n",
       "       [0.94992555, 0.6981219 , 0.11369413],\n",
       "       [0.6514362 , 0.39212619, 0.6719121 ],\n",
       "       [0.37899928, 0.80976873, 0.95650007],\n",
       "       [0.40185162, 0.91090211, 0.60229848]])"
      ]
     },
     "execution_count": 51,
     "metadata": {},
     "output_type": "execute_result"
    }
   ],
   "source": [
    "np.random.rand(5,3)#those many numbers"
   ]
  },
  {
   "cell_type": "code",
   "execution_count": 52,
   "metadata": {},
   "outputs": [
    {
     "data": {
      "text/plain": [
       "array([ 1.99194562,  0.99709405,  0.21870255,  1.25279847, -1.85175975])"
      ]
     },
     "execution_count": 52,
     "metadata": {},
     "output_type": "execute_result"
    }
   ],
   "source": [
    "np.random.randn(5)#negative or positive number"
   ]
  },
  {
   "cell_type": "code",
   "execution_count": 53,
   "metadata": {},
   "outputs": [
    {
     "data": {
      "text/plain": [
       "2"
      ]
     },
     "execution_count": 53,
     "metadata": {},
     "output_type": "execute_result"
    }
   ],
   "source": [
    "np.random.randint(2,3)#lower,higher"
   ]
  },
  {
   "cell_type": "code",
   "execution_count": 54,
   "metadata": {},
   "outputs": [
    {
     "data": {
      "text/plain": [
       "array([6, 8, 7, 4, 2])"
      ]
     },
     "execution_count": 54,
     "metadata": {},
     "output_type": "execute_result"
    }
   ],
   "source": [
    "np.random.randint(2,9,5) # i.e.Between 2 and 9, 5 random values "
   ]
  },
  {
   "cell_type": "code",
   "execution_count": 55,
   "metadata": {},
   "outputs": [
    {
     "data": {
      "text/plain": [
       "array([[4, 8, 3],\n",
       "       [6, 7, 6],\n",
       "       [6, 2, 5],\n",
       "       [5, 7, 5],\n",
       "       [6, 6, 2]])"
      ]
     },
     "execution_count": 55,
     "metadata": {},
     "output_type": "execute_result"
    }
   ],
   "source": [
    "np.random.randint(2,9,(5,3)) # i.e. Between 2 and 9, 5 by 3 matrix "
   ]
  },
  {
   "cell_type": "code",
   "execution_count": 56,
   "metadata": {},
   "outputs": [
    {
     "name": "stdout",
     "output_type": "stream",
     "text": [
      "[2 1 4 4 4 1 3 4 4 1]\n"
     ]
    },
    {
     "data": {
      "text/plain": [
       "array([[2, 1],\n",
       "       [4, 4],\n",
       "       [4, 1],\n",
       "       [3, 4],\n",
       "       [4, 1]])"
      ]
     },
     "execution_count": 56,
     "metadata": {},
     "output_type": "execute_result"
    }
   ],
   "source": [
    "arr=np.random.randint(1,5,10)\n",
    "print(arr)\n",
    "arr.reshape(5,2) # product should be same as size"
   ]
  },
  {
   "cell_type": "code",
   "execution_count": 57,
   "metadata": {},
   "outputs": [
    {
     "name": "stdout",
     "output_type": "stream",
     "text": [
      "[[22  4]\n",
      " [ 9 21]\n",
      " [14  7]\n",
      " [ 7  2]\n",
      " [16 24]]\n"
     ]
    },
    {
     "data": {
      "text/plain": [
       "array([[22,  4,  9, 21, 14],\n",
       "       [ 7,  7,  2, 16, 24]])"
      ]
     },
     "execution_count": 57,
     "metadata": {},
     "output_type": "execute_result"
    }
   ],
   "source": [
    "#IMP\n",
    "arr=np.random.randint(1,25,(5,2))\n",
    "print(arr)\n",
    "arr.reshape(2,5) # product should be same as size"
   ]
  },
  {
   "cell_type": "code",
   "execution_count": 58,
   "metadata": {},
   "outputs": [
    {
     "name": "stdout",
     "output_type": "stream",
     "text": [
      "[[93 53 55 49 64]\n",
      " [69 59 39 28 50]\n",
      " [52 71 26 88 10]]\n",
      "93\n",
      "10\n",
      "0\n",
      "14\n",
      "<built-in method argmin of numpy.ndarray object at 0x000001F366CB01B0>\n"
     ]
    }
   ],
   "source": [
    "arr=np.random.randint(1,100,(3,5))\n",
    "print(arr)\n",
    "print(arr.max())\n",
    "print(arr.min())\n",
    "print(arr.argmax()) # position of max number\n",
    "print(arr.argmin()) #default axis is\n",
    "print(arr.argmin)"
   ]
  },
  {
   "cell_type": "code",
   "execution_count": 59,
   "metadata": {},
   "outputs": [
    {
     "name": "stdout",
     "output_type": "stream",
     "text": [
      "[[30 89 10  3 94]\n",
      " [48 74  5 13 13]\n",
      " [ 2 17 37 39 51]\n",
      " [ 7 48 36 72  5]\n",
      " [32 74 99 13 53]]\n",
      "[94 74 51 72 99]\n",
      "[ 3  5  2  5 13]\n",
      "[4 1 4 3 2]\n",
      "[3 2 0 4 3]\n"
     ]
    }
   ],
   "source": [
    "#IMP\n",
    "arr=np.random.randint(1,100,(5,5))\n",
    "print(arr)\n",
    "print(arr.max(axis=1)) # In 1 D array, write all maximum values from each row\n",
    "print(arr.min(axis=1)) # In 1 D array, write all minimum values from each row\n",
    "print(arr.argmax(axis=1)) # position of max number\n",
    "print(arr.argmin(axis=1)) #position of min number"
   ]
  },
  {
   "cell_type": "code",
   "execution_count": 60,
   "metadata": {},
   "outputs": [
    {
     "name": "stdout",
     "output_type": "stream",
     "text": [
      "[[ 1 78 57 94 11]\n",
      " [98 55 58 15 31]\n",
      " [35 47 80 85 63]\n",
      " [19 56 81 95 63]]\n"
     ]
    },
    {
     "data": {
      "text/plain": [
       "array([98, 55, 58, 15, 31])"
      ]
     },
     "execution_count": 60,
     "metadata": {},
     "output_type": "execute_result"
    }
   ],
   "source": [
    "arr=np.random.randint(1,100,(4,5))\n",
    "print(arr)\n",
    "arr[1]"
   ]
  },
  {
   "cell_type": "code",
   "execution_count": 61,
   "metadata": {},
   "outputs": [
    {
     "name": "stdout",
     "output_type": "stream",
     "text": [
      "[[96 78 34 22 61]\n",
      " [ 1 42 13 61 50]\n",
      " [10 45 75 42 87]\n",
      " [33 78 92 87 97]]\n",
      "61\n",
      "61\n"
     ]
    }
   ],
   "source": [
    "arr=np.random.randint(1,100,(4,5))\n",
    "print(arr)\n",
    "print(arr[1][3])\n",
    "print(arr[1,3])"
   ]
  },
  {
   "cell_type": "code",
   "execution_count": 62,
   "metadata": {},
   "outputs": [
    {
     "name": "stdout",
     "output_type": "stream",
     "text": [
      "[[14 41 56  4  1]\n",
      " [57 28 62 75 58]\n",
      " [95 14 32 59 75]\n",
      " [ 7 53 53 29 79]]\n",
      "[[57 28 62 75 58]\n",
      " [95 14 32 59 75]]\n",
      "[[57 28 62 75 58]\n",
      " [95 14 32 59 75]\n",
      " [ 7 53 53 29 79]]\n"
     ]
    }
   ],
   "source": [
    "arr=np.random.randint(1,100,(4,5))\n",
    "print(arr)\n",
    "\n",
    "print(arr[1:3])\n",
    "\n",
    "print(arr[1:])"
   ]
  },
  {
   "cell_type": "code",
   "execution_count": 63,
   "metadata": {
    "scrolled": true
   },
   "outputs": [
    {
     "name": "stdout",
     "output_type": "stream",
     "text": [
      "[[25 51 78 85  5]\n",
      " [64 81 85 43 20]\n",
      " [61 77 67 91 72]\n",
      " [39 33 38 54 82]]\n",
      "[[64 81]\n",
      " [61 77]\n",
      " [39 33]]\n"
     ]
    }
   ],
   "source": [
    "arr=np.random.randint(1,100,(4,5))\n",
    "print(arr)\n",
    "\n",
    "print(arr[1:, :2]) #from 1st row till 2nd column only"
   ]
  },
  {
   "cell_type": "code",
   "execution_count": 64,
   "metadata": {},
   "outputs": [
    {
     "name": "stdout",
     "output_type": "stream",
     "text": [
      "[[88 37 67 24 60]\n",
      " [17 57 63 76 55]\n",
      " [33 82 11 76 69]\n",
      " [88 64 27 63 70]]\n",
      "[[88 37 67]\n",
      " [17 57 63]]\n"
     ]
    }
   ],
   "source": [
    "arr=np.random.randint(1,100,(4,5))\n",
    "print(arr)\n",
    "\n",
    "print(arr[:2,:3])"
   ]
  },
  {
   "cell_type": "code",
   "execution_count": 65,
   "metadata": {},
   "outputs": [
    {
     "name": "stdout",
     "output_type": "stream",
     "text": [
      "[[61 30 79 48 98]\n",
      " [65 17 60 90 68]\n",
      " [10 90 69 45 44]\n",
      " [31  8 39 17 42]]\n",
      "[[30 79]]\n"
     ]
    }
   ],
   "source": [
    "arr=np.random.randint(1,100,(4,5))\n",
    "print(arr)\n",
    "\n",
    "print(arr[:1,1:3])"
   ]
  },
  {
   "cell_type": "code",
   "execution_count": 66,
   "metadata": {},
   "outputs": [
    {
     "name": "stdout",
     "output_type": "stream",
     "text": [
      "[[44 99 88 98 49]\n",
      " [77 85  8 37 75]\n",
      " [ 8 21 93 50 93]\n",
      " [30 14 90 87  5]]\n",
      "[49 75 93  5]\n"
     ]
    }
   ],
   "source": [
    "arr=np.random.randint(1,100,(4,5))\n",
    "print(arr)\n",
    "\n",
    "print(arr[:,-1])"
   ]
  },
  {
   "cell_type": "code",
   "execution_count": 67,
   "metadata": {},
   "outputs": [
    {
     "data": {
      "text/plain": [
       "array([[ True,  True,  True,  True,  True],\n",
       "       [ True,  True, False,  True,  True],\n",
       "       [False, False,  True,  True,  True],\n",
       "       [ True, False,  True,  True, False]])"
      ]
     },
     "execution_count": 67,
     "metadata": {},
     "output_type": "execute_result"
    }
   ],
   "source": [
    "arr>25 # position where the condition is true, shows 'True'"
   ]
  },
  {
   "cell_type": "code",
   "execution_count": 68,
   "metadata": {},
   "outputs": [
    {
     "data": {
      "text/plain": [
       "array([[44, 99, 88, 98, 49],\n",
       "       [77, 85,  8, 37, 75],\n",
       "       [ 8, 21, 93, 50, 93],\n",
       "       [30, 14, 90, 87,  5]])"
      ]
     },
     "execution_count": 68,
     "metadata": {},
     "output_type": "execute_result"
    }
   ],
   "source": [
    "arr"
   ]
  },
  {
   "cell_type": "code",
   "execution_count": 69,
   "metadata": {},
   "outputs": [
    {
     "data": {
      "text/plain": [
       "array([44, 99, 88, 98, 49, 77, 85, 37, 75, 93, 50, 93, 30, 90, 87])"
      ]
     },
     "execution_count": 69,
     "metadata": {},
     "output_type": "execute_result"
    }
   ],
   "source": [
    "arr[arr>25] # all the values where the condition is met"
   ]
  },
  {
   "cell_type": "code",
   "execution_count": 70,
   "metadata": {},
   "outputs": [
    {
     "data": {
      "text/plain": [
       "array([44, 49, 37, 30])"
      ]
     },
     "execution_count": 70,
     "metadata": {},
     "output_type": "execute_result"
    }
   ],
   "source": [
    "arr[(arr>25) & (arr<50)]"
   ]
  },
  {
   "cell_type": "code",
   "execution_count": 71,
   "metadata": {},
   "outputs": [
    {
     "data": {
      "text/plain": [
       "array([44, 99, 88, 98, 49, 77, 85,  8, 37, 75,  8, 21, 93, 50, 93, 30, 14,\n",
       "       90, 87,  5])"
      ]
     },
     "execution_count": 71,
     "metadata": {},
     "output_type": "execute_result"
    }
   ],
   "source": [
    "arr[(arr>25) |(arr<50)] #everything will come with pipe operator"
   ]
  },
  {
   "cell_type": "code",
   "execution_count": 72,
   "metadata": {},
   "outputs": [
    {
     "data": {
      "text/plain": [
       "True"
      ]
     },
     "execution_count": 72,
     "metadata": {},
     "output_type": "execute_result"
    }
   ],
   "source": [
    "np.allclose(arr,arr)"
   ]
  },
  {
   "cell_type": "code",
   "execution_count": 73,
   "metadata": {},
   "outputs": [
    {
     "name": "stdout",
     "output_type": "stream",
     "text": [
      "[[95 18 54 51 58 74 70 32 94 60 98 43 90  7 83 55 12 56 26 31]\n",
      " [84  8  2 77 44 36 68 60 91 41 48 96 78 87 26  4  5 51 59 32]\n",
      " [83 36 20 62 81 75 53 44  9 65 70 81  8  3 14  2 80 40 69 49]\n",
      " [89 33 41 50 96 35 46 32 52 23 36 80 66 66 66 26 78 40 37 42]\n",
      " [13 78 24 58 73 90 22 90 52  8 77 70 61  4 89  8 88 14 83 32]]\n"
     ]
    }
   ],
   "source": [
    "arr1=np.random.randint(1,100,(5,20))\n",
    "print(arr1)"
   ]
  },
  {
   "cell_type": "code",
   "execution_count": 74,
   "metadata": {},
   "outputs": [
    {
     "data": {
      "text/plain": [
       "True"
      ]
     },
     "execution_count": 74,
     "metadata": {},
     "output_type": "execute_result"
    }
   ],
   "source": [
    "arr1 = np.array([34,46,56,72])\n",
    "arr2 = np.array([34, 46,56,72])\n",
    "np.allclose(arr1,arr2) # tru if all values are equal"
   ]
  },
  {
   "cell_type": "code",
   "execution_count": 75,
   "metadata": {},
   "outputs": [
    {
     "data": {
      "text/plain": [
       "False"
      ]
     },
     "execution_count": 75,
     "metadata": {},
     "output_type": "execute_result"
    }
   ],
   "source": [
    "arr1 = np.array([np.nan,46,56,72])\n",
    "arr2 = np.array([34, 46,56,72])\n",
    "np.allclose(arr1,arr2)"
   ]
  },
  {
   "cell_type": "code",
   "execution_count": 76,
   "metadata": {},
   "outputs": [
    {
     "data": {
      "text/plain": [
       "False"
      ]
     },
     "execution_count": 76,
     "metadata": {},
     "output_type": "execute_result"
    }
   ],
   "source": [
    "arr1 = np.array([np.nan,46,56,72])\n",
    "arr2 = np.array([np.nan,46,56,72]) # although both seems same as same 'np.nan' has been used, but result is false\n",
    "np.allclose(arr1,arr2)"
   ]
  },
  {
   "cell_type": "code",
   "execution_count": 77,
   "metadata": {},
   "outputs": [
    {
     "data": {
      "text/plain": [
       "array([False,  True,  True,  True])"
      ]
     },
     "execution_count": 77,
     "metadata": {},
     "output_type": "execute_result"
    }
   ],
   "source": [
    "arr1 = np.array([np.nan,46,56,72])\n",
    "arr2 = np.array([34, 46,56,72])\n",
    "\n",
    "arr1 == arr2"
   ]
  },
  {
   "cell_type": "code",
   "execution_count": 78,
   "metadata": {},
   "outputs": [
    {
     "data": {
      "text/plain": [
       "True"
      ]
     },
     "execution_count": 78,
     "metadata": {},
     "output_type": "execute_result"
    }
   ],
   "source": [
    "arr1 = np.array([np.nan,46,56,72])\n",
    "arr2 = np.array([np.nan,46,56,72])\n",
    "\n",
    "np.allclose(arr1,arr2,equal_nan=True) #'equal_nan=True' makes both the np.nan as \"SAME\"\n",
    "#'allclose' function returns \"Single boolean value\""
   ]
  },
  {
   "cell_type": "code",
   "execution_count": 79,
   "metadata": {},
   "outputs": [
    {
     "data": {
      "text/plain": [
       "False"
      ]
     },
     "execution_count": 79,
     "metadata": {},
     "output_type": "execute_result"
    }
   ],
   "source": [
    "arr1 = np.array([np.nan,46,56,72])\n",
    "arr2 = np.array([46,np.nan,56,72])\n",
    "\n",
    "np.allclose(arr1,arr2,equal_nan=True) # values are different in this case, hence false"
   ]
  },
  {
   "cell_type": "code",
   "execution_count": 80,
   "metadata": {},
   "outputs": [
    {
     "name": "stdout",
     "output_type": "stream",
     "text": [
      "[1, 3, 5]\n",
      "[2, 4, 6]\n"
     ]
    }
   ],
   "source": [
    "''' Program to transpose a matrix using list comprehension'''\n",
    "\n",
    "x = [[1,2],[3,4],[5,6]]\n",
    "result = [[x[j][i] for j in range(len(x))] for i in range(len(x[0]))]\n",
    "for r in result:\n",
    "    print(r)"
   ]
  },
  {
   "cell_type": "code",
   "execution_count": null,
   "metadata": {},
   "outputs": [],
   "source": []
  },
  {
   "cell_type": "code",
   "execution_count": null,
   "metadata": {},
   "outputs": [],
   "source": []
  },
  {
   "cell_type": "markdown",
   "metadata": {},
   "source": [
    "# Broadcast"
   ]
  },
  {
   "cell_type": "code",
   "execution_count": 81,
   "metadata": {},
   "outputs": [
    {
     "name": "stdout",
     "output_type": "stream",
     "text": [
      "[[44 99 88 98 49]\n",
      " [77 85  8 37 75]\n",
      " [ 8 21 93 50 93]\n",
      " [30 14 90 87  5]]\n"
     ]
    }
   ],
   "source": [
    "print(arr)"
   ]
  },
  {
   "cell_type": "code",
   "execution_count": 82,
   "metadata": {},
   "outputs": [
    {
     "data": {
      "text/plain": [
       "array([[44, 99, 88, 98, 49],\n",
       "       [77, 40, 40, 40, 40],\n",
       "       [ 8, 40, 40, 40, 40],\n",
       "       [30, 40, 40, 40, 40]])"
      ]
     },
     "execution_count": 82,
     "metadata": {},
     "output_type": "execute_result"
    }
   ],
   "source": [
    "arr[1:,1:] = 40 # all values in that range get changed to 40 #broadcasting\n",
    "arr"
   ]
  },
  {
   "cell_type": "code",
   "execution_count": 83,
   "metadata": {},
   "outputs": [
    {
     "name": "stdout",
     "output_type": "stream",
     "text": [
      "[44 99 88 98 49 77 40 40 40 40  8 40 40 40 40 30 40 40 40 40]\n",
      "Closest value:  40\n",
      "At position:  6\n"
     ]
    }
   ],
   "source": [
    "#IMP\n",
    "#nearest value\n",
    "arr = arr.reshape(20,)\n",
    "print(arr)\n",
    "val = 40\n",
    "\n",
    "print(\"Closest value: \", arr[np.abs(arr-val).argmin()])\n",
    "print(\"At position: \", np.abs(arr-val).argmin())"
   ]
  },
  {
   "cell_type": "code",
   "execution_count": 84,
   "metadata": {},
   "outputs": [
    {
     "name": "stdout",
     "output_type": "stream",
     "text": [
      "[44 99 88 98 49 77 40 40 40 40  8 40 40 40 40 30 40 40 40 40]\n",
      "10\n",
      "Closest value 8\n"
     ]
    }
   ],
   "source": [
    "val = 10\n",
    "print(arr)\n",
    "r = np.abs(arr-val).argmin()\n",
    "print(r)\n",
    "print(\"Closest value\", arr.flat[r]) #flat is an iterator"
   ]
  },
  {
   "cell_type": "code",
   "execution_count": 85,
   "metadata": {},
   "outputs": [
    {
     "name": "stdout",
     "output_type": "stream",
     "text": [
      "[44 99 88 98 49 77 40 40 40 40  8 40 40 40 40 30 40 40 40 40]\n",
      "Closet value 8\n"
     ]
    }
   ],
   "source": [
    "val = 10\n",
    "print(arr)\n",
    "r = np.abs(arr-val).argmin()\n",
    "print(\"Closet value\", arr.flatten()[r]) # flatten() function returns \"Vector\" version of that matrix"
   ]
  },
  {
   "cell_type": "code",
   "execution_count": 86,
   "metadata": {},
   "outputs": [
    {
     "data": {
      "text/plain": [
       "array([0, 3, 2, 0, 0, 2, 1, 1, 1, 1, 0, 0, 1, 1, 0, 1], dtype=int64)"
      ]
     },
     "execution_count": 86,
     "metadata": {},
     "output_type": "execute_result"
    }
   ],
   "source": [
    "arr = np.array([1,12,15,2,13,5,6,7,1,8,1,2,5,9]) # i.e. if these are the index value then repeated how many times??\n",
    "np.bincount(arr) #ONLY for positive index positions"
   ]
  },
  {
   "cell_type": "code",
   "execution_count": 87,
   "metadata": {},
   "outputs": [
    {
     "data": {
      "text/plain": [
       "1"
      ]
     },
     "execution_count": 87,
     "metadata": {},
     "output_type": "execute_result"
    }
   ],
   "source": [
    "arr = np.array([1,12,15,2,13,5,6,7,1,8,1,2,5,9]) # i.e. if these are the index value then repeated how many times??\n",
    "np.bincount(arr).argmax() #from that array, max value at which index position"
   ]
  },
  {
   "cell_type": "code",
   "execution_count": 88,
   "metadata": {},
   "outputs": [
    {
     "data": {
      "text/plain": [
       "array([ 1, 12, 15,  2, 13,  5,  6,  7,  1,  8,  1,  2,  5,  9])"
      ]
     },
     "execution_count": 88,
     "metadata": {},
     "output_type": "execute_result"
    }
   ],
   "source": [
    "arr"
   ]
  },
  {
   "cell_type": "code",
   "execution_count": 89,
   "metadata": {},
   "outputs": [
    {
     "data": {
      "text/plain": [
       "array([nan, 46., 56., 72.])"
      ]
     },
     "execution_count": 89,
     "metadata": {},
     "output_type": "execute_result"
    }
   ],
   "source": [
    "arr1"
   ]
  },
  {
   "cell_type": "code",
   "execution_count": 90,
   "metadata": {},
   "outputs": [
    {
     "data": {
      "text/plain": [
       "array([46., nan, 56., 72.])"
      ]
     },
     "execution_count": 90,
     "metadata": {},
     "output_type": "execute_result"
    }
   ],
   "source": [
    "arr2"
   ]
  },
  {
   "cell_type": "code",
   "execution_count": 91,
   "metadata": {},
   "outputs": [
    {
     "data": {
      "text/plain": [
       "array([1, 2, 3])"
      ]
     },
     "execution_count": 91,
     "metadata": {},
     "output_type": "execute_result"
    }
   ],
   "source": [
    "arr2 = np.array([1,2,3])\n",
    "arr2"
   ]
  },
  {
   "cell_type": "code",
   "execution_count": 92,
   "metadata": {},
   "outputs": [
    {
     "data": {
      "text/plain": [
       "array([4, 5, 6])"
      ]
     },
     "execution_count": 92,
     "metadata": {},
     "output_type": "execute_result"
    }
   ],
   "source": [
    "arr3 = np.array([4,5,6])\n",
    "arr3"
   ]
  },
  {
   "cell_type": "code",
   "execution_count": 93,
   "metadata": {},
   "outputs": [
    {
     "name": "stdout",
     "output_type": "stream",
     "text": [
      "[5 7 9]\n",
      "[-3 -3 -3]\n",
      "[ 4 10 18]\n",
      "[0.25 0.4  0.5 ]\n"
     ]
    }
   ],
   "source": [
    "print(arr2+arr3)\n",
    "print(arr2-arr3)\n",
    "print(arr2*arr3)\n",
    "print(arr2/arr3)\n"
   ]
  },
  {
   "cell_type": "code",
   "execution_count": 94,
   "metadata": {},
   "outputs": [
    {
     "name": "stdout",
     "output_type": "stream",
     "text": [
      "[1.         3.46410162 3.87298335 1.41421356 3.60555128 2.23606798\n",
      " 2.44948974 2.64575131 1.         2.82842712 1.         1.41421356\n",
      " 2.23606798 3.        ]\n"
     ]
    }
   ],
   "source": [
    "print(np.sqrt(arr))"
   ]
  },
  {
   "cell_type": "code",
   "execution_count": 95,
   "metadata": {},
   "outputs": [
    {
     "name": "stdout",
     "output_type": "stream",
     "text": [
      "[2.71828183e+00 1.62754791e+05 3.26901737e+06 7.38905610e+00\n",
      " 4.42413392e+05 1.48413159e+02 4.03428793e+02 1.09663316e+03\n",
      " 2.71828183e+00 2.98095799e+03 2.71828183e+00 7.38905610e+00\n",
      " 1.48413159e+02 8.10308393e+03]\n"
     ]
    }
   ],
   "source": [
    "print(np.exp(arr))"
   ]
  },
  {
   "cell_type": "code",
   "execution_count": 96,
   "metadata": {},
   "outputs": [
    {
     "data": {
      "text/plain": [
       "array([ 0.84147098, -0.53657292,  0.65028784,  0.90929743,  0.42016704,\n",
       "       -0.95892427, -0.2794155 ,  0.6569866 ,  0.84147098,  0.98935825,\n",
       "        0.84147098,  0.90929743, -0.95892427,  0.41211849])"
      ]
     },
     "execution_count": 96,
     "metadata": {},
     "output_type": "execute_result"
    }
   ],
   "source": [
    "np.sin(arr)"
   ]
  },
  {
   "cell_type": "code",
   "execution_count": 97,
   "metadata": {},
   "outputs": [
    {
     "data": {
      "text/plain": [
       "array([ 0.54030231,  0.84385396, -0.75968791, -0.41614684,  0.90744678,\n",
       "        0.28366219,  0.96017029,  0.75390225,  0.54030231, -0.14550003,\n",
       "        0.54030231, -0.41614684,  0.28366219, -0.91113026])"
      ]
     },
     "execution_count": 97,
     "metadata": {},
     "output_type": "execute_result"
    }
   ],
   "source": [
    "np.cos(arr)"
   ]
  },
  {
   "cell_type": "code",
   "execution_count": 98,
   "metadata": {},
   "outputs": [
    {
     "data": {
      "text/plain": [
       "array([0.        , 2.48490665, 2.7080502 , 0.69314718, 2.56494936,\n",
       "       1.60943791, 1.79175947, 1.94591015, 0.        , 2.07944154,\n",
       "       0.        , 0.69314718, 1.60943791, 2.19722458])"
      ]
     },
     "execution_count": 98,
     "metadata": {},
     "output_type": "execute_result"
    }
   ],
   "source": [
    "np.log(arr)"
   ]
  },
  {
   "cell_type": "code",
   "execution_count": 99,
   "metadata": {},
   "outputs": [
    {
     "data": {
      "text/plain": [
       "87"
      ]
     },
     "execution_count": 99,
     "metadata": {},
     "output_type": "execute_result"
    }
   ],
   "source": [
    "np.sum(arr)"
   ]
  },
  {
   "cell_type": "code",
   "execution_count": 100,
   "metadata": {},
   "outputs": [
    {
     "data": {
      "text/plain": [
       "4.5383850404643065"
      ]
     },
     "execution_count": 100,
     "metadata": {},
     "output_type": "execute_result"
    }
   ],
   "source": [
    "np.std(arr)"
   ]
  },
  {
   "cell_type": "code",
   "execution_count": 101,
   "metadata": {},
   "outputs": [
    {
     "data": {
      "text/plain": [
       "87"
      ]
     },
     "execution_count": 101,
     "metadata": {},
     "output_type": "execute_result"
    }
   ],
   "source": [
    "arr.sum()"
   ]
  },
  {
   "cell_type": "code",
   "execution_count": 102,
   "metadata": {},
   "outputs": [
    {
     "data": {
      "text/plain": [
       "87"
      ]
     },
     "execution_count": 102,
     "metadata": {},
     "output_type": "execute_result"
    }
   ],
   "source": [
    "arr.sum(axis=0)"
   ]
  },
  {
   "cell_type": "code",
   "execution_count": 103,
   "metadata": {},
   "outputs": [
    {
     "data": {
      "text/plain": [
       "array([ 1, 12, 15,  2, 13,  5,  6,  7,  1,  8,  1,  2,  5,  9])"
      ]
     },
     "execution_count": 103,
     "metadata": {},
     "output_type": "execute_result"
    }
   ],
   "source": [
    "arr"
   ]
  },
  {
   "cell_type": "code",
   "execution_count": 104,
   "metadata": {},
   "outputs": [
    {
     "data": {
      "text/plain": [
       "87"
      ]
     },
     "execution_count": 104,
     "metadata": {},
     "output_type": "execute_result"
    }
   ],
   "source": [
    "arr.sum(axis=0)"
   ]
  },
  {
   "cell_type": "code",
   "execution_count": 105,
   "metadata": {},
   "outputs": [
    {
     "name": "stdout",
     "output_type": "stream",
     "text": [
      "[[4 4]\n",
      " [3 4]\n",
      " [4 4]\n",
      " [4 2]\n",
      " [4 2]]\n"
     ]
    }
   ],
   "source": [
    "arr1=np.random.randint(2,5,(5,2))\n",
    "print(arr1)"
   ]
  },
  {
   "cell_type": "code",
   "execution_count": 106,
   "metadata": {},
   "outputs": [
    {
     "data": {
      "text/plain": [
       "array([[ 9, 11, 13],\n",
       "       [15, 17, 19]])"
      ]
     },
     "execution_count": 106,
     "metadata": {},
     "output_type": "execute_result"
    }
   ],
   "source": [
    "a = np.array([(1,2,3),(4,5,6)])\n",
    "b = np.array([(8,9,10),(11,12,13)])\n",
    "a+b"
   ]
  },
  {
   "cell_type": "code",
   "execution_count": 107,
   "metadata": {},
   "outputs": [
    {
     "data": {
      "text/plain": [
       "array([[  2.71828183,   7.3890561 ,  20.08553692],\n",
       "       [ 54.59815003, 148.4131591 , 403.42879349]])"
      ]
     },
     "execution_count": 107,
     "metadata": {},
     "output_type": "execute_result"
    }
   ],
   "source": [
    "np.exp(a)"
   ]
  },
  {
   "cell_type": "code",
   "execution_count": 108,
   "metadata": {},
   "outputs": [
    {
     "data": {
      "text/plain": [
       "nan"
      ]
     },
     "execution_count": 108,
     "metadata": {},
     "output_type": "execute_result"
    }
   ],
   "source": [
    "arr=np.array([12,45,89,10,np.nan,36,np.nan])\n",
    "np.sum(arr)"
   ]
  },
  {
   "cell_type": "code",
   "execution_count": 109,
   "metadata": {},
   "outputs": [
    {
     "data": {
      "text/plain": [
       "192.0"
      ]
     },
     "execution_count": 109,
     "metadata": {},
     "output_type": "execute_result"
    }
   ],
   "source": [
    "arr=np.array([12,45,89,10,np.nan,36,np.nan])\n",
    "np.nansum(arr)"
   ]
  },
  {
   "cell_type": "code",
   "execution_count": 110,
   "metadata": {},
   "outputs": [
    {
     "data": {
      "text/plain": [
       "True"
      ]
     },
     "execution_count": 110,
     "metadata": {},
     "output_type": "execute_result"
    }
   ],
   "source": [
    "arr=np.array([12,45,89,10,np.nan,36,np.nan])\n",
    "np.any(arr)"
   ]
  },
  {
   "cell_type": "code",
   "execution_count": 111,
   "metadata": {},
   "outputs": [
    {
     "data": {
      "text/plain": [
       "True"
      ]
     },
     "execution_count": 111,
     "metadata": {},
     "output_type": "execute_result"
    }
   ],
   "source": [
    "arr=np.array([True])\n",
    "np.any(arr)"
   ]
  },
  {
   "cell_type": "code",
   "execution_count": 112,
   "metadata": {},
   "outputs": [
    {
     "data": {
      "text/plain": [
       "True"
      ]
     },
     "execution_count": 112,
     "metadata": {},
     "output_type": "execute_result"
    }
   ],
   "source": [
    "arr=np.array([True])\n",
    "np.all(arr)"
   ]
  },
  {
   "cell_type": "markdown",
   "metadata": {},
   "source": [
    "# Fancy Indexing"
   ]
  },
  {
   "cell_type": "code",
   "execution_count": 113,
   "metadata": {},
   "outputs": [
    {
     "name": "stdout",
     "output_type": "stream",
     "text": [
      "[75 35 61 82 86 84  3 85 60 20 35 26 70  7 34 34 78 39  9 69 95 63 56 61]\n",
      "[75 61 84]\n"
     ]
    }
   ],
   "source": [
    "arr=np.random.randint(1,100,24)\n",
    "print(arr) # for an array\n",
    "ind = [0,2,5]\n",
    "print(arr[ind])# value at these 3 index position will be returned"
   ]
  },
  {
   "cell_type": "code",
   "execution_count": 114,
   "metadata": {},
   "outputs": [
    {
     "name": "stdout",
     "output_type": "stream",
     "text": [
      "[[75 35 61 82 86 84]\n",
      " [ 3 85 60 20 35 26]\n",
      " [70  7 34 34 78 39]\n",
      " [ 9 69 95 63 56 61]]\n",
      "[[75 35 61 82 86 84]\n",
      " [70  7 34 34 78 39]]\n"
     ]
    }
   ],
   "source": [
    "arr = arr.reshape(4,6) # for a matrix\n",
    "print(arr)\n",
    "ind = [0,2]\n",
    "print(arr[ind])# value at these 3 index position will be returned"
   ]
  },
  {
   "cell_type": "code",
   "execution_count": 115,
   "metadata": {},
   "outputs": [
    {
     "data": {
      "text/plain": [
       "array([34, 70,  7])"
      ]
     },
     "execution_count": 115,
     "metadata": {},
     "output_type": "execute_result"
    }
   ],
   "source": [
    "row = [1,2,0]\n",
    "col = [2,0,1]\n",
    "arr[2,col] # i.e in row 2, show column values at index 2,0,1"
   ]
  },
  {
   "cell_type": "code",
   "execution_count": 116,
   "metadata": {},
   "outputs": [
    {
     "data": {
      "text/plain": [
       "array([60, 34, 61])"
      ]
     },
     "execution_count": 116,
     "metadata": {},
     "output_type": "execute_result"
    }
   ],
   "source": [
    "row = [1,2,0]\n",
    "col = [2,0,1]\n",
    "arr[row,2] "
   ]
  },
  {
   "cell_type": "code",
   "execution_count": 117,
   "metadata": {},
   "outputs": [
    {
     "data": {
      "text/plain": [
       "array([[ 75,  35, 100,  82,  86,  84],\n",
       "       [  3,  85, 100,  20,  35,  26],\n",
       "       [ 70,   7, 100,  34,  78,  39],\n",
       "       [  9,  69,  95,  63,  56,  61]])"
      ]
     },
     "execution_count": 117,
     "metadata": {},
     "output_type": "execute_result"
    }
   ],
   "source": [
    "row = [1,2,0]\n",
    "col = [2,0,1]\n",
    "arr[row,2]=100\n",
    "arr"
   ]
  },
  {
   "cell_type": "code",
   "execution_count": 118,
   "metadata": {},
   "outputs": [
    {
     "data": {
      "text/plain": [
       "array([[ 75,  35, 100,  82,  86, 100],\n",
       "       [  3,  85, 100,  20,  35, 100],\n",
       "       [ 70,   7, 100,  34,  78, 100],\n",
       "       [  9,  69,  95,  63,  56,  61]])"
      ]
     },
     "execution_count": 118,
     "metadata": {},
     "output_type": "execute_result"
    }
   ],
   "source": [
    "row = [1,2,0]\n",
    "col = [2,0,1]\n",
    "arr[row,5:]=100\n",
    "arr"
   ]
  },
  {
   "cell_type": "code",
   "execution_count": 119,
   "metadata": {},
   "outputs": [
    {
     "name": "stdout",
     "output_type": "stream",
     "text": [
      "[4 3 4]\n",
      "[4 4 4]\n"
     ]
    }
   ],
   "source": [
    "row=[0 ,1 ,0]\n",
    "col=[1,0,1]\n",
    "\n",
    "print(arr1[row,col])\n",
    "print(arr1[row,1])"
   ]
  },
  {
   "cell_type": "code",
   "execution_count": 120,
   "metadata": {},
   "outputs": [
    {
     "data": {
      "text/plain": [
       "array([[4, 4],\n",
       "       [3, 4],\n",
       "       [4, 4],\n",
       "       [4, 2],\n",
       "       [4, 2]])"
      ]
     },
     "execution_count": 120,
     "metadata": {},
     "output_type": "execute_result"
    }
   ],
   "source": [
    "arr1"
   ]
  },
  {
   "cell_type": "markdown",
   "metadata": {},
   "source": [
    "# Sorting"
   ]
  },
  {
   "cell_type": "code",
   "execution_count": 121,
   "metadata": {},
   "outputs": [
    {
     "data": {
      "text/plain": [
       "array([ 2, 11,  3,  4, 29, 36, 36, 34, 34, 45])"
      ]
     },
     "execution_count": 121,
     "metadata": {},
     "output_type": "execute_result"
    }
   ],
   "source": [
    "arr = np.random.randint(1,50,10)\n",
    "arr"
   ]
  },
  {
   "cell_type": "code",
   "execution_count": 122,
   "metadata": {},
   "outputs": [
    {
     "name": "stdout",
     "output_type": "stream",
     "text": [
      "[0 2 1 4 3 5 6 7 8 9]\n"
     ]
    }
   ],
   "source": [
    "arr_sort = np.sort(arr)[::-1]\n",
    "print(np.argsort(arr_sort)[::-1])"
   ]
  },
  {
   "cell_type": "code",
   "execution_count": 123,
   "metadata": {},
   "outputs": [
    {
     "name": "stdout",
     "output_type": "stream",
     "text": [
      "[45 36 36 34 34 29 11  4  3  2]\n",
      "None\n"
     ]
    }
   ],
   "source": [
    "arr = np.sort(arr)[::-1] # to reverse\n",
    "print(arr)\n",
    "\n",
    "arr=arr.reshape(2,5)\n",
    "print(arr.sort(axis=1))"
   ]
  },
  {
   "cell_type": "code",
   "execution_count": 124,
   "metadata": {},
   "outputs": [
    {
     "name": "stdout",
     "output_type": "stream",
     "text": [
      "[[ 4 22 22 11]\n",
      " [45 22 17 24]\n",
      " [14 43 46 12]]\n",
      "[[ 4 11 22 22]\n",
      " [12 14 43 46]]\n"
     ]
    }
   ],
   "source": [
    "arr = np.random.randint(1,50,[3,4])\n",
    "print(arr)\n",
    "arr = np.sort(arr)[::2] # to reverse\n",
    "print(arr)"
   ]
  },
  {
   "cell_type": "code",
   "execution_count": 125,
   "metadata": {},
   "outputs": [
    {
     "name": "stdout",
     "output_type": "stream",
     "text": [
      "[[36  8 46 12]\n",
      " [24 18  7 31]\n",
      " [46 25 35 18]]\n",
      "[[ 8 12 36 46]\n",
      " [ 7 18 24 31]\n",
      " [18 25 35 46]]\n"
     ]
    }
   ],
   "source": [
    "arr = np.random.randint(1,50,[3,4])\n",
    "print(arr)\n",
    "\n",
    "arr.sort(axis=1) #1 means sort row wise \n",
    "print(arr)"
   ]
  },
  {
   "cell_type": "code",
   "execution_count": 126,
   "metadata": {},
   "outputs": [
    {
     "name": "stdout",
     "output_type": "stream",
     "text": [
      "[[36 41 37 21]\n",
      " [30 30 38 46]\n",
      " [43 17  2 37]]\n",
      "[[30 17  2 21]\n",
      " [36 30 37 37]\n",
      " [43 41 38 46]]\n"
     ]
    }
   ],
   "source": [
    "arr = np.random.randint(1,50,[3,4])\n",
    "print(arr)\n",
    "\n",
    "arr.sort(axis=0) #1 means sort column wise \n",
    "print(arr)"
   ]
  },
  {
   "cell_type": "code",
   "execution_count": 127,
   "metadata": {},
   "outputs": [
    {
     "name": "stdout",
     "output_type": "stream",
     "text": [
      "[0.61112116]\n"
     ]
    }
   ],
   "source": [
    "print(np.random.randn(1))"
   ]
  },
  {
   "cell_type": "code",
   "execution_count": 128,
   "metadata": {},
   "outputs": [
    {
     "name": "stdout",
     "output_type": "stream",
     "text": [
      "[[16 23 33 47]\n",
      " [ 3  6  8 20]\n",
      " [25 28 33 43]]\n"
     ]
    }
   ],
   "source": [
    "arr = np.random.randint(1,50,[3,4])\n",
    "arr.sort() #default is row wise sorting\n",
    "print(arr)"
   ]
  },
  {
   "cell_type": "code",
   "execution_count": 129,
   "metadata": {},
   "outputs": [
    {
     "name": "stdout",
     "output_type": "stream",
     "text": [
      "[[12  4 20 10]\n",
      " [39 36 28 33]\n",
      " [40 46 31 34]]\n"
     ]
    }
   ],
   "source": [
    "arr = np.random.randint(1,50,[3,4])\n",
    "arr.sort(axis=0)#0 means sort columnwise\n",
    "print(arr)"
   ]
  },
  {
   "cell_type": "code",
   "execution_count": 130,
   "metadata": {},
   "outputs": [
    {
     "name": "stdout",
     "output_type": "stream",
     "text": [
      "[ 2  2  2  4  5  5  5  7  8  8 10 12]\n"
     ]
    }
   ],
   "source": [
    "arr = np.array([2, 2, 2, 4, 5, 5, 5, 7, 8, 8, 10, 12])\n",
    "print(np.sort(arr, axis=None, kind=\"mergesort\", order=None))\n",
    "#4 parameters are 'array to be sorted', 'axis parameter (integer)','sorting algorithm parameter (string)','order parameter (string)'"
   ]
  },
  {
   "cell_type": "code",
   "execution_count": 131,
   "metadata": {},
   "outputs": [
    {
     "name": "stdout",
     "output_type": "stream",
     "text": [
      "[list([1]) list([]) list([])]\n"
     ]
    },
    {
     "data": {
      "text/plain": [
       "array([], shape=(0, 1), dtype=int64)"
      ]
     },
     "execution_count": 131,
     "metadata": {},
     "output_type": "execute_result"
    }
   ],
   "source": [
    "arr = np.array( [[1],[],[]],dtype='object')\n",
    "print(arr)\n",
    "np.argwhere(arr==3) # all positions where '3' is present"
   ]
  },
  {
   "cell_type": "code",
   "execution_count": 132,
   "metadata": {},
   "outputs": [
    {
     "name": "stdout",
     "output_type": "stream",
     "text": [
      "[[15 15]\n",
      " [15 15]]\n"
     ]
    }
   ],
   "source": [
    "print(np.random.randint(15,16,(2,2)))"
   ]
  },
  {
   "cell_type": "code",
   "execution_count": 133,
   "metadata": {},
   "outputs": [
    {
     "name": "stdout",
     "output_type": "stream",
     "text": [
      "[[15 16]\n",
      " [15 15]]\n"
     ]
    }
   ],
   "source": [
    "print(np.eye(2,2,1,'int32')+15)"
   ]
  },
  {
   "cell_type": "code",
   "execution_count": 134,
   "metadata": {},
   "outputs": [
    {
     "data": {
      "text/plain": [
       "array([[3., 2., 2.],\n",
       "       [2., 3., 2.],\n",
       "       [2., 2., 3.]])"
      ]
     },
     "execution_count": 134,
     "metadata": {},
     "output_type": "execute_result"
    }
   ],
   "source": [
    "# add 2 to e\n",
    "import numpy as np\n",
    "e = np.eye(3)\n",
    "e2 = e + 2\n",
    "e2"
   ]
  },
  {
   "cell_type": "markdown",
   "metadata": {},
   "source": [
    "# partition: partial sort"
   ]
  },
  {
   "cell_type": "code",
   "execution_count": 135,
   "metadata": {},
   "outputs": [
    {
     "name": "stdout",
     "output_type": "stream",
     "text": [
      "[18  6 19 17  8 38 11  2  1 33]\n",
      "[ 1  2  6  8 11 17 18 38 19 33]\n"
     ]
    }
   ],
   "source": [
    "arr = np.random.randint(1,50,10)\n",
    "print(arr)\n",
    "print(np.partition(arr,5)) #sorted first "
   ]
  },
  {
   "cell_type": "markdown",
   "metadata": {},
   "source": [
    "# NumPy’s Structured Arrays"
   ]
  },
  {
   "cell_type": "code",
   "execution_count": 136,
   "metadata": {},
   "outputs": [
    {
     "name": "stdout",
     "output_type": "stream",
     "text": [
      "[(1, b'macbook', 568.) (2, b'thinkpad', 545.) (0, b'',   0.)]\n",
      "macbook\n",
      "thinkpad\n",
      "\n"
     ]
    }
   ],
   "source": [
    "import numpy as np # using tuples\n",
    "product = np.zeros(3, dtype=[('id','i4'),('name', 'a20'), ('price', 'f4')])\n",
    "product[0]=(1,'macbook',568.00)\n",
    "\n",
    "product[1]=(2,'thinkpad',545.00)\n",
    "print(product)\n",
    "for i in product:\n",
    "    print(i['name'].decode('utf-8')) "
   ]
  },
  {
   "cell_type": "code",
   "execution_count": 137,
   "metadata": {},
   "outputs": [
    {
     "name": "stdout",
     "output_type": "stream",
     "text": [
      "[ 100. 1990.    0.    0.    0.]\n",
      "[(1, b'vipin',  100.) (2, b'suman', 1990.) (0, b'',    0.) (0, b'',    0.)\n",
      " (0, b'',    0.)]\n"
     ]
    }
   ],
   "source": [
    "student = np.zeros(5,dtype={'names': ['roll no', 'name', 'marks'],'formats': ['i4','a20','f4']})\n",
    "student[0] = (1,'vipin', 100)\n",
    "student[1] = (2,'suman', 1990)\n",
    "snames =student['marks']\n",
    "print(snames)\n",
    "print(student)"
   ]
  },
  {
   "cell_type": "raw",
   "metadata": {},
   "source": [
    "1. Find the rows for which the first value (value in position 0) in the row is greater than 2.\n",
    "\n",
    "example_list = np.array([[1, 2, 4, 3],[3, 5, 4 ,2],[4, 6, 1, 7],[5, 3, 3, 1],[0, 4, 3, 2], [1 ,9 ,8, 3]])\n",
    "print(example_list)\n",
    "\n",
    "print(example_list[example_list[:,0]>2])"
   ]
  },
  {
   "cell_type": "code",
   "execution_count": 138,
   "metadata": {},
   "outputs": [
    {
     "name": "stdout",
     "output_type": "stream",
     "text": [
      "[[1 2 4 3]\n",
      " [3 5 4 2]\n",
      " [4 6 1 7]\n",
      " [5 3 3 1]\n",
      " [0 4 3 2]\n",
      " [1 9 8 3]]\n",
      "[[0 4 3 2]]\n"
     ]
    }
   ],
   "source": [
    "# 2.Find the rows where the element in position 2 in the row equals 4\n",
    "example_list = np.array([[1, 2, 4, 3],[3, 5, 4 ,2],[4, 6, 1, 7],[5, 3, 3, 1],[0, 4, 3, 2], [1 ,9 ,8, 3]])\n",
    "print(example_list)\n",
    "\n",
    "print(example_list[example_list[:,1]==4])"
   ]
  },
  {
   "cell_type": "code",
   "execution_count": 139,
   "metadata": {},
   "outputs": [
    {
     "name": "stdout",
     "output_type": "stream",
     "text": [
      "[[3 4 5]]\n",
      "[[3 5 4]]\n"
     ]
    },
    {
     "data": {
      "text/plain": [
       "False"
      ]
     },
     "execution_count": 139,
     "metadata": {},
     "output_type": "execute_result"
    }
   ],
   "source": [
    "# 4.Check whether the two arrays are equal: ar_list1=[3,4,5] ; ar_list2=[3,5,4]\n",
    "ar_list1 = np.array([[3,4,5]])\n",
    "print(ar_list1)\n",
    "\n",
    "ar_list2 = np.array([[3,5,4]])\n",
    "print(ar_list2)\n",
    "\n",
    "np.allclose(ar_list1,ar_list2)"
   ]
  },
  {
   "cell_type": "code",
   "execution_count": 140,
   "metadata": {},
   "outputs": [
    {
     "name": "stdout",
     "output_type": "stream",
     "text": [
      "[[63 22 73  7]\n",
      " [72 78 57 55]\n",
      " [65 52 46 10]\n",
      " [92 45 47 84]\n",
      " [13 75 42 23]\n",
      " [62 66 87 29]\n",
      " [59 76 21 42]\n",
      " [24 65 14 82]\n",
      " [91 32 54 95]\n",
      " [27 57 65 53]]\n",
      "[[63 22 73  7]\n",
      " [72 78 57 55]\n",
      " [65 52 46 10]\n",
      " [92 45 47 84]\n",
      " [13 75 42 23]]\n",
      "[[63 22 73  7 72 78 57 55 65 52 46 10 92 45 47 84 13 75 42 23]]\n"
     ]
    }
   ],
   "source": [
    "# 5.Create a random 10x4 array and extract the first five rows of the array and store them into a variable.\n",
    "arr=np.random.randint(1,100,(10,4))\n",
    "print(arr)\n",
    "\n",
    "#print(arr[:5])\n",
    "arr_1to5 = arr[:5]\n",
    "print(arr_1to5)\n",
    "\n",
    "arr_1to5=arr_1to5.reshape(1,20)\n",
    "print(arr_1to5)"
   ]
  },
  {
   "cell_type": "code",
   "execution_count": 141,
   "metadata": {},
   "outputs": [
    {
     "name": "stdout",
     "output_type": "stream",
     "text": [
      "original array is:  [60 11 37 35 77 11 45 89 34 63]\n",
      "Sorted in ascending order:  [11 11 34 35 37 45 60 63 77 89]\n",
      "Sorted in descending order:  [89 77 63 60 45 37 35 34 11 11]\n"
     ]
    }
   ],
   "source": [
    "# 6.Create a random vector of size 10 and sort it in ascending and descending.\n",
    "import numpy as np\n",
    "arr=np.random.randint(1,100,10)\n",
    "print(\"original array is: \", arr)\n",
    "\n",
    "arr_sort_asc = np.sort(arr)\n",
    "print(\"Sorted in ascending order: \", arr_sort_asc)\n",
    "\n",
    "arr_sort_desc = np.sort(arr)[::-1]\n",
    "print(\"Sorted in descending order: \", arr_sort_desc)"
   ]
  },
  {
   "cell_type": "code",
   "execution_count": 142,
   "metadata": {},
   "outputs": [
    {
     "name": "stdout",
     "output_type": "stream",
     "text": [
      "[[12  3  4]\n",
      " [ 6  7  4]\n",
      " [10  8 11]]\n"
     ]
    },
    {
     "data": {
      "text/plain": [
       "8"
      ]
     },
     "execution_count": 142,
     "metadata": {},
     "output_type": "execute_result"
    }
   ],
   "source": [
    "# 7.Find the nearest value from a given value in an array:\n",
    "# example_list = [[12,3,4],[6,7,4],[10,8,11]] & value is 7.8\n",
    "\n",
    "example_list=np.array([[12,3,4],[6,7,4],[10,8,11]])\n",
    "print(example_list)\n",
    "val = 7.8\n",
    "example_list.flat[np.abs(example_list-val).argmin()]"
   ]
  },
  {
   "cell_type": "code",
   "execution_count": 143,
   "metadata": {},
   "outputs": [
    {
     "name": "stdout",
     "output_type": "stream",
     "text": [
      "[22 44 60 24 52 91 92 51 14 12 12 16 65 30 89]\n",
      "92\n",
      "[22 44 60 24 52 91 -1 51 14 12 12 16 65 30 89]\n"
     ]
    }
   ],
   "source": [
    "# 8.Create a random vector of size 15 and replace the maximum value by -1\n",
    "import numpy as np\n",
    "arr=np.random.randint(1,100,15)\n",
    "print(arr)\n",
    "print(arr.max())\n",
    "arr[arr.argmax()]=-1\n",
    "print(arr)"
   ]
  },
  {
   "cell_type": "code",
   "execution_count": 144,
   "metadata": {},
   "outputs": [
    {
     "name": "stdout",
     "output_type": "stream",
     "text": [
      "[5.0, 4.0, 3.0]\n",
      "[5.0, 4.0, 3.0]\n"
     ]
    }
   ],
   "source": [
    "#Calculate speed of a bike\n",
    "speed =[]\n",
    "distance = [10,20,30]\n",
    "time = [2,5,10]\n",
    "\n",
    "for i in range (len(distance)):\n",
    "    speed.append (distance[i]/time[i])\n",
    "    \n",
    "print(speed)\n",
    "print([d/t for d,t in zip(distance,time)])"
   ]
  },
  {
   "cell_type": "markdown",
   "metadata": {},
   "source": [
    "# Scipy"
   ]
  },
  {
   "cell_type": "code",
   "execution_count": 145,
   "metadata": {},
   "outputs": [],
   "source": [
    "# https://docs.scipy.org/doc/scipy/reference/"
   ]
  },
  {
   "cell_type": "code",
   "execution_count": 146,
   "metadata": {},
   "outputs": [],
   "source": [
    "from scipy import cluster"
   ]
  },
  {
   "cell_type": "markdown",
   "metadata": {},
   "source": [
    "# Special function"
   ]
  },
  {
   "cell_type": "code",
   "execution_count": 147,
   "metadata": {},
   "outputs": [
    {
     "name": "stdout",
     "output_type": "stream",
     "text": [
      "100.0\n"
     ]
    }
   ],
   "source": [
    "from scipy import special\n",
    "a=special.exp10(2)\n",
    "print(a)"
   ]
  },
  {
   "cell_type": "code",
   "execution_count": 148,
   "metadata": {},
   "outputs": [
    {
     "name": "stdout",
     "output_type": "stream",
     "text": [
      "8.0\n"
     ]
    }
   ],
   "source": [
    "b= special.exp2(3)\n",
    "print(b)"
   ]
  },
  {
   "cell_type": "code",
   "execution_count": 149,
   "metadata": {},
   "outputs": [
    {
     "name": "stdout",
     "output_type": "stream",
     "text": [
      "1.0\n"
     ]
    }
   ],
   "source": [
    "c = special.sindg(90)\n",
    "print(c)"
   ]
  },
  {
   "cell_type": "code",
   "execution_count": 150,
   "metadata": {},
   "outputs": [
    {
     "name": "stdout",
     "output_type": "stream",
     "text": [
      "0.7071067811865475\n"
     ]
    }
   ],
   "source": [
    "c = special.cosdg(45)\n",
    "print(c)"
   ]
  },
  {
   "cell_type": "markdown",
   "metadata": {},
   "source": [
    "# Integration function"
   ]
  },
  {
   "cell_type": "code",
   "execution_count": 151,
   "metadata": {},
   "outputs": [
    {
     "name": "stdout",
     "output_type": "stream",
     "text": [
      "(3.9086503371292665, 4.3394735994897923e-14)\n"
     ]
    }
   ],
   "source": [
    "import scipy.integrate as integrate\n",
    "import scipy\n",
    "i =scipy.integrate.quad(lambda x: special.exp10(x),0,1)\n",
    "print(i)"
   ]
  },
  {
   "cell_type": "code",
   "execution_count": 152,
   "metadata": {},
   "outputs": [
    {
     "data": {
      "text/plain": [
       "(-0.0, 4.405142707569776e-14)"
      ]
     },
     "execution_count": 152,
     "metadata": {},
     "output_type": "execute_result"
    }
   ],
   "source": [
    "e = lambda x,y: x*y**2\n",
    "f = lambda x: 1\n",
    "g = lambda x: -1\n",
    "integrate.dblquad(e,0,2,f,g)"
   ]
  },
  {
   "cell_type": "code",
   "execution_count": 153,
   "metadata": {},
   "outputs": [
    {
     "name": "stdout",
     "output_type": "stream",
     "text": [
      "[10.-0.j -2.+2.j -2.-0.j -2.-2.j]\n"
     ]
    }
   ],
   "source": [
    "# Fourier Transformations\n",
    "from scipy.fftpack import fft,ifft\n",
    "import numpy as np\n",
    "x = np.array([1,2,3,4])\n",
    "y = fft(x)\n",
    "print(y)"
   ]
  },
  {
   "cell_type": "code",
   "execution_count": 154,
   "metadata": {},
   "outputs": [
    {
     "name": "stdout",
     "output_type": "stream",
     "text": [
      "[ 2.5-0.j  -0.5-0.5j -0.5-0.j  -0.5+0.5j]\n"
     ]
    }
   ],
   "source": [
    "from scipy.fftpack import fft,ifft\n",
    "import numpy as np\n",
    "x = np.array([1,2,3,4])\n",
    "y = ifft(x)\n",
    "print(y)"
   ]
  },
  {
   "cell_type": "code",
   "execution_count": 155,
   "metadata": {},
   "outputs": [
    {
     "name": "stdout",
     "output_type": "stream",
     "text": [
      "[[-2.   1. ]\n",
      " [ 1.5 -0.5]]\n"
     ]
    }
   ],
   "source": [
    "# Linear Algebra\n",
    "#Inverse of a matrix\n",
    "from scipy import linalg\n",
    "a = np.array([[1,2],[3,4]])\n",
    "b = linalg.inv(a)\n",
    "print(b)"
   ]
  },
  {
   "cell_type": "markdown",
   "metadata": {},
   "source": [
    "# Interpolate Function"
   ]
  },
  {
   "cell_type": "code",
   "execution_count": 156,
   "metadata": {},
   "outputs": [
    {
     "data": {
      "image/png": "[encoded data removed]",
      "text/plain": [
       "<Figure size 432x288 with 1 Axes>"
      ]
     },
     "metadata": {
      "needs_background": "light"
     },
     "output_type": "display_data"
    }
   ],
   "source": [
    "import  matplotlib.pyplot as plt\n",
    "from scipy import interpolate\n",
    "x = np.arange(5,20)\n",
    "y = np.exp(x/3)\n",
    "\n",
    "f = interpolate.interp1d(x,y)\n",
    "\n",
    "x1 = np.arange(6,12)\n",
    "y1 = f(x1)\n",
    "\n",
    "plt.plot(x,y,'o',x1,y1,'--')\n",
    "plt.show()"
   ]
  },
  {
   "cell_type": "code",
   "execution_count": null,
   "metadata": {},
   "outputs": [],
   "source": []
  },
  {
   "cell_type": "code",
   "execution_count": null,
   "metadata": {},
   "outputs": [],
   "source": []
  },
  {
   "cell_type": "code",
   "execution_count": 157,
   "metadata": {},
   "outputs": [],
   "source": [
    "# https://www.youtube.com/playlist?list=PL5-da3qGB5ICCsgW1MxlZ0Hq8LL5U3u9y\n",
    "import numpy as np\n",
    "import pandas as pd"
   ]
  },
  {
   "cell_type": "code",
   "execution_count": 158,
   "metadata": {},
   "outputs": [
    {
     "name": "stdout",
     "output_type": "stream",
     "text": [
      "[6 5 7 7 5]\n",
      "a    6\n",
      "b    5\n",
      "c    7\n",
      "d    7\n",
      "e    5\n",
      "dtype: int32\n"
     ]
    },
    {
     "data": {
      "text/plain": [
       "a    6.0\n",
       "b    5.0\n",
       "c    7.0\n",
       "d    7.0\n",
       "e    5.0\n",
       "dtype: float32"
      ]
     },
     "execution_count": 158,
     "metadata": {},
     "output_type": "execute_result"
    }
   ],
   "source": [
    "arr=np.random.randint(5,10,5)#random array\n",
    "print(arr)\n",
    "\n",
    "se1 = pd.Series(arr,index=['a','b','c','d','e'])\n",
    "print(se1)\n",
    "\n",
    "se1 = pd.Series(arr,index=['a','b','c','d','e'],dtype='float32') # only \"float\" is also valid Index is passed as a list\n",
    "se1"
   ]
  },
  {
   "cell_type": "code",
   "execution_count": 159,
   "metadata": {},
   "outputs": [
    {
     "name": "stdout",
     "output_type": "stream",
     "text": [
      "a    17\n",
      "b    22\n",
      "c     3\n",
      "d     6\n",
      "e    15\n",
      "f    16\n",
      "g     2\n",
      "h     6\n",
      "i     7\n",
      "j    24\n",
      "k    17\n",
      "l     5\n",
      "m     8\n",
      "n    22\n",
      "o     8\n",
      "p    17\n",
      "q    22\n",
      "r    23\n",
      "s    19\n",
      "t    18\n",
      "u     1\n",
      "v     1\n",
      "w     3\n",
      "x    15\n",
      "y    25\n",
      "z     9\n",
      "dtype: int32\n"
     ]
    }
   ],
   "source": [
    "arr=np.random.randint(1,26,26)#random array\n",
    "\n",
    "ind = []\n",
    "for i in range(97,123):\n",
    "    ind.append(chr(i))\n",
    "se1 = pd.Series(arr,index=ind)\n",
    "print(se1)"
   ]
  },
  {
   "cell_type": "code",
   "execution_count": 160,
   "metadata": {},
   "outputs": [
    {
     "name": "stdout",
     "output_type": "stream",
     "text": [
      "one      1\n",
      "two      2\n",
      "three    3\n",
      "dtype: int64\n"
     ]
    }
   ],
   "source": [
    "#pass value as dictionary\n",
    "dict1={'one': 1,'two': 2,'three': 3}\n",
    "se_dict = pd.Series(dict1)\n",
    "print(se_dict)"
   ]
  },
  {
   "cell_type": "code",
   "execution_count": 161,
   "metadata": {},
   "outputs": [
    {
     "name": "stdout",
     "output_type": "stream",
     "text": [
      "Three    NaN\n",
      "one      1.0\n",
      "a        NaN\n",
      "dtype: float64\n"
     ]
    }
   ],
   "source": [
    "dict1={'one': 1,'two': 2,'three': 3}\n",
    "se_dict = pd.Series(dict1,index=['Three','one','a'])\n",
    "# If key is 'unrecognized'then NaN will appear. Beacuse of NaN, changed  from int64 to float64,\n",
    "print(se_dict)"
   ]
  },
  {
   "cell_type": "code",
   "execution_count": 162,
   "metadata": {},
   "outputs": [
    {
     "data": {
      "text/plain": [
       "1    5\n",
       "2    5\n",
       "3    5\n",
       "dtype: int64"
      ]
     },
     "execution_count": 162,
     "metadata": {},
     "output_type": "execute_result"
    }
   ],
   "source": [
    "sca =5\n",
    "se_sca = pd.Series(sca, index=[1,2,3]) # Scala value will be assigned to all the index values\n",
    "se_sca"
   ]
  },
  {
   "cell_type": "code",
   "execution_count": 163,
   "metadata": {},
   "outputs": [
    {
     "name": "stdout",
     "output_type": "stream",
     "text": [
      "a    1\n",
      "b    2\n",
      "c    3\n",
      "dtype: int64 \n",
      "\n",
      "1 \n",
      "\n",
      "a    1\n",
      "b    2\n",
      "c    3\n",
      "dtype: int64 \n",
      "\n",
      "c    3\n",
      "b    2\n",
      "a    1\n",
      "dtype: int64 \n",
      "\n",
      "a    1\n",
      "b    2\n",
      "dtype: int64 \n",
      "\n"
     ]
    }
   ],
   "source": [
    "d1 ={'a':1,'b':2,'c':3}\n",
    "se2=pd.Series(d1)\n",
    "print(se2, '\\n')\n",
    "\n",
    "print(se2['a'],'\\n')\n",
    "\n",
    "print(se2[['a','b','c']],'\\n') # for more indices\n",
    "\n",
    "print(se2[::-1],'\\n')\n",
    "print(se2[0:-1],'\\n')"
   ]
  },
  {
   "cell_type": "code",
   "execution_count": 164,
   "metadata": {},
   "outputs": [
    {
     "name": "stdout",
     "output_type": "stream",
     "text": [
      "mean:  2.0\n"
     ]
    },
    {
     "data": {
      "text/plain": [
       "c    3\n",
       "dtype: int64"
      ]
     },
     "execution_count": 164,
     "metadata": {},
     "output_type": "execute_result"
    }
   ],
   "source": [
    "print('mean: ', se2.mean())\n",
    "se2[se2>se2.mean()]"
   ]
  },
  {
   "cell_type": "code",
   "execution_count": 165,
   "metadata": {},
   "outputs": [
    {
     "name": "stdout",
     "output_type": "stream",
     "text": [
      "a    1\n",
      "b    2\n",
      "c    3\n",
      "dtype: int64 \n",
      " a    1\n",
      "c    3\n",
      "e    5\n",
      "dtype: int64\n",
      "a    2.0\n",
      "b    NaN\n",
      "c    6.0\n",
      "e    NaN\n",
      "dtype: float64 \n",
      "\n",
      "a    0.0\n",
      "b    NaN\n",
      "c    0.0\n",
      "e    NaN\n",
      "dtype: float64\n",
      "a    1.0\n",
      "b    NaN\n",
      "c    9.0\n",
      "e    NaN\n",
      "dtype: float64\n",
      "a    1.0\n",
      "b    NaN\n",
      "c    1.0\n",
      "e    NaN\n",
      "dtype: float64\n",
      "a    6\n",
      "b    7\n",
      "c    8\n",
      "dtype: int64\n"
     ]
    }
   ],
   "source": [
    "se3 = pd.Series({'a':1,'c':3,'e':5})\n",
    "print(se2,'\\n',se3)\n",
    "print(se2+se3,'\\n')\n",
    "print(se2-se3)\n",
    "print(se2*se3)\n",
    "print(se2/se3)\n",
    "print(se2+5)"
   ]
  },
  {
   "cell_type": "code",
   "execution_count": 166,
   "metadata": {},
   "outputs": [
    {
     "name": "stdout",
     "output_type": "stream",
     "text": [
      "0    5\n",
      "dtype: int64\n",
      "0    10\n",
      "dtype: int64\n",
      "0    15\n",
      "dtype: int64 \n",
      "\n",
      "0   -5\n",
      "dtype: int64 \n",
      "\n",
      "0    50\n",
      "dtype: int64 \n",
      "\n",
      "0    0.5\n",
      "dtype: float64 \n",
      "\n"
     ]
    }
   ],
   "source": [
    "#Using Scala\n",
    "sca_1 = 5\n",
    "se_sca_1 = pd.Series(sca_1)\n",
    "print(se_sca_1)\n",
    "\n",
    "sca_2 = 10\n",
    "se_sca_2 = pd.Series(sca_2)\n",
    "print(se_sca_2)\n",
    "\n",
    "print(se_sca_1+se_sca_2,'\\n')\n",
    "print(se_sca_1-se_sca_2,'\\n')\n",
    "print(se_sca_1*se_sca_2,'\\n')\n",
    "print(se_sca_1/se_sca_2,'\\n')"
   ]
  },
  {
   "cell_type": "code",
   "execution_count": 167,
   "metadata": {},
   "outputs": [
    {
     "name": "stdout",
     "output_type": "stream",
     "text": [
      "a    13\n",
      "b    67\n",
      "c    90\n",
      "d    67\n",
      "e    34\n",
      "f     6\n",
      "g    89\n",
      "h    32\n",
      "Name: scalar, dtype: int64\n",
      "a    13\n",
      "b    67\n",
      "c    90\n",
      "d    67\n",
      "e    34\n",
      "f     6\n",
      "g    89\n",
      "h    32\n",
      "Name: scalar_Rename, dtype: int64\n"
     ]
    }
   ],
   "source": [
    "#Assigning a name to a series\n",
    "se5 = pd.Series([13,67,90,67,34,6,89,32],index=['a','b','c','d','e','f','g','h'], name='scalar')#Giving name\n",
    "print(se5)\n",
    "se5 = se5.rename('scalar_Rename')#renamed\n",
    "print(se5)"
   ]
  },
  {
   "cell_type": "code",
   "execution_count": null,
   "metadata": {},
   "outputs": [],
   "source": []
  },
  {
   "cell_type": "code",
   "execution_count": null,
   "metadata": {},
   "outputs": [],
   "source": []
  },
  {
   "cell_type": "code",
   "execution_count": null,
   "metadata": {},
   "outputs": [],
   "source": []
  }
 ],
 "metadata": {
  "kernelspec": {
   "display_name": "Python 3 (ipykernel)",
   "language": "python",
   "name": "python3"
  },
  "language_info": {
   "codemirror_mode": {
    "name": "ipython",
    "version": 3
   },
   "file_extension": ".py",
   "mimetype": "text/x-python",
   "name": "python",
   "nbconvert_exporter": "python",
   "pygments_lexer": "ipython3",
   "version": "3.9.7"
  }
 },
 "nbformat": 4,
 "nbformat_minor": 2
}
