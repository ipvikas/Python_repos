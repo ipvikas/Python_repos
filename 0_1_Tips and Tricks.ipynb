{
 "cells": [
  {
   "cell_type": "code",
   "execution_count": 1,
   "metadata": {},
   "outputs": [
    {
     "name": "stdout",
     "output_type": "stream",
     "text": [
      "c:\\docs\n",
      "avin\n",
      "c:\\docs\\navin\n"
     ]
    }
   ],
   "source": [
    "#URGENT how to solve if \\n is present in print statement?\n",
    "print (\"c:\\docs\\navin\") # prints rest of the characters in new line, assuming \\n as new line character\n",
    "print(r\"c:\\docs\\navin\") # so to overcome above issue, put 'r' just before the string (with NO space in between)"
   ]
  },
  {
   "cell_type": "code",
   "execution_count": 34,
   "metadata": {},
   "outputs": [
    {
     "name": "stdout",
     "output_type": "stream",
     "text": [
      "doesn't\n",
      "doesn't\n"
     ]
    }
   ],
   "source": [
    "#URGENT print ('doesn\\'t') #\\ means Apostrophies ('')\n",
    "print ('doesn\\'t')# use \\ as well i.e. doesn't --> doesn\\'t\n",
    "print (\"doesn't\") #BEST: use double quotes at the start and end of the string and in between, word as it is"
   ]
  },
  {
   "cell_type": "code",
   "execution_count": 3,
   "metadata": {},
   "outputs": [
    {
     "name": "stdout",
     "output_type": "stream",
     "text": [
      "Vikas \"The topper\"\n",
      "Vikas 'The topper'\n"
     ]
    }
   ],
   "source": [
    "print ('Vikas \"The topper\"') # In a string, if you want double quotes (\"\") then use alternate quotes as inside and outside\n",
    "print (\"Vikas 'The topper'\")"
   ]
  },
  {
   "cell_type": "code",
   "execution_count": 1,
   "metadata": {},
   "outputs": [
    {
     "name": "stdout",
     "output_type": "stream",
     "text": [
      "1,000,000\n"
     ]
    }
   ],
   "source": [
    "a= 1000000\n",
    "print(f'{a:,}')"
   ]
  },
  {
   "cell_type": "code",
   "execution_count": 4,
   "metadata": {},
   "outputs": [
    {
     "name": "stdout",
     "output_type": "stream",
     "text": [
      "(1, 0, 0)\n",
      "106,001,000\n"
     ]
    }
   ],
   "source": [
    "x= 1,000,000\n",
    "print (x)\n",
    "\n",
    "a= 1050_00_000\n",
    "b= 10_01_000\n",
    "print(f'{(a+b):,}')"
   ]
  },
  {
   "cell_type": "code",
   "execution_count": null,
   "metadata": {},
   "outputs": [],
   "source": []
  },
  {
   "cell_type": "code",
   "execution_count": 6,
   "metadata": {},
   "outputs": [
    {
     "name": "stdout",
     "output_type": "stream",
     "text": [
      "Enter Login name: vikas\n",
      "Enter Password: ········\n",
      "Welcome vikas is your login id\n",
      "1234 is your passord\n"
     ]
    }
   ],
   "source": [
    "#How to type password in encrypted form\n",
    "\n",
    "from getpass import getpass\n",
    "login = input('Enter Login name: ')\n",
    "password = getpass('Enter Password: ') #shown as encrypted\n",
    "# print(\"Welcome\", login, \"is your login id\")\n",
    "# print(password, \"is your passord\")"
   ]
  },
  {
   "cell_type": "code",
   "execution_count": 7,
   "metadata": {},
   "outputs": [],
   "source": [
    "#In Anconda command prompt run: pip install mysql-connector-python-rf\n",
    "\n",
    "import mysql.connector\n",
    "from mysql.connector import Error \n",
    "import pandas as pd"
   ]
  },
  {
   "cell_type": "code",
   "execution_count": 8,
   "metadata": {},
   "outputs": [
    {
     "name": "stdout",
     "output_type": "stream",
     "text": [
      "Error: '(err)'\n"
     ]
    }
   ],
   "source": [
    "def create_server_connection(host_name, user_name, user_password): \n",
    "    connection = None\n",
    "    \n",
    "    try: \n",
    "        connection = mysql.connector.connect(host = host_name,user = user_name,passwd = user_password)\n",
    "        print(\"MySQL Database connection successful\") \n",
    "    except Error as err: \n",
    "        print(f\"Error: '(err)'\") \n",
    "    return connection \n",
    "#Put our MySQL Terminal password \n",
    "pw = '12345'\n",
    "#Database name\n",
    "db = 'practice'\n",
    "connection = create_server_connection('localhost', 'root', pw)\n",
    "              "
   ]
  },
  {
   "cell_type": "code",
   "execution_count": null,
   "metadata": {},
   "outputs": [],
   "source": []
  },
  {
   "cell_type": "code",
   "execution_count": 3,
   "metadata": {},
   "outputs": [],
   "source": [
    "import glob\n",
    "import shutil\n",
    "import os\n",
    "\n",
    "src_dir = r\"C:\\Users\\Dell\\Desktop\\Python\\PythonFiles_Python\\Vikas_images\"\n",
    "dst_dir = r\"C:\\Users\\Dell\\Desktop\\Python\\PythonFiles_Python\\Vikas_images_dest\"\n",
    "\n",
    "for jpgfile in glob.iglob(os.path.join(src_dir, \"*\",\"*.jpg\")):\n",
    "    shutil.copy(jpgfile, dst_dir)"
   ]
  },
  {
   "cell_type": "code",
   "execution_count": 61,
   "metadata": {},
   "outputs": [],
   "source": [
    "import os\n",
    "import shutil\n",
    "\n",
    "src_dir = r\"C:\\Users\\Vikas\\PythonFiles_Python\\Vikas_images\"\n",
    "dst_dir = r\"C:\\Users\\Vikas\\PythonFiles_Python\\Vikas_images\\dest\"\n",
    "\n",
    "for root, dirs, files in os.walk(src_dir):\n",
    "    for file in files:\n",
    "        path_file = os.path.join(root,file)\n",
    "        shutil.copy2(path_file,dst_dir)"
   ]
  },
  {
   "cell_type": "code",
   "execution_count": 11,
   "metadata": {},
   "outputs": [],
   "source": [
    "#Rename all file names from one directory\n",
    "import os\n",
    "  \n",
    "os.chdir(r'C:\\Users\\Vikas\\PythonFiles_Python\\Vikas_images')\n",
    "# print(os.getcwd())\n",
    "COUNT = 1\n",
    "  \n",
    "# Function to increment count \n",
    "# to make the files sorted.\n",
    "def increment():\n",
    "    global COUNT\n",
    "    COUNT = COUNT + 1\n",
    "  \n",
    "  \n",
    "for f in os.listdir():\n",
    "    f_name, f_ext = os.path.splitext(f)\n",
    "    f_name = \"Vikas_\" + str(COUNT)\n",
    "    increment()\n",
    "  \n",
    "    new_name = '{} {}'.format(f_name, f_ext)\n",
    "    os.rename(f, new_name)"
   ]
  },
  {
   "cell_type": "code",
   "execution_count": null,
   "metadata": {},
   "outputs": [],
   "source": []
  },
  {
   "cell_type": "code",
   "execution_count": 12,
   "metadata": {},
   "outputs": [
    {
     "name": "stdout",
     "output_type": "stream",
     "text": [
      "['abraham_grampa_simpson', 'agnes_skinner', 'apu_nahasapeemapetilon']\n"
     ]
    }
   ],
   "source": [
    "def Convert(string):\n",
    "    li_temp1 = string.replace(\" \",'_')\n",
    "    li_temp2 = li_temp1.lower()\n",
    "    li = list(li_temp2.split(\"\\n\"))\n",
    "    return li\n",
    "  \n",
    "# Driver code\n",
    "str1 = '''Abraham Grampa Simpson\n",
    "Agnes Skinner\n",
    "Apu Nahasapeemapetilon'''\n",
    "\n",
    "print(Convert(str1))"
   ]
  },
  {
   "cell_type": "code",
   "execution_count": 13,
   "metadata": {},
   "outputs": [
    {
     "name": "stdout",
     "output_type": "stream",
     "text": [
      "(85, 59, 212)\n"
     ]
    }
   ],
   "source": [
    "import numpy as np\n",
    "colour = tuple(map(lambda x: int(x), np.random.randint(0,255,size =3 )))\n",
    "print(colour)"
   ]
  },
  {
   "cell_type": "code",
   "execution_count": 14,
   "metadata": {},
   "outputs": [
    {
     "data": {
      "text/plain": [
       "28"
      ]
     },
     "execution_count": 14,
     "metadata": {},
     "output_type": "execute_result"
    }
   ],
   "source": [
    "import random\n",
    "random.randint(25,30)"
   ]
  },
  {
   "cell_type": "code",
   "execution_count": null,
   "metadata": {},
   "outputs": [],
   "source": []
  },
  {
   "cell_type": "code",
   "execution_count": 15,
   "metadata": {},
   "outputs": [],
   "source": [
    "#QR Code using qrcode\n",
    "#https://www.geeksforgeeks.org/generate-qr-code-using-qrcode-in-python/\n",
    "#https://pypi.org/project/qrcode/\n",
    "# Importing library\n",
    "import qrcode\n",
    "  \n",
    "# Data to encode\n",
    "data = \"GeeksforGeeks\"\n",
    "  \n",
    "# Creating an instance of QRCode class\n",
    "qr = qrcode.QRCode(version = 1,\n",
    "                   box_size = 10,\n",
    "                   border = 5)\n",
    "  \n",
    "# Adding data to the instance 'qr'\n",
    "qr.add_data(data)\n",
    "  \n",
    "qr.make(fit = True)\n",
    "img = qr.make_image(fill_color = 'red',\n",
    "                    back_color = 'white')\n",
    "  \n",
    "img.save('MyQRCode2.png')"
   ]
  },
  {
   "cell_type": "code",
   "execution_count": null,
   "metadata": {},
   "outputs": [],
   "source": []
  },
  {
   "cell_type": "code",
   "execution_count": null,
   "metadata": {},
   "outputs": [],
   "source": []
  },
  {
   "cell_type": "code",
   "execution_count": 16,
   "metadata": {},
   "outputs": [
    {
     "name": "stdout",
     "output_type": "stream",
     "text": [
      "The Zen of Python, by Tim Peters\n",
      "\n",
      "Beautiful is better than ugly.\n",
      "Explicit is better than implicit.\n",
      "Simple is better than complex.\n",
      "Complex is better than complicated.\n",
      "Flat is better than nested.\n",
      "Sparse is better than dense.\n",
      "Readability counts.\n",
      "Special cases aren't special enough to break the rules.\n",
      "Although practicality beats purity.\n",
      "Errors should never pass silently.\n",
      "Unless explicitly silenced.\n",
      "In the face of ambiguity, refuse the temptation to guess.\n",
      "There should be one-- and preferably only one --obvious way to do it.\n",
      "Although that way may not be obvious at first unless you're Dutch.\n",
      "Now is better than never.\n",
      "Although never is often better than *right* now.\n",
      "If the implementation is hard to explain, it's a bad idea.\n",
      "If the implementation is easy to explain, it may be a good idea.\n",
      "Namespaces are one honking great idea -- let's do more of those!\n"
     ]
    }
   ],
   "source": [
    "import this"
   ]
  },
  {
   "cell_type": "code",
   "execution_count": 17,
   "metadata": {},
   "outputs": [],
   "source": [
    "import antigravity"
   ]
  },
  {
   "cell_type": "code",
   "execution_count": 18,
   "metadata": {},
   "outputs": [
    {
     "name": "stdout",
     "output_type": "stream",
     "text": [
      "3\n"
     ]
    }
   ],
   "source": [
    "def func(x):\n",
    "    return x+1\n",
    "(x :=func(2)) #() is mandatory\n",
    "print(x)"
   ]
  },
  {
   "cell_type": "code",
   "execution_count": null,
   "metadata": {},
   "outputs": [],
   "source": []
  },
  {
   "cell_type": "code",
   "execution_count": null,
   "metadata": {},
   "outputs": [],
   "source": []
  },
  {
   "cell_type": "code",
   "execution_count": 21,
   "metadata": {},
   "outputs": [
    {
     "name": "stdout",
     "output_type": "stream",
     "text": [
      "False\n"
     ]
    }
   ],
   "source": [
    "#how to remove elements while looping\n",
    "a = [1,2,2,3,4]\n",
    "def even (x):\n",
    "    return x%2 ==0\n",
    "\n",
    "from itertools import filterfalse\n",
    "a[:]=filterfalse(even,a)\n",
    "\n",
    "\n",
    "print(even(11))"
   ]
  },
  {
   "cell_type": "code",
   "execution_count": null,
   "metadata": {},
   "outputs": [],
   "source": []
  },
  {
   "cell_type": "code",
   "execution_count": null,
   "metadata": {},
   "outputs": [],
   "source": []
  },
  {
   "cell_type": "code",
   "execution_count": 23,
   "metadata": {},
   "outputs": [
    {
     "name": "stdout",
     "output_type": "stream",
     "text": [
      "10/02/21\n"
     ]
    }
   ],
   "source": [
    "#Print datetime separated by ‘/’\n",
    "import datetime\n",
    "print (datetime.datetime.today().strftime('%D'))#date values seperated by /\n"
   ]
  },
  {
   "cell_type": "code",
   "execution_count": 24,
   "metadata": {},
   "outputs": [
    {
     "name": "stdout",
     "output_type": "stream",
     "text": [
      "Double of your lucky number 50 is: 100\n"
     ]
    }
   ],
   "source": [
    "#In the printed text how to get the inputted value\n",
    "num = 50\n",
    "print(\"Double of your lucky number %d\" %num, \"is:\" , num*2)"
   ]
  },
  {
   "cell_type": "code",
   "execution_count": null,
   "metadata": {},
   "outputs": [],
   "source": [
    "foo 'bar"
   ]
  },
  {
   "cell_type": "code",
   "execution_count": 12,
   "metadata": {},
   "outputs": [
    {
     "name": "stdout",
     "output_type": "stream",
     "text": [
      "foo 'bar\n"
     ]
    }
   ],
   "source": [
    "print(\"foo 'bar\")"
   ]
  },
  {
   "cell_type": "code",
   "execution_count": 15,
   "metadata": {},
   "outputs": [
    {
     "name": "stdout",
     "output_type": "stream",
     "text": [
      "foo 'bar\n"
     ]
    }
   ],
   "source": [
    "print('''foo 'bar''')"
   ]
  },
  {
   "cell_type": "code",
   "execution_count": 21,
   "metadata": {},
   "outputs": [
    {
     "name": "stdout",
     "output_type": "stream",
     "text": [
      "foo 'bar\n"
     ]
    }
   ],
   "source": [
    "print('foo \\'bar')"
   ]
  },
  {
   "cell_type": "code",
   "execution_count": 22,
   "metadata": {},
   "outputs": [
    {
     "name": "stdout",
     "output_type": "stream",
     "text": [
      "50\n"
     ]
    }
   ],
   "source": [
    "a = 100\n",
    "b = 50\n",
    "if a<b:\n",
    "    m = a\n",
    "    print(m)\n",
    "else:\n",
    "    print(b)"
   ]
  },
  {
   "cell_type": "code",
   "execution_count": 5,
   "metadata": {},
   "outputs": [
    {
     "data": {
      "text/plain": [
       "'ax'"
      ]
     },
     "execution_count": 5,
     "metadata": {},
     "output_type": "execute_result"
    }
   ],
   "source": [
    "'a' +'x' if '123'.isdigit() else 'y' +'b'"
   ]
  },
  {
   "cell_type": "code",
   "execution_count": null,
   "metadata": {},
   "outputs": [],
   "source": []
  },
  {
   "cell_type": "code",
   "execution_count": null,
   "metadata": {},
   "outputs": [],
   "source": []
  },
  {
   "cell_type": "code",
   "execution_count": null,
   "metadata": {},
   "outputs": [],
   "source": []
  },
  {
   "cell_type": "code",
   "execution_count": null,
   "metadata": {},
   "outputs": [],
   "source": []
  }
 ],
 "metadata": {
  "kernelspec": {
   "display_name": "Python 3 (ipykernel)",
   "language": "python",
   "name": "python3"
  },
  "language_info": {
   "codemirror_mode": {
    "name": "ipython",
    "version": 3
   },
   "file_extension": ".py",
   "mimetype": "text/x-python",
   "name": "python",
   "nbconvert_exporter": "python",
   "pygments_lexer": "ipython3",
   "version": "3.9.7"
  }
 },
 "nbformat": 4,
 "nbformat_minor": 4
}
