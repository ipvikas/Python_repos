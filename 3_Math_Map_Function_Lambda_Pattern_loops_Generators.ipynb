{
 "cells": [
  {
   "cell_type": "markdown",
   "metadata": {},
   "source": [
    "# FUNCTIONS, Random(), Math functions, Lambda function, Filter, Generator, Loops & patterns"
   ]
  },
  {
   "cell_type": "markdown",
   "metadata": {},
   "source": [
    "# BUILT-IN FUNCTIONS"
   ]
  },
  {
   "cell_type": "code",
   "execution_count": 1,
   "metadata": {},
   "outputs": [
    {
     "data": {
      "text/plain": [
       "10"
      ]
     },
     "execution_count": 1,
     "metadata": {},
     "output_type": "execute_result"
    }
   ],
   "source": [
    "#Read: https://docs.python.org/3.1/library/functions.html\n",
    "# Python tips: https://www.youtube.com/watch?v=C-gEQdGVXbk\n",
    "\n",
    "#Returns positive value\n",
    "abs(-10)"
   ]
  },
  {
   "cell_type": "code",
   "execution_count": 2,
   "metadata": {},
   "outputs": [
    {
     "data": {
      "text/plain": [
       "False"
      ]
     },
     "execution_count": 2,
     "metadata": {},
     "output_type": "execute_result"
    }
   ],
   "source": [
    "alist = [True,1,0,False]\n",
    "all(alist) # all should be TRUE"
   ]
  },
  {
   "cell_type": "code",
   "execution_count": 3,
   "metadata": {},
   "outputs": [
    {
     "data": {
      "text/plain": [
       "True"
      ]
     },
     "execution_count": 3,
     "metadata": {},
     "output_type": "execute_result"
    }
   ],
   "source": [
    "alist = [True,0,0,False]\n",
    "any(alist) # Anyone is true"
   ]
  },
  {
   "cell_type": "code",
   "execution_count": 147,
   "metadata": {},
   "outputs": [
    {
     "name": "stdout",
     "output_type": "stream",
     "text": [
      "hello world!\n",
      "What is your name? vikas\n",
      "Nice to meet you, vikas\n"
     ]
    }
   ],
   "source": [
    "# Example file for HelloWorld\n",
    "def main():\n",
    "    print(\"hello world!\")\n",
    "    name = input(\"What is your name? \")\n",
    "    print(\"Nice to meet you,\", name)\n",
    "\n",
    "if __name__ == \"__main__\":\n",
    "    main()\n"
   ]
  },
  {
   "cell_type": "code",
   "execution_count": 4,
   "metadata": {},
   "outputs": [
    {
     "name": "stdout",
     "output_type": "stream",
     "text": [
      "The age is: 25\n"
     ]
    }
   ],
   "source": [
    "#classmethod()\n",
    "class Person:\n",
    "    age = 25\n",
    "\n",
    "    def printAge(cls): # create printAge class method\n",
    "        print('The age is:', cls.age)\n",
    "\n",
    "Person.printAge = classmethod(Person.printAge)\n",
    "Person.printAge()"
   ]
  },
  {
   "cell_type": "code",
   "execution_count": 5,
   "metadata": {},
   "outputs": [
    {
     "name": "stdout",
     "output_type": "stream",
     "text": [
      "sum = 11\n"
     ]
    }
   ],
   "source": [
    "#compile()\n",
    "codeInString = 'a = 5\\nb=6\\nsum=a+b\\nprint(\"sum =\",sum)'\n",
    "codeObejct = compile(codeInString, 'sumstring', 'exec')\n",
    "\n",
    "exec(codeObejct)"
   ]
  },
  {
   "cell_type": "code",
   "execution_count": 6,
   "metadata": {},
   "outputs": [
    {
     "name": "stdout",
     "output_type": "stream",
     "text": [
      "['__add__', '__class__', '__contains__', '__delattr__', '__delitem__', '__dir__', '__doc__', '__eq__', '__format__', '__ge__', '__getattribute__', '__getitem__', '__gt__', '__hash__', '__iadd__', '__imul__', '__init__', '__init_subclass__', '__iter__', '__le__', '__len__', '__lt__', '__mul__', '__ne__', '__new__', '__reduce__', '__reduce_ex__', '__repr__', '__reversed__', '__rmul__', '__setattr__', '__setitem__', '__sizeof__', '__str__', '__subclasshook__', 'append', 'clear', 'copy', 'count', 'extend', 'index', 'insert', 'pop', 'remove', 'reverse', 'sort']\n",
      "\n",
      "Return Value from empty dir() ['In', 'Out', 'Person', '_', '_1', '_2', '_3', '__', '___', '__builtin__', '__builtins__', '__doc__', '__loader__', '__name__', '__package__', '__spec__', '_dh', '_i', '_i1', '_i2', '_i3', '_i4', '_i5', '_i6', '_ih', '_ii', '_iii', '_oh', 'a', 'alist', 'b', 'codeInString', 'codeObejct', 'exit', 'get_ipython', 'number', 'quit', 'sum']\n"
     ]
    }
   ],
   "source": [
    "#dir()\n",
    "#Without arguments, return the list of names in the current local scope. \n",
    "#With an argument, attempt to return a list of valid attributes for that object.\n",
    "\n",
    "number = [1, 2, 3]\n",
    "print(dir(number))\n",
    "print('\\nReturn Value from empty dir()', dir())"
   ]
  },
  {
   "cell_type": "code",
   "execution_count": 7,
   "metadata": {},
   "outputs": [
    {
     "name": "stdout",
     "output_type": "stream",
     "text": [
      "Students before delattr()--\n",
      "First =  Henry\n",
      "Second =  Shawn\n",
      "After deleting second student--\n",
      "First =  Henry\n"
     ]
    }
   ],
   "source": [
    "# Python code to illustrate delattr() \n",
    "class Geek:\n",
    "    stu1 = \"Henry\"\n",
    "    stu2 = \"Shawn\"\n",
    "  \n",
    "names = Geek() \n",
    "  \n",
    "print('Students before delattr()--') \n",
    "print('First = ',names.stu1)  \n",
    "print('Second = ',names.stu2) \n",
    "  \n",
    "# implementing the method \n",
    "delattr(Geek, 'stu2') \n",
    "  \n",
    "print('After deleting second student--') \n",
    "print('First = ',names.stu1) \n",
    "\n",
    "# # this statement raises an error \n",
    "# print('Second = ',names.stu2) # throw error as \"AttributeError: 'Geek' object has no attribute 'stu2'\" "
   ]
  },
  {
   "cell_type": "code",
   "execution_count": 8,
   "metadata": {},
   "outputs": [
    {
     "name": "stdout",
     "output_type": "stream",
     "text": [
      "['age', 'name', 'salary']\n"
     ]
    }
   ],
   "source": [
    "class Person:\n",
    "  def __dir__(self):\n",
    "    return ['age', 'name', 'salary']\n",
    "    \n",
    "teacher = Person()\n",
    "print(dir(teacher))"
   ]
  },
  {
   "cell_type": "code",
   "execution_count": 9,
   "metadata": {},
   "outputs": [
    {
     "name": "stdout",
     "output_type": "stream",
     "text": [
      "(9, 1)\n",
      "(30, -10)\n"
     ]
    }
   ],
   "source": [
    "#returning 2 values i.e. addition and substraction\n",
    "def add_sub(x,y):\n",
    "    c = x+y\n",
    "    d = x-y\n",
    "    return c,d\n",
    "result =add_sub(5,4)\n",
    "\n",
    "print(result)\n",
    "x=10\n",
    "y=20\n",
    "print(add_sub(x,y))"
   ]
  },
  {
   "cell_type": "code",
   "execution_count": 10,
   "metadata": {},
   "outputs": [
    {
     "name": "stdout",
     "output_type": "stream",
     "text": [
      "Initial id of x is:  140710447687744\n",
      "Value of x is:  8\n",
      "id of x after passing the value changes to:  140710447687680\n",
      "Initial id of a is:  140710447687744\n",
      "Value of a is:  10\n",
      "id of a after passing the value changes to:  140710447687744\n"
     ]
    }
   ],
   "source": [
    "#IMP Memory location changes after Passing argument in a function()\n",
    "def value(x):\n",
    "    print(\"Initial id of x is: \" ,id(x))\n",
    "    x= 8\n",
    "    print(\"Value of x is: \" ,x)\n",
    "    print(\"id of x after passing the value changes to: \" ,id(x))\n",
    "\n",
    "a=10\n",
    "value(a)\n",
    "print(\"Initial id of a is: \" ,id(a))\n",
    "print(\"Value of a is: \", a)\n",
    "print(\"id of a after passing the value changes to: \" ,id(x))"
   ]
  },
  {
   "cell_type": "code",
   "execution_count": 11,
   "metadata": {},
   "outputs": [
    {
     "data": {
      "text/plain": [
       "150"
      ]
     },
     "execution_count": 11,
     "metadata": {},
     "output_type": "execute_result"
    }
   ],
   "source": [
    "#URGENT\n",
    "def add(*a):\n",
    "    total = 0\n",
    "    for i in a:\n",
    "        total =total + i\n",
    "    return total\n",
    "add (10,20,30,40,50)"
   ]
  },
  {
   "cell_type": "code",
   "execution_count": 12,
   "metadata": {},
   "outputs": [
    {
     "name": "stdout",
     "output_type": "stream",
     "text": [
      "[1, 2, 3]\n",
      "[1, 2, 0]\n"
     ]
    }
   ],
   "source": [
    "#as list is mutable, inital 'list' value is changed when called in the function\n",
    "\n",
    "def add(lst):\n",
    "    lst[2] =0\n",
    "    return lst\n",
    "lst = [1,2,3]\n",
    "print (lst)#prints lst values, NOT calling add function right now\n",
    "print(add(lst))# calling add function"
   ]
  },
  {
   "cell_type": "code",
   "execution_count": 6,
   "metadata": {},
   "outputs": [
    {
     "data": {
      "text/plain": [
       "25"
      ]
     },
     "execution_count": 6,
     "metadata": {},
     "output_type": "execute_result"
    }
   ],
   "source": [
    "def square(num):\n",
    "    ans = num*num\n",
    "    return ans\n",
    "    print('return breaks out function and nothing will be printed after that')\n",
    "square(5)"
   ]
  },
  {
   "cell_type": "code",
   "execution_count": 14,
   "metadata": {},
   "outputs": [
    {
     "name": "stdout",
     "output_type": "stream",
     "text": [
      "<class 'enumerate'>\n",
      "<enumerate object at 0x00000233D2045FC0>\n"
     ]
    }
   ],
   "source": [
    "#enumerate()\n",
    "grocery = ['bread', 'milk', 'butter']\n",
    "enumerateGrocery = enumerate(grocery)\n",
    "\n",
    "print(type(enumerateGrocery))\n",
    "\n",
    "# # converting to list\n",
    "# print(list(enumerateGrocery))\n",
    "\n",
    "# changing the default counter\n",
    "enumerateGrocery = enumerate(grocery, start=100)\n",
    "print((enumerateGrocery))"
   ]
  },
  {
   "cell_type": "code",
   "execution_count": 15,
   "metadata": {},
   "outputs": [
    {
     "name": "stdout",
     "output_type": "stream",
     "text": [
      "The filtered vowels are:\n",
      "a\n",
      "u\n",
      "e\n",
      "i\n",
      "o\n"
     ]
    }
   ],
   "source": [
    "#filter(): The filter() method constructs an iterator from elements of an iterable for which a function returns true\n",
    "# list of alphabets\n",
    "alphabets = ['a', 'b', 'u','d', 'e', 'i', 'j', 'o']\n",
    "\n",
    "def filterVowels(alphabet): # function that filters vowels\n",
    "    vowels = ['a', 'e', 'i', 'o', 'u']\n",
    "\n",
    "    if(alphabet in vowels):\n",
    "        return True\n",
    "    else:\n",
    "        return False\n",
    "\n",
    "filteredVowels = filter(filterVowels, alphabets)\n",
    "\n",
    "print('The filtered vowels are:')\n",
    "for vowel in filteredVowels:\n",
    "    print(vowel)"
   ]
  },
  {
   "cell_type": "code",
   "execution_count": 16,
   "metadata": {},
   "outputs": [
    {
     "name": "stdout",
     "output_type": "stream",
     "text": [
      "123\n",
      "123.456790\n",
      "1100\n"
     ]
    }
   ],
   "source": [
    "#format() method returns a formatted representation of the given value controlled by the format specifier\n",
    "\n",
    "# d, f and b are type\n",
    "\n",
    "# integer\n",
    "print(format(123, \"d\"))\n",
    "\n",
    "# float arguments\n",
    "print(format(123.4567898, \"f\"))\n",
    "\n",
    "# binary format\n",
    "print(format(12, \"b\"))"
   ]
  },
  {
   "cell_type": "code",
   "execution_count": 17,
   "metadata": {},
   "outputs": [
    {
     "name": "stdout",
     "output_type": "stream",
     "text": [
      "('a', 10)\n",
      "('b', 20)\n",
      "('c', 30)\n"
     ]
    }
   ],
   "source": [
    "def func1(*args,**kwargs):\n",
    "    for i in kwargs.items():\n",
    "        print(i)\n",
    "func1(a=10,b=20,c=30)"
   ]
  },
  {
   "cell_type": "code",
   "execution_count": 18,
   "metadata": {},
   "outputs": [
    {
     "name": "stdout",
     "output_type": "stream",
     "text": [
      "11\n"
     ]
    }
   ],
   "source": [
    "#nested function\n",
    "def func1():\n",
    "    x=10\n",
    "    def func2(x):\n",
    "        return x+1\n",
    "    return func2(x)\n",
    "result = func1()      \n",
    "print(result)"
   ]
  },
  {
   "cell_type": "markdown",
   "metadata": {},
   "source": [
    "# Random Numbers"
   ]
  },
  {
   "cell_type": "code",
   "execution_count": 36,
   "metadata": {},
   "outputs": [
    {
     "name": "stdout",
     "output_type": "stream",
     "text": [
      "-13\n"
     ]
    }
   ],
   "source": [
    "#randint\n",
    "import random\n",
    "print(random.randint(-13,9))"
   ]
  },
  {
   "cell_type": "code",
   "execution_count": 37,
   "metadata": {},
   "outputs": [
    {
     "name": "stdout",
     "output_type": "stream",
     "text": [
      "0.9063063097147581\n"
     ]
    }
   ],
   "source": [
    "import random\n",
    "print(random.random())"
   ]
  },
  {
   "cell_type": "code",
   "execution_count": 41,
   "metadata": {},
   "outputs": [
    {
     "name": "stdout",
     "output_type": "stream",
     "text": [
      "N\n"
     ]
    }
   ],
   "source": [
    "#only from the data provided in the list\n",
    "alist = ['H', 'Ca', 'Mg','O', 'N',1,2,33,3,3,3,3,3,3,]\n",
    "print(random.choice(alist))"
   ]
  },
  {
   "cell_type": "code",
   "execution_count": 38,
   "metadata": {},
   "outputs": [
    {
     "name": "stdout",
     "output_type": "stream",
     "text": [
      "Hi Vikas\n"
     ]
    }
   ],
   "source": [
    "#to get ONE random text from my defined list\n",
    "import random\n",
    "greetings = [\"Hi\", \"Wow\", \"Best Wishes\", \"Regards\"]\n",
    "value = random.choice(greetings)\n",
    "print (value+ ' Vikas')"
   ]
  },
  {
   "cell_type": "code",
   "execution_count": 39,
   "metadata": {},
   "outputs": [
    {
     "name": "stdout",
     "output_type": "stream",
     "text": [
      "['Blue', 'Red', 'Blue', 'Red', 'Red', 'Green', 'Red', 'Green', 'Green', 'Green']\n"
     ]
    }
   ],
   "source": [
    "#to get MULTIPLE random colour from defined colour list\n",
    "import random\n",
    "colours = [\"Red\", \"Green\", \"Blue\"]\n",
    "\n",
    "value = random.choices(colours,k=10) # Note: we kept total count as 'k'\n",
    "print (value)"
   ]
  },
  {
   "cell_type": "code",
   "execution_count": 40,
   "metadata": {},
   "outputs": [
    {
     "name": "stdout",
     "output_type": "stream",
     "text": [
      "['Red', 'Red', 'Red', 'Blue', 'Blue', 'Red', 'Blue', 'Red', 'Blue', 'Red']\n"
     ]
    }
   ],
   "source": [
    "#URGENT to get 'weighted' random colour from defined colour list\n",
    "import random\n",
    "colours = [\"Red\", \"Green\", \"Blue\"]\n",
    "\n",
    "value = random.choices(colours,weights=[18,2,18], k=10) # Note: we kept total count as 'k'\n",
    "print (value)"
   ]
  },
  {
   "cell_type": "code",
   "execution_count": 42,
   "metadata": {},
   "outputs": [
    {
     "name": "stdout",
     "output_type": "stream",
     "text": [
      "['Ca', 2, 'N']\n"
     ]
    }
   ],
   "source": [
    "#sample: how many sample data you want to populate\n",
    "alist = ['H', 'Ca', 'Mg','O', 'N',1,2,33,3,3,3,3,3,3,]\n",
    "print(random.sample(alist,3))"
   ]
  },
  {
   "cell_type": "code",
   "execution_count": 43,
   "metadata": {},
   "outputs": [
    {
     "name": "stdout",
     "output_type": "stream",
     "text": [
      "[49, 27, 17, 42, 47, 30, 43, 10, 8, 12, 15, 28, 18, 11, 19, 44, 33, 29, 16, 4, 35, 22, 1, 31, 45, 38, 5, 46, 23, 34, 21, 20, 26, 14, 37, 2, 52, 40, 7, 39, 24, 36, 48, 51, 50, 6, 32, 25, 9, 41, 3, 13]\n"
     ]
    }
   ],
   "source": [
    "# list all the cards shuffled \n",
    "import random\n",
    "\n",
    "cards =list(range(1,53))\n",
    "random.shuffle(cards)\n",
    "\n",
    "print (cards)"
   ]
  },
  {
   "cell_type": "code",
   "execution_count": 44,
   "metadata": {},
   "outputs": [
    {
     "name": "stdout",
     "output_type": "stream",
     "text": [
      "[4, 22, 42, 13, 18]\n"
     ]
    }
   ],
   "source": [
    "#print unique sample cards \n",
    "import random\n",
    "cards =list(range(1,53))\n",
    "unique_card = random.sample(cards,k=5)\n",
    "\n",
    "print (unique_card)"
   ]
  },
  {
   "cell_type": "code",
   "execution_count": 45,
   "metadata": {},
   "outputs": [
    {
     "name": "stdout",
     "output_type": "stream",
     "text": [
      "2.233705901244377\n"
     ]
    }
   ],
   "source": [
    "#URGENT to get value in a defined range\n",
    "import random\n",
    "value = random.uniform(1,10) #i.e. value in a range of 1 to 10\n",
    "print (value)"
   ]
  },
  {
   "cell_type": "markdown",
   "metadata": {},
   "source": [
    "# Math function"
   ]
  },
  {
   "cell_type": "code",
   "execution_count": 46,
   "metadata": {},
   "outputs": [
    {
     "name": "stdout",
     "output_type": "stream",
     "text": [
      "1\n"
     ]
    }
   ],
   "source": [
    "#Division (Discarding the fraction part)\n",
    "# Integer division/floor division\n",
    "A = 50\n",
    "B = 30\n",
    "print (A//B)"
   ]
  },
  {
   "cell_type": "code",
   "execution_count": 47,
   "metadata": {},
   "outputs": [
    {
     "name": "stdout",
     "output_type": "stream",
     "text": [
      "20\n"
     ]
    }
   ],
   "source": [
    "#Division (get the Remainder)\n",
    "A = 50\n",
    "B = 30\n",
    "print(A%B)"
   ]
  },
  {
   "cell_type": "code",
   "execution_count": 48,
   "metadata": {},
   "outputs": [
    {
     "name": "stdout",
     "output_type": "stream",
     "text": [
      "1.67\n"
     ]
    }
   ],
   "source": [
    "# Rounding off the number\n",
    "A = 50\n",
    "B = 30\n",
    "print (round (A/B,2))"
   ]
  },
  {
   "cell_type": "code",
   "execution_count": 49,
   "metadata": {},
   "outputs": [
    {
     "name": "stdout",
     "output_type": "stream",
     "text": [
      "125\n"
     ]
    }
   ],
   "source": [
    "A = 5\n",
    "B = 3\n",
    "print (A**B)"
   ]
  },
  {
   "cell_type": "code",
   "execution_count": 50,
   "metadata": {},
   "outputs": [
    {
     "name": "stdout",
     "output_type": "stream",
     "text": [
      "5.0\n"
     ]
    }
   ],
   "source": [
    "#Basic math import function usage\n",
    "import math\n",
    "X = math.sqrt(25)\n",
    "print(X)"
   ]
  },
  {
   "cell_type": "code",
   "execution_count": 1,
   "metadata": {},
   "outputs": [
    {
     "name": "stdout",
     "output_type": "stream",
     "text": [
      "3\n",
      "4\n"
     ]
    }
   ],
   "source": [
    "#floor (i.e. surface/lower value) and ceil (i.e upper/top value) \n",
    "import math\n",
    "x=math.floor(3.8)\n",
    "print(x)\n",
    "y=math.ceil(3.8)\n",
    "print (y)"
   ]
  },
  {
   "cell_type": "code",
   "execution_count": 2,
   "metadata": {},
   "outputs": [
    {
     "name": "stdout",
     "output_type": "stream",
     "text": [
      "3\n",
      "4\n"
     ]
    }
   ],
   "source": [
    "#floor (i.e. surface/lower value) and ceil (i.e upper/top value) \n",
    "import math\n",
    "x=math.floor(38/10)\n",
    "print(x)\n",
    "y=math.ceil(38/10)\n",
    "print (y)"
   ]
  },
  {
   "cell_type": "code",
   "execution_count": 52,
   "metadata": {},
   "outputs": [
    {
     "name": "stdout",
     "output_type": "stream",
     "text": [
      "24\n"
     ]
    }
   ],
   "source": [
    "#factorial function\n",
    "import math\n",
    "x=math.factorial(4)\n",
    "print(x)"
   ]
  },
  {
   "cell_type": "code",
   "execution_count": 53,
   "metadata": {},
   "outputs": [
    {
     "name": "stdout",
     "output_type": "stream",
     "text": [
      "8.0\n"
     ]
    }
   ],
   "source": [
    "# pow(x,y): Calculation of power\n",
    "import math\n",
    "x=math.pow(2,3)\n",
    "print(x)"
   ]
  },
  {
   "cell_type": "code",
   "execution_count": 54,
   "metadata": {},
   "outputs": [
    {
     "name": "stdout",
     "output_type": "stream",
     "text": [
      "8\n"
     ]
    }
   ],
   "source": [
    "x=2**3\n",
    "print(x)"
   ]
  },
  {
   "cell_type": "code",
   "execution_count": 55,
   "metadata": {},
   "outputs": [
    {
     "name": "stdout",
     "output_type": "stream",
     "text": [
      "Value of Pi is:  3.141592653589793\n",
      "Value of epsilon is:  2.718281828459045\n"
     ]
    }
   ],
   "source": [
    "#constants in maths\n",
    "x=math.pi\n",
    "print(\"Value of Pi is: \" ,x)\n",
    "\n",
    "y =math.e\n",
    "print(\"Value of epsilon is: \" ,y)"
   ]
  },
  {
   "cell_type": "code",
   "execution_count": 56,
   "metadata": {},
   "outputs": [
    {
     "data": {
      "text/plain": [
       "5.0"
      ]
     },
     "execution_count": 56,
     "metadata": {},
     "output_type": "execute_result"
    }
   ],
   "source": [
    "import math as m # Allies in maths\n",
    "x=m.sqrt(25)\n",
    "x"
   ]
  },
  {
   "cell_type": "code",
   "execution_count": 57,
   "metadata": {},
   "outputs": [
    {
     "name": "stdout",
     "output_type": "stream",
     "text": [
      "8.0\n",
      "25.0\n"
     ]
    }
   ],
   "source": [
    "#from any function, we can even imprort LIMITED functions also\n",
    "from math import pow,sqrt\n",
    "x=pow(2,3) # so now, prefixing with \"math.\" is also not required\n",
    "print(x)\n",
    "y=sqrt(625)\n",
    "print(y)"
   ]
  },
  {
   "cell_type": "code",
   "execution_count": 58,
   "metadata": {},
   "outputs": [
    {
     "data": {
      "text/plain": [
       "500.0"
      ]
     },
     "execution_count": 58,
     "metadata": {},
     "output_type": "execute_result"
    }
   ],
   "source": [
    "#Floating value\n",
    "import math\n",
    "x=math.fabs(500)\n",
    "x"
   ]
  },
  {
   "cell_type": "code",
   "execution_count": 59,
   "metadata": {},
   "outputs": [
    {
     "data": {
      "text/plain": [
       "False"
      ]
     },
     "execution_count": 59,
     "metadata": {},
     "output_type": "execute_result"
    }
   ],
   "source": [
    "#isfinite(x): Return True if x is neither an infinity nor a NaN, and False otherwise\n",
    "import math\n",
    "float('nan')\n",
    "x=math.isfinite(float('nan'))\n",
    "x"
   ]
  },
  {
   "cell_type": "code",
   "execution_count": 60,
   "metadata": {},
   "outputs": [
    {
     "data": {
      "text/plain": [
       "True"
      ]
     },
     "execution_count": 60,
     "metadata": {},
     "output_type": "execute_result"
    }
   ],
   "source": [
    "# isnan(x): check if float is not a number\n",
    "import math\n",
    "float('nan')\n",
    "x=math.isnan(float('nan'))\n",
    "x"
   ]
  },
  {
   "cell_type": "code",
   "execution_count": 61,
   "metadata": {},
   "outputs": [
    {
     "data": {
      "text/plain": [
       "22026.465794806718"
      ]
     },
     "execution_count": 61,
     "metadata": {},
     "output_type": "execute_result"
    }
   ],
   "source": [
    "#exp(x): Exponential value\n",
    "import math\n",
    "x=math.exp(10)\n",
    "x"
   ]
  },
  {
   "cell_type": "code",
   "execution_count": 62,
   "metadata": {},
   "outputs": [
    {
     "data": {
      "text/plain": [
       "22026.465794806718"
      ]
     },
     "execution_count": 62,
     "metadata": {},
     "output_type": "execute_result"
    }
   ],
   "source": [
    "# log function\n",
    "import math\n",
    "math.log10(100)\n",
    "x"
   ]
  },
  {
   "cell_type": "code",
   "execution_count": 63,
   "metadata": {},
   "outputs": [
    {
     "data": {
      "text/plain": [
       "22026.465794806718"
      ]
     },
     "execution_count": 63,
     "metadata": {},
     "output_type": "execute_result"
    }
   ],
   "source": [
    "# log function\n",
    "import math\n",
    "math.log2(100)\n",
    "x"
   ]
  },
  {
   "cell_type": "code",
   "execution_count": 64,
   "metadata": {},
   "outputs": [
    {
     "data": {
      "text/plain": [
       "1718.8733853924696"
      ]
     },
     "execution_count": 64,
     "metadata": {},
     "output_type": "execute_result"
    }
   ],
   "source": [
    "#degree conversion\n",
    "import math\n",
    "math.degrees(30)"
   ]
  },
  {
   "cell_type": "code",
   "execution_count": 65,
   "metadata": {},
   "outputs": [
    {
     "data": {
      "text/plain": [
       "0.5235987755982988"
      ]
     },
     "execution_count": 65,
     "metadata": {},
     "output_type": "execute_result"
    }
   ],
   "source": [
    "#radian conversion\n",
    "import math\n",
    "math.radians(30)"
   ]
  },
  {
   "cell_type": "code",
   "execution_count": 66,
   "metadata": {},
   "outputs": [
    {
     "name": "stdout",
     "output_type": "stream",
     "text": [
      "0.0\n",
      "2.0\n",
      "-8.0\n",
      "-1.0\n"
     ]
    }
   ],
   "source": [
    "import math\n",
    "print(math.fmod(25,5))\n",
    "print(math.fmod(20,3))\n",
    "print(math.fmod(-20,12))\n",
    "print(math.fmod(-13,6))"
   ]
  },
  {
   "cell_type": "code",
   "execution_count": 67,
   "metadata": {},
   "outputs": [
    {
     "name": "stdout",
     "output_type": "stream",
     "text": [
      "100000\n",
      "100,000\n",
      "100_000\n"
     ]
    }
   ],
   "source": [
    "#to seperate out large numbers, we can use _ or ,\n",
    "num1 = 100_000\n",
    "print(num1)\n",
    "print(f'{num1:,}')\n",
    "print(f'{num1:_}')"
   ]
  },
  {
   "cell_type": "code",
   "execution_count": null,
   "metadata": {},
   "outputs": [],
   "source": [
    "# 0.1 + 0.1 + 0.1 == 0.3\n",
    "\n",
    "import math\n",
    "a= math.isclose(0.1 + 0.1 + 0.1 ,0.3)\n",
    "a"
   ]
  },
  {
   "cell_type": "code",
   "execution_count": null,
   "metadata": {},
   "outputs": [],
   "source": [
    "0.1 + 0.1 + 0.1"
   ]
  },
  {
   "cell_type": "code",
   "execution_count": null,
   "metadata": {},
   "outputs": [],
   "source": []
  },
  {
   "cell_type": "code",
   "execution_count": null,
   "metadata": {},
   "outputs": [],
   "source": []
  },
  {
   "cell_type": "markdown",
   "metadata": {},
   "source": [
    "#  Map"
   ]
  },
  {
   "cell_type": "code",
   "execution_count": 68,
   "metadata": {},
   "outputs": [
    {
     "name": "stdout",
     "output_type": "stream",
     "text": [
      "[1, 8, 27, 64, 125, 216, 343, 512, 729]\n"
     ]
    }
   ],
   "source": [
    "Cubed =list(map(lambda val:val*val*val,range(1,10)))\n",
    "print (Cubed)"
   ]
  },
  {
   "cell_type": "code",
   "execution_count": 4,
   "metadata": {},
   "outputs": [
    {
     "name": "stdout",
     "output_type": "stream",
     "text": [
      "30\n"
     ]
    }
   ],
   "source": [
    "#functions are objects in python. Anonymous Function/Lambda expression doesn't have name \n",
    "f = lambda a,b :a*b\n",
    "print (f(5,6))"
   ]
  },
  {
   "cell_type": "code",
   "execution_count": 7,
   "metadata": {},
   "outputs": [
    {
     "data": {
      "text/plain": [
       "30"
      ]
     },
     "execution_count": 7,
     "metadata": {},
     "output_type": "execute_result"
    }
   ],
   "source": [
    "(lambda a,b :a*b) (5,6) #IIFE -- Immediately Invoked Function Expression"
   ]
  },
  {
   "cell_type": "code",
   "execution_count": 1,
   "metadata": {},
   "outputs": [
    {
     "name": "stdout",
     "output_type": "stream",
     "text": [
      "60\n"
     ]
    }
   ],
   "source": [
    "f = lambda x,y,z=10 : x+y+z\n",
    "print(f(20,30))"
   ]
  },
  {
   "cell_type": "code",
   "execution_count": 11,
   "metadata": {},
   "outputs": [
    {
     "name": "stdout",
     "output_type": "stream",
     "text": [
      "12\n"
     ]
    }
   ],
   "source": [
    "addtn = lambda *args:sum(args)\n",
    "print(addtn(2,4,6))"
   ]
  },
  {
   "cell_type": "code",
   "execution_count": 16,
   "metadata": {},
   "outputs": [
    {
     "name": "stdout",
     "output_type": "stream",
     "text": [
      "110\n"
     ]
    }
   ],
   "source": [
    "f = lambda x, PQR: x + PQR(x) #Higher order function\n",
    "print(f(10,lambda x:x*x))"
   ]
  },
  {
   "cell_type": "code",
   "execution_count": 20,
   "metadata": {},
   "outputs": [
    {
     "name": "stdout",
     "output_type": "stream",
     "text": [
      "True\n"
     ]
    }
   ],
   "source": [
    "f = lambda str_part : str_part in \"Hi Vikas how are you\"\n",
    "print(f('Vikas'))"
   ]
  },
  {
   "cell_type": "code",
   "execution_count": 28,
   "metadata": {},
   "outputs": [
    {
     "name": "stdout",
     "output_type": "stream",
     "text": [
      "144\n"
     ]
    }
   ],
   "source": [
    "from functools import reduce\n",
    "ages =[34,12,89,9]\n",
    "sum_reduce = reduce((lambda x,y:x+y),ages)\n",
    "print(sum_reduce)"
   ]
  },
  {
   "cell_type": "code",
   "execution_count": 20,
   "metadata": {},
   "outputs": [
    {
     "name": "stdout",
     "output_type": "stream",
     "text": [
      "4\n",
      "b b c d\n",
      "2\n",
      " 0.833\n"
     ]
    }
   ],
   "source": [
    "#https://www.youtube.com/watch?v=fYNt7TASVKs\n",
    "# INPUT:\n",
    "# The input consists of 3 lines. The first line contains the integer N, denoting the length of the list. The next line consists of N space-separated lowercase English letters, denoting the elements of the list. The third and the last line of input contains the integer K, denoting the number of indices to be selected. \n",
    "\n",
    "# OUTPUT:\n",
    "# Output a single line consisting of the probability that at least one of the indices selected contains the letter 'b'\n",
    "\n",
    "# example: for input as ['b', 'b', 'c', 'd'], output should be 0.8333\n",
    "\n",
    "from itertools import combinations\n",
    "N = int (input())\n",
    "#print (N)\n",
    "L = input().split()\n",
    "# print(L)\n",
    "\n",
    "K = int(input())\n",
    "\n",
    "C = list(combinations(L,K))\n",
    "F = filter (lambda c : 'b' in c, C)\n",
    "print('{0: .3}'.format(len(list(F))/len(C)))"
   ]
  },
  {
   "cell_type": "code",
   "execution_count": null,
   "metadata": {},
   "outputs": [],
   "source": []
  },
  {
   "cell_type": "code",
   "execution_count": 25,
   "metadata": {},
   "outputs": [
    {
     "name": "stdout",
     "output_type": "stream",
     "text": [
      "[34, 89]\n"
     ]
    }
   ],
   "source": [
    "ages =[34,12,89,9]\n",
    "greater = list(filter(lambda ages: ages>18, ages))\n",
    "print(greater)"
   ]
  },
  {
   "cell_type": "code",
   "execution_count": 21,
   "metadata": {},
   "outputs": [
    {
     "name": "stdout",
     "output_type": "stream",
     "text": [
      "[34, 89]\n"
     ]
    }
   ],
   "source": [
    "#filter () function\n",
    "def check (age):\n",
    "    if age >18:\n",
    "        return age\n",
    "\n",
    "ages =[34,12,89,9]\n",
    "print(list(filter(check,ages)))"
   ]
  },
  {
   "cell_type": "code",
   "execution_count": 72,
   "metadata": {},
   "outputs": [
    {
     "name": "stdout",
     "output_type": "stream",
     "text": [
      "[1, 4, 9, 16, 25, 36, 49, 64, 81, 100]\n"
     ]
    }
   ],
   "source": [
    "#URGENT\n",
    "squared =[]\n",
    "for num in range (1,11):\n",
    "    squared.append(num*num)\n",
    "print(squared)"
   ]
  },
  {
   "cell_type": "code",
   "execution_count": 73,
   "metadata": {},
   "outputs": [
    {
     "name": "stdout",
     "output_type": "stream",
     "text": [
      "[1, 4, 9, 16, 25, 36, 49, 64, 81, 100]\n"
     ]
    }
   ],
   "source": [
    "print([num*num for num in range (1,11)])# Comprehnsion"
   ]
  },
  {
   "cell_type": "markdown",
   "metadata": {},
   "source": [
    "# Generators"
   ]
  },
  {
   "cell_type": "code",
   "execution_count": 75,
   "metadata": {},
   "outputs": [
    {
     "name": "stdout",
     "output_type": "stream",
     "text": [
      "n o h t y p "
     ]
    }
   ],
   "source": [
    "#Read: https://www.youtube.com/watch?v=bD05uGo_sVI\n",
    "#https://www.youtube.com/watch?v=mziIj4M_uwk\n",
    "#URGENT Using 'yield'\n",
    "def reverse (data):\n",
    "    for index in range(len(data)-1,-1,-1):\n",
    "        yield data[index]\n",
    "for char in reverse('python'):\n",
    "    print(char,end=\" \")"
   ]
  },
  {
   "cell_type": "code",
   "execution_count": 76,
   "metadata": {},
   "outputs": [
    {
     "name": "stdout",
     "output_type": "stream",
     "text": [
      "n\n"
     ]
    }
   ],
   "source": [
    "def reverse (data):\n",
    "    for index in range(len(data)-1,-1,-1):\n",
    "        return data[index]\n",
    "for char in reverse('python'):\n",
    "    print(char)"
   ]
  },
  {
   "cell_type": "code",
   "execution_count": null,
   "metadata": {},
   "outputs": [],
   "source": []
  },
  {
   "cell_type": "code",
   "execution_count": null,
   "metadata": {},
   "outputs": [],
   "source": []
  },
  {
   "cell_type": "markdown",
   "metadata": {},
   "source": [
    "# Controlled Flow in Python (Loops)"
   ]
  },
  {
   "cell_type": "code",
   "execution_count": 77,
   "metadata": {},
   "outputs": [
    {
     "name": "stdout",
     "output_type": "stream",
     "text": [
      "Hello\n",
      "Hello\n",
      "Hello\n",
      "Hello\n",
      "Hello\n",
      "Hello\n",
      "Hello\n",
      "Hello\n",
      "Hello\n",
      "Hello\n"
     ]
    }
   ],
   "source": [
    "for i in range(10):\n",
    "    print('Hello')"
   ]
  },
  {
   "cell_type": "code",
   "execution_count": 78,
   "metadata": {},
   "outputs": [
    {
     "name": "stdout",
     "output_type": "stream",
     "text": [
      "0\n",
      "1\n",
      "2\n",
      "3\n",
      "4\n",
      "5\n",
      "6\n",
      "7\n",
      "8\n",
      "9\n",
      "10\n",
      "11\n",
      "12\n",
      "13\n",
      "14\n"
     ]
    }
   ],
   "source": [
    "Number = [99, 25, 10, 1, 11, 55, 10, 10, 55, 100, 10, 20, 10, 999, 100]\n",
    "for num in range(len(Number)):\n",
    "    print (num)"
   ]
  },
  {
   "cell_type": "code",
   "execution_count": 79,
   "metadata": {},
   "outputs": [
    {
     "name": "stdout",
     "output_type": "stream",
     "text": [
      "99\n",
      "25\n",
      "10\n",
      "1\n",
      "11\n",
      "55\n",
      "10\n",
      "10\n",
      "55\n",
      "100\n",
      "10\n",
      "20\n",
      "10\n",
      "999\n",
      "100\n"
     ]
    }
   ],
   "source": [
    "#Best way of using 'for loop' \n",
    "Number = [99, 25, 10, 1, 11, 55, 10, 10, 55, 100, 10, 20, 10, 999, 100]\n",
    "for num in range(len(Number)):\n",
    "    print (Number[num])"
   ]
  },
  {
   "cell_type": "code",
   "execution_count": 80,
   "metadata": {},
   "outputs": [
    {
     "name": "stdout",
     "output_type": "stream",
     "text": [
      "[0]\n",
      "[1]\n",
      "[2]\n",
      "[3]\n",
      "[4]\n",
      "[5]\n",
      "[6]\n",
      "[7]\n",
      "[8]\n",
      "[9]\n",
      "[10]\n",
      "[11]\n",
      "[12]\n",
      "[13]\n",
      "[14]\n"
     ]
    }
   ],
   "source": [
    "#When we want index position to be displayed with braces[]\n",
    "Number = [99, 25, 10, 1, 11, 55, 10, 10, 55, 100, 10, 20, 10, 999, 100]\n",
    "for num in range(len(Number)):\n",
    "    print ([num])"
   ]
  },
  {
   "cell_type": "code",
   "execution_count": 81,
   "metadata": {},
   "outputs": [
    {
     "name": "stdout",
     "output_type": "stream",
     "text": [
      "100\n",
      "999\n",
      "10\n",
      "20\n",
      "10\n",
      "100\n",
      "55\n",
      "10\n",
      "10\n",
      "55\n",
      "11\n",
      "1\n",
      "10\n",
      "25\n",
      "99\n"
     ]
    }
   ],
   "source": [
    "#print numbers using reversed()\n",
    "Number = [99, 25, 10, 1, 11, 55, 10, 10, 55, 100, 10, 20, 10, 999, 100]\n",
    "for num in reversed(range(len(Number))):\n",
    "       print (Number[num])"
   ]
  },
  {
   "cell_type": "code",
   "execution_count": 82,
   "metadata": {},
   "outputs": [
    {
     "name": "stdout",
     "output_type": "stream",
     "text": [
      "10\n",
      "40\n",
      "70\n",
      "100\n"
     ]
    }
   ],
   "source": [
    "#URGENT\n",
    "Number = [10,20,30,40,50,60,70,80,90,100]\n",
    "for num in range(0,len(Number),3): # [from, to, (with a gap of -1)]\n",
    "    print (Number[num])"
   ]
  },
  {
   "cell_type": "code",
   "execution_count": 83,
   "metadata": {},
   "outputs": [
    {
     "name": "stdout",
     "output_type": "stream",
     "text": [
      "Enter a number: 6\n",
      "Not Prime\n"
     ]
    }
   ],
   "source": [
    "#prime or not\n",
    "n = int(input ('Enter a number: '))\n",
    "for i in range (2,n):\n",
    "    if n%i==0:   \n",
    "        print (\"Not Prime\")\n",
    "        break\n",
    "else:\n",
    "    print(\"Prime number\")"
   ]
  },
  {
   "cell_type": "code",
   "execution_count": 84,
   "metadata": {},
   "outputs": [
    {
     "name": "stdout",
     "output_type": "stream",
     "text": [
      "1\n",
      "2\n",
      "3\n",
      "A\n",
      "B\n",
      "C\n"
     ]
    }
   ],
   "source": [
    "#Nested loop\n",
    "X = [[1,2,3], [\"A\",\"B\",\"C\"]]\n",
    "for i in X:\n",
    "    for j in i:\n",
    "        print(j)"
   ]
  },
  {
   "cell_type": "code",
   "execution_count": 85,
   "metadata": {},
   "outputs": [
    {
     "name": "stdout",
     "output_type": "stream",
     "text": [
      "1 2 3 4 6 8 9 11 12 13 16 17 18 19 "
     ]
    }
   ],
   "source": [
    "#URGENT :\n",
    "for i in range(1,20):\n",
    "    if i%5==0 or i%7==0:\n",
    "        continue\n",
    "        i+=1\n",
    "    print(i,\"\", end ='')"
   ]
  },
  {
   "cell_type": "code",
   "execution_count": 14,
   "metadata": {},
   "outputs": [
    {
     "name": "stdout",
     "output_type": "stream",
     "text": [
      "Enter the guess: Ramesh\n",
      "you loose\n"
     ]
    }
   ],
   "source": [
    "guess = 'vikas'\n",
    "entry = input('Enter the guess: ')\n",
    "if entry ==guess:\n",
    "    print('You win')\n",
    "else:\n",
    "    print('you loose')"
   ]
  },
  {
   "cell_type": "code",
   "execution_count": 6,
   "metadata": {},
   "outputs": [
    {
     "name": "stdout",
     "output_type": "stream",
     "text": [
      "Enter guess: hello\n",
      "you win\n"
     ]
    }
   ],
   "source": [
    "secret_word = 'hello'\n",
    "guess = ''\n",
    "guess_count =0\n",
    "guess_limit =3\n",
    "out_of_guesses = False\n",
    "\n",
    "while guess != secret_word and not(out_of_guesses):\n",
    "    if guess_count <guess_limit:\n",
    "        guess = input('Enter guess: ')\n",
    "        guess_count+=1\n",
    "    else:\n",
    "        out_of_guesses = True\n",
    "if out_of_guesses:\n",
    "    print('Out of guesses, You loose')\n",
    "else:\n",
    "    print('you win')\n",
    "    "
   ]
  },
  {
   "cell_type": "code",
   "execution_count": 19,
   "metadata": {},
   "outputs": [
    {
     "name": "stdout",
     "output_type": "stream",
     "text": [
      "2871136041968 v\n",
      "2871134359856 i\n",
      "2871136041904 k\n",
      "2871136343216 a\n",
      "2871134348656 s\n"
     ]
    }
   ],
   "source": [
    "for xyz in 'vikas':\n",
    "    print(id(xyz),xyz)"
   ]
  },
  {
   "cell_type": "code",
   "execution_count": 11,
   "metadata": {},
   "outputs": [
    {
     "name": "stdout",
     "output_type": "stream",
     "text": [
      "Enter a number10\n",
      "3 4 5\n",
      "6 8 10\n"
     ]
    }
   ],
   "source": [
    "#pythagorean  number\n",
    "from math import sqrt \n",
    "max_num = int(input('Enter a number'))\n",
    "for a in range(1,max_num+1):\n",
    "    \n",
    "    for b in range (a, max_num):\n",
    "        \n",
    "        c_square = a**2 + b**2\n",
    "        c = int(sqrt(c_square))\n",
    "                \n",
    "        if((c_square - c**2)==0):\n",
    "            print(a,b,c)"
   ]
  },
  {
   "cell_type": "code",
   "execution_count": 6,
   "metadata": {},
   "outputs": [
    {
     "name": "stdout",
     "output_type": "stream",
     "text": [
      "0 India 10\n",
      "1 US 40\n",
      "2 Brazil 5\n"
     ]
    }
   ],
   "source": [
    "import pandas as pd\n",
    "df = pd.DataFrame({'country':['India','US','Brazil'], 'Population':[10,40,5]})\n",
    "for ind, row in df.iterrows():\n",
    "    print(ind, row['country'],row['Population'])"
   ]
  },
  {
   "cell_type": "markdown",
   "metadata": {},
   "source": [
    "# Patterns"
   ]
  },
  {
   "cell_type": "code",
   "execution_count": 86,
   "metadata": {},
   "outputs": [
    {
     "name": "stdout",
     "output_type": "stream",
     "text": [
      " @\n",
      " @ @\n",
      " @ @ @\n",
      " @ @ @ @\n",
      " @ @ @ @ @\n",
      " @ @ @ @ @ @\n",
      " @ @ @ @ @ @ @\n",
      " @ @ @ @ @ @ @ @\n",
      " @ @ @ @ @ @ @ @ @\n",
      " @ @ @ @ @ @ @ @ @ @\n"
     ]
    }
   ],
   "source": [
    "for i in range(10):\n",
    "    print(' @'*(i+1))"
   ]
  },
  {
   "cell_type": "code",
   "execution_count": 87,
   "metadata": {},
   "outputs": [
    {
     "name": "stdout",
     "output_type": "stream",
     "text": [
      "Enter the number of rows: 8\n",
      "        ***************\n",
      "         *************\n",
      "          ***********\n",
      "           *********\n",
      "            *******\n",
      "             *****\n",
      "              ***\n",
      "               *\n"
     ]
    }
   ],
   "source": [
    "x =int (input(\"Enter the number of rows: \"))\n",
    "y =2*x-1\n",
    "n = y\n",
    "while n>=1:\n",
    "    space = y - n //2\n",
    "    for j in range (1,space+1):\n",
    "        print (\" \", end =\"\")\n",
    "    for i in range (1,n+1):\n",
    "        print (\"*\", end =\"\")\n",
    "    for k in range (1,space+1):\n",
    "        print(\"\", end=\"\")\n",
    "    print()\n",
    "    n =n-2"
   ]
  },
  {
   "cell_type": "code",
   "execution_count": 88,
   "metadata": {},
   "outputs": [
    {
     "name": "stdout",
     "output_type": "stream",
     "text": [
      " #    \n",
      " #     #     #    \n",
      " #     #     #     #     #    \n",
      " #     #     #     #     #     #     #    \n",
      " #     #     #     #     #     #     #     #     #    \n",
      " #     #     #     #     #     #     #     #     #     #     #    \n"
     ]
    }
   ],
   "source": [
    "for i in range(6):\n",
    "    for j in range(2*i+1):\n",
    "        print (\" # \" ,end =\"   \")\n",
    "        j+=1\n",
    "    i+=1\n",
    "    print()"
   ]
  },
  {
   "cell_type": "code",
   "execution_count": 89,
   "metadata": {},
   "outputs": [
    {
     "name": "stdout",
     "output_type": "stream",
     "text": [
      "# # # # \n",
      "# # # \n",
      "# # \n",
      "# \n"
     ]
    }
   ],
   "source": [
    "for i in range(4):\n",
    "    for j in range(4-i):\n",
    "        print (\"#\" ,end =\" \")\n",
    "        j+=1\n",
    "    i+=1\n",
    "    print()"
   ]
  },
  {
   "cell_type": "raw",
   "metadata": {},
   "source": [
    "1.\tWrite a python program that draws a game board like below. Ask the user , what size game board they want to draw\t.\n",
    " --- --- --- \n",
    "|   |   |   | \n",
    " --- --- ---  \n",
    "|   |   |   | \n",
    " --- --- ---  \n",
    "|   |   |   | \n",
    " --- --- --- \n"
   ]
  },
  {
   "cell_type": "code",
   "execution_count": 90,
   "metadata": {},
   "outputs": [
    {
     "name": "stdout",
     "output_type": "stream",
     "text": [
      "         &\n",
      "        &&&\n",
      "       &&&&&\n",
      "      &&&&&&&\n",
      "     &&&&&&&&&\n"
     ]
    }
   ],
   "source": [
    "j=9\n",
    "for i in range(1,10,2):\n",
    "    print(' ' *j+i* '&')\n",
    "    j=j-1"
   ]
  },
  {
   "cell_type": "code",
   "execution_count": 91,
   "metadata": {},
   "outputs": [
    {
     "name": "stdout",
     "output_type": "stream",
     "text": [
      "+----+----+----+----+\n",
      "|    |    |    |    |\n",
      "|    |    |    |    |\n",
      "|    |    |    |    |\n",
      "|    |    |    |    |\n",
      "+----+----+----+----+\n",
      "|    |    |    |    |\n",
      "|    |    |    |    |\n",
      "|    |    |    |    |\n",
      "|    |    |    |    |\n",
      "+----+----+----+----+\n"
     ]
    }
   ],
   "source": [
    "def print_design(symb,repeats) :\n",
    "    print((symb+\" \"*4)*repeats,symb,sep='')\n",
    "    \n",
    "def print_edges(symb_cornor, symb , repeats) :\n",
    "     print((symb_cornor+symb*4)*repeats,symb_cornor,sep='')\n",
    "print_edges(\"+\",\"-\",4)\n",
    "for i in range(4) :\n",
    "    print_design(\"|\",4)\n",
    "print_edges(\"+\",\"-\",4)\n",
    "for i in range(4) :\n",
    "    print_design(\"|\",4)\n",
    "print_edges(\"+\",\"-\",4)"
   ]
  },
  {
   "cell_type": "code",
   "execution_count": 92,
   "metadata": {},
   "outputs": [
    {
     "name": "stdout",
     "output_type": "stream",
     "text": [
      "+----+----+----+----+----+----+\n",
      "|    |    |    |    |    |    |\n",
      "|    |    |    |    |    |    |\n",
      "|    |    |    |    |    |    |\n",
      "|    |    |    |    |    |    |\n",
      "+----+----+----+----+----+----+\n",
      "|    |    |    |    |    |    |\n",
      "|    |    |    |    |    |    |\n",
      "|    |    |    |    |    |    |\n",
      "|    |    |    |    |    |    |\n",
      "+----+----+----+----+----+----+\n",
      "|    |    |    |    |    |    |\n",
      "|    |    |    |    |    |    |\n",
      "|    |    |    |    |    |    |\n",
      "|    |    |    |    |    |    |\n",
      "+----+----+----+----+----+----+\n",
      "|    |    |    |    |    |    |\n",
      "|    |    |    |    |    |    |\n",
      "|    |    |    |    |    |    |\n",
      "|    |    |    |    |    |    |\n",
      "+----+----+----+----+----+----+\n",
      "|    |    |    |    |    |    |\n",
      "|    |    |    |    |    |    |\n",
      "|    |    |    |    |    |    |\n",
      "|    |    |    |    |    |    |\n",
      "+----+----+----+----+----+----+\n",
      "|    |    |    |    |    |    |\n",
      "|    |    |    |    |    |    |\n",
      "|    |    |    |    |    |    |\n",
      "|    |    |    |    |    |    |\n",
      "+----+----+----+----+----+----+\n",
      "|    |    |    |    |    |    |\n",
      "|    |    |    |    |    |    |\n",
      "|    |    |    |    |    |    |\n",
      "|    |    |    |    |    |    |\n",
      "+----+----+----+----+----+----+\n",
      "|    |    |    |    |    |    |\n",
      "|    |    |    |    |    |    |\n",
      "|    |    |    |    |    |    |\n",
      "|    |    |    |    |    |    |\n",
      "+----+----+----+----+----+----+\n"
     ]
    }
   ],
   "source": [
    "row = 8\n",
    "col = 6\n",
    "def draw(row,col) :\n",
    "    for i in range(row) :\n",
    "        print_edges(\"+\",\"-\",col)\n",
    "        for i in range(4) :\n",
    "            print_design(\"|\",col)\n",
    "    \n",
    "    print_edges(\"+\",\"-\",col)\n",
    "    \n",
    "draw(row,col)"
   ]
  },
  {
   "cell_type": "code",
   "execution_count": 93,
   "metadata": {},
   "outputs": [
    {
     "name": "stdout",
     "output_type": "stream",
     "text": [
      "          1\n",
      "         111\n",
      "        11111\n",
      "       1111111\n",
      "      111111111\n",
      "     11111111111\n",
      "    1111111111111\n",
      "   111111111111111\n",
      "  11111111111111111\n",
      " 1111111111111111111\n"
     ]
    }
   ],
   "source": [
    "rows = 10\n",
    "for i in range(0,rows) :\n",
    "    print(\" \"*(rows-i),\"1\"*(i*2+1),sep='')"
   ]
  },
  {
   "cell_type": "code",
   "execution_count": 94,
   "metadata": {},
   "outputs": [
    {
     "name": "stdout",
     "output_type": "stream",
     "text": [
      "          0\n",
      "         111\n",
      "        22222\n",
      "       3333333\n",
      "      444444444\n",
      "     55555555555\n",
      "    6666666666666\n",
      "   777777777777777\n",
      "  88888888888888888\n",
      " 9999999999999999999\n"
     ]
    }
   ],
   "source": [
    "rows = 10\n",
    "for i in range(0,rows) :\n",
    "    print(\" \"*(rows-i),str(i)*(i*2+1),sep='')"
   ]
  },
  {
   "cell_type": "code",
   "execution_count": 95,
   "metadata": {},
   "outputs": [
    {
     "data": {
      "text/plain": [
       "'12345678987654321'"
      ]
     },
     "execution_count": 95,
     "metadata": {},
     "output_type": "execute_result"
    }
   ],
   "source": [
    "def generate_seq(no) :\n",
    "    mystr = ''\n",
    "    for n in range(1,no+1) :\n",
    "        mystr = mystr+str(n)\n",
    "    for n in range(no+1,0,-1) :\n",
    "        mystr=mystr+str(n)\n",
    "    return mystr\n",
    "        \n",
    "generate_seq(8)"
   ]
  },
  {
   "cell_type": "code",
   "execution_count": 96,
   "metadata": {},
   "outputs": [
    {
     "name": "stdout",
     "output_type": "stream",
     "text": [
      "          1\n",
      "         121\n",
      "        12321\n",
      "       1234321\n",
      "      123454321\n",
      "     12345654321\n",
      "    1234567654321\n",
      "   123456787654321\n",
      "  12345678987654321\n",
      " 12345678910987654321\n"
     ]
    }
   ],
   "source": [
    "rows = 10\n",
    "for i in range(0,rows) :\n",
    "    print(\" \"*(rows-i),generate_seq(i),sep='')"
   ]
  },
  {
   "cell_type": "code",
   "execution_count": 97,
   "metadata": {},
   "outputs": [
    {
     "data": {
      "text/plain": [
       "8"
      ]
     },
     "execution_count": 97,
     "metadata": {},
     "output_type": "execute_result"
    }
   ],
   "source": [
    "string = \"Monte Carlos Comedy Circus\"\n",
    "len([s for s in string if s in 'AEIOUaeiou'])"
   ]
  },
  {
   "cell_type": "code",
   "execution_count": 98,
   "metadata": {},
   "outputs": [
    {
     "data": {
      "text/plain": [
       "[4.0, 5.0, 4.0, 2.9411764705882355, 10.0]"
      ]
     },
     "execution_count": 98,
     "metadata": {},
     "output_type": "execute_result"
    }
   ],
   "source": [
    "distance = [20,30,40,50,60]\n",
    "time = [5,6,10,17,6]\n",
    "speed =[]\n",
    "for i in range(len(distance)) :\n",
    "    speed.append(distance[i]/time[i])\n",
    "speed"
   ]
  },
  {
   "cell_type": "code",
   "execution_count": 99,
   "metadata": {},
   "outputs": [
    {
     "name": "stdout",
     "output_type": "stream",
     "text": [
      "enter an integer9\n",
      "The number is not in the range of 50 to 60.\n"
     ]
    }
   ],
   "source": [
    "# Lecture 2:Pg14_Task5: Write a function to check whether the number is in the range 50 to 100\n",
    "n= int(input(\"enter an integer\"))\n",
    "def test_range(n):\n",
    "    if n in range(50,100):\n",
    "        print( \"Value is in between 50 to 60\")\n",
    "    \n",
    "    else :\n",
    "        print(\"The number is not in the range of 50 to 60.\")\n",
    "\n",
    "test_range(n)"
   ]
  },
  {
   "cell_type": "code",
   "execution_count": 100,
   "metadata": {},
   "outputs": [
    {
     "name": "stdout",
     "output_type": "stream",
     "text": [
      "{'White', 'Black'}\n",
      "{'Green'}\n"
     ]
    }
   ],
   "source": [
    "#Lecture 2:Pg20_Task1_\n",
    "#Write a Python program to print out a set containing all the colors from color_list_1 which are not present in color_list_2:\n",
    "#color_list_1 = set([\"White\", \"Black\", \"Red\"]) color_list_2 = set([\"Red\", \"Green\"])\n",
    "\n",
    "color_list_1 = {'White', 'Black', 'Red'}\n",
    "color_list_2 = {\"Red\", \"Green\"}\n",
    "color_list_3 = color_list_1.difference(color_list_2) # i.e. all from 1, except what is present in 2 \n",
    "print(color_list_3)\n",
    "\n",
    "color_list_4 = color_list_2.difference(color_list_1) # i.e. all from 2, except what is present in 1\n",
    "print(color_list_4)"
   ]
  },
  {
   "cell_type": "code",
   "execution_count": 101,
   "metadata": {},
   "outputs": [
    {
     "name": "stdout",
     "output_type": "stream",
     "text": [
      "Enter first number: 4\n",
      "Enter second number: 7\n",
      "The L.C.M. of 4 and 7 is 28\n"
     ]
    }
   ],
   "source": [
    "#Lecture 2:Pg20_Task2_Write a Python program to get the least common multiple (LCM) of two positive integers\n",
    "\n",
    "num1 = int(input(\"Enter first number: \"))\n",
    "num2 = int(input(\"Enter second number: \"))\n",
    "\n",
    "def lcm(x, y):\n",
    "   if x > y:\n",
    "       greater = x\n",
    "   else:\n",
    "       greater = y\n",
    "\n",
    "   while(True):\n",
    "       if((greater % x == 0) and (greater % y == 0)):\n",
    "           lcm = greater\n",
    "           break\n",
    "       greater += 1\n",
    "\n",
    "   return lcm\n",
    "\n",
    "print(\"The L.C.M. of\", num1,\"and\", num2,\"is\", lcm(num1, num2))"
   ]
  },
  {
   "cell_type": "code",
   "execution_count": 102,
   "metadata": {},
   "outputs": [
    {
     "data": {
      "text/plain": [
       "1"
      ]
     },
     "execution_count": 102,
     "metadata": {},
     "output_type": "execute_result"
    }
   ],
   "source": [
    "#gcd function\n",
    "import math\n",
    "math.gcd(4,3)"
   ]
  },
  {
   "cell_type": "code",
   "execution_count": 103,
   "metadata": {},
   "outputs": [
    {
     "name": "stdout",
     "output_type": "stream",
     "text": [
      "Enter a number to print the summation of digits: 6\n",
      "Sum of all the integers is:  6\n"
     ]
    }
   ],
   "source": [
    "#Lecture 2:Pg20_Task3.Write a Python program to calculate the sum of the digits in an integer\n",
    "\n",
    "num= int(input(\"Enter a number to print the summation of digits: \"))\n",
    "sum  = 0\n",
    "while num>0:\n",
    "    d=num%10\n",
    "    num =num//10\n",
    "    sum+=d\n",
    "\n",
    "print (\"Sum of all the integers is: \" ,sum)"
   ]
  },
  {
   "cell_type": "code",
   "execution_count": 104,
   "metadata": {},
   "outputs": [
    {
     "name": "stdout",
     "output_type": "stream",
     "text": [
      "Enter a number for factorial calculation: 6\n",
      "Factorial of 6 is: 720\n"
     ]
    }
   ],
   "source": [
    "#Lecture 2:Pg20_Task4.Write a program to find the factorial of a number.\n",
    "try:\n",
    "    num = int(input(\"Enter a number for factorial calculation: \"))\n",
    "    original_Num = num\n",
    "    if (num>0):\n",
    "        fact =1\n",
    "        while (num>0):\n",
    "            fact=num*fact\n",
    "            num-=1\n",
    "        print(\"Factorial of %d\" %original_Num, \"is:\" ,fact)\n",
    "\n",
    "    else:\n",
    "        print (\"Enter a number greater than 0\")\n",
    "\n",
    "except:\n",
    "    print (\"Error: enter only integers\")\n"
   ]
  },
  {
   "cell_type": "code",
   "execution_count": 40,
   "metadata": {},
   "outputs": [
    {
     "name": "stdout",
     "output_type": "stream",
     "text": [
      "enter a number: 0\n",
      "division by zero\n"
     ]
    }
   ],
   "source": [
    "try:\n",
    "    ip= int(input('Enter a number: '))\n",
    "    output = 10/ip\n",
    "    print(output)\n",
    "except ValueError:\n",
    "    print('Invalid input')\n",
    "except ZeroDivisionError as err:\n",
    "    print(err)"
   ]
  },
  {
   "cell_type": "code",
   "execution_count": 105,
   "metadata": {},
   "outputs": [
    {
     "name": "stdout",
     "output_type": "stream",
     "text": [
      "24\n",
      "Enter a number to calculate factorial8\n",
      "40320\n"
     ]
    }
   ],
   "source": [
    "#Factorial\n",
    "def fact(num):\n",
    "    if num == 1:\n",
    "        return num\n",
    "    \n",
    "    else:\n",
    "        return num *fact(num-1)\n",
    "print(fact(4))\n",
    "print(fact(int(input(\"Enter a number to calculate factorial\"))))"
   ]
  },
  {
   "cell_type": "code",
   "execution_count": 106,
   "metadata": {},
   "outputs": [
    {
     "name": "stdout",
     "output_type": "stream",
     "text": [
      "Enter the number5\n",
      "Not a Armstrong number\n"
     ]
    }
   ],
   "source": [
    "#Armstrong Number 153 = (1)^3 + (5)^3 + (3)^3\n",
    "num = int(input(\"Enter the number\"))\n",
    "s = 0\n",
    "temp = num\n",
    "while temp > 0:\n",
    "    c = temp % 10\n",
    "    s+=c**3\n",
    "    temp //=10\n",
    "if num == s:\n",
    "    print(\"Armstrong number\")\n",
    "else:\n",
    "    print(\"Not a Armstrong number\")"
   ]
  },
  {
   "cell_type": "code",
   "execution_count": 107,
   "metadata": {},
   "outputs": [
    {
     "name": "stdout",
     "output_type": "stream",
     "text": [
      "1\n"
     ]
    }
   ],
   "source": [
    "condition = True\n",
    "if condition:\n",
    "    x=1\n",
    "else:\n",
    "    x=0\n",
    "print(x)"
   ]
  },
  {
   "cell_type": "code",
   "execution_count": 108,
   "metadata": {},
   "outputs": [
    {
     "name": "stdout",
     "output_type": "stream",
     "text": [
      "1\n"
     ]
    }
   ],
   "source": [
    "condition = True\n",
    "x=1 if condition else 0\n",
    "print(x)"
   ]
  },
  {
   "cell_type": "code",
   "execution_count": 109,
   "metadata": {},
   "outputs": [
    {
     "data": {
      "text/plain": [
       "(0, 4)"
      ]
     },
     "execution_count": 109,
     "metadata": {},
     "output_type": "execute_result"
    }
   ],
   "source": [
    "# divmod() : quotient and remainder when 4 is divided by 5 -- Integer divisio\n",
    "divmod(4,5)"
   ]
  },
  {
   "cell_type": "code",
   "execution_count": 110,
   "metadata": {},
   "outputs": [
    {
     "data": {
      "text/plain": [
       "7"
      ]
     },
     "execution_count": 110,
     "metadata": {},
     "output_type": "execute_result"
    }
   ],
   "source": [
    "#eval() method parses the expression passed to this method and runs python expression (code) within the program\n",
    "eval('3+4') # MUST interger be passed"
   ]
  },
  {
   "cell_type": "code",
   "execution_count": 111,
   "metadata": {},
   "outputs": [
    {
     "name": "stdout",
     "output_type": "stream",
     "text": [
      "2\n"
     ]
    }
   ],
   "source": [
    "# eval(): parses the expression passed to it and runs python expression(code) within the program.\n",
    "x = 1\n",
    "print(eval('x + 1'))"
   ]
  },
  {
   "cell_type": "code",
   "execution_count": 112,
   "metadata": {},
   "outputs": [
    {
     "name": "stdout",
     "output_type": "stream",
     "text": [
      "False\n"
     ]
    }
   ],
   "source": [
    "# isinstance():checks if the object (first argument) is an instance or subclass of classinfo class (second argument).\n",
    "x = isinstance(5, float)\n",
    "\n",
    "print(x)"
   ]
  },
  {
   "cell_type": "code",
   "execution_count": 113,
   "metadata": {},
   "outputs": [
    {
     "name": "stdout",
     "output_type": "stream",
     "text": [
      "True\n"
     ]
    }
   ],
   "source": [
    "#issubclass(): checks if the object argument (first argument) is a subclass of classinfo class (second argument)\n",
    "#syntax: issubclass(object, classinfo)\n",
    "\n",
    "class myAge:\n",
    "  age = 36\n",
    "\n",
    "class myObj(myAge):\n",
    "  name = \"John\"\n",
    "  age = myAge\n",
    "\n",
    "x = issubclass(myObj, myAge)\n",
    "\n",
    "print(x)"
   ]
  },
  {
   "cell_type": "code",
   "execution_count": 114,
   "metadata": {},
   "outputs": [
    {
     "name": "stdout",
     "output_type": "stream",
     "text": [
      "apple\n",
      "banana\n",
      "cherry\n"
     ]
    }
   ],
   "source": [
    "#iter(): The iter() method returns an iterator for the given object\n",
    "\n",
    "mytuple = (\"apple\", \"banana\", \"cherry\")\n",
    "myit = iter(mytuple)\n",
    "\n",
    "print(next(myit)) # next() Create an iterator, and print the items one by one:\n",
    "print(next(myit))\n",
    "print(next(myit))"
   ]
  },
  {
   "cell_type": "code",
   "execution_count": 115,
   "metadata": {},
   "outputs": [
    {
     "name": "stdout",
     "output_type": "stream",
     "text": [
      "1\n",
      "2\n",
      "3\n",
      "4\n",
      "5\n"
     ]
    }
   ],
   "source": [
    "class MyNumbers:\n",
    "  def __iter__(self):\n",
    "    self.a = 1\n",
    "    return self\n",
    "\n",
    "  def __next__(self):\n",
    "    x = self.a\n",
    "    self.a += 1\n",
    "    return x\n",
    "\n",
    "myclass = MyNumbers()\n",
    "myiter = iter(myclass)\n",
    "\n",
    "print(next(myiter))\n",
    "print(next(myiter))\n",
    "print(next(myiter))\n",
    "print(next(myiter))\n",
    "print(next(myiter))"
   ]
  },
  {
   "cell_type": "code",
   "execution_count": 116,
   "metadata": {},
   "outputs": [
    {
     "name": "stdout",
     "output_type": "stream",
     "text": [
      "localsNotPresent: {}\n",
      "localsPresent: {'present': True}\n"
     ]
    }
   ],
   "source": [
    "#locals()\n",
    "def localsNotPresent():\n",
    "    return locals()\n",
    "\n",
    "def localsPresent():\n",
    "    present = True\n",
    "    return locals()\n",
    "\n",
    "print('localsNotPresent:', localsNotPresent())\n",
    "print('localsPresent:', localsPresent())"
   ]
  },
  {
   "cell_type": "code",
   "execution_count": 117,
   "metadata": {},
   "outputs": [
    {
     "name": "stdout",
     "output_type": "stream",
     "text": [
      "True\n",
      "True\n"
     ]
    }
   ],
   "source": [
    "#locals()\n",
    "def localsPresent():\n",
    "    present = True\n",
    "    print(present)\n",
    "    locals()['present'] = False;\n",
    "    print(present)\n",
    "\n",
    "localsPresent()"
   ]
  },
  {
   "cell_type": "code",
   "execution_count": 118,
   "metadata": {},
   "outputs": [
    {
     "name": "stdout",
     "output_type": "stream",
     "text": [
      "<memory at 0x00000233D20B1A00>\n",
      "72\n",
      "101\n"
     ]
    }
   ],
   "source": [
    "#memoryview() --The memoryview() method returns a memory view object of the given argument\n",
    "\n",
    "x = memoryview(b\"Hello\")\n",
    "\n",
    "print(x)\n",
    "\n",
    "#return the Unicode of the first character\n",
    "print(x[0])\n",
    "\n",
    "#return the Unicode of the second character\n",
    "print(x[1])"
   ]
  },
  {
   "cell_type": "code",
   "execution_count": 119,
   "metadata": {},
   "outputs": [
    {
     "name": "stdout",
     "output_type": "stream",
     "text": [
      "Before update: bytearray(b'XYZ')\n",
      "After update: bytearray(b'XYJ')\n"
     ]
    }
   ],
   "source": [
    "#memoryview() --The memoryview() method returns a memory view object of the given argument\n",
    "# Modifying internal data using memory view \n",
    "  \n",
    "# random bytearray \n",
    "byte_array = bytearray('XYZ', 'utf-8') \n",
    "print('Before update:', byte_array) \n",
    "  \n",
    "mem_view = memoryview(byte_array) \n",
    "  \n",
    "# update 2nd index of mem_view to J  \n",
    "mem_view[2]= 74\n",
    "print('After update:', byte_array)"
   ]
  },
  {
   "cell_type": "code",
   "execution_count": 3,
   "metadata": {},
   "outputs": [
    {
     "name": "stdout",
     "output_type": "stream",
     "text": [
      "Maximum is 6\n",
      "Minimum is: 1\n",
      "Minimum is: 2\n"
     ]
    }
   ],
   "source": [
    "\n",
    "print('Maximum is: ',max(4,6))\n",
    "# using min(arg1, arg2, *args)\n",
    "print('Minimum is:', min(1, 3, 2, 5, 4))\n",
    "\n",
    "# using min(iterable)\n",
    "num = [3, 2, 8, 5, 10, 6]\n",
    "print('Minimum is:', min(num))"
   ]
  },
  {
   "cell_type": "code",
   "execution_count": 121,
   "metadata": {},
   "outputs": [
    {
     "data": {
      "text/plain": [
       "'D'"
      ]
     },
     "execution_count": 121,
     "metadata": {},
     "output_type": "execute_result"
    }
   ],
   "source": [
    "min(\"abcDEF\") # find smallest item in the string"
   ]
  },
  {
   "cell_type": "code",
   "execution_count": 122,
   "metadata": {},
   "outputs": [
    {
     "data": {
      "text/plain": [
       "'one'"
      ]
     },
     "execution_count": 122,
     "metadata": {},
     "output_type": "execute_result"
    }
   ],
   "source": [
    "min((\"one\", \"two\", \"three\")) # find smallest item in the tuple"
   ]
  },
  {
   "cell_type": "code",
   "execution_count": 123,
   "metadata": {},
   "outputs": [
    {
     "data": {
      "text/plain": [
       "'z++'"
      ]
     },
     "execution_count": 123,
     "metadata": {},
     "output_type": "execute_result"
    }
   ],
   "source": [
    "min((\"java\", \"python\", \"z++\"), key=len)"
   ]
  },
  {
   "cell_type": "code",
   "execution_count": 124,
   "metadata": {},
   "outputs": [
    {
     "name": "stdout",
     "output_type": "stream",
     "text": [
      "5\n"
     ]
    }
   ],
   "source": [
    "#object()\n",
    "class MyClass:\n",
    "  x = 5\n",
    "\n",
    "p1 = MyClass()\n",
    "print(p1.x)"
   ]
  },
  {
   "cell_type": "code",
   "execution_count": 125,
   "metadata": {},
   "outputs": [
    {
     "name": "stdout",
     "output_type": "stream",
     "text": [
      "Hello my name is John\n"
     ]
    }
   ],
   "source": [
    "#object()\n",
    "class Person:\n",
    "  def __init__(self, name, age):\n",
    "    self.name = name\n",
    "    self.age = age\n",
    "\n",
    "  def myfunc(self):\n",
    "    print(\"Hello my name is \" + self.name)\n",
    "\n",
    "p1 = Person(\"John\", 36)\n",
    "p1.myfunc()"
   ]
  },
  {
   "cell_type": "code",
   "execution_count": 126,
   "metadata": {},
   "outputs": [
    {
     "name": "stdout",
     "output_type": "stream",
     "text": [
      "Getting value\n",
      "GeeksforGeeks\n",
      "Setting value to GfG\n",
      "Deleting value\n"
     ]
    }
   ],
   "source": [
    "# property() - --\n",
    "\n",
    "# Python program to explain property() function \n",
    "  \n",
    "# Alphabet class \n",
    "class Alphabet: \n",
    "    def __init__(self, value): \n",
    "        self._value = value \n",
    "          \n",
    "    # getting the values \n",
    "    def getValue(self): \n",
    "        print('Getting value') \n",
    "        return self._value \n",
    "          \n",
    "    # setting the values \n",
    "    def setValue(self, value): \n",
    "        print('Setting value to ' + value) \n",
    "        self._value = value \n",
    "          \n",
    "    # deleting the values \n",
    "    def delValue(self): \n",
    "        print('Deleting value') \n",
    "        del self._value \n",
    "      \n",
    "    value = property(getValue, setValue, delValue, ) \n",
    "  \n",
    "# passing the value \n",
    "x = Alphabet('GeeksforGeeks') \n",
    "print(x.value) \n",
    "  \n",
    "x.value = 'GfG'\n",
    "  \n",
    "del x.value"
   ]
  },
  {
   "cell_type": "code",
   "execution_count": 127,
   "metadata": {},
   "outputs": [
    {
     "name": "stdout",
     "output_type": "stream",
     "text": [
      "The sum is: 15\n"
     ]
    }
   ],
   "source": [
    "#staticmethod()\n",
    "\n",
    "class Mathematics:\n",
    "    def addNumbers(x, y):\n",
    "        return x + y\n",
    "\n",
    "# create addNumbers static method\n",
    "Mathematics.addNumbers = staticmethod(Mathematics.addNumbers)\n",
    "print('The sum is:', Mathematics.addNumbers(5, 10))"
   ]
  },
  {
   "cell_type": "code",
   "execution_count": 128,
   "metadata": {},
   "outputs": [
    {
     "name": "stdout",
     "output_type": "stream",
     "text": [
      "Point(x=3, y=4)\n"
     ]
    }
   ],
   "source": [
    "#repr(): repr(): evaluatable string representation of an object\n",
    "class Point:\n",
    "\n",
    "   def __init__(self, x, y):\n",
    "     self.x, self.y = x, y\n",
    "\n",
    "   def __repr__(self):\n",
    "     return 'Point(x=%s, y=%s)' % (self.x, self.y)\n",
    "\n",
    "p = Point(3, 4)\n",
    "print (p)"
   ]
  },
  {
   "cell_type": "code",
   "execution_count": 129,
   "metadata": {},
   "outputs": [
    {
     "name": "stdout",
     "output_type": "stream",
     "text": [
      "<__main__.Person object at 0x00000233D20C7670>\n",
      "<__main__.Person object at 0x00000233D20C7670>\n"
     ]
    }
   ],
   "source": [
    "#repr()\n",
    "class Person:\n",
    "    name = \"\"\n",
    "    age = 0\n",
    "\n",
    "    def __init__(self, personName, personAge):\n",
    "        self.name = personName\n",
    "        self.age = personAge\n",
    "\n",
    "p = Person('Pankaj', 34)\n",
    "\n",
    "print(p.__str__())\n",
    "print(p.__repr__())"
   ]
  },
  {
   "cell_type": "code",
   "execution_count": 130,
   "metadata": {},
   "outputs": [
    {
     "name": "stdout",
     "output_type": "stream",
     "text": [
      "10\n",
      "20\n"
     ]
    }
   ],
   "source": [
    "#setattr()\n",
    "class Data:\n",
    "    pass\n",
    "d = Data()\n",
    "d.id = 10\n",
    "print(d.id)\n",
    "setattr(d, 'id', 20)\n",
    "print(d.id)"
   ]
  },
  {
   "cell_type": "code",
   "execution_count": 131,
   "metadata": {},
   "outputs": [
    {
     "name": "stdout",
     "output_type": "stream",
     "text": [
      "Before modification: Adam\n",
      "After modification: John\n"
     ]
    }
   ],
   "source": [
    "#setattr()\n",
    "class Person:\n",
    "    name = 'Adam'\n",
    "    \n",
    "p = Person()\n",
    "print('Before modification:', p.name)\n",
    "\n",
    "# setting name to 'John'\n",
    "setattr(p, 'name', 'John')\n",
    "\n",
    "print('After modification:', p.name)"
   ]
  },
  {
   "cell_type": "code",
   "execution_count": 132,
   "metadata": {},
   "outputs": [
    {
     "name": "stdout",
     "output_type": "stream",
     "text": [
      "The name is: Adam\n",
      "The age is: 23\n"
     ]
    }
   ],
   "source": [
    "#getattr()\n",
    "\n",
    "class Person:\n",
    "    name = \"Adam\"\n",
    "    age = 23\n",
    "    \n",
    "person = Person()\n",
    "print('The name is:', getattr(person, \"name\"))\n",
    "print('The age is:', getattr(person, \"age\"))"
   ]
  },
  {
   "cell_type": "code",
   "execution_count": 133,
   "metadata": {},
   "outputs": [
    {
     "name": "stdout",
     "output_type": "stream",
     "text": [
      "Person has age?: True\n",
      "Person has salary?: False\n"
     ]
    }
   ],
   "source": [
    "#hasattr(): The hasattr() method returns true if an object has the given named attribute and false if it does not.\n",
    "\n",
    "class Person:\n",
    "    age = 23\n",
    "    name = 'Adam'\n",
    "\n",
    "person = Person()\n",
    "\n",
    "print('Person has age?:', hasattr(person, 'age'))\n",
    "print('Person has salary?:', hasattr(person, 'salary'))"
   ]
  },
  {
   "cell_type": "code",
   "execution_count": 134,
   "metadata": {},
   "outputs": [
    {
     "name": "stdout",
     "output_type": "stream",
     "text": [
      "Getting value\n",
      "GeeksforGeeks\n",
      "Setting value to GfG\n",
      "Deleting value\n"
     ]
    }
   ],
   "source": [
    "#property() \n",
    "\n",
    "# Python program to explain property() function \n",
    "  \n",
    "# Alphabet class \n",
    "class Alphabet: \n",
    "    def __init__(self, value): \n",
    "        self._value = value \n",
    "          \n",
    "    # getting the values \n",
    "    def getValue(self): \n",
    "        print('Getting value') \n",
    "        return self._value \n",
    "          \n",
    "    # setting the values \n",
    "    def setValue(self, value): \n",
    "        print('Setting value to ' + value) \n",
    "        self._value = value \n",
    "          \n",
    "    # deleting the values \n",
    "    def delValue(self): \n",
    "        print('Deleting value') \n",
    "        del self._value \n",
    "      \n",
    "    value = property(getValue, setValue, delValue, ) \n",
    "  \n",
    "# passing the value \n",
    "x = Alphabet('GeeksforGeeks') \n",
    "print(x.value) \n",
    "  \n",
    "x.value = 'GfG'\n",
    "  \n",
    "del x.value "
   ]
  },
  {
   "cell_type": "code",
   "execution_count": 135,
   "metadata": {},
   "outputs": [
    {
     "name": "stdout",
     "output_type": "stream",
     "text": [
      "True\n",
      "[1, 2, 55, 4]\n",
      "2421590069952\n",
      "2421590069952\n"
     ]
    }
   ],
   "source": [
    "l1 = [1,2,3,4]\n",
    "l2 = l1\n",
    "l1[2]=55\n",
    "if l1 == l2: #The Difference Between \"==\" and \"is\" (Equality vs Identity)\n",
    "    print('True')\n",
    "else:\n",
    "    print('False')\n",
    "print(l2)\n",
    "print(id(l1))\n",
    "print(id(l2))"
   ]
  },
  {
   "cell_type": "code",
   "execution_count": 136,
   "metadata": {},
   "outputs": [
    {
     "name": "stdout",
     "output_type": "stream",
     "text": [
      "True\n",
      "[1, 2, 55, 4]\n",
      "2421590332544\n",
      "2421590332544\n"
     ]
    }
   ],
   "source": [
    "l1 = [1,2,3,4]\n",
    "l2 = l1\n",
    "l1[2]=55\n",
    "if l1 is l2: #The Difference Between \"==\" and \"is\" (Equality vs Identity)\n",
    "    print('True')\n",
    "else:\n",
    "    print('False')\n",
    "print(l2)\n",
    "print(id(l1))\n",
    "print(id(l2))"
   ]
  },
  {
   "cell_type": "markdown",
   "metadata": {},
   "source": [
    "# Slicing"
   ]
  },
  {
   "cell_type": "code",
   "execution_count": 137,
   "metadata": {},
   "outputs": [
    {
     "name": "stdout",
     "output_type": "stream",
     "text": [
      "2\n",
      "4\n",
      "6\n",
      "8\n",
      "10\n"
     ]
    }
   ],
   "source": [
    "a= lambda x: x*2\n",
    "for i in range (1,6):\n",
    "    print(a(i))"
   ]
  },
  {
   "cell_type": "code",
   "execution_count": 138,
   "metadata": {},
   "outputs": [
    {
     "name": "stdout",
     "output_type": "stream",
     "text": [
      "Inside a is:  786\n",
      "outside a is: 786\n"
     ]
    }
   ],
   "source": [
    "#Use of nonlocal\n",
    "def outer_function():\n",
    "    a = 420\n",
    "    def inside_function():\n",
    "        nonlocal a\n",
    "        a=786\n",
    "        print('Inside a is: ', a)\n",
    "\n",
    "    inside_function()\n",
    "    print('outside a is:',a)\n",
    "outer_function()"
   ]
  },
  {
   "cell_type": "code",
   "execution_count": 139,
   "metadata": {},
   "outputs": [
    {
     "name": "stdout",
     "output_type": "stream",
     "text": [
      " vikas books reading likes\n",
      "1 &&& 2 &&& 3 !!!"
     ]
    }
   ],
   "source": [
    "print(\" vikas {1} reading {0}\" .format('likes', 'books'))\n",
    "print(1,2,3,sep=' &&& ',end =' !!!' )"
   ]
  },
  {
   "cell_type": "code",
   "execution_count": 140,
   "metadata": {},
   "outputs": [
    {
     "data": {
      "text/plain": [
       "5"
      ]
     },
     "execution_count": 140,
     "metadata": {},
     "output_type": "execute_result"
    }
   ],
   "source": [
    "11//2"
   ]
  },
  {
   "cell_type": "code",
   "execution_count": 141,
   "metadata": {},
   "outputs": [
    {
     "name": "stdout",
     "output_type": "stream",
     "text": [
      "Enter no of layers6\n",
      ".\n"
     ]
    }
   ],
   "source": [
    "n = int (input('Enter no of layers'))\n",
    "\n",
    "while (n<=0):\n",
    "    n = n//2\n",
    "    n=n-1\n",
    "print(\".\")\n"
   ]
  },
  {
   "cell_type": "code",
   "execution_count": 142,
   "metadata": {},
   "outputs": [
    {
     "name": "stdout",
     "output_type": "stream",
     "text": [
      "Enter no of layers: 8\n",
      "2\n",
      "4\n",
      "6\n"
     ]
    }
   ],
   "source": [
    "n = int (input('Enter no of layers: '))\n",
    "for i in range(2,n):\n",
    "    if (i%2 != 0):\n",
    "        pass\n",
    "    else:\n",
    "        print(i)       "
   ]
  },
  {
   "cell_type": "code",
   "execution_count": 143,
   "metadata": {},
   "outputs": [
    {
     "name": "stdout",
     "output_type": "stream",
     "text": [
      "Vikas\n",
      "    How \n",
      "    are\n",
      "    you\n",
      "    !!!\n"
     ]
    }
   ],
   "source": [
    "#DocString calling\n",
    "\n",
    "def multi_Line_Func():\n",
    "    \"\"\"Vikas\n",
    "    How \n",
    "    are\n",
    "    you\n",
    "    !!!\"\"\"\n",
    "print(multi_Line_Func.__doc__)"
   ]
  },
  {
   "cell_type": "code",
   "execution_count": 144,
   "metadata": {},
   "outputs": [
    {
     "name": "stdout",
     "output_type": "stream",
     "text": [
      "10\n"
     ]
    }
   ],
   "source": [
    "def vik_sum(*args):\n",
    "    sum=0\n",
    "    for i in args:\n",
    "        sum+=i\n",
    "    return sum\n",
    "print(vik_sum(1,2,3,4))"
   ]
  },
  {
   "cell_type": "code",
   "execution_count": 145,
   "metadata": {},
   "outputs": [
    {
     "name": "stdout",
     "output_type": "stream",
     "text": [
      "x is less than y\n",
      "x is less than y\n"
     ]
    }
   ],
   "source": [
    "#\n",
    "# Example file for working with conditional statements\n",
    "#\n",
    "\n",
    "\n",
    "def main():\n",
    "    x, y = 10, 100\n",
    "\n",
    "    # conditional flow uses if, elif, else\n",
    "    if(x < y):\n",
    "        st = \"x is less than y\"\n",
    "    elif (x == y):\n",
    "        st = \"x is same as y\"\n",
    "    else:\n",
    "        st = \"x is greater than y\"\n",
    "    print(st)\n",
    "\n",
    "    # conditional statements let you use \"a if C else b\"\n",
    "    st = \"x is less than y\" if (x < y) else \"x is greater than or equal to y\"\n",
    "    print(st)\n",
    "\n",
    "    # Python does not have support for higher-order conditionals\n",
    "    # like \"switch-case\" in other languages\n",
    "\n",
    "\n",
    "if __name__ == \"__main__\":\n",
    "    main()\n"
   ]
  },
  {
   "cell_type": "code",
   "execution_count": null,
   "metadata": {},
   "outputs": [],
   "source": []
  },
  {
   "cell_type": "code",
   "execution_count": 23,
   "metadata": {},
   "outputs": [
    {
     "name": "stdout",
     "output_type": "stream",
     "text": [
      "8\n"
     ]
    }
   ],
   "source": [
    "def raise_to_power (base,power):\n",
    "    result = 1\n",
    "    for i in range(power):\n",
    "        result*= base\n",
    "    return result\n",
    "    \n",
    "print(raise_to_power(2,3))"
   ]
  },
  {
   "cell_type": "code",
   "execution_count": 28,
   "metadata": {},
   "outputs": [
    {
     "name": "stdout",
     "output_type": "stream",
     "text": [
      "19\n"
     ]
    }
   ],
   "source": [
    "def multi_add(*pqr):\n",
    "    result = 0\n",
    "    for i in pqr:\n",
    "        result+=i\n",
    "    return result\n",
    "print(multi_add(2,3,14) )"
   ]
  },
  {
   "cell_type": "code",
   "execution_count": 148,
   "metadata": {},
   "outputs": [
    {
     "name": "stdout",
     "output_type": "stream",
     "text": [
      "0\n",
      "1\n",
      "2\n",
      "3\n",
      "4\n",
      "5\n",
      "6\n",
      "7\n",
      "8\n",
      "9\n",
      "Mon\n",
      "Tue\n",
      "Wed\n",
      "Thu\n",
      "Fri\n",
      "Sat\n",
      "Sun\n",
      "5\n",
      "6\n",
      "7\n",
      "8\n",
      "9\n",
      "0 Mon\n",
      "1 Tue\n",
      "2 Wed\n",
      "3 Thu\n",
      "4 Fri\n",
      "5 Sat\n",
      "6 Sun\n"
     ]
    }
   ],
   "source": [
    "#\n",
    "# Example file for working with loops\n",
    "#\n",
    "\n",
    "def main():\n",
    "  x = 0\n",
    "  \n",
    "  # define a while loop\n",
    "  while (x < 5):\n",
    "     print (x)\n",
    "     x = x + 1\n",
    "\n",
    "  # define a for loop\n",
    "  for x in range(5,10):\n",
    "    print (x)\n",
    "    \n",
    "  # use a for loop over a collection\n",
    "  days = [\"Mon\",\"Tue\",\"Wed\",\"Thu\",\"Fri\",\"Sat\",\"Sun\"]\n",
    "  for d in days:\n",
    "    print (d)\n",
    "  \n",
    "  # use the break and continue statements\n",
    "  for x in range(5,10):\n",
    "    #if (x == 7): break\n",
    "    #if (x % 2 == 0): continue\n",
    "    print (x)\n",
    "  \n",
    "  #using the enumerate() function to get index \n",
    "  days = [\"Mon\",\"Tue\",\"Wed\",\"Thu\",\"Fri\",\"Sat\",\"Sun\"]\n",
    "  for i, d in enumerate(days):\n",
    "    print (i, d)\n",
    "  \n",
    "if __name__ == \"__main__\":\n",
    "  main()\n"
   ]
  },
  {
   "cell_type": "code",
   "execution_count": null,
   "metadata": {},
   "outputs": [],
   "source": []
  },
  {
   "cell_type": "code",
   "execution_count": null,
   "metadata": {},
   "outputs": [],
   "source": [
    "class employee:\n",
    "    pass\n",
    "emp1 =employee()\n",
    "emp2 = employee()\n",
    "print(emp1)\n",
    "print(emp1)\n",
    "\n",
    "emp1.first =\"Vikas\"\n",
    "emp1.last =\"Kumar\"\n",
    "emp1.email =\"test@test.com\"\n",
    "emp1.salary =10000\n",
    "\n",
    "emp2.first =\"Vijit\"\n",
    "emp2.last =\"Junankar\"\n",
    "emp2.email =\"HSBC@test.com\"\n",
    "emp2.salary =50000\n",
    "\n",
    "print(emp1.email)\n",
    "print(emp2.email)"
   ]
  },
  {
   "cell_type": "code",
   "execution_count": null,
   "metadata": {},
   "outputs": [],
   "source": [
    "class employee:\n",
    "    def __init__(self,first,last,email,salary):\n",
    "        self.first= first\n",
    "        self.last= last\n",
    "        self.email= email\n",
    "        self.salary= salary\n",
    "        \n",
    "emp1 =employee('Vikas','Kumar', \"test@test.com\", 10000)\n",
    "emp2 = employee(\"Vijit\", \"Junankar\", \"HSBC@test.com\", 50000)\n",
    "print(emp1.email)\n",
    "print(emp2.email)\n",
    "\n",
    "print('{} {}'.format(emp1.first,emp1.last))"
   ]
  },
  {
   "cell_type": "code",
   "execution_count": null,
   "metadata": {},
   "outputs": [],
   "source": [
    "class employee:\n",
    "    def __init__(self,first,last,email,salary):\n",
    "        self.first= first\n",
    "        self.last= last\n",
    "        self.email= email\n",
    "        self.salary= salary\n",
    "    def fullname(self):\n",
    "        return '{} {}'.format(self.first,self.last)\n",
    "        \n",
    "emp1 =employee('Vikas','Kumar', \"test@test.com\", 10000)\n",
    "emp2 = employee(\"Vijit\", \"Junankar\", \"HSBC@test.com\", 50000)\n",
    "print(emp1.email)\n",
    "print(emp2.email)\n",
    "\n",
    "print(emp1.fullname())\n",
    "print(emp2.fullname())"
   ]
  },
  {
   "cell_type": "code",
   "execution_count": null,
   "metadata": {},
   "outputs": [],
   "source": [
    "class employee:\n",
    "    def __init__(self,first,last,email,salary):\n",
    "        self.first= first\n",
    "        self.last= last\n",
    "        self.email= email\n",
    "        self.salary= salary\n",
    "    def fullname(self):\n",
    "        return '{} {}'.format(self.first,self.last)\n",
    "        \n",
    "emp1 =employee('Vikas','Kumar', \"test@test.com\", 10000)\n",
    "emp2 = employee(\"Vijit\", \"Junankar\", \"HSBC@test.com\", 50000)\n",
    "\n",
    "\n",
    "emp1.fullname()\n",
    "print(employee.fullname(emp1))\n",
    "\n",
    "emp2.fullname()\n",
    "print(employee.fullname(emp2))"
   ]
  },
  {
   "cell_type": "code",
   "execution_count": null,
   "metadata": {},
   "outputs": [],
   "source": [
    "fhand = open('python.txt')\n",
    "fhand.read()"
   ]
  },
  {
   "cell_type": "code",
   "execution_count": null,
   "metadata": {},
   "outputs": [],
   "source": [
    "class fundamental_class :pass\n",
    "obj = fundamental_class()\n",
    "print( \"id of object is\", id, \" and the type is\", type(obj))"
   ]
  },
  {
   "cell_type": "code",
   "execution_count": null,
   "metadata": {},
   "outputs": [],
   "source": [
    "class BankAccount:\n",
    "    balance = 0\n",
    "        \n",
    "    def deposit(self,amount):\n",
    "        self.balance +=amount\n",
    "        #print(\"Deposited amount is\", )\n",
    "           \n",
    "    def withdrawl(self,with_amt):\n",
    "        self.balance -= with_amt\n",
    " \n",
    "    def check_balce(self):\n",
    "        print (\"balance\",self.balance)"
   ]
  },
  {
   "cell_type": "code",
   "execution_count": null,
   "metadata": {},
   "outputs": [],
   "source": [
    "myclass = BankAccount()"
   ]
  },
  {
   "cell_type": "code",
   "execution_count": null,
   "metadata": {},
   "outputs": [],
   "source": [
    "myclass.check_balce()"
   ]
  },
  {
   "cell_type": "code",
   "execution_count": null,
   "metadata": {},
   "outputs": [],
   "source": [
    "myclass.deposit(100) "
   ]
  },
  {
   "cell_type": "code",
   "execution_count": null,
   "metadata": {},
   "outputs": [],
   "source": [
    "myclass.withdrawl(10) \n",
    "myclass.check_balce()"
   ]
  },
  {
   "cell_type": "code",
   "execution_count": null,
   "metadata": {},
   "outputs": [],
   "source": [
    "class MinimumBalanceBankAccount(BankAccount):\n",
    "    minumum_balance = 50\n",
    "    \n",
    "    def withdrawl(self,with_amt):\n",
    "        if (self.balance - with_amt)<self.minumum_balance:\n",
    "            print (\"Insuffient balance\")\n",
    "        else:\n",
    "            super().withdrawl(with_amt)\n",
    "            \n",
    "myclassNew = MinimumBalanceBankAccount()\n",
    "myclassNew.withdrawl(-1000)\n",
    "myclassNew.check_balce()"
   ]
  },
  {
   "cell_type": "code",
   "execution_count": null,
   "metadata": {},
   "outputs": [],
   "source": [
    "# class point:\n",
    "#     def __init__(self,x=0,y=0):\n",
    "#         self.x = x\n",
    "#         self.y = y\n",
    "#     def __add__(self,point):\n",
    "#         x=self.x+point.x\n",
    "#         y = self.y + point.y\n",
    "#         return (point (x,y))\n",
    "#     def print_def(self):\n",
    "#         print(\"The current point has co ordinate\", self.x , self.y)\n",
    "# p1 = point(4,5)\n",
    "# p2 = point(6,7)\n",
    "\n",
    "# p = (p1+p2)\n",
    "# p.print_def()"
   ]
  },
  {
   "cell_type": "code",
   "execution_count": null,
   "metadata": {},
   "outputs": [],
   "source": [
    "class range_iterator:\n",
    "    def __init__(self,maxno):\n",
    "        self.min =1\n",
    "        self.max = maxno\n",
    "    def __iter__ (self):\n",
    "        return self\n",
    "    def __next__(self):\n",
    "        if(self.min + 1<=self.max):\n",
    "            print(self.min +1)\n",
    "            self.min = self.min +1\n",
    "        else:\n",
    "            raise StopIteration\n",
    "a = range_iterator(5)\n",
    "\n",
    "type(a)\n"
   ]
  },
  {
   "cell_type": "code",
   "execution_count": null,
   "metadata": {},
   "outputs": [],
   "source": [
    "a = range_iterator(5)\n",
    "type(a)\n"
   ]
  },
  {
   "cell_type": "code",
   "execution_count": null,
   "metadata": {},
   "outputs": [],
   "source": [
    "dir(a)"
   ]
  },
  {
   "cell_type": "code",
   "execution_count": null,
   "metadata": {},
   "outputs": [],
   "source": [
    "class range_iterator_rev:\n",
    "    def __init__(self,maxno):\n",
    "        self.min =1\n",
    "        self.max = maxno\n",
    "    def __iter__ (self):\n",
    "        return self\n",
    "    def __next__(self):\n",
    "        if(self.max - 1 >= self.min):\n",
    "            print(self.min +1)\n",
    "            self.max = self.max -1\n",
    "        else:\n",
    "            raise StopIteration\n",
    "        return self.max +1\n",
    "for i in range_iterator_rev(5):\n",
    "    print(i)\n"
   ]
  },
  {
   "cell_type": "code",
   "execution_count": null,
   "metadata": {},
   "outputs": [],
   "source": [
    "#Lecture 2:Pg20_Task5.Write a program to print the Fibonacci series up to 100 numbers\n",
    "\n",
    "\n",
    "\n",
    "def fib (range1,n1=0,n2=2):\n",
    "    range1=int(input(\"Enter the number for Fibonacci series: \"))\n",
    "    # n1=0\n",
    "    # n2=1\n",
    "    i=2\n",
    "    \n",
    "    if range1<= 0:\n",
    "        print (\"Enter a positive integer.\")\n",
    "    elif range1== 1:\n",
    "        print (\"Fibonacci series up to: \",range1)\n",
    "        print (n1)\n",
    "    else:\n",
    "        print (\"Fibonacci series up to: \",range1)\n",
    "        print (n1)\n",
    "        print (n2)\n",
    "        while i<range1:\n",
    "            n3=n1+n2\n",
    "            yield (n3)\n",
    "            n1=n2\n",
    "            n2=n3\n",
    "            i=i+1"
   ]
  },
  {
   "cell_type": "code",
   "execution_count": null,
   "metadata": {},
   "outputs": [],
   "source": [
    "x = fib(10)\n",
    "for i in x:\n",
    "    print(i)"
   ]
  },
  {
   "cell_type": "code",
   "execution_count": null,
   "metadata": {},
   "outputs": [],
   "source": [
    "mylist = [1,2,3,[4,5],[6,[7,8]],9]\n",
    "mylist\n"
   ]
  },
  {
   "cell_type": "code",
   "execution_count": null,
   "metadata": {},
   "outputs": [],
   "source": [
    "def flatten(S):\n",
    "    if S == []:\n",
    "        return S\n",
    "    if isinstance(S[0], list):\n",
    "        return flatten(S[0]) + flatten(S[1:])\n",
    "    return S[:1] + flatten(S[1:])\n",
    "s=[1,2,3,[4,5],[6,[7,8]],9]\n",
    "print(\"Flattened list is: \",flatten(s))"
   ]
  },
  {
   "cell_type": "code",
   "execution_count": null,
   "metadata": {},
   "outputs": [],
   "source": [
    "from collections import Iterable\n",
    "\n",
    "def flatten(items):\n",
    "    \"\"\"Yield items from any nested iterable; see Reference.\"\"\"\n",
    "    for x in items:\n",
    "        if isinstance(x, Iterable) and not isinstance(x, (str, bytes)):\n",
    "            for sub_x in flatten(x):\n",
    "                yield sub_x\n",
    "        else:\n",
    "            yield x\n",
    "lst = [1,2,3,[4,5],[6,[7,8]],9]\n",
    "list(flatten(lst)) "
   ]
  },
  {
   "cell_type": "code",
   "execution_count": null,
   "metadata": {},
   "outputs": [],
   "source": [
    "class Computer:\n",
    "    def config(self):#behaviour, method or function\n",
    "        print(\"i5,16gb,1TB\")\n",
    "com1 =Computer()#com1 is an object\n",
    "Computer.config(com1) # class.method(object)"
   ]
  },
  {
   "cell_type": "code",
   "execution_count": null,
   "metadata": {},
   "outputs": [],
   "source": [
    "class Computer:\n",
    "    def config(self):\n",
    "        print(\"i5,16gb,1TB\")\n",
    "com1 =Computer()\n",
    "com1.config()#object.method()"
   ]
  },
  {
   "cell_type": "code",
   "execution_count": null,
   "metadata": {},
   "outputs": [],
   "source": [
    "class Computer:\n",
    "    def __init__(self,cpu,ram):\n",
    "        self.cpu=cpu\n",
    "        self.ram=ram\n",
    "    \n",
    "    def config(self):\n",
    "        print(\"Config of\", self.cpu,self.ram)\n",
    "        \n",
    "com1 =Computer('i5','16gb') # Computer() is constructor\n",
    "print(id(com1))\n",
    "\n",
    "com2 =Computer('reyes','5gb')\n",
    "print(id(com2)) # different memory location than com1\n",
    "com1.config()#object.method()\n",
    "com2.config()"
   ]
  },
  {
   "cell_type": "code",
   "execution_count": null,
   "metadata": {},
   "outputs": [],
   "source": [
    "class Computer:\n",
    "    def __init__(self):\n",
    "        self.name = \"Vikas\"\n",
    "        self.age = 40\n",
    "    \n",
    "    def update(self):\n",
    "        self.age = 420\n",
    "    \n",
    "\n",
    "c1 = Computer() # c1 is This is one object\n",
    "c2 = Computer() # c2 is another object\n",
    "\n",
    "c1.name = \"Mohan\"\n",
    "c1.age = 99\n",
    "\n",
    "c1.update()#c1's update() will take place\n",
    "\n",
    "print(c1.name)\n",
    "print(c1.age)\n",
    "print(c2.name)\n",
    "print(c2.age)"
   ]
  },
  {
   "cell_type": "code",
   "execution_count": null,
   "metadata": {},
   "outputs": [],
   "source": [
    "#compare()\n",
    "\n",
    "class Computer:\n",
    "    def __init__(self):\n",
    "        self.name = \"Vikas\"\n",
    "        self.age = 40\n",
    "    \n",
    "    def compare(self,other):\n",
    "        if self.age == other.age:\n",
    "            return True\n",
    "        else:\n",
    "            return False\n",
    "\n",
    "c1 = Computer() # c1 is This is one object\n",
    "c1.age=30\n",
    "c2 = Computer() # c2 is another object\n",
    "\n",
    "if c1.compare(c2):\n",
    "    print(\"They are same\")\n",
    "else:\n",
    "    print(\"They are different\")\n",
    "\n",
    "print(c1.name)\n",
    "print(c1.age)\n",
    "print(c2.name)\n",
    "print(c2.age)"
   ]
  },
  {
   "cell_type": "code",
   "execution_count": null,
   "metadata": {},
   "outputs": [],
   "source": [
    "class Student:\n",
    "    def __init__(self,m1,m2,m3):\n",
    "        self.m1 = m1\n",
    "        self.m2 = m2\n",
    "        self.m3 = m3\n",
    "        \n",
    "    def avg(self): #avg() is an instance method-Types- Acccesor and Mutators\n",
    "        return ((self.m1+self.m2+ self.m3)/3)\n",
    "    \n",
    "    def get_m1(self):#rather using print(s1.m1), defining a method is a better option\n",
    "        return self.m1\n",
    "    \n",
    "s1 = Student(12,13,14)\n",
    "s2 = Student(22,33,44)\n",
    "print(s1.m1)\n",
    "print(s1.avg())\n",
    "print(s2.avg())  \n",
    "\n",
    "print(s1.get_m1())"
   ]
  },
  {
   "cell_type": "code",
   "execution_count": null,
   "metadata": {},
   "outputs": [],
   "source": [
    "class Student:\n",
    "    school = 'Telusko'\n",
    "    def __init__(self,m1,m2,m3):\n",
    "        self.m1 = m1\n",
    "        self.m2 = m2\n",
    "        self.m3 = m3\n",
    "        \n",
    "    def avg(self): #avg() is an instance method-Types- Acccesor and Mutators\n",
    "        return ((self.m1+self.m2+ self.m3)/3)\n",
    "    \n",
    "    @classmethod\n",
    "    def info(cls):\n",
    "        return cls.school\n",
    "    \n",
    "s1 = Student(12,13,14)\n",
    "s2 = Student(22,33,44)\n",
    "\n",
    "print(s1.avg())\n",
    "print(s2.avg())  \n",
    "print(Student.info())\n",
    "\n"
   ]
  },
  {
   "cell_type": "code",
   "execution_count": null,
   "metadata": {},
   "outputs": [],
   "source": [
    "class Student:\n",
    "    school = 'Telusko'\n",
    "    \n",
    "    @classmethod\n",
    "    def getschool(cls):\n",
    "        return cls.school\n",
    "    \n",
    "    @staticmethod\n",
    "    def info():\n",
    "        print(\"This is student class in abc module\")\n",
    "    \n",
    "print(Student.getschool())\n",
    "Student.info()"
   ]
  },
  {
   "cell_type": "code",
   "execution_count": null,
   "metadata": {},
   "outputs": [],
   "source": [
    "# class  Student:\n",
    "#     def __init__(self,name,rollno):\n",
    "#         self.name = name\n",
    "#         self.rollno = rollno\n",
    "#         self.lap = self.Laptop()#\n",
    "        \n",
    "    \n",
    "        \n",
    "#     def show(self):\n",
    "#         print(self.name,self.rollno)\n",
    "#         self.lap.show()\n",
    "        \n",
    "        \n",
    "#     class Laptop:\n",
    "#         def __init(self):\n",
    "#             self.brand =\"HP\"\n",
    "#             self.cpu=\"i5\"\n",
    "#             self.ram = 8\n",
    "            \n",
    "        \n",
    "# s1=Student(\"Vikas\", 2)\n",
    "# s2=Student(\"Mohan\", 22)\n",
    "# s1.show()\n",
    "\n",
    "# lap1= Student.Laptop()"
   ]
  },
  {
   "cell_type": "code",
   "execution_count": null,
   "metadata": {},
   "outputs": [],
   "source": [
    "class MyClass:\n",
    "    def __init__(self,a,b):\n",
    "        self.name = a #name is the atttribute\n",
    "        self.rollno = b\n",
    "    def getdata(self):\n",
    "        print(self.name,self.rollno)\n",
    "\n",
    "student=MyClass('Akash',12)\n",
    "print(student.name)    \n",
    "print(student.rollno)"
   ]
  },
  {
   "cell_type": "code",
   "execution_count": null,
   "metadata": {},
   "outputs": [],
   "source": [
    "class MyClass:\n",
    "    \n",
    "    def __init__(self,a,b):\n",
    "        self.name = a #name is the atttribute\n",
    "        self.rollno = b\n",
    "    def getdata(self):\n",
    "        print(self.name,self.rollno)\n",
    "\n",
    "student=MyClass('Akash',12)\n",
    "student.getdata()#using .getdata()"
   ]
  },
  {
   "cell_type": "code",
   "execution_count": null,
   "metadata": {},
   "outputs": [],
   "source": [
    "class MyClass:\n",
    "    '''This is a'''\n",
    "    def __init__(self,a,b):\n",
    "        self.name = a #name is the atttribute\n",
    "        self.rollno = b\n",
    "    def getdata(self):\n",
    "        print(self.name,self.rollno)\n",
    "\n",
    "student=MyClass('Akash',12)\n",
    "student.getdata()"
   ]
  },
  {
   "cell_type": "code",
   "execution_count": null,
   "metadata": {},
   "outputs": [],
   "source": [
    "# #TRY\n",
    "# del student.name\n",
    "# student.name"
   ]
  },
  {
   "cell_type": "code",
   "execution_count": null,
   "metadata": {},
   "outputs": [],
   "source": [
    "# class vehicles:\n",
    "#     def car1(self,a,b):\n",
    "#         self.colour = a\n",
    "#         self.price =b\n",
    "        \n",
    "        \n",
    "#     def car2(self,c,d):\n",
    "#         self.colour = c\n",
    "#         self.price = d\n",
    "        \n",
    "#     def getdata(self):\n",
    "#         print(self.colour,self.price)\n",
    "        \n",
    "# purchase=vehicles('Red','60,000.00')\n",
    "# purchase=vehicles('Blue','10,000.00')\n",
    "# purchase.getdata()"
   ]
  },
  {
   "cell_type": "code",
   "execution_count": null,
   "metadata": {},
   "outputs": [],
   "source": [
    "# #TRY:\n",
    "# class vehicles:\n",
    "#     def __init__(self,price,colour, name,model):\n",
    "        \n",
    "#         self.price =price\n",
    "#         self.colour =colour\n",
    "#         self.name =name\n",
    "#         self.colour =colour\n",
    "    \n",
    "#     def print_data(self)\n",
    "        \n",
    " \n",
    "        \n",
    "#     def getdata(self):\n",
    "#         print(self.colour,self.price)\n",
    "        \n",
    "# purchase=vehicles('Red','60,000.00')\n",
    "                  \n",
    "                  \n",
    "# purchase=vehicles('Blue','10,000.00')\n",
    "\n",
    "# purchase.getdata()"
   ]
  },
  {
   "cell_type": "code",
   "execution_count": null,
   "metadata": {},
   "outputs": [],
   "source": [
    "# Write a program to count the number of vowels in the given string .\n",
    "count = 0\n",
    "vowels = ['a','e','i','o','u']\n",
    "for i in string :\n",
    "    if i.lower() in vowels  :\n",
    "        count = count + 1\n",
    "        \n",
    "print(\"Number of vowels\",count)"
   ]
  },
  {
   "cell_type": "code",
   "execution_count": null,
   "metadata": {},
   "outputs": [],
   "source": [
    "len([char for char in string if char in 'AEIOUaeiou'])"
   ]
  },
  {
   "cell_type": "code",
   "execution_count": null,
   "metadata": {},
   "outputs": [],
   "source": [
    "sum([1 for char in string if char in 'AEIOUaeiou'])"
   ]
  },
  {
   "cell_type": "code",
   "execution_count": null,
   "metadata": {},
   "outputs": [],
   "source": [
    "class fundamental_class : pass"
   ]
  },
  {
   "cell_type": "code",
   "execution_count": null,
   "metadata": {},
   "outputs": [],
   "source": [
    "obj = fundamental_class()\n",
    "print(\"The id of obj is \", id(obj) , \" and the type is \" , type(obj))"
   ]
  },
  {
   "cell_type": "code",
   "execution_count": null,
   "metadata": {},
   "outputs": [],
   "source": [
    "## member variables \n",
    "## member functions\n",
    "\n",
    "class class_with_variable :\n",
    "    ''' This is my firt calss Im writing ''' \n",
    "    string = \"Monty Python's Comedy Circus\"\n",
    "    \n",
    "    def print_string(self) :\n",
    "        print(string,\" Hello World !!\")    \n"
   ]
  },
  {
   "cell_type": "code",
   "execution_count": null,
   "metadata": {},
   "outputs": [],
   "source": [
    "obj_cv = class_with_variable()\n",
    "print(obj_cv.__doc__)\n"
   ]
  },
  {
   "cell_type": "code",
   "execution_count": null,
   "metadata": {},
   "outputs": [],
   "source": [
    "class laptop :\n",
    "    ''' This is my firt calss Im writing ''' \n",
    "    count_laptops = 0\n",
    "    def __init__(self,text=[\"Apple\"]) :\n",
    "        self.brand = text\n",
    "        laptop.count_laptops = laptop.count_laptops + 1\n",
    "        \n",
    "    def print_string(self) :\n",
    "        print(\"I belong to the \",[i for i in self.brand], \" brand Total count\",laptop.count_laptops)   \n",
    "lenovo_laptop = laptop([\"Lenovo\",\"Smsung\"])\n",
    "lenovo_laptop.print_string()\n",
    "apple_laptop = laptop()\n",
    "apple_laptop.print_string()\n",
    "print(lenovo_laptop.brand[1])"
   ]
  },
  {
   "cell_type": "code",
   "execution_count": null,
   "metadata": {},
   "outputs": [],
   "source": [
    "class BankAccount :\n",
    "    \n",
    "    balance = 0\n",
    "    def check_balance(self) :\n",
    "        print(\" Current balance is \",self.balance)\n",
    "    \n",
    "    def deposit(self,amount) :\n",
    "        self.balance = self.balance + amount\n",
    "        print(\"Deposited amount \",amount)\n",
    "        self.check_balance()\n",
    "        \n",
    "    def withdrawal(self,amount) :\n",
    "        if (self.balance - amount >= 0) :\n",
    "            self.balance = self.balance - amount\n",
    "            print(\" Withdrawn successfully\")\n",
    "            self.check_balance()\n",
    "        else :\n",
    "            print(\" Insufficient balance\")\n",
    "            self.check_balance()\n",
    "\n",
    "ba = BankAccount()\n",
    "ba.withdrawal(100)\n",
    "ba.deposit(1000)\n",
    "ba.withdrawal(500)"
   ]
  },
  {
   "cell_type": "code",
   "execution_count": null,
   "metadata": {},
   "outputs": [],
   "source": [
    "class MinimumBalanceAccount(BankAccount) :\n",
    "    \n",
    "    __MINIMUM_BALANCE = 10000\n",
    "    \n",
    "    def __init__(self,amount) :\n",
    "        if(amount <10000) :\n",
    "             print(\" Insufficient balance. Minimum balance is \",self.__MINIMUM_BALANCE)\n",
    "        else :\n",
    "            self.balance = amount\n",
    "    \n",
    "    def withdrawal(self,amount) :\n",
    "        if (self.balance - amount >= self.__MINIMUM_BALANCE) :\n",
    "            self.balance = self.balance - amount\n",
    "            print(\" Withdrawn successfully\")\n",
    "            self.check_balance()\n",
    "        else :\n",
    "            print(\" Insufficient balance. Minimum balance is \",self.__MINIMUM_BALANCE)\n",
    "            self.check_balance()\n"
   ]
  },
  {
   "cell_type": "code",
   "execution_count": null,
   "metadata": {},
   "outputs": [],
   "source": [
    "ba = MinimumBalanceAccount(20000)\n",
    "ba.withdrawal(11000)\n",
    "ba.deposit(1000)\n",
    "ba.withdrawal(500)"
   ]
  },
  {
   "cell_type": "code",
   "execution_count": null,
   "metadata": {},
   "outputs": [],
   "source": [
    "class Point :\n",
    "    \n",
    "    def __init__(self,x=0,y=0) :\n",
    "        self.x = x\n",
    "        self.y = y\n",
    "        \n",
    "    def __add__(self, point) :\n",
    "        x = self.x + point.x\n",
    "        y = self.y + point.y\n",
    "        return (Point(x,y))\n",
    "    \n",
    "    def __str__(self) :\n",
    "        return \"The current point has coordinates (\"+str(self.x)+\",\"+str(self.y)+\")\"\n",
    "\n",
    "p1 = Point(4,5)\n",
    "p2 = Point(7,6)\n",
    "p = (p1 + p2)\n",
    "print(p)"
   ]
  },
  {
   "cell_type": "code",
   "execution_count": null,
   "metadata": {},
   "outputs": [],
   "source": [
    "class range_iterator :\n",
    "    \n",
    "    def __init__(self, maxno) :\n",
    "        self.min = 1\n",
    "        self.max = maxno\n",
    "        \n",
    "    def __iter__(self) :\n",
    "        return self\n",
    "    \n",
    "    def __next__(self) :\n",
    "        \n",
    "        if(self.min + 1 <= self.max) :\n",
    "            self.min = self.min + 1\n",
    "        else :\n",
    "            raise StopIteration\n",
    "        \n",
    "        return self.min - 1\n",
    "    \n",
    "for i in range_iterator(5) :\n",
    "    print(i)"
   ]
  },
  {
   "cell_type": "code",
   "execution_count": null,
   "metadata": {},
   "outputs": [],
   "source": [
    "class range_iterator_rev :\n",
    "    \n",
    "    def __init__(self, maxno) :\n",
    "        self.min = 1\n",
    "        self.max = maxno\n",
    "        \n",
    "    def __iter__(self) :\n",
    "        return self\n",
    "    \n",
    "    def __next__(self) :\n",
    "        \n",
    "        if(self.max - 1 >= self.min) :\n",
    "            self.max = self.max - 1\n",
    "        else :\n",
    "            raise StopIteration\n",
    "        \n",
    "        return self.max + 1\n",
    "for i in range_iterator_rev(5) :\n",
    "    print(i)"
   ]
  },
  {
   "cell_type": "code",
   "execution_count": null,
   "metadata": {},
   "outputs": [],
   "source": [
    "def range_iterator_rev(num) :\n",
    "    while(num > 0) :\n",
    "        yield num\n",
    "        num = num -1\n",
    "        "
   ]
  },
  {
   "cell_type": "code",
   "execution_count": null,
   "metadata": {},
   "outputs": [],
   "source": [
    "q = ( (i*i) for i in range(10) if i % 2 == 0)"
   ]
  },
  {
   "cell_type": "code",
   "execution_count": null,
   "metadata": {},
   "outputs": [],
   "source": [
    "for i in q :\n",
    "    print(i)"
   ]
  },
  {
   "cell_type": "code",
   "execution_count": null,
   "metadata": {},
   "outputs": [],
   "source": [
    "a = range_iterator_rev(7)"
   ]
  },
  {
   "cell_type": "code",
   "execution_count": null,
   "metadata": {},
   "outputs": [],
   "source": [
    "type(a)"
   ]
  },
  {
   "cell_type": "code",
   "execution_count": null,
   "metadata": {},
   "outputs": [],
   "source": [
    "next(a)\n"
   ]
  },
  {
   "cell_type": "code",
   "execution_count": null,
   "metadata": {},
   "outputs": [],
   "source": [
    "a = 1\n",
    "b = 1\n",
    "\n",
    "def fib(no,a=1,b=1):\n",
    "    for i in range(no) :\n",
    "        a , b = b , a + b\n",
    "        yield b"
   ]
  },
  {
   "cell_type": "code",
   "execution_count": null,
   "metadata": {},
   "outputs": [],
   "source": [
    "x = fib(10)\n",
    "type(x)\n",
    "for i in x :\n",
    "    print(i)"
   ]
  },
  {
   "cell_type": "code",
   "execution_count": null,
   "metadata": {},
   "outputs": [],
   "source": [
    "l = [1,2,3,[4,5],[6,[7,8]],9]\n",
    "mylist = []\n",
    "def flatten_list(l,mylist) :\n",
    "    \n",
    "    for i in l :\n",
    "        if type(i) is list :\n",
    "            flatten_list(i,mylist)\n",
    "        else :\n",
    "            mylist.append(i)\n",
    "    return mylist\n",
    "l1 = flatten_list(l,[])\n",
    "print(l1)"
   ]
  },
  {
   "cell_type": "code",
   "execution_count": null,
   "metadata": {},
   "outputs": [],
   "source": [
    "# l = [1,2,3,[4,5],[6,[7,8]],9]\n",
    "# mylist = []\n",
    "# def flatten_list_g(l) :\n",
    "    \n",
    "#     for i in l :\n",
    "#         if type(i) is list :\n",
    "#             flatten_list(i)\n",
    "#         else :\n",
    "#             yield i\n",
    "# for i in flatten_list_g(l):\n",
    "#     print(i)"
   ]
  },
  {
   "cell_type": "code",
   "execution_count": null,
   "metadata": {},
   "outputs": [],
   "source": [
    "#\n",
    "# Example file for working with classes\n",
    "#\n",
    "\n",
    "\n",
    "class myClass():\n",
    "    def method1(self):\n",
    "        print(\"myClass method1\")\n",
    "\n",
    "    def method2(self, someString):\n",
    "        print(\"myClass method2: \" + someString)\n",
    "\n",
    "\n",
    "class anotherClass(myClass):\n",
    "    def method2(self):\n",
    "        print(\"anotherClass method2\")\n",
    "\n",
    "    def method1(self):\n",
    "        myClass.method1(self)\n",
    "        print(\"anotherClass method1\")\n",
    "\n",
    "\n",
    "def main():\n",
    "    c = myClass()\n",
    "    c.method1()\n",
    "    c.method2(\"This is a string\")\n",
    "    c2 = anotherClass()\n",
    "    c2.method1()\n",
    "\n",
    "\n",
    "if __name__ == \"__main__\":\n",
    "    main()\n"
   ]
  },
  {
   "cell_type": "code",
   "execution_count": null,
   "metadata": {},
   "outputs": [],
   "source": []
  },
  {
   "cell_type": "code",
   "execution_count": null,
   "metadata": {},
   "outputs": [],
   "source": []
  }
 ],
 "metadata": {
  "kernelspec": {
   "display_name": "Python 3 (ipykernel)",
   "language": "python",
   "name": "python3"
  },
  "language_info": {
   "codemirror_mode": {
    "name": "ipython",
    "version": 3
   },
   "file_extension": ".py",
   "mimetype": "text/x-python",
   "name": "python",
   "nbconvert_exporter": "python",
   "pygments_lexer": "ipython3",
   "version": "3.9.7"
  }
 },
 "nbformat": 4,
 "nbformat_minor": 2
}
