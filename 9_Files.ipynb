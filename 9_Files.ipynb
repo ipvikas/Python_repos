{
 "cells": [
  {
   "cell_type": "markdown",
   "metadata": {
    "colab_type": "text",
    "id": "r-jMbc7Hx8ZI"
   },
   "source": [
    "# File Handling"
   ]
  },
  {
   "cell_type": "code",
   "execution_count": 48,
   "metadata": {
    "colab": {},
    "colab_type": "code",
    "id": "HL_1hGbFx8ZJ",
    "outputId": "393388fd-450c-42b6-946f-c3f325e9f365"
   },
   "outputs": [
    {
     "name": "stdout",
     "output_type": "stream",
     "text": [
      "True\n",
      "\n"
     ]
    }
   ],
   "source": [
    "#Files\n",
    "#Add sample text from : http://www.py4inf.com/code/words.txt\n",
    "\n",
    "fhand = open('python.txt','r') #'r' --> Reading; 'w' --> Write; 'a' --> Appends at the last\n",
    "print(fhand.readable())\n",
    "print(fhand.read())\n"
   ]
  },
  {
   "cell_type": "code",
   "execution_count": null,
   "metadata": {},
   "outputs": [],
   "source": []
  },
  {
   "cell_type": "code",
   "execution_count": 2,
   "metadata": {
    "colab": {},
    "colab_type": "code",
    "id": "otpHhnS6x8ZP",
    "outputId": "4ef6c609-e368-45ba-dc50-748b2278f5f1"
   },
   "outputs": [
    {
     "name": "stdout",
     "output_type": "stream",
     "text": [
      "Writing programs or programming is a very creative\n",
      "and rewarding activity  You can write programs for\n",
      "many reasons ranging from making your living to solving\n",
      "a difficult data analysis problem to having fun to helping\n",
      "someone else solve a problem  This book assumes that\n",
      "{\\em everyone} needs to know how to program and that once\n",
      "you know how to program, you will figure out what you want\n",
      "to do with your newfound skills\n",
      "\n",
      "We are surrounded in our daily lives with computers ranging\n",
      "from laptops to cell phones  We can think of these computers\n",
      "as our personal assistants who can take care of many things\n",
      "on our behalf  The hardware in our current-day computers\n",
      "is essentially built to continuously ask us the question\n",
      "What would you like me to do next\n",
      "\n",
      "Our computers are fast and have vasts amounts of memory and \n",
      "could be very helpful to us if we only knew the language to \n",
      "speak to explain to the computer what we would like it to \n",
      "do next If we knew this language we could tell the \n",
      "computer to do tasks on our behalf that were reptitive  \n",
      "Interestingly, the kinds of things computers can do best\n",
      "are often the kinds of things that we humans find boring\n",
      "and mind-numbing"
     ]
    }
   ],
   "source": [
    "#Context manager\n",
    "with open ('python.txt','r') as fhand:\n",
    "        for line in fhand:\n",
    "            print(line, end=\"\")"
   ]
  },
  {
   "cell_type": "code",
   "execution_count": 3,
   "metadata": {
    "colab": {},
    "colab_type": "code",
    "id": "WSpzQ5-1x8ZS",
    "outputId": "b78459ef-92fe-4141-8ce7-e25ffdb6d681"
   },
   "outputs": [
    {
     "name": "stdout",
     "output_type": "stream",
     "text": [
      "Writing programs or programming is a very creative\n",
      "and rewarding activity  You can write programs for\n",
      "many reasons ranging from making your living to solving\n",
      "a difficult data analysis problem to having fun to helping\n",
      "someone else solve a problem  This book assumes that\n",
      "{\\em everyone} needs to know how to program and that once\n",
      "you know how to program, you will figure out what you want\n",
      "to do with your newfound skills\n",
      "\n",
      "We are surrounded in our daily lives with computers ranging\n",
      "from laptops to cell phones  We can think of these computers\n",
      "as our personal assistants who can take care of many things\n",
      "on our behalf  The hardware in our current-day computers\n",
      "is essentially built to continuously ask us the question\n",
      "What would you like me to do next\n",
      "\n",
      "Our computers are fast and have vasts amounts of memory and \n",
      "could be very helpful to us if we only knew the language to \n",
      "speak to explain to the computer what we would like it to \n",
      "do next If we knew this language we could tell the \n",
      "computer to do tasks on our behalf that were reptitive  \n",
      "Interestingly, the kinds of things computers can do best\n",
      "are often the kinds of things that we humans find boring\n",
      "and mind-numbing"
     ]
    }
   ],
   "source": [
    "#Context manager\n",
    "with open ('python.txt','r') as fhand:\n",
    "        f_contents = fhand.read()\n",
    "        print(f_contents,end='')"
   ]
  },
  {
   "cell_type": "code",
   "execution_count": 4,
   "metadata": {
    "colab": {},
    "colab_type": "code",
    "id": "as1SrZGjx8ZV",
    "outputId": "22c6a1b1-e716-4412-f04d-9bfad5f63678"
   },
   "outputs": [
    {
     "name": "stdout",
     "output_type": "stream",
     "text": [
      "Writing programs or programming is a very creative\n",
      "and rewarding activity  You can write programs for\n",
      "many reasons ranging from making your living to solving\n",
      "a difficult data analysis problem to having fun to helping\n",
      "someone else solve a problem  This book assumes that\n",
      "{\\em everyone} needs to know how to program and that once\n",
      "you know how to program, you will figure out what you want\n",
      "to do with your newfound skills\n",
      "\n",
      "We are surrounded in our daily lives with computers ranging\n",
      "from laptops to cell phones  We can think of these computers\n",
      "as our personal assistants who can take care of many things\n",
      "on our behalf  The hardware in our current-day computers\n",
      "is essentially built to continuously ask us the question\n",
      "What would you like me to do next\n",
      "\n",
      "Our computers are fast and have vasts amounts of memory and \n",
      "could be very helpful to us if we only knew the language to \n",
      "speak to explain to the computer what we would like it to \n",
      "do next If we knew this language we could tell the \n",
      "computer to do tasks on our behalf that were reptitive  \n",
      "Interestingly, the kinds of things computers can do best\n",
      "are often the kinds of things that we humans find boring\n",
      "and mind-numbing*Writi*ng pr*ogram*s or *progr*ammin*g is *a ver*y cre*ative*\n",
      "and *rewar*ding *activ*ity  *You c*an wr*ite p*rogra*ms fo*r\n",
      "man*y rea*sons *rangi*ng fr*om ma*king *your *livin*g to *solvi*ng\n",
      "a *diffi*cult *data *analy*sis p*roble*m to *havin*g fun* to h*elpin*g\n",
      "som*eone *else *solve* a pr*oblem*  Thi*s boo*k ass*umes *that\n",
      "*{\\em *every*one} *needs* to k*now h*ow to* prog*ram a*nd th*at on*ce\n",
      "yo*u kno*w how* to p*rogra*m, yo*u wil*l fig*ure o*ut wh*at yo*u wan*t\n",
      "to *do wi*th yo*ur ne*wfoun*d ski*lls\n",
      "\n",
      "*We ar*e sur*round*ed in* our *daily* live*s wit*h com*puter*s ran*ging\n",
      "*from *lapto*ps to* cell* phon*es  W*e can* thin*k of *these* comp*uters*\n",
      "as o*ur pe*rsona*l ass*istan*ts wh*o can* take* care* of m*any t*hings*\n",
      "on o*ur be*half * The *hardw*are i*n our* curr*ent-d*ay co*mpute*rs\n",
      "is* esse*ntial*ly bu*ilt t*o con*tinuo*usly *ask u*s the* ques*tion\n",
      "*What *would* you *like *me to* do n*ext\n",
      "\n",
      "*Our c*omput*ers a*re fa*st an*d hav*e vas*ts am*ounts* of m*emory* and *\n",
      "coul*d be *very *helpf*ul to* us i*f we *only *knew *the l*angua*ge to* \n",
      "spe*ak to* expl*ain t*o the* comp*uter *what *we wo*uld l*ike i*t to *\n",
      "do n*ext I*f we *knew *this *langu*age w*e cou*ld te*ll th*e \n",
      "co*mpute*r to *do ta*sks o*n our* beha*lf th*at we*re re*ptiti*ve  \n",
      "*Inter*estin*gly, *the k*inds *of th*ings *compu*ters *can d*o bes*t\n",
      "are* ofte*n the* kind*s of *thing*s tha*t we *human*s fin*d bor*ing\n",
      "a*nd mi*nd-nu*mbing*"
     ]
    }
   ],
   "source": [
    "#Context manager\n",
    "with open ('python.txt','r') as fhand:\n",
    "    while len (f_contents)>0:\n",
    "        print(f_contents,end='*')\n",
    "        f_contents =fhand.read(5)"
   ]
  },
  {
   "cell_type": "code",
   "execution_count": 5,
   "metadata": {
    "colab": {},
    "colab_type": "code",
    "id": "_9pdsoXzx8ZZ",
    "outputId": "671bd276-084c-4238-a88c-dfc9c8378041"
   },
   "outputs": [
    {
     "name": "stdout",
     "output_type": "stream",
     "text": [
      "Writing programs or programming is a very creative\n",
      "and rewarding activity  You can write programs for\n",
      "many reasons ranging from making your living to solving\n",
      "a difficult data analysis problem to having fun to helping\n",
      "someone else solve a problem  This book assumes that\n",
      "{\\em everyone} needs to know how to program and that once\n",
      "you know how to program, you will figure out what you want\n",
      "to do with your newfound skills\n",
      "\n",
      "We are surrounded in our daily lives with computers ranging\n",
      "from laptops to cell phones  We can think of these computers\n",
      "as our personal assistants who can take care of many things\n",
      "on our behalf  The hardware in our current-day computers\n",
      "is essentially built to continuously ask us the question\n",
      "What would you like me to do next\n",
      "\n",
      "Our computers are fast and have vasts amounts of memory and \n",
      "could be very helpful to us if we only knew the language to \n",
      "speak to explain to the computer what we would like it to \n",
      "do next If we knew this language we could tell the \n",
      "computer to do tasks on our behalf that were reptitive  \n",
      "Interestingly, the kinds of things computers can do best\n",
      "are often the kinds of things that we humans find boring\n",
      "and mind-numbing"
     ]
    }
   ],
   "source": [
    "#Context manager\n",
    "with open ('python.txt','r') as fhand:\n",
    "    \n",
    "    size_to_read =5\n",
    "    f_contents =fhand.read(size_to_read)\n",
    "    \n",
    "    while len (f_contents)>0:\n",
    "        print(f_contents,end='')\n",
    "        f_contents =fhand.read(size_to_read)    "
   ]
  },
  {
   "cell_type": "code",
   "execution_count": 6,
   "metadata": {
    "colab": {},
    "colab_type": "code",
    "id": "hmoVhgc4x8Zf",
    "outputId": "7ea88f0e-9290-445c-832c-105a85b6a896"
   },
   "outputs": [
    {
     "name": "stdout",
     "output_type": "stream",
     "text": [
      "python.txt\n",
      "r+\n"
     ]
    }
   ],
   "source": [
    "#Files\n",
    "try:\n",
    "    fhand = open('python.txt','r+') # read and write mode\n",
    "    print(fhand.name)\n",
    "    print(fhand.mode)\n",
    "    fhand.close()\n",
    "except:\n",
    "    print(\"error openng file\")\n",
    "    #quit()"
   ]
  },
  {
   "cell_type": "code",
   "execution_count": 7,
   "metadata": {
    "colab": {},
    "colab_type": "code",
    "id": "czH9Tr1zx8Zh",
    "outputId": "ae6953aa-deb2-4a55-b3bf-c9dc97f50df0"
   },
   "outputs": [
    {
     "name": "stdout",
     "output_type": "stream",
     "text": [
      "Writing programs or programming is a very creative\n",
      "\n"
     ]
    }
   ],
   "source": [
    "try:\n",
    "    fhand = open('python.txt')\n",
    "    print(fhand.readline())#Read line by line\n",
    "except:\n",
    "    print(\"error openng file\")"
   ]
  },
  {
   "cell_type": "code",
   "execution_count": 8,
   "metadata": {
    "colab": {},
    "colab_type": "code",
    "id": "mfhrq2FCx8Zn",
    "outputId": "e630fb83-12d2-4a8f-8f47-215972a1abe3"
   },
   "outputs": [],
   "source": [
    "with open ('python.txt','r') as fhand:\n",
    "    with open ('python.txt','w') as whand:\n",
    "        for line in fhand:\n",
    "            whand.write(line)"
   ]
  },
  {
   "cell_type": "code",
   "execution_count": 9,
   "metadata": {
    "colab": {},
    "colab_type": "code",
    "id": "3juP2uuex8Zs",
    "outputId": "23fcb658-039e-4ffb-df46-24841dbf957b"
   },
   "outputs": [],
   "source": [
    "fhand = open('python.txt','w')\n",
    "fhand.write('Hello') # Erass all, already writtena and write what has been passed\n",
    "fhand.close()"
   ]
  },
  {
   "cell_type": "code",
   "execution_count": 10,
   "metadata": {
    "colab": {},
    "colab_type": "code",
    "id": "Fzh7OBUwx8Zv",
    "outputId": "20d47570-1da5-4110-9d91-abd08d011a89"
   },
   "outputs": [
    {
     "name": "stdout",
     "output_type": "stream",
     "text": [
      "Hello\n",
      "\n",
      "\n",
      "\n"
     ]
    }
   ],
   "source": [
    "try:\n",
    "    fhand = open('python.txt')\n",
    "    print(fhand.readline())\n",
    "    print(fhand.readline())\n",
    "    print(fhand.readline())\n",
    "    print(fhand.readline())\n",
    "    fhand.close()\n",
    "except:\n",
    "    print(\"error openng file\")"
   ]
  },
  {
   "cell_type": "code",
   "execution_count": 11,
   "metadata": {
    "colab": {},
    "colab_type": "code",
    "id": "TlGqLTlrx8Zx",
    "outputId": "8f2651bf-dae7-48fe-9bb3-3e0c6c3eb90f"
   },
   "outputs": [
    {
     "name": "stdout",
     "output_type": "stream",
     "text": [
      "1\n"
     ]
    }
   ],
   "source": [
    "try:\n",
    "    fhand = open('python.txt')\n",
    "    count =0\n",
    "    for line in fhand:\n",
    "        count+=1\n",
    "    print(count)\n",
    "    fhand.close()\n",
    "except:\n",
    "    print(\"error openng file\")"
   ]
  },
  {
   "cell_type": "code",
   "execution_count": 12,
   "metadata": {
    "colab": {},
    "colab_type": "code",
    "id": "suv1kOX4x8Z0",
    "outputId": "aafbcde7-d429-40e9-c4d0-82dd40c0ab12"
   },
   "outputs": [
    {
     "name": "stdout",
     "output_type": "stream",
     "text": [
      "Hello\n"
     ]
    }
   ],
   "source": [
    "#URGENT\n",
    "try:\n",
    "    fhand = open('python.txt')\n",
    "    print (fhand.read())\n",
    "   # print(fhand.readline())\n",
    "    fhand.close()\n",
    "except:\n",
    "    print(\"error openng file\")"
   ]
  },
  {
   "cell_type": "code",
   "execution_count": 13,
   "metadata": {
    "colab": {},
    "colab_type": "code",
    "id": "3BcpBAuyx8Z2",
    "outputId": "18af6657-2f87-4058-b11f-118fc8588a1b"
   },
   "outputs": [
    {
     "name": "stdout",
     "output_type": "stream",
     "text": [
      "['Hello']\n"
     ]
    }
   ],
   "source": [
    "try:\n",
    "    fhand = open('python.txt')\n",
    "    print(fhand.readlines()) # All as a whole with \\n\n",
    "    fhand.close()\n",
    "except:\n",
    "    print(\"error openng file\")"
   ]
  },
  {
   "cell_type": "code",
   "execution_count": 10,
   "metadata": {},
   "outputs": [
    {
     "name": "stdout",
     "output_type": "stream",
     "text": [
      "1.jpg\n",
      "Chrysanthemum.jpg\n",
      "Chrysanthemum_copy.jpg\n",
      "Chrysanthemum_secondcopy.jpg\n",
      "Cover.jpg\n"
     ]
    }
   ],
   "source": [
    "import os, glob\n",
    "os.chdir('C:/Users/Dell/Desktop/Python/PythonFiles_Python/')\n",
    "for file in glob.glob('*.jpg'):\n",
    "    print(file)"
   ]
  },
  {
   "cell_type": "code",
   "execution_count": 8,
   "metadata": {
    "colab": {},
    "colab_type": "code",
    "id": "1q3d1D43x8Z4"
   },
   "outputs": [
    {
     "name": "stdout",
     "output_type": "stream",
     "text": [
      "File deleted\n"
     ]
    }
   ],
   "source": [
    "# import os\n",
    "# if os.path.exists('tmp_python.txt'):\n",
    "#     os.remove('tmp_python.txt')\n",
    "#     print('File deleted')\n",
    "# else:\n",
    "#     print('file access error')"
   ]
  },
  {
   "cell_type": "code",
   "execution_count": 16,
   "metadata": {
    "colab": {},
    "colab_type": "code",
    "id": "khM5l7RFx8Z8"
   },
   "outputs": [],
   "source": [
    "# #It should NOT allow if any file exists inside\n",
    "# import os\n",
    "# if os.path.exists('Desktop/Python'):\n",
    "#     os.rmdir('Desktop/Python')#Remove Directory\n",
    "#     print('Directory deleted')\n",
    "# else:\n",
    "#     print('Directory access error')"
   ]
  },
  {
   "cell_type": "code",
   "execution_count": 17,
   "metadata": {
    "colab": {},
    "colab_type": "code",
    "id": "rhcUSDdox8Z_"
   },
   "outputs": [],
   "source": [
    "# #To forcefully delete it, import shutil, and use rmtree\n",
    "# import shutil\n",
    "# if os.path.exists('Desktop\\Python'):\n",
    "#     shutil.rmtree('Desktop\\Python')#Remove Directory\n",
    "#     print('Directory deleted')\n",
    "# else:\n",
    "#     print('Directory access error')"
   ]
  },
  {
   "cell_type": "code",
   "execution_count": 18,
   "metadata": {
    "colab": {},
    "colab_type": "code",
    "id": "p5Ij5GKZx8aA",
    "outputId": "018c439c-beae-49b2-9781-6d301bd06d0f"
   },
   "outputs": [
    {
     "data": {
      "image/png": "[encoded data removed]",
      "text/plain": [
       "<PIL.JpegImagePlugin.JpegImageFile image mode=RGB size=300x168 at 0x1DBDE0C2790>"
      ]
     },
     "execution_count": 18,
     "metadata": {},
     "output_type": "execute_result"
    }
   ],
   "source": [
    "from PIL import Image \n",
    "filename = \"Chrysanthemum.jpg\"\n",
    "Image.open(filename)"
   ]
  },
  {
   "cell_type": "code",
   "execution_count": 19,
   "metadata": {
    "colab": {},
    "colab_type": "code",
    "id": "P-zudC1Dx8aC",
    "outputId": "56a28b9b-dbc5-43f1-ab8f-94a0490a9c06"
   },
   "outputs": [],
   "source": [
    "with open ('Chrysanthemum.jpg','rb') as fhand:\n",
    "    with open ('Chrysanthemum_copy.jpg','wb') as whand:\n",
    "        for line in fhand:\n",
    "            whand.write(line)"
   ]
  },
  {
   "cell_type": "code",
   "execution_count": 20,
   "metadata": {
    "colab": {},
    "colab_type": "code",
    "id": "-8A5WdSux8aE",
    "outputId": "6f5115af-2c90-4d72-ea7d-60dd97126c6a"
   },
   "outputs": [],
   "source": [
    "#Another way of creating an image copy\n",
    "with open ('Chrysanthemum.jpg','rb') as fhand:\n",
    "    with open ('Chrysanthemum_secondcopy.jpg','wb') as whand:\n",
    "        chunk_size = 4096\n",
    "        fhand_chunk=fhand.read(chunk_size)\n",
    "        while len(fhand_chunk)>0:\n",
    "            whand.write(fhand_chunk)\n",
    "            fhand_chunk=fhand.read(chunk_size)\n",
    "        "
   ]
  },
  {
   "cell_type": "code",
   "execution_count": 21,
   "metadata": {
    "colab": {},
    "colab_type": "code",
    "id": "jEnhKp4_x8aI",
    "outputId": "96b7ae28-98b8-4068-868c-e801b263ac40"
   },
   "outputs": [],
   "source": [
    "fhand = open('python.txt', 'w')\n",
    "fhand.write('Today is a good day')\n",
    "fhand.close()"
   ]
  },
  {
   "cell_type": "code",
   "execution_count": 22,
   "metadata": {
    "colab": {},
    "colab_type": "code",
    "id": "FKw2pnhLx8aL",
    "outputId": "7d9ac512-fbfd-4d0d-8dea-ba4c6b95ff59"
   },
   "outputs": [
    {
     "name": "stdout",
     "output_type": "stream",
     "text": [
      "Today is a good day\n"
     ]
    }
   ],
   "source": [
    "#1 Create a file with comma separated records. \n",
    "#Write a Python program to count the records and print them after replacing ‘,’ with ‘|’\n",
    "try:\n",
    "    fhand = open('python.txt')\n",
    "    stri=fhand.read()\n",
    "    print(stri.replace(',','|'))\n",
    "    fhand.close()\n",
    "    \n",
    "except:\n",
    "    print(\"error openng file\")"
   ]
  },
  {
   "cell_type": "code",
   "execution_count": 23,
   "metadata": {
    "colab": {},
    "colab_type": "code",
    "id": "crkShL0Jx8aO",
    "outputId": "4c934370-93e2-499f-a312-77f6946dd82c"
   },
   "outputs": [
    {
     "name": "stdout",
     "output_type": "stream",
     "text": [
      "Today is a good day\n"
     ]
    }
   ],
   "source": [
    "fhand = open('python.txt')\n",
    "stri=fhand.read()\n",
    "print(stri.replace(';','\\n'))\n",
    "fhand.close()"
   ]
  },
  {
   "cell_type": "code",
   "execution_count": 24,
   "metadata": {
    "colab": {},
    "colab_type": "code",
    "id": "9MZAXtltx8aS"
   },
   "outputs": [],
   "source": [
    "# story = input(str())\n",
    "\n",
    "# for i in story:\n",
    "#     temp = story.replace(';','\\n')\n",
    "    \n",
    "# print(temp)"
   ]
  },
  {
   "cell_type": "code",
   "execution_count": 25,
   "metadata": {
    "colab": {},
    "colab_type": "code",
    "id": "7HNt8Yt_x8aT",
    "outputId": "ecda0e7e-56d8-43c7-d237-ff24f0c66ac8"
   },
   "outputs": [
    {
     "name": "stdout",
     "output_type": "stream",
     "text": [
      "83\n"
     ]
    }
   ],
   "source": [
    "#ord(): returns an integer representing Unicode code point for the given Unicode character. \n",
    "#The ord() method is the inverse of chr().\n",
    "print(ord('S'))"
   ]
  },
  {
   "cell_type": "code",
   "execution_count": 26,
   "metadata": {
    "colab": {},
    "colab_type": "code",
    "id": "n9MpDC0px8aW",
    "outputId": "8864aacc-6d83-4604-9146-a29281d032c7"
   },
   "outputs": [],
   "source": [
    "#2 To the above file, add a new record.\n",
    "try:\n",
    "    fhand = open('Test.csv','a') #if not present, then creates a file\n",
    "    fhand.write('\\nRadha11,2311,2411,2511') # and then writes these values in the file\n",
    "    fhand.close()\n",
    "        \n",
    "except:\n",
    "    print(\"error openng file\")"
   ]
  },
  {
   "cell_type": "code",
   "execution_count": 27,
   "metadata": {
    "colab": {},
    "colab_type": "code",
    "id": "X2w9PcfNx8aY",
    "outputId": "daba6a4b-01d8-4b17-c524-502df27298c8"
   },
   "outputs": [
    {
     "name": "stdout",
     "output_type": "stream",
     "text": [
      "3\n"
     ]
    }
   ],
   "source": [
    "#3 Consider a file, which has a collection of mails. Count the lines that starts with the word ‘Subject’.\n",
    "#startswith()\n",
    "try:\n",
    "    fhand = open('testemailids.txt')\n",
    "    lines=fhand.readlines()\n",
    "    count=0\n",
    "    for line in lines:\n",
    "        if line.startswith('Subject'): #ONLY if line starts with...\n",
    "            count+=1\n",
    "    print(count)        \n",
    "    #fhand.close()\n",
    "except:\n",
    "    print(\"error openng file\")"
   ]
  },
  {
   "cell_type": "code",
   "execution_count": 28,
   "metadata": {
    "colab": {},
    "colab_type": "code",
    "id": "OzYAi2hvx8aa",
    "outputId": "4b705867-1819-4c3d-eba1-4aca3c0dfc29"
   },
   "outputs": [
    {
     "name": "stdout",
     "output_type": "stream",
     "text": [
      "SUBJECT: GOD EATER 3 -- 'CAMEO WININGER' <CWININGER@BANDAINAMCOENT.COM> 'Y PHAM' <YPHAM@BANDAINAMCOENT.COM>; 'DAVID MOYA' <DMOYA@BANDAINAMCOENT.COM>; 'TAD HIRABAYASHI' <THIRABAYASHI@BANDAINAMCOENT.COM>; 'ROBIN, OLIVIER' <OROBIN@BANDAINAMCOENT.EU>; 'DELACOUR, RICHARD' <RDELACOUR@BANDAINAMCOENT.EU>; SUMIT ARORA <SUMIT.ARORA@GLOBALSTEP.COM>; GS_QAM <GS_QAM@GLOBALSTEP.COM>; ACCOUNTS <ACCOUNTS@GLOBALSTEP.COM>\n",
      "\n",
      "\n",
      "\n",
      "SUBJECT: \tNARUTO TO BORUTO SHINOBI STRIKERS -- 'MERWIN DEL ROSARIO' <MDELROSARIO@BANDAINAMCOENT.COM>'DAVID MOYA' <DMOYA@BANDAINAMCOENT.COM>; 'Y PHAM' <YPHAM@BANDAINAMCOENT.COM>; SUMIT ARORA <SUMIT.ARORA@GLOBALSTEP.COM>; GS_QAM <GS_QAM@GLOBALSTEP.COM>\n",
      "\n",
      "\n",
      "SUBJECT: \tSOULCALIBUR 6 -- 'ERIC SAWI' <ESAWI@BANDAINAMCOENT.COM>; 'CAMEO WININGER' <CWININGER@BANDAINAMCOENT.COM>'DAVID MOYA' <DMOYA@BANDAINAMCOENT.COM>; 'TAD HIRABAYASHI' <THIRABAYASHI@BANDAINAMCOENT.COM>; 'JESSE MEJIA' <JMEJIA@BANDAINAMCOENT.COM>; SUMIT ARORA <SUMIT.ARORA@GLOBALSTEP.COM>; PIYOOSH SAH <PIYOOSH.SAH@GLOBALSTEP.COM>; GS_QAM <GS_QAM@GLOBALSTEP.COM>; GSTC <GSTC@GLOBALSTEP.COM>; ACCOUNTS <ACCOUNTS@GLOBALSTEP.COM>\n",
      "\n",
      "SWORD ART ONLINE 3: LOST SONG -- 'MERWIN DEL ROSARIO' <MDELROSARIO@BANDAINAMCOENT.COM>; 'ERIC SAWI' <ESAWI@BANDAINAMCOENT.COM>'MICAH GEARY' <MGEARY@BANDAINAMCOENT.COM>; 'DAVID MOYA' <DMOYA@BANDAINAMCOENT.COM>; GS_QAM <GS_QAM@GLOBALSTEP.COM>; GSTC <GSTC@GLOBALSTEP.COM>; ACCOUNTS <ACCOUNTS@GLOBALSTEP.COM>\n",
      "\n",
      "\n",
      "SUBJECT:SWORD ART ONLINE: FATAL BULLET (NOVEMBER UPDATE) -- 'ERIC SAWI' <ESAWI@BANDAINAMCOENT.COM>'MERWIN DEL ROSARIO' <MDELROSARIO@BANDAINAMCOENT.COM>; 'DAVID MOYA' <DMOYA@BANDAINAMCOENT.COM>; 'TAD HIRABAYASHI' <THIRABAYASHI@BANDAINAMCOENT.COM>; GS_QAM <GS_QAM@GLOBALSTEP.COM>; GSTC <GSTC@GLOBALSTEP.COM>\n",
      "\n",
      "\n",
      "\n",
      "\n",
      "SUBJECT_JUMPFORCE (OPEN BETA) -- 'MERWIN DEL ROSARIO' <MDELROSARIO@BANDAINAMCOENT.COM>'DAVID MOYA' <DMOYA@BANDAINAMCOENT.COM>; 'ERIC SAWI' <ESAWI@BANDAINAMCOENT.COM>; 'TAD HIRABAYASHI' <THIRABAYASHI@BANDAINAMCOENT.COM>; GS_QAM <GS_QAM@GLOBALSTEP.COM>; ACCOUNTS <ACCOUNTS@GLOBALSTEP.COM>; SUMIT ARORA <SUMIT.ARORA@GLOBALSTEP.COM>\n",
      "\n",
      "\n",
      "ONE PIECE WORLD SEEKER -- 'Y PHAM' <YPHAM@BANDAINAMCOENT.COM>; 'JONATHAN PRICE' <JPRICE@BANDAINAMCOENT.COM>; 'DAVID MOYA' <DMOYA@BANDAINAMCOENT.COM>; 'MERWIN DEL ROSARIO' <MDELROSARIO@BANDAINAMCOENT.COM>\n",
      "\n",
      "\n",
      "SUPER DRAGON BALL HEROES -- SUBJECT: 'STEVEN WILTON' <SWILTON@BANDAINAMCOENT.COM>; 'MATT PETERSON' <MPETERSON@BANDAINAMCOENT.COM>'JESSE MEJIA' <JMEJIA@BANDAINAMCOENT.COM>; 'TAD HIRABAYASHI' <THIRABAYASHI@BANDAINAMCOENT.COM>; 'ROBIN, OLIVIER' <OROBIN@BANDAINAMCOENT.EU>; 'PENNEC, ERWAN' <EPENNEC@BANDAINAMCOENT.EU>; GS_QAM <GS_QAM@GLOBALSTEP.COM>; ACCOUNTS <ACCOUNTS@GLOBALSTEP.COM>'TAD HIRABAYASHI' <THIRABAYASHI@BANDAINAMCOENT.COM>; GS_QAM <GS_QAM@GLOBALSTEP.COM>; ACCOUNTS <ACCOUNTS@GLOBALSTEP.COM>; SUBJECTGSTC <GSTC@GLOBALSTEP.COM>\n",
      "\n"
     ]
    }
   ],
   "source": [
    "#4 -- .upper()  Write a program to read through a file and print the contents of the file (line by line) all in upper case.\n",
    "# upper()\n",
    "try:\n",
    "    fhand = open ('testemailids.txt')\n",
    "    #print(fhand.read())\n",
    "    \n",
    "    #print(fhand.readline())\n",
    "    \n",
    "    for line in fhand.readlines():\n",
    "        print (line.upper().strip())\n",
    "    fhand.close()\n",
    "    \n",
    "except:\n",
    "    print(\"Error opening file\")"
   ]
  },
  {
   "cell_type": "code",
   "execution_count": 29,
   "metadata": {
    "colab": {},
    "colab_type": "code",
    "id": "Nui2NKJAx8ag",
    "outputId": "ecf21456-d8d1-4be1-c61d-63fc0b24ab7b"
   },
   "outputs": [
    {
     "name": "stdout",
     "output_type": "stream",
     "text": [
      "https://medium.com/civis-analytics/the-best-mario-kart-character-according-to-data-science-7dfb65d4c18e\n",
      "\n",
      "\n",
      "https://journals.uic.edu/ojs/index.php/fm/article/view/6718/5531#fig1\n",
      "\n",
      "\n",
      "\n",
      "\n",
      "https://datafloq.com/read/gaming-industry-turns-big-data-improve-gaming-expe/137\n",
      "\n",
      "\n",
      "IMP: https://www.kaggle.com/dhanushkishore/impact-of-game-of-thrones-on-us-baby-names?&utm_source=intercom&utm_campaign=datanotes-20181115\n",
      "\n",
      "--------------------\n",
      "\n",
      "\n",
      "\n",
      "Ref: https://www.youtube.com/watch?v=W7hc4R8JAJY\n",
      "\n",
      "Games: Alpha GO , Vamo AI game, doom eternl from ID company, Game: Assassin's Creed odyssey (HD1080P, 60 fps) ,Ubisoft -- Eve Chemo\n",
      "\n",
      "\n",
      "High fidelity Graphics and low latency n/w\n",
      "\n",
      "\n",
      "Technological Infrastructure: -- Cloud computing -- Data center -- Open Internet -- 7500 edge node location \n",
      "\n",
      "Open Platform -- 2 billion users\n",
      "Game Platform for Everyone -- Game players + Viewers + Developers\n",
      "\n",
      "Create + Scale + Connect\n",
      "\n",
      "https://www.youtube.com/watch?v=SiVz3AnHhFI\n",
      "\n",
      "H/W -- Stadia controller\n",
      "\n",
      "Features -- 1. Style Transfer ML -- \n",
      "2. State share -- Creaters \n",
      "\n",
      "3. Crowd Play -- Jumpin the game with real players\n",
      "\n",
      "4. Intgrated with ingame play assistance \n",
      "\n",
      "\n",
      "Stadia Why better -- \n",
      "1. GPU -- 10.7 teraflops of power (while of PS4 Pro: 4.2; Xbox One X: 6 GPU teraflops only), 56 compute units, HBM2 Memory\n",
      "2. CPU -- Custom x86 Processor, 2.7 GHz, Hyperbreeded, AVX2\n",
      "3. Memory -- 16 GB of total RAM, upto 48GB/Sec transfer speed, L2+L3 Cache of 9.5 MB\n",
      "\n",
      "-----------------------------\n"
     ]
    }
   ],
   "source": [
    "#4 -- .upper. Write a program to read through a file and print the contents of the file (line by line) all in upper case.\n",
    "#upper()\n",
    "try:\n",
    "    fhand = open ('Data for Gaming.txt')\n",
    "    print(fhand.read())\n",
    "    \n",
    "    #print(fhand.readline())\n",
    "    \n",
    "    for i in fhand:\n",
    "        i = i.upper().rstrip()\n",
    "        print (i)\n",
    "    \n",
    "except:\n",
    "    print(\"Error opening file\")"
   ]
  },
  {
   "cell_type": "code",
   "execution_count": 30,
   "metadata": {
    "colab": {},
    "colab_type": "code",
    "id": "03zRT5gex8ak",
    "outputId": "ad3d00e5-a32d-4286-d4a9-fcc1c019863e"
   },
   "outputs": [
    {
     "name": "stdout",
     "output_type": "stream",
     "text": [
      "Today is a good day\n"
     ]
    }
   ],
   "source": [
    "#File handle as a sequence\n",
    "\n",
    "fhand = open('python.txt','r')\n",
    "for line in fhand:\n",
    "    print(line)"
   ]
  },
  {
   "cell_type": "code",
   "execution_count": 31,
   "metadata": {
    "colab": {},
    "colab_type": "code",
    "id": "lzZrhY67x8al",
    "outputId": "cc52fc46-1cc3-476d-ae58-a42256c7d366"
   },
   "outputs": [
    {
     "name": "stdout",
     "output_type": "stream",
     "text": [
      "1\n"
     ]
    }
   ],
   "source": [
    "#counting line in a file\n",
    "fhand = open('python.txt')\n",
    "\n",
    "count=0\n",
    "for line in fhand:\n",
    "    count+=1\n",
    "print(count)"
   ]
  },
  {
   "cell_type": "code",
   "execution_count": 32,
   "metadata": {
    "colab": {},
    "colab_type": "code",
    "id": "xqCShBXSx8an",
    "outputId": "6d6a164f-b0dd-44be-95ab-df76b9fa148b"
   },
   "outputs": [
    {
     "name": "stdout",
     "output_type": "stream",
     "text": [
      "19\n"
     ]
    }
   ],
   "source": [
    "#Reading the *whole file\n",
    "fhand = open(\"python.txt\")\n",
    "inp = fhand.read()\n",
    "\n",
    "print(len(inp))"
   ]
  },
  {
   "cell_type": "code",
   "execution_count": 33,
   "metadata": {
    "colab": {},
    "colab_type": "code",
    "id": "wrP-E7q8x8ap",
    "outputId": "1e0c60d5-4a6a-4d74-b5aa-664409ebe61f"
   },
   "outputs": [],
   "source": [
    "fhand = open(\"python.txt\")\n",
    "for line in fhand:\n",
    "    line = line.rstrip()\n",
    "    if not 'sumit' in line:\n",
    "        continue\n",
    "    print(line)\n"
   ]
  },
  {
   "cell_type": "markdown",
   "metadata": {
    "colab_type": "raw",
    "id": "UP6l8spnx8at"
   },
   "source": [
    "2.\tCreate a text file in Notepad of user names and passwords. Ask the user to enter their user name and password. The system should read in the details from the file, then return one of these messages:\t\n",
    "a.\tYour login is successful (correct username and password)\n",
    "b.\tIncorrect password (username exists but password does not match)\n",
    "c.\tThis username does not exist (username does not exist in the file)"
   ]
  },
  {
   "cell_type": "code",
   "execution_count": 34,
   "metadata": {
    "colab": {},
    "colab_type": "code",
    "id": "XqcX3qW3x8au",
    "outputId": "750cafc6-e8c9-4d19-91ce-8af918d40df6"
   },
   "outputs": [],
   "source": [
    "# fhand = open(\"loginusername.txt\",'r')\n",
    "# dict ={}\n",
    "# for line in fhand:\n",
    "#     x=line.split()\n",
    "#     a=x[0]\n",
    "#     b=x[1]\n",
    "#     dict[a] = b\n",
    "    \n",
    "# #print(dict)\n",
    "\n",
    "# search_Login= input(str(\"Login id: \"))\n",
    "# search_password= input(str(\"Password: \"))\n",
    "     \n",
    "\n",
    "# if (dict.keys == search_Login and dict.values == search_password):\n",
    "    \n",
    "#     print(\"Your login is successful \")\n",
    "    \n",
    "# elif (dict.keys == search_Login and dict.values != search_password):\n",
    "#     print(\"Incorrect password  \")\n",
    "\n",
    "# else:\n",
    "#     print(\"This username does not exist  \")"
   ]
  },
  {
   "cell_type": "markdown",
   "metadata": {
    "colab_type": "raw",
    "id": "LE_B0qsdx8aw"
   },
   "source": [
    "4.\tWrite a Python program to search some literals strings in a string.  \n",
    "Sample text : 'The quick brown fox jumps over the lazy dog.'\n",
    "Searched words : 'fox', 'dog', 'horse'"
   ]
  },
  {
   "cell_type": "code",
   "execution_count": 35,
   "metadata": {
    "colab": {},
    "colab_type": "code",
    "id": "fqvtUxOjx8ax",
    "outputId": "c43e92b7-85fe-470e-c21b-3b7a19d0a30e"
   },
   "outputs": [
    {
     "data": {
      "text/plain": [
       "['The', 'quick', 'brown', 'fox', 'jumps', 'over', 'the', 'lazy', 'dog.']"
      ]
     },
     "execution_count": 35,
     "metadata": {},
     "output_type": "execute_result"
    }
   ],
   "source": [
    "s = \"The quick brown fox jumps over the lazy dog.\"\n",
    "temp = s.split()\n",
    "temp"
   ]
  },
  {
   "cell_type": "code",
   "execution_count": 36,
   "metadata": {
    "colab": {},
    "colab_type": "code",
    "id": "9NM_QCvBx8az",
    "outputId": "a0fe74da-cd22-4266-c17d-f85e1a3a394a"
   },
   "outputs": [
    {
     "name": "stdout",
     "output_type": "stream",
     "text": [
      "['Today', 'is', 'a', 'good', 'day']\n",
      "5\n"
     ]
    }
   ],
   "source": [
    "with open('Python.txt', 'r') as f:\n",
    "    fhand = f.read()\n",
    "words = fhand.split(' ')\n",
    "word_count = len(words)\n",
    "print(words)\n",
    "print(word_count)"
   ]
  },
  {
   "cell_type": "code",
   "execution_count": null,
   "metadata": {},
   "outputs": [],
   "source": []
  },
  {
   "cell_type": "code",
   "execution_count": 37,
   "metadata": {},
   "outputs": [
    {
     "name": "stdout",
     "output_type": "stream",
     "text": [
      "This is line 1\n",
      "\n",
      "\n",
      "\n",
      "This is line 2\n",
      "\n",
      "\n",
      "\n",
      "This is line 3\n",
      "\n",
      "\n",
      "\n",
      "This is line 4\n",
      "\n",
      "\n",
      "\n",
      "This is line 5\n",
      "\n",
      "\n",
      "\n",
      "This is line 6\n",
      "\n",
      "\n",
      "\n",
      "This is line 7\n",
      "\n",
      "\n",
      "\n",
      "This is line 8\n",
      "\n",
      "\n",
      "\n",
      "This is line 9\n",
      "\n",
      "\n",
      "\n",
      "This is line 10\n",
      "\n",
      "\n",
      "\n"
     ]
    }
   ],
   "source": [
    "#\n",
    "# Read and write files using the built-in Python file methods\n",
    "#\n",
    "\n",
    "def main():  \n",
    "  # Open a file for writing and create it if it doesn't exist\n",
    "  f = open(\"textfile.txt\",\"w+\")\n",
    "  \n",
    "  # Open the file for appending text to the end\n",
    "  # f = open(\"textfile.txt\",\"a+\")\n",
    "\n",
    "  # write some lines of data to the file\n",
    "  for i in range(10):\n",
    "    f.write(\"This is line %d\\r\\n\" % (i+1))\n",
    "  \n",
    "  # close the file when done\n",
    "  f.close()\n",
    "  \n",
    "  # Open the file back up and read the contents\n",
    "  f = open(\"textfile.txt\",\"r\")\n",
    "  if f.mode == 'r': # check to make sure that the file was opened\n",
    "    # use the read() function to read the entire file\n",
    "    # contents = f.read()\n",
    "    # print (contents)\n",
    "    \n",
    "    fl = f.readlines() # readlines reads the individual lines into a list\n",
    "    for x in fl:\n",
    "      print (x)\n",
    "    \n",
    "if __name__ == \"__main__\":\n",
    "  main()\n"
   ]
  },
  {
   "cell_type": "code",
   "execution_count": 2,
   "metadata": {},
   "outputs": [
    {
     "name": "stdout",
     "output_type": "stream",
     "text": [
      "nt\n",
      "Item exists: True\n",
      "Item is a file: True\n",
      "Item is a directory: False\n",
      "Item's path: C:\\Users\\Dell\\Desktop\\Python\\PythonFiles_Python\\textfile.txt\n",
      "Item's path and name: ('C:\\\\Users\\\\Dell\\\\Desktop\\\\Python\\\\PythonFiles_Python', 'textfile.txt')\n",
      "Sun Feb 13 13:59:40 2022\n",
      "2022-02-13 13:59:40.303125\n",
      "It has been 71 days, 4:27:05.121255 since the file was modified\n",
      "Or, 6150425.121255 seconds\n"
     ]
    }
   ],
   "source": [
    "#\n",
    "# Example file for working with os.path module\n",
    "#\n",
    "\n",
    "import os\n",
    "from os import path\n",
    "import datetime\n",
    "from datetime import date, time, timedelta\n",
    "import time\n",
    "\n",
    "def main():\n",
    "  # Print the name of the OS\n",
    "  print (os.name)\n",
    "  \n",
    "  # Check for item existence and type\n",
    "  print (\"Item exists: \" + str(path.exists(\"textfile.txt\")))\n",
    "  print (\"Item is a file: \" + str(path.isfile(\"textfile.txt\")))\n",
    "  print (\"Item is a directory: \" + str(path.isdir(\"textfile.txt\")))\n",
    "  \n",
    "  # Work with file paths\n",
    "  print (\"Item's path: \" + str(path.realpath(\"textfile.txt\")))\n",
    "  print (\"Item's path and name: \" + str(path.split(path.realpath(\"textfile.txt\"))))\n",
    "  \n",
    "  # Get the modification time\n",
    "  t = time.ctime(path.getmtime(\"textfile.txt\"))\n",
    "  print (t)\n",
    "  print (datetime.datetime.fromtimestamp(path.getmtime(\"textfile.txt\")))\n",
    "  \n",
    "  # Calculate how long ago the item was modified\n",
    "  td= datetime.datetime.now() - datetime.datetime.fromtimestamp(path.getmtime(\"textfile.txt\"))\n",
    "  print (\"It has been \" + str(td) + \" since the file was modified\")\n",
    "  print (\"Or, \" + str(td.total_seconds()) + \" seconds\")\n",
    "\n",
    "if __name__ == \"__main__\":\n",
    "  main()\n"
   ]
  },
  {
   "cell_type": "code",
   "execution_count": 3,
   "metadata": {},
   "outputs": [
    {
     "data": {
      "text/plain": [
       "True"
      ]
     },
     "execution_count": 3,
     "metadata": {},
     "output_type": "execute_result"
    }
   ],
   "source": [
    "from pathlib import Path\n",
    "# Create a Path object that points towards the directory 'data' and assign\n",
    "# the object to the variable 'corpus_dir'\n",
    "corpus_dir = Path('Python_Assignments')\n",
    "\n",
    "# Use the exists() method to check if the path is valid\n",
    "corpus_dir.exists()"
   ]
  },
  {
   "cell_type": "code",
   "execution_count": 4,
   "metadata": {},
   "outputs": [
    {
     "data": {
      "text/plain": [
       "True"
      ]
     },
     "execution_count": 4,
     "metadata": {},
     "output_type": "execute_result"
    }
   ],
   "source": [
    "# Use the exists() method to check if the path points to a directory\n",
    "corpus_dir.is_dir()"
   ]
  },
  {
   "cell_type": "code",
   "execution_count": 5,
   "metadata": {},
   "outputs": [
    {
     "data": {
      "text/plain": [
       "False"
      ]
     },
     "execution_count": 5,
     "metadata": {},
     "output_type": "execute_result"
    }
   ],
   "source": [
    "# Use the exists() method to check if the path points to a file\n",
    "corpus_dir.is_file()"
   ]
  },
  {
   "cell_type": "code",
   "execution_count": 6,
   "metadata": {},
   "outputs": [
    {
     "data": {
      "text/plain": [
       "[WindowsPath('Python_Assignments/9_CountWords.txt'),\n",
       " WindowsPath('Python_Assignments/studentdetails.txt')]"
      ]
     },
     "execution_count": 6,
     "metadata": {},
     "output_type": "execute_result"
    }
   ],
   "source": [
    "# Get all files with the suffix .txt in the directory 'corpus_dir' and cast the result into a list\n",
    "files = list(corpus_dir.glob(pattern='*.txt')) #IMP\n",
    "\n",
    "# Call the result\n",
    "files"
   ]
  },
  {
   "cell_type": "code",
   "execution_count": null,
   "metadata": {},
   "outputs": [],
   "source": []
  },
  {
   "cell_type": "code",
   "execution_count": null,
   "metadata": {},
   "outputs": [],
   "source": []
  },
  {
   "cell_type": "code",
   "execution_count": null,
   "metadata": {},
   "outputs": [],
   "source": []
  },
  {
   "cell_type": "code",
   "execution_count": null,
   "metadata": {},
   "outputs": [],
   "source": []
  },
  {
   "cell_type": "code",
   "execution_count": null,
   "metadata": {},
   "outputs": [],
   "source": []
  },
  {
   "cell_type": "code",
   "execution_count": 43,
   "metadata": {},
   "outputs": [],
   "source": [
    "# #\n",
    "# # Example file for working with filesystem shell methods\n",
    "# #\n",
    "# import os\n",
    "# from os import path\n",
    "# import shutil\n",
    "# from shutil import make_archive\n",
    "# from zipfile import ZipFile\n",
    "\n",
    "# def main():\n",
    "#   # make a duplicate of an existing file\n",
    "#   if path.exists(\"textfile.txt\"):\n",
    "#     # get the path to the file in the current directory\n",
    "#     src = path.realpath(\"textfile.txt\");\n",
    "        \n",
    "#     # # let's make a backup copy by appending \"bak\" to the name\n",
    "#     dst = src + \".bak\"\n",
    "#     # # now use the shell to make a copy of the file\n",
    "#     shutil.copy(src,dst)\n",
    "    \n",
    "#     # # copy over the permissions, modification times, and other info\n",
    "#     shutil.copystat(src, dst)\n",
    "    \n",
    "#     # # rename the original file\n",
    "#     os.rename(\"textfile.txt\", \"newfile.txt\")\n",
    "    \n",
    "#     # now put things into a ZIP archive\n",
    "#     root_dir,tail = path.split(src)\n",
    "#     shutil.make_archive(\"archive\", \"zip\", root_dir)\n",
    "\n",
    "#     # more fine-grained control over ZIP files\n",
    "#     with ZipFile(\"testzip.zip\",\"w\") as newzip:\n",
    "#       newzip.write(\"newfile.txt\")\n",
    "#       newzip.write(\"textfile.txt.bak\")\n",
    "      \n",
    "# if __name__ == \"__main__\":\n",
    "#   main()\n"
   ]
  },
  {
   "cell_type": "code",
   "execution_count": null,
   "metadata": {},
   "outputs": [],
   "source": []
  },
  {
   "cell_type": "code",
   "execution_count": 1,
   "metadata": {},
   "outputs": [
    {
     "name": "stdout",
     "output_type": "stream",
     "text": [
      "{'{': 1, \"'\": 16, 'P': 1, 'e': 10, 'r': 7, 's': 8, 'o': 8, 'n': 11, ':': 4, ' ': 26, 'A': 2, 'h': 6, 'u': 5, 'm': 3, 'a': 12, 'b': 2, 'i': 9, 'g': 4, ',': 3, 'M': 2, 't': 12, 'c': 4, '2': 1, '6': 1, 'l': 2, 'R': 2, 'T': 1, 'f': 1, 'v': 1, 'w': 1, ';': 1, 'q': 1, 'k': 1, 'y': 1, '}': 1}\n"
     ]
    }
   ],
   "source": [
    "fhand = open('number.txt')\n",
    "\n",
    "word_dict={}\n",
    "for line in fhand.read():\n",
    "    if line in word_dict:\n",
    "        word_dict[line]+=1\n",
    "    else:\n",
    "        word_dict[line]=1\n",
    "print(word_dict)\n",
    "fhand.close()"
   ]
  },
  {
   "cell_type": "code",
   "execution_count": 2,
   "metadata": {},
   "outputs": [
    {
     "name": "stdout",
     "output_type": "stream",
     "text": [
      "{\"{'Person':\": 1, \"'A\": 1, 'human': 1, \"being',\": 1, \"'Marathon':\": 1, \"'a\": 1, 'running': 1, 'race': 1, 'that': 1, 'is': 1, 'about': 1, 'a': 1, '26': 1, \"Miles',\": 1, \"'Resist':\": 1, \"'To\": 1, 'remain': 1, 'strong': 1, 'against': 1, 'the': 1, \"force',\": 1, \"'Run':\": 1, \"'to\": 1, 'move': 1, 'with': 1, 'haste;Act': 1, \"quickly'}\": 1}\n"
     ]
    }
   ],
   "source": [
    "fhand = open('number.txt')\n",
    "\n",
    "word_dict={}\n",
    "for line in fhand:\n",
    "    line=line.split()\n",
    "    for item in line:\n",
    "        if item in word_dict:\n",
    "            word_dict[item]+=1\n",
    "        else:\n",
    "            word_dict[item]=1\n",
    "print(word_dict)\n",
    "fhand.close()"
   ]
  },
  {
   "cell_type": "code",
   "execution_count": 3,
   "metadata": {},
   "outputs": [
    {
     "name": "stdout",
     "output_type": "stream",
     "text": [
      "{'person': 1, 'a': 3, 'human': 1, 'being': 1, 'marathon': 1, 'running': 1, 'race': 1, 'that': 1, 'is': 1, 'about': 1, '26': 1, 'miles': 1, 'resist': 1, 'to': 2, 'remain': 1, 'strong': 1, 'against': 1, 'the': 1, 'force': 1, 'run': 1, 'move': 1, 'with': 1, 'hasteact': 1, 'quickly': 1}\n"
     ]
    }
   ],
   "source": [
    "import string\n",
    "fhand = open('number.txt')\n",
    "\n",
    "word_dict={}\n",
    "for line in fhand:\n",
    "    line = line.lower()# all words are converted into lowercase and then counted\n",
    "    tb=line.maketrans('','',string.punctuation)\n",
    "    line=line.translate(tb)\n",
    "    line=line.split()\n",
    "    for item in line:\n",
    "        if item in word_dict:\n",
    "            word_dict[item]+=1\n",
    "        else:\n",
    "            word_dict[item]=1\n",
    "print(word_dict)\n",
    "fhand.close()"
   ]
  },
  {
   "cell_type": "code",
   "execution_count": 4,
   "metadata": {},
   "outputs": [
    {
     "name": "stdout",
     "output_type": "stream",
     "text": [
      "{'person': 1, 'a': 3, 'human': 1, 'being': 1, 'marathon': 1, 'running': 1, 'race': 1, 'that': 1, 'is': 1, 'about': 1, '26': 1, 'miles': 1, 'resist': 1, 'to': 2, 'remain': 1, 'strong': 1, 'against': 1, 'the': 1, 'force': 1, 'run': 1, 'move': 1, 'with': 1, 'hasteact': 1, 'quickly': 1}\n"
     ]
    }
   ],
   "source": [
    "import string\n",
    "fhand = open('number.txt')\n",
    "\n",
    "word_dict={}\n",
    "for line in fhand:\n",
    "    line = line.lower()\n",
    "    tb=line.maketrans('T','t',string.punctuation)\n",
    "    line=line.translate(tb)\n",
    "    line=line.split()\n",
    "    for item in line:\n",
    "        if item in word_dict:\n",
    "            word_dict[item]+=1\n",
    "        else:\n",
    "            word_dict[item]=1\n",
    "print(word_dict)\n",
    "fhand.close()"
   ]
  },
  {
   "cell_type": "code",
   "execution_count": 5,
   "metadata": {},
   "outputs": [
    {
     "name": "stdout",
     "output_type": "stream",
     "text": [
      "{'person': 1, 'a': 3, 'human': 1, 'beinG': 1, 'marathon': 1, 'runninG': 1, 'race': 1, 'that': 1, 'is': 1, 'about': 1, '26': 1, 'miles': 1, 'resist': 1, 'to': 2, 'remain': 1, 'stronG': 1, 'aGainst': 1, 'the': 1, 'force': 1, 'run': 1, 'move': 1, 'with': 1, 'hasteact': 1, 'quickly': 1}\n"
     ]
    }
   ],
   "source": [
    "import string\n",
    "fhand = open('number.txt')\n",
    "\n",
    "word_dict={}\n",
    "for line in fhand:\n",
    "    line = line.lower()\n",
    "    tb=line.maketrans('gd','GD',string.punctuation)# g or d has been conveted to G or D\n",
    "    line=line.translate(tb)\n",
    "    line=line.split()\n",
    "    for item in line:\n",
    "        if item in word_dict:\n",
    "            word_dict[item]+=1\n",
    "        else:\n",
    "            word_dict[item]=1\n",
    "print(word_dict)\n",
    "fhand.close()"
   ]
  },
  {
   "cell_type": "code",
   "execution_count": 6,
   "metadata": {},
   "outputs": [
    {
     "name": "stdout",
     "output_type": "stream",
     "text": [
      "{'person': 1, 'a': 3, 'human': 1, 'beinG': 1, 'marathon': 1, 'runninG': 1, 'race': 1, 'that': 1, 'is': 1, 'about': 1, '26': 1, 'miles': 1, 'resist': 1, 'to': 2, 'remain': 1, 'stronG': 1, 'aGainst': 1, 'the': 1, 'force': 1, 'run': 1, 'move': 1, 'with': 1, 'hasteact': 1, 'quickly': 1}\n"
     ]
    }
   ],
   "source": [
    "import string\n",
    "fhand = open('number.txt')\n",
    "\n",
    "word_dict={}\n",
    "for line in fhand:\n",
    "    line = line.lower() # always use it to change it to lower letter\n",
    "    tb=line.maketrans('gd','G ',string.punctuation)\n",
    "    line=line.translate(tb)\n",
    "    line=line.split()\n",
    "    for item in line:\n",
    "        if item in word_dict:\n",
    "            word_dict[item]+=1\n",
    "        else:\n",
    "            word_dict[item]=1\n",
    "print(word_dict)\n",
    "fhand.close()"
   ]
  },
  {
   "cell_type": "code",
   "execution_count": null,
   "metadata": {},
   "outputs": [],
   "source": []
  },
  {
   "cell_type": "code",
   "execution_count": 24,
   "metadata": {},
   "outputs": [
    {
     "name": "stdout",
     "output_type": "stream",
     "text": [
      "python 6\n"
     ]
    }
   ],
   "source": [
    "lst = ['i','like','python','a','lot']\n",
    "print(max(lst),len(max(lst)) )#max([len(i) for i in lst]"
   ]
  },
  {
   "cell_type": "code",
   "execution_count": null,
   "metadata": {},
   "outputs": [],
   "source": []
  },
  {
   "cell_type": "code",
   "execution_count": null,
   "metadata": {},
   "outputs": [],
   "source": []
  },
  {
   "cell_type": "code",
   "execution_count": null,
   "metadata": {},
   "outputs": [],
   "source": []
  },
  {
   "cell_type": "code",
   "execution_count": null,
   "metadata": {},
   "outputs": [],
   "source": []
  },
  {
   "cell_type": "code",
   "execution_count": null,
   "metadata": {},
   "outputs": [],
   "source": []
  }
 ],
 "metadata": {
  "colab": {
   "name": "Lecture 3_split, files, lists.ipynb",
   "provenance": [],
   "toc_visible": true
  },
  "kernelspec": {
   "display_name": "Python 3 (ipykernel)",
   "language": "python",
   "name": "python3"
  },
  "language_info": {
   "codemirror_mode": {
    "name": "ipython",
    "version": 3
   },
   "file_extension": ".py",
   "mimetype": "text/x-python",
   "name": "python",
   "nbconvert_exporter": "python",
   "pygments_lexer": "ipython3",
   "version": "3.9.7"
  }
 },
 "nbformat": 4,
 "nbformat_minor": 1
}
