{
 "cells": [
  {
   "cell_type": "raw",
   "metadata": {},
   "source": [
    "#Data types: 1. Numbers (Integer, float, Complex, Boolean), 2. Strings, 3. List, 4. Dictioanary, 5. Tuple, 6. Set\n",
    "\n",
    "1. Python Numbers: Numbers are three types in Python \n",
    "1. Integers\n",
    "2. floating point numbers\n",
    "3. complex numbers\n",
    "\n",
    "2.  Strings in Python : A string is a sequence of characters. In Python single, double, and triple quotes are used to define strings.\n",
    "\n",
    "3. List in Python : Python list is an ordered sequence of items. We can store more than one item of different types in a list. Items in the list are accessed using an index.\n",
    "\n",
    "4. Tuple in Python : Tuple is an ordered sequence of items same as list. The difference is that tuples are immutable and list is mutable.\n",
    "\n",
    "5. Python Set : Set is an unordered collection of unique items, which means duplicates are not allowed. Set is defined using {} and items in set are separated by commas. set items are not ordered. Set items can’t be accessed using index as they are unordered, hence 'indexing' is NOT possible here. Repeated value is shown only ONCE. values gets sorted out \n",
    "\n",
    "6. Dictionary in Python : Dictionary is an unordered collection of key-value pairs. Dictionary is defined using {} and each item is a pair of keys and value."
   ]
  },
  {
   "cell_type": "code",
   "execution_count": 1,
   "metadata": {},
   "outputs": [
    {
     "data": {
      "text/plain": [
       "int"
      ]
     },
     "execution_count": 1,
     "metadata": {},
     "output_type": "execute_result"
    }
   ],
   "source": [
    "x=2 #Try for 5.9,   2+3j,  False \n",
    "type(x)"
   ]
  },
  {
   "cell_type": "code",
   "execution_count": 2,
   "metadata": {},
   "outputs": [
    {
     "name": "stdout",
     "output_type": "stream",
     "text": [
      "<class 'float'>\n",
      "Value of x is 2\n",
      "Value of k is 2.0\n"
     ]
    }
   ],
   "source": [
    "#conversion of data type is also possible using float() function\n",
    "x=2\n",
    "k=float(x)\n",
    "print(type(k)) # value as 2 has been assigned from x to k as a \"float\" value i.e. now it is 2.0 \n",
    "print (\"Value of x is\" ,x)\n",
    "print (\"Value of k is\" ,k)"
   ]
  },
  {
   "cell_type": "code",
   "execution_count": null,
   "metadata": {},
   "outputs": [],
   "source": []
  },
  {
   "cell_type": "markdown",
   "metadata": {},
   "source": [
    "# 3. List"
   ]
  },
  {
   "cell_type": "code",
   "execution_count": 9,
   "metadata": {},
   "outputs": [
    {
     "name": "stdout",
     "output_type": "stream",
     "text": [
      "['Physics', 'chemistry', 'maths']\n",
      "Physics chemistry maths\n"
     ]
    }
   ],
   "source": [
    "data = ['Physics', 'chemistry','maths']\n",
    "print(data)\n",
    "print(*data) #print ONLY the elements of that list"
   ]
  },
  {
   "cell_type": "code",
   "execution_count": 83,
   "metadata": {},
   "outputs": [
    {
     "data": {
      "text/plain": [
       "['Physics', 'chemistry', 'maths']"
      ]
     },
     "execution_count": 83,
     "metadata": {},
     "output_type": "execute_result"
    }
   ],
   "source": [
    "subjects = list(('Physics', 'chemistry','maths'))\n",
    "subjects"
   ]
  },
  {
   "cell_type": "code",
   "execution_count": 4,
   "metadata": {},
   "outputs": [
    {
     "data": {
      "text/plain": [
       "['Physics', 'chemistry', 'maths', 'history']"
      ]
     },
     "execution_count": 4,
     "metadata": {},
     "output_type": "execute_result"
    }
   ],
   "source": [
    "#Add an item\n",
    "subjects = ['Physics', 'chemistry','maths']\n",
    "subjects.append('history')\n",
    "subjects"
   ]
  },
  {
   "cell_type": "code",
   "execution_count": 5,
   "metadata": {},
   "outputs": [
    {
     "data": {
      "text/plain": [
       "['history', 'Physics', 'chemistry', 'maths']"
      ]
     },
     "execution_count": 5,
     "metadata": {},
     "output_type": "execute_result"
    }
   ],
   "source": [
    "subjects = ['Physics', 'chemistry','maths']\n",
    "subjects.insert(0,'history') #insert at oth index position\n",
    "subjects"
   ]
  },
  {
   "cell_type": "code",
   "execution_count": 7,
   "metadata": {},
   "outputs": [
    {
     "data": {
      "text/plain": [
       "['Physics', 'chemistry', 'maths', 'football', 'cricket', 'tennis']"
      ]
     },
     "execution_count": 7,
     "metadata": {},
     "output_type": "execute_result"
    }
   ],
   "source": [
    "subjects = ['Physics', 'chemistry','maths']\n",
    "subjects.extend(['football','cricket','tennis'])\n",
    "subjects"
   ]
  },
  {
   "cell_type": "code",
   "execution_count": 6,
   "metadata": {},
   "outputs": [
    {
     "data": {
      "text/plain": [
       "['Physics', 'chemistry', 'maths', 'football', 'cricket', 'tennis']"
      ]
     },
     "execution_count": 6,
     "metadata": {},
     "output_type": "execute_result"
    }
   ],
   "source": [
    "subjects = ['Physics', 'chemistry','maths']\n",
    "games = ['football','cricket','tennis']\n",
    "subjects.extend(games)\n",
    "subjects"
   ]
  },
  {
   "cell_type": "code",
   "execution_count": 8,
   "metadata": {},
   "outputs": [
    {
     "data": {
      "text/plain": [
       "['Physics', 'chemistry', 'maths', 'football', 'cricket', 'tennis']"
      ]
     },
     "execution_count": 8,
     "metadata": {},
     "output_type": "execute_result"
    }
   ],
   "source": [
    "#concatenation\n",
    "subjects = ['Physics', 'chemistry','maths']\n",
    "games = ['football','cricket','tennis']\n",
    "subjects + games"
   ]
  },
  {
   "cell_type": "code",
   "execution_count": 9,
   "metadata": {},
   "outputs": [
    {
     "data": {
      "text/plain": [
       "['Physics', 'maths']"
      ]
     },
     "execution_count": 9,
     "metadata": {},
     "output_type": "execute_result"
    }
   ],
   "source": [
    "#delete an item\n",
    "subjects = ['Physics', 'chemistry','maths']\n",
    "subjects.remove('chemistry')\n",
    "subjects"
   ]
  },
  {
   "cell_type": "code",
   "execution_count": 10,
   "metadata": {},
   "outputs": [
    {
     "data": {
      "text/plain": [
       "['chemistry', 'maths']"
      ]
     },
     "execution_count": 10,
     "metadata": {},
     "output_type": "execute_result"
    }
   ],
   "source": [
    "subjects = ['Physics', 'chemistry','maths']\n",
    "subjects.pop(0) #pop-out indexed position item and if no index is specified, it will remove the last item\n",
    "subjects"
   ]
  },
  {
   "cell_type": "code",
   "execution_count": 11,
   "metadata": {},
   "outputs": [
    {
     "data": {
      "text/plain": [
       "['Physics', 'chemistry']"
      ]
     },
     "execution_count": 11,
     "metadata": {},
     "output_type": "execute_result"
    }
   ],
   "source": [
    "subjects = ['Physics', 'chemistry','maths']\n",
    "subjects.pop() #it will remove the last item\n",
    "subjects"
   ]
  },
  {
   "cell_type": "code",
   "execution_count": 12,
   "metadata": {},
   "outputs": [
    {
     "data": {
      "text/plain": [
       "['Physics', 'maths']"
      ]
     },
     "execution_count": 12,
     "metadata": {},
     "output_type": "execute_result"
    }
   ],
   "source": [
    "subjects = ['Physics', 'chemistry','maths']\n",
    "del subjects[1]\n",
    "subjects"
   ]
  },
  {
   "cell_type": "code",
   "execution_count": 13,
   "metadata": {},
   "outputs": [
    {
     "data": {
      "text/plain": [
       "['Physics', 'Data Science', 'maths', 'Physics', 'chemistry', 'maths']"
      ]
     },
     "execution_count": 13,
     "metadata": {},
     "output_type": "execute_result"
    }
   ],
   "source": [
    "#Change Item Value on Your List\n",
    "subjects = ['Physics', 'chemistry', 'maths', 'Physics', 'chemistry', 'maths']\n",
    "subjects[1]='Data Science'\n",
    "subjects"
   ]
  },
  {
   "cell_type": "code",
   "execution_count": 14,
   "metadata": {},
   "outputs": [
    {
     "data": {
      "text/plain": [
       "['maths', 'chemistry', 'Physics']"
      ]
     },
     "execution_count": 14,
     "metadata": {},
     "output_type": "execute_result"
    }
   ],
   "source": [
    "subjects = ['Physics', 'chemistry','maths']\n",
    "subjects.reverse()\n",
    "subjects"
   ]
  },
  {
   "cell_type": "code",
   "execution_count": 15,
   "metadata": {},
   "outputs": [
    {
     "data": {
      "text/plain": [
       "['maths', 'chemistry', 'Physics', 'maths', 'chemistry', 'Physics']"
      ]
     },
     "execution_count": 15,
     "metadata": {},
     "output_type": "execute_result"
    }
   ],
   "source": [
    "#repetition\n",
    "subjects *2"
   ]
  },
  {
   "cell_type": "code",
   "execution_count": 16,
   "metadata": {},
   "outputs": [
    {
     "data": {
      "text/plain": [
       "['Chemistry', 'Maths', 'Physics', 'chemistry', 'maths', 'physics']"
      ]
     },
     "execution_count": 16,
     "metadata": {},
     "output_type": "execute_result"
    }
   ],
   "source": [
    "alpha_list = ['Physics', 'Chemistry', 'maths', 'physics', 'chemistry', 'Maths']\n",
    "alpha_list.sort()\n",
    "alpha_list"
   ]
  },
  {
   "cell_type": "code",
   "execution_count": 17,
   "metadata": {},
   "outputs": [
    {
     "name": "stdout",
     "output_type": "stream",
     "text": [
      "[['Physics', 'chemistry', 'maths', 'Physics', 'chemistry', 'maths'], [34, 23, 67, 100, 88, 2, 15, 23, 8, 19, 91]]\n"
     ]
    }
   ],
   "source": [
    "subjects = ['Physics', 'chemistry', 'maths', 'Physics', 'chemistry', 'maths']\n",
    "New_List =[subjects,alpha_list]\n",
    "print(New_List)"
   ]
  },
  {
   "cell_type": "code",
   "execution_count": 18,
   "metadata": {},
   "outputs": [
    {
     "name": "stdout",
     "output_type": "stream",
     "text": [
      "[10, 11, 12, 13, 14, 15, 16, 17, 18, 19]\n"
     ]
    }
   ],
   "source": [
    "number_list = [x+5 for x in range (5,15) ]\n",
    "print(number_list)"
   ]
  },
  {
   "cell_type": "code",
   "execution_count": 19,
   "metadata": {},
   "outputs": [
    {
     "data": {
      "text/plain": [
       "[23, 88, 23]"
      ]
     },
     "execution_count": 19,
     "metadata": {},
     "output_type": "execute_result"
    }
   ],
   "source": [
    "#slicing\n",
    "alpha_list = [34, 23, 67, 100, 88, 2,15,23,8,19,91]\n",
    "alpha_list[1:10:3]"
   ]
  },
  {
   "cell_type": "code",
   "execution_count": 20,
   "metadata": {},
   "outputs": [
    {
     "name": "stdout",
     "output_type": "stream",
     "text": [
      "2\n",
      "100\n",
      "470\n"
     ]
    }
   ],
   "source": [
    "alpha_list = [34, 23, 67, 100, 88, 2,15,23,8,19,91]\n",
    "print(min(alpha_list))\n",
    "print(max(alpha_list))\n",
    "print(sum(alpha_list))"
   ]
  },
  {
   "cell_type": "code",
   "execution_count": null,
   "metadata": {},
   "outputs": [],
   "source": []
  },
  {
   "cell_type": "code",
   "execution_count": null,
   "metadata": {},
   "outputs": [],
   "source": []
  },
  {
   "cell_type": "code",
   "execution_count": 21,
   "metadata": {},
   "outputs": [
    {
     "name": "stdout",
     "output_type": "stream",
     "text": [
      "2\n"
     ]
    }
   ],
   "source": [
    "subjects = ['Physics', 'chemistry', 'maths', 'Physics', 'chemistry', 'maths']\n",
    "print(subjects.count('Physics'))"
   ]
  },
  {
   "cell_type": "code",
   "execution_count": 22,
   "metadata": {},
   "outputs": [
    {
     "name": "stdout",
     "output_type": "stream",
     "text": [
      "8\n",
      "2\n"
     ]
    }
   ],
   "source": [
    "#count: count total number of occurances of...\n",
    "# Index means, position where that number was first time found out\n",
    "Number = [99, 25, 10, 1, 11, 55, 10, 10,55,100, 10, 20,10,-10,20/2, 10.00,10.0] \n",
    "\n",
    "print(Number.count(10))\n",
    "print(Number.index(10))"
   ]
  },
  {
   "cell_type": "code",
   "execution_count": null,
   "metadata": {},
   "outputs": [],
   "source": []
  },
  {
   "cell_type": "code",
   "execution_count": 23,
   "metadata": {},
   "outputs": [
    {
     "name": "stdout",
     "output_type": "stream",
     "text": [
      "1 Vikas\n",
      "2 Mohan\n",
      "3 Ramesh\n",
      "4 Sanman\n"
     ]
    }
   ],
   "source": [
    "boys = ['Vikas', 'Mohan', 'Ramesh', 'Sanman']\n",
    "start = 1;\n",
    "\n",
    "for i in boys:\n",
    "    print(start,i) \n",
    "    start+=1"
   ]
  },
  {
   "cell_type": "code",
   "execution_count": 24,
   "metadata": {},
   "outputs": [
    {
     "name": "stdout",
     "output_type": "stream",
     "text": [
      "1 Vikas\n",
      "2 Mohan\n",
      "3 Ramesh\n",
      "4 Sanman\n"
     ]
    }
   ],
   "source": [
    "boys = ['Vikas', 'Mohan', 'Ramesh', 'Sanman']\n",
    "\n",
    "for start,i in enumerate(boys,start=1):\n",
    "    print(start,i)"
   ]
  },
  {
   "cell_type": "code",
   "execution_count": null,
   "metadata": {},
   "outputs": [],
   "source": [
    "days = 'Mon', 'Tues','Wed', 'Thurs'\n",
    "for i,d in enumerate(days):\n",
    "    print(i,d)"
   ]
  },
  {
   "cell_type": "code",
   "execution_count": 25,
   "metadata": {},
   "outputs": [
    {
     "name": "stdout",
     "output_type": "stream",
     "text": [
      "Mantu is actually Vikas\n",
      "Laddo is actually Shaurya\n",
      "Bunny is actually Siddhant\n"
     ]
    }
   ],
   "source": [
    "nick_name = ['Mantu', 'Laddo','Bunny']\n",
    "school_name =['Vikas', 'Shaurya', 'Siddhant']\n",
    "\n",
    "for start, i in enumerate(nick_name):\n",
    "    j = school_name[start]\n",
    "    print(f'{i} is actually {j}')"
   ]
  },
  {
   "cell_type": "code",
   "execution_count": 26,
   "metadata": {},
   "outputs": [
    {
     "name": "stdout",
     "output_type": "stream",
     "text": [
      "('Mantu', 'Vikas')\n",
      "('Laddo', 'Shaurya')\n",
      "('Bunny', 'Siddhant')\n"
     ]
    }
   ],
   "source": [
    "nick_name = ['Mantu', 'Laddo','Bunny']\n",
    "school_name =['Vikas', 'Shaurya', 'Siddhant']\n",
    "\n",
    "for value in zip(nick_name,school_name):\n",
    "    print(value)"
   ]
  },
  {
   "cell_type": "code",
   "execution_count": 27,
   "metadata": {},
   "outputs": [
    {
     "name": "stdout",
     "output_type": "stream",
     "text": [
      "Mantu is actually Vikas\n",
      "Laddo is actually Shaurya\n",
      "Bunny is actually Siddhant\n"
     ]
    }
   ],
   "source": [
    "nick_name = ['Mantu', 'Laddo','Bunny']\n",
    "school_name =['Vikas', 'Shaurya', 'Siddhant']\n",
    "\n",
    "for i, j in zip(nick_name,school_name):\n",
    "    print(f'{i} is actually {j}')"
   ]
  },
  {
   "cell_type": "code",
   "execution_count": 28,
   "metadata": {},
   "outputs": [
    {
     "name": "stdout",
     "output_type": "stream",
     "text": [
      "vikas\n"
     ]
    }
   ],
   "source": [
    "name = 'vikas'\n",
    "print(f'{name}')"
   ]
  },
  {
   "cell_type": "code",
   "execution_count": 29,
   "metadata": {},
   "outputs": [
    {
     "name": "stdout",
     "output_type": "stream",
     "text": [
      "[('Mantu', 21), ('Laddo', 93), ('Bunny', 12)]\n"
     ]
    }
   ],
   "source": [
    "nick_name = ['Mantu', 'Laddo','Bunny']\n",
    "age = [21,93,12]\n",
    "\n",
    "print(list(zip(nick_name,age)))"
   ]
  },
  {
   "cell_type": "code",
   "execution_count": 30,
   "metadata": {},
   "outputs": [
    {
     "name": "stdout",
     "output_type": "stream",
     "text": [
      "[('Mantu', 21), ('Laddo', 93), ('Bunny', 12)]\n",
      "Mantu\n",
      "Laddo\n"
     ]
    }
   ],
   "source": [
    "nick_name = ['Mantu', 'Laddo','Bunny']\n",
    "age = [21,93,12]\n",
    "\n",
    "print(list(zip(nick_name,age)))\n",
    "for nick_name,age in zip(nick_name,age):\n",
    "    if age >=21:\n",
    "        print(nick_name)"
   ]
  },
  {
   "cell_type": "code",
   "execution_count": 24,
   "metadata": {},
   "outputs": [
    {
     "name": "stdout",
     "output_type": "stream",
     "text": [
      "[1, 2, 3, 4, 5, 6]\n"
     ]
    },
    {
     "data": {
      "text/plain": [
       "str"
      ]
     },
     "execution_count": 24,
     "metadata": {},
     "output_type": "execute_result"
    }
   ],
   "source": [
    "usr_input = '1 2 3 4 5 6' #string to list conversion\n",
    "#['1','2','3','4','5']\n",
    "my_list = list(map(int,usr_input.split()))\n",
    "print(my_list)\n",
    "type(usr_input)"
   ]
  },
  {
   "cell_type": "code",
   "execution_count": 31,
   "metadata": {},
   "outputs": [
    {
     "data": {
      "text/plain": [
       "['python', 'for', 'data', 'science']"
      ]
     },
     "execution_count": 31,
     "metadata": {},
     "output_type": "execute_result"
    }
   ],
   "source": [
    "str1 = 'python for data science'\n",
    "str1.split()"
   ]
  },
  {
   "cell_type": "code",
   "execution_count": 32,
   "metadata": {},
   "outputs": [
    {
     "data": {
      "text/plain": [
       "'python-for-data-science'"
      ]
     },
     "execution_count": 32,
     "metadata": {},
     "output_type": "execute_result"
    }
   ],
   "source": [
    "#URGENT\n",
    "str1 = 'python for data science'\n",
    "strlist=str1.split()\n",
    "'-'.join(strlist)"
   ]
  },
  {
   "cell_type": "code",
   "execution_count": 33,
   "metadata": {},
   "outputs": [
    {
     "name": "stdout",
     "output_type": "stream",
     "text": [
      "113350"
     ]
    }
   ],
   "source": [
    "#URGENT #7: Write a Python program to convert a list of multiple integers into a single integer [11,33,50].\n",
    "lst = [11,33,50] \n",
    "\n",
    "# iterating each element \n",
    "for i in lst: \n",
    "    print(i, end=\"\")"
   ]
  },
  {
   "cell_type": "code",
   "execution_count": 34,
   "metadata": {},
   "outputs": [
    {
     "name": "stdout",
     "output_type": "stream",
     "text": [
      "20\n"
     ]
    }
   ],
   "source": [
    "#Write a Python program to sum all the items in a list.\n",
    "lst = [1,3,17,0,-1]\n",
    "sum_1 = 0\n",
    "\n",
    "for i in range(len(lst)):\n",
    "    sum_1+=lst[i]\n",
    "\n",
    "print(sum_1)"
   ]
  },
  {
   "cell_type": "code",
   "execution_count": 42,
   "metadata": {},
   "outputs": [
    {
     "name": "stdout",
     "output_type": "stream",
     "text": [
      "275\n"
     ]
    }
   ],
   "source": [
    "#Write a Python program to sum all the items in a list\n",
    "sum = 0\n",
    "for i in range(20,31):\n",
    "    sum += i\n",
    "print(sum)"
   ]
  },
  {
   "cell_type": "code",
   "execution_count": 35,
   "metadata": {},
   "outputs": [
    {
     "name": "stdout",
     "output_type": "stream",
     "text": [
      "-51\n"
     ]
    }
   ],
   "source": [
    "#Write a Python program to multiply all the items in a list\n",
    "lst = [1,3,17,-1]\n",
    "mlt = 1\n",
    "for i in range(len(lst)):\n",
    "    mlt=mlt*lst[i]\n",
    "\n",
    "print(mlt)"
   ]
  },
  {
   "cell_type": "code",
   "execution_count": 44,
   "metadata": {},
   "outputs": [
    {
     "name": "stdout",
     "output_type": "stream",
     "text": [
      "24\n"
     ]
    }
   ],
   "source": [
    "#Write a Python program to multiply all the items in a list.\n",
    "mlt = 1\n",
    "for i in range(2,5):\n",
    "    mlt *= i\n",
    "print(mlt)"
   ]
  },
  {
   "cell_type": "code",
   "execution_count": 36,
   "metadata": {},
   "outputs": [
    {
     "name": "stdout",
     "output_type": "stream",
     "text": [
      "99\n",
      "Largest element is: 99\n"
     ]
    }
   ],
   "source": [
    "#Write a Python program to get the largest number from a list.\n",
    "lst = [10, 20, 4, 45, 99]\n",
    "print(max(lst))\n",
    "lst.sort()\n",
    "print(\"Number is:\", lst[-1])"
   ]
  },
  {
   "cell_type": "code",
   "execution_count": 47,
   "metadata": {},
   "outputs": [
    {
     "name": "stdout",
     "output_type": "stream",
     "text": [
      "69\n",
      "98 78 69 "
     ]
    }
   ],
   "source": [
    "#Find the k-th largest number in a sequence of unsorted numbers\n",
    "def kLargest(arr, k):\n",
    "    arr.sort(reverse = True)\n",
    "    print(arr[k-1]) \n",
    "\n",
    "    # Print the first kth largest elements\n",
    "    for i in range(k):\n",
    "        print (arr[i], end =\" \")\n",
    "nums = [56,14,7,98,32,12,11,50,45,78,7,5,69]\n",
    "k = 3 \n",
    "kLargest(nums,k)"
   ]
  },
  {
   "cell_type": "code",
   "execution_count": 37,
   "metadata": {},
   "outputs": [
    {
     "name": "stdout",
     "output_type": "stream",
     "text": [
      "4\n",
      "Smallest element is: 4\n"
     ]
    }
   ],
   "source": [
    "#Write a Python program to get the smallest number from a list.\n",
    "lst = [10, 20, 4, 45, 99]\n",
    "print(min(lst))\n",
    "lst.sort()\n",
    "print(\"Smallest element is:\", lst[0])"
   ]
  },
  {
   "cell_type": "code",
   "execution_count": null,
   "metadata": {},
   "outputs": [],
   "source": []
  },
  {
   "cell_type": "code",
   "execution_count": 38,
   "metadata": {},
   "outputs": [
    {
     "name": "stdout",
     "output_type": "stream",
     "text": [
      "2\n"
     ]
    }
   ],
   "source": [
    "#Count number of strings where the string length is 2 or more and  first and last characters are same\n",
    "nums = ['abc', 'xyz', 'aba', '1221']\n",
    "count = 0\n",
    "for i in nums:\n",
    "    if len(i)>=2 and i[0] == i[-1]:\n",
    "        count += 1\n",
    "print(count) #'aba', '1221'"
   ]
  },
  {
   "cell_type": "code",
   "execution_count": null,
   "metadata": {},
   "outputs": [],
   "source": []
  },
  {
   "cell_type": "code",
   "execution_count": null,
   "metadata": {},
   "outputs": [],
   "source": []
  },
  {
   "cell_type": "code",
   "execution_count": null,
   "metadata": {},
   "outputs": [],
   "source": []
  },
  {
   "cell_type": "code",
   "execution_count": null,
   "metadata": {},
   "outputs": [],
   "source": []
  },
  {
   "cell_type": "code",
   "execution_count": null,
   "metadata": {},
   "outputs": [],
   "source": []
  },
  {
   "cell_type": "markdown",
   "metadata": {},
   "source": [
    "# List comprehension"
   ]
  },
  {
   "cell_type": "code",
   "execution_count": 6,
   "metadata": {},
   "outputs": [
    {
     "name": "stdout",
     "output_type": "stream",
     "text": [
      "[4, 36, 100, 196, 324, 484, 676]\n"
     ]
    }
   ],
   "source": [
    "square = [i*i for i in range(2,30,4) ]\n",
    "print(square)"
   ]
  },
  {
   "cell_type": "code",
   "execution_count": 5,
   "metadata": {},
   "outputs": [
    {
     "name": "stdout",
     "output_type": "stream",
     "text": [
      "[36, 324]\n"
     ]
    }
   ],
   "source": [
    "square = [i*i for i in range(2,30,4) if i%3==0]\n",
    "print(square)"
   ]
  },
  {
   "cell_type": "code",
   "execution_count": 41,
   "metadata": {},
   "outputs": [
    {
     "name": "stdout",
     "output_type": "stream",
     "text": [
      "['frecb', 'CHb', 'Jbbbb', 'acdb']\n"
     ]
    }
   ],
   "source": [
    "#Find the elements in a list in which elements are ended with 'b' and the length of that element is greater than 2\n",
    "names = ['a','ba', 'tDB','bba','ccd','frecb','CHb','hb','HB','Jbbbb','acdb']\n",
    "names_final = []\n",
    "for i in names:\n",
    "    if i.endswith('b')and len(i)>2:\n",
    "        names_final.append(i)\n",
    "print(names_final)    "
   ]
  },
  {
   "cell_type": "code",
   "execution_count": 81,
   "metadata": {},
   "outputs": [
    {
     "data": {
      "text/plain": [
       "['data', 'science', 'enthusiast']"
      ]
     },
     "execution_count": 81,
     "metadata": {},
     "output_type": "execute_result"
    }
   ],
   "source": [
    "# Write a Python program to find the list of words that are longer than n from a given list of words.\n",
    "def custom_word_length(input_list, length_of_word):\n",
    "    lst = []\n",
    "    for i in input_list:\n",
    "        if len(i) > length_of_word:\n",
    "            lst.append(i)\n",
    "    return lst\n",
    "list_sample = ['i', 'am', 'a', 'data', 'science', 'enthusiast']\n",
    "custom_word_length(list_sample,2)"
   ]
  },
  {
   "cell_type": "code",
   "execution_count": 86,
   "metadata": {},
   "outputs": [
    {
     "data": {
      "text/plain": [
       "'False'"
      ]
     },
     "execution_count": 86,
     "metadata": {},
     "output_type": "execute_result"
    }
   ],
   "source": [
    "#Write a Python function that takes two lists and returns True if they have at least one common member.\n",
    "l1 = [1,2,3,4,55]\n",
    "l2 = [2,3,5,6,7,8]\n",
    "l3 = [\"shub\",\"simran\"]\n",
    "\n",
    "def cmp(list_1,list_2):\n",
    "    cnt = 0\n",
    "    for member in list_1:\n",
    "        if member in list_2:\n",
    "            cnt+=1\n",
    "    if cnt>0:\n",
    "        return 'True'\n",
    "    else:\n",
    "        return 'False'\n",
    "\n",
    "cmp(l3,l2)      "
   ]
  },
  {
   "cell_type": "code",
   "execution_count": 42,
   "metadata": {},
   "outputs": [
    {
     "name": "stdout",
     "output_type": "stream",
     "text": [
      "['frecb', 'CHb', 'Jbbbb', 'acdb']\n"
     ]
    }
   ],
   "source": [
    "#Find the elements in a list in which elements are ended with 'b' and the length of that element is greater than 2\n",
    "lst_final = [i for i in names if i.endswith('b')and len(i)>2 ] \n",
    "print(lst_final)"
   ]
  },
  {
   "cell_type": "code",
   "execution_count": 43,
   "metadata": {},
   "outputs": [
    {
     "name": "stdout",
     "output_type": "stream",
     "text": [
      "['3=Odd', '10=Even', '4=Even', '5=Odd', '7=Odd', '6=Even']\n"
     ]
    }
   ],
   "source": [
    "#Given a list of numbers, display the numbers in the form of '1-Odd', '2-Even', respectively for odd and even numbers\n",
    "nums = [3,10,4,5,7,6]\n",
    "\n",
    "odd_even_list = []\n",
    "for num in nums :\n",
    "    if num %2==0:\n",
    "        odd_even_list.append(str(num)+'=Even')\n",
    "    else:\n",
    "        odd_even_list.append(str(num)+'=Odd')\n",
    "print(odd_even_list)        "
   ]
  },
  {
   "cell_type": "code",
   "execution_count": 44,
   "metadata": {},
   "outputs": [
    {
     "name": "stdout",
     "output_type": "stream",
     "text": [
      "['3=Odd', '10=Even', '4=Even', '5=Odd', '7=Odd', '6=Even']\n"
     ]
    }
   ],
   "source": [
    "odd_even_list = [str(num)+'=Even'  if (num %2==0) else  (str(num)+'=Odd') for num in nums ]\n",
    "print(odd_even_list)"
   ]
  },
  {
   "cell_type": "code",
   "execution_count": 45,
   "metadata": {},
   "outputs": [
    {
     "name": "stdout",
     "output_type": "stream",
     "text": [
      "{'Suresh': 6, 'Ramesh': 6, 'Mahesh': 6, 'Vikas': 'Short', 'Prakash': 7, 'Ram': 'Short', 'Sita': 'Short'}\n"
     ]
    }
   ],
   "source": [
    "#Create a dictionary having the word and its corresponding length for length greater than 5 else give the length as 'short'\n",
    "\n",
    "words = ['Suresh', 'Ramesh', 'Mahesh', 'Vikas', 'Prakash', 'Ram','Sita']\n",
    "words_dict = {}\n",
    "for i in words:\n",
    "    if len(i)>5:\n",
    "        words_dict[i] = len(i)\n",
    "    else:\n",
    "        words_dict[i] = 'Short'\n",
    "print(words_dict)"
   ]
  },
  {
   "cell_type": "code",
   "execution_count": 46,
   "metadata": {},
   "outputs": [
    {
     "name": "stdout",
     "output_type": "stream",
     "text": [
      "{'Suresh': 6, 'Ramesh': 6, 'Mahesh': 6, 'Vikas': 'Short', 'Prakash': 7, 'Ram': 'Short', 'Sita': 'Short'}\n"
     ]
    }
   ],
   "source": [
    "words = ['Suresh', 'Ramesh', 'Mahesh', 'Vikas', 'Prakash', 'Ram','Sita']\n",
    "words_dict ={i:len(i)  if len(i)>5 else 'Short' for i in words }\n",
    "print(words_dict)"
   ]
  },
  {
   "cell_type": "code",
   "execution_count": 47,
   "metadata": {},
   "outputs": [
    {
     "name": "stdout",
     "output_type": "stream",
     "text": [
      "{'Vikas', 'Mahesh'}\n"
     ]
    }
   ],
   "source": [
    "#Given a list including a lot of duplicate names, and there are names with only a single letter. \n",
    "#What we want is a list that consists of names that are longer than one letter and have only the first letter capitalized\n",
    "words = ['SurEsh', 'rAmesh', 'maHEsh', 'suresh','Vikas', 'prakASh','Ramesh' 'rAm','Mahesh','SiTa']\n",
    "words\n",
    "news_words = {i for i in words if len(i) >1 and i.istitle()}\n",
    "print(news_words)"
   ]
  },
  {
   "cell_type": "code",
   "execution_count": 48,
   "metadata": {},
   "outputs": [
    {
     "name": "stdout",
     "output_type": "stream",
     "text": [
      "{'Milk': 800, 'Coffee': 1600, 'Bread': 400}\n"
     ]
    }
   ],
   "source": [
    "#Given a dictionary having items as products and values as the rate, convert the values from dollars to pound using dictionary comprehension\n",
    "old_price = {'Milk': 10, 'Coffee': 20, 'Bread': 5}\n",
    "dollar_to_pound = 80\n",
    "new_price = {k : v * dollar_to_pound for k, v in old_price.items() }\n",
    "print(new_price)"
   ]
  },
  {
   "cell_type": "code",
   "execution_count": null,
   "metadata": {},
   "outputs": [],
   "source": []
  },
  {
   "cell_type": "code",
   "execution_count": 49,
   "metadata": {},
   "outputs": [
    {
     "name": "stdout",
     "output_type": "stream",
     "text": [
      "252700.0\n"
     ]
    }
   ],
   "source": [
    "#1: page 17: Write a Python program that multiplies all the items in the given list: [5,8,10,'7',9.5,’9.5’,’three’].\n",
    "\n",
    "def multi(items):\n",
    "    total =1\n",
    "    for i in items:\n",
    "        if isinstance(i,int) or isinstance(i,float):\n",
    "            total*=i\n",
    "        else:\n",
    "            if(i.isdigit()):\n",
    "                total*=float(i) \n",
    "            elif '.' in i:\n",
    "                    total*=float(i)\n",
    "    return total\n",
    "\n",
    "print(multi([5,8,10,'7',9.5,'9.5','three']))"
   ]
  },
  {
   "cell_type": "code",
   "execution_count": 50,
   "metadata": {},
   "outputs": [
    {
     "name": "stdout",
     "output_type": "stream",
     "text": [
      "2\n"
     ]
    }
   ],
   "source": [
    "##2: Page 17: Write a Python program to count the number of strings where the string length is 2 \n",
    "#or more and the first and last character are same from a given list of strings.\n",
    "#['abc', 'xyz', 'aba', '1221'].\n",
    "def match_words(words):\n",
    "  ctr = 0\n",
    "  for word in words:\n",
    "    if len(word) > 1 and word[0] == word[-1]:\n",
    "      ctr += 1\n",
    "  return ctr\n",
    "\n",
    "print(match_words(['abc', 'xyz', 'aba', '1221']))"
   ]
  },
  {
   "cell_type": "code",
   "execution_count": 71,
   "metadata": {},
   "outputs": [
    {
     "data": {
      "text/plain": [
       "['d', 'c', 'a', 'e', 'b']"
      ]
     },
     "execution_count": 71,
     "metadata": {},
     "output_type": "execute_result"
    }
   ],
   "source": [
    "#Write a Python program to remove duplicates from a list\n",
    "input = ['a','b','c','d','a','c','e','d']\n",
    "list(set(input))"
   ]
  },
  {
   "cell_type": "code",
   "execution_count": 70,
   "metadata": {},
   "outputs": [
    {
     "data": {
      "text/plain": [
       "['a', 'b', 'c', 'd', 'e']"
      ]
     },
     "execution_count": 70,
     "metadata": {},
     "output_type": "execute_result"
    }
   ],
   "source": [
    "#Write a Python program to remove duplicates from a list\n",
    "def unique(input):\n",
    "    output =[]\n",
    "    for x in input:\n",
    "        if x not in output:\n",
    "            output.append(x)\n",
    "    return output\n",
    "input = ['a','b','c','d','a','c','e','d']\n",
    "unique(input)"
   ]
  },
  {
   "cell_type": "code",
   "execution_count": 52,
   "metadata": {},
   "outputs": [
    {
     "name": "stdout",
     "output_type": "stream",
     "text": [
      "[7, 25, 27]\n"
     ]
    }
   ],
   "source": [
    "#4 Page 17: Write a Python program to print the numbers of a given list after removing even numbers from it.\n",
    "num = [7,8, 120, 25, 44, 20, 27]\n",
    "num = [x for x in num if x%2!=0]\n",
    "print(num)"
   ]
  },
  {
   "cell_type": "code",
   "execution_count": 53,
   "metadata": {},
   "outputs": [
    {
     "name": "stdout",
     "output_type": "stream",
     "text": [
      "[123, 543]\n"
     ]
    }
   ],
   "source": [
    "#URGENT #5: Page 17: Write a Python program to get the difference between the two lists.\n",
    "num1 = [7,8,120,25,123,44,20,27,543]\n",
    "num2 = [7,8,120,659,25,44,20,456,27]\n",
    "print(list(set(num1) - set(num2)))"
   ]
  },
  {
   "cell_type": "code",
   "execution_count": 54,
   "metadata": {},
   "outputs": [
    {
     "data": {
      "text/plain": [
       "9"
      ]
     },
     "execution_count": 54,
     "metadata": {},
     "output_type": "execute_result"
    }
   ],
   "source": [
    "num_grid = [\n",
    "    [1,2,3],\n",
    "    [4,5,6],\n",
    "    [7,8,9]\n",
    "]\n",
    "num_grid[0][2] + num_grid[1][2] "
   ]
  },
  {
   "cell_type": "code",
   "execution_count": 55,
   "metadata": {},
   "outputs": [
    {
     "name": "stdout",
     "output_type": "stream",
     "text": [
      "OEgkgUs\n"
     ]
    }
   ],
   "source": [
    "def translate(phrase):\n",
    "    translation =''\n",
    "    for i in phrase:\n",
    "        if i in 'aeiou':\n",
    "            if i.isupper():\n",
    "                translation+='G'\n",
    "            else:\n",
    "                translation+='g'\n",
    "        else:\n",
    "            translation +=i\n",
    "    return translation\n",
    "    \n",
    "print(translate('OEikaUs'))"
   ]
  },
  {
   "cell_type": "markdown",
   "metadata": {},
   "source": [
    "# 4. Tuple"
   ]
  },
  {
   "cell_type": "code",
   "execution_count": 56,
   "metadata": {},
   "outputs": [
    {
     "data": {
      "text/plain": [
       "['NEW hazard', 'lampard', 'terry']"
      ]
     },
     "execution_count": 56,
     "metadata": {},
     "output_type": "execute_result"
    }
   ],
   "source": [
    "#In list, values can be changed i.e. it is mutable while 'tuple' is immutable.\n",
    "football = ['hazard','lampard','terry']\n",
    "football[0] = 'NEW hazard'\n",
    "football"
   ]
  },
  {
   "cell_type": "code",
   "execution_count": 202,
   "metadata": {},
   "outputs": [],
   "source": [
    "# football = ('hazard','lampard','terry')\n",
    "# football[0] = 'NEW hazard'\n",
    "# football"
   ]
  },
  {
   "cell_type": "code",
   "execution_count": 57,
   "metadata": {},
   "outputs": [
    {
     "data": {
      "text/plain": [
       "['hazard', 'lampard', 'terry', 'vikas']"
      ]
     },
     "execution_count": 57,
     "metadata": {},
     "output_type": "execute_result"
    }
   ],
   "source": [
    "football = ['hazard','lampard','terry',('hazard','lampard','terry')] #i.e. inside a list, there is one tuple\n",
    "football[3] = 'vikas'\n",
    "football"
   ]
  },
  {
   "cell_type": "code",
   "execution_count": 58,
   "metadata": {},
   "outputs": [],
   "source": [
    "# football = ('hazard','lampard','terry')\n",
    "# football.append('zola')\n",
    "# football"
   ]
  },
  {
   "cell_type": "code",
   "execution_count": 59,
   "metadata": {},
   "outputs": [
    {
     "name": "stdout",
     "output_type": "stream",
     "text": [
      "lampard\n",
      "2\n"
     ]
    }
   ],
   "source": [
    "football = ('hazard','lampard','terry')\n",
    "print(football[1])\n",
    "print(football.index('terry'))"
   ]
  },
  {
   "cell_type": "code",
   "execution_count": 60,
   "metadata": {},
   "outputs": [
    {
     "data": {
      "text/plain": [
       "('hazard', 'lampard')"
      ]
     },
     "execution_count": 60,
     "metadata": {},
     "output_type": "execute_result"
    }
   ],
   "source": [
    "#slicing\n",
    "football = ('hazard','lampard','terry')\n",
    "football[0:2]"
   ]
  },
  {
   "cell_type": "code",
   "execution_count": 61,
   "metadata": {},
   "outputs": [
    {
     "data": {
      "text/plain": [
       "('hazard', 'lampard', 'terry', 'dravid', 'ponting', 'johnson')"
      ]
     },
     "execution_count": 61,
     "metadata": {},
     "output_type": "execute_result"
    }
   ],
   "source": [
    "#concatenation\n",
    "football = ('hazard','lampard','terry')\n",
    "cricket = ('dravid','ponting','johnson')\n",
    "foocrick = football + cricket\n",
    "foocrick"
   ]
  },
  {
   "cell_type": "code",
   "execution_count": 62,
   "metadata": {},
   "outputs": [
    {
     "data": {
      "text/plain": [
       "('hazard', 'lampard', 'terry', 'hazard', 'lampard', 'terry')"
      ]
     },
     "execution_count": 62,
     "metadata": {},
     "output_type": "execute_result"
    }
   ],
   "source": [
    "#repetition\n",
    "football = ('hazard','lampard','terry')\n",
    "football *2"
   ]
  },
  {
   "cell_type": "code",
   "execution_count": 203,
   "metadata": {},
   "outputs": [
    {
     "data": {
      "text/plain": [
       "2"
      ]
     },
     "execution_count": 203,
     "metadata": {},
     "output_type": "execute_result"
    }
   ],
   "source": [
    "#count \n",
    "football = ('hazard','lampard','terry','hazard')\n",
    "football.count('hazard')"
   ]
  },
  {
   "cell_type": "code",
   "execution_count": 204,
   "metadata": {},
   "outputs": [
    {
     "data": {
      "text/plain": [
       "4"
      ]
     },
     "execution_count": 204,
     "metadata": {},
     "output_type": "execute_result"
    }
   ],
   "source": [
    "#length\n",
    "football = ('hazard','hazard','lampard','terry')\n",
    "football.__len__()"
   ]
  },
  {
   "cell_type": "code",
   "execution_count": 206,
   "metadata": {},
   "outputs": [
    {
     "data": {
      "text/plain": [
       "'lampard'"
      ]
     },
     "execution_count": 206,
     "metadata": {},
     "output_type": "execute_result"
    }
   ],
   "source": [
    "players = [('hazard','lampard','terry'),('dravid','ponting','johnson')]\n",
    "players[0][1]"
   ]
  },
  {
   "cell_type": "code",
   "execution_count": 209,
   "metadata": {},
   "outputs": [
    {
     "name": "stdout",
     "output_type": "stream",
     "text": [
      "10\n",
      "20\n",
      "[30, 40, 50, 60]\n",
      "70\n"
     ]
    }
   ],
   "source": [
    "a,b,*c,d = (10,20,30,40,50,60,70)\n",
    "print(a)\n",
    "print(b)\n",
    "print(c)\n",
    "print(d)"
   ]
  },
  {
   "cell_type": "code",
   "execution_count": 67,
   "metadata": {},
   "outputs": [
    {
     "name": "stdout",
     "output_type": "stream",
     "text": [
      "1\n",
      "2\n",
      "[20, 30, 40]\n",
      "50\n"
     ]
    }
   ],
   "source": [
    "a,b,_ = (1,2,3) #If we don't want to print c then we can mark that as _\n",
    "\n",
    "print(a)\n",
    "print(b)\n",
    "\n",
    "p,*q,r=(10,20,30,40,50)# all values afterwards will be now under q\n",
    "#print(p)\n",
    "print(q)\n",
    "print(r)"
   ]
  },
  {
   "cell_type": "code",
   "execution_count": null,
   "metadata": {},
   "outputs": [],
   "source": []
  },
  {
   "cell_type": "code",
   "execution_count": null,
   "metadata": {},
   "outputs": [],
   "source": []
  },
  {
   "cell_type": "code",
   "execution_count": null,
   "metadata": {},
   "outputs": [],
   "source": []
  },
  {
   "cell_type": "markdown",
   "metadata": {},
   "source": [
    "# 2. String"
   ]
  },
  {
   "cell_type": "code",
   "execution_count": 68,
   "metadata": {},
   "outputs": [
    {
     "name": "stdout",
     "output_type": "stream",
     "text": [
      "Python for Date Science\n"
     ]
    }
   ],
   "source": [
    "str1 = 'Python'\n",
    "str2 ='for'\n",
    "str3 = 'Date Science'\n",
    "print (str1, str2 ,str3)"
   ]
  },
  {
   "cell_type": "code",
   "execution_count": 69,
   "metadata": {},
   "outputs": [
    {
     "data": {
      "text/plain": [
       "6"
      ]
     },
     "execution_count": 69,
     "metadata": {},
     "output_type": "execute_result"
    }
   ],
   "source": [
    "str1 = 'Python'\n",
    "len(str1)"
   ]
  },
  {
   "cell_type": "code",
   "execution_count": 70,
   "metadata": {},
   "outputs": [
    {
     "data": {
      "text/plain": [
       "9"
      ]
     },
     "execution_count": 70,
     "metadata": {},
     "output_type": "execute_result"
    }
   ],
   "source": [
    "chelsea =  'keep the blue flag flying high'\n",
    "chelsea.index('b')"
   ]
  },
  {
   "cell_type": "code",
   "execution_count": 71,
   "metadata": {},
   "outputs": [
    {
     "data": {
      "text/plain": [
       "2"
      ]
     },
     "execution_count": 71,
     "metadata": {},
     "output_type": "execute_result"
    }
   ],
   "source": [
    "chelsea =  'keep the blue flag flying high'\n",
    "chelsea.count('f')"
   ]
  },
  {
   "cell_type": "code",
   "execution_count": 72,
   "metadata": {},
   "outputs": [
    {
     "data": {
      "text/plain": [
       "'Pto sago agae'"
      ]
     },
     "execution_count": 72,
     "metadata": {},
     "output_type": "execute_result"
    }
   ],
   "source": [
    "#Urgent\n",
    "str2 = 'Python is a good language'\n",
    "str2 [::2] # start, end, with a gap of 2"
   ]
  },
  {
   "cell_type": "code",
   "execution_count": 211,
   "metadata": {},
   "outputs": [],
   "source": [
    "chelsea =  'keep the blue flag flying high'\n",
    "del chelsea #deleted string \n",
    "# print(chelsea)"
   ]
  },
  {
   "cell_type": "code",
   "execution_count": 74,
   "metadata": {},
   "outputs": [
    {
     "name": "stdout",
     "output_type": "stream",
     "text": [
      "Vikas and Vijit are good friends\n"
     ]
    }
   ],
   "source": [
    "print(\"{} and {} are good friends\".format('Vikas','Vijit')) #format method"
   ]
  },
  {
   "cell_type": "code",
   "execution_count": 75,
   "metadata": {},
   "outputs": [
    {
     "name": "stdout",
     "output_type": "stream",
     "text": [
      "Vijit and Vikas are good friends\n"
     ]
    }
   ],
   "source": [
    "print(\"{1} and {0} are good friends\".format('Vikas','Vijit')) #format method"
   ]
  },
  {
   "cell_type": "code",
   "execution_count": 76,
   "metadata": {},
   "outputs": [
    {
     "name": "stdout",
     "output_type": "stream",
     "text": [
      "Vikas and Vijit are good friends\n"
     ]
    }
   ],
   "source": [
    "print(\"{a} and {b} are good friends\".format(a='Vikas',b='Vijit')) #format method"
   ]
  },
  {
   "cell_type": "code",
   "execution_count": 77,
   "metadata": {},
   "outputs": [
    {
     "name": "stdout",
     "output_type": "stream",
     "text": [
      "Hivikas \n",
      " how are you \n"
     ]
    }
   ],
   "source": [
    "print('Hivikas \\n how are you ')"
   ]
  },
  {
   "cell_type": "code",
   "execution_count": 78,
   "metadata": {},
   "outputs": [
    {
     "name": "stdout",
     "output_type": "stream",
     "text": [
      "hi vikas how are you\n",
      "vikas how are you\n",
      "how are you vikas\n"
     ]
    }
   ],
   "source": [
    "character_name = 'vikas' #string variable\n",
    "\n",
    "print('hi ' +character_name+ ' how are you')\n",
    "print( character_name+ ' how are you')\n",
    "print('how are you '+character_name )"
   ]
  },
  {
   "cell_type": "code",
   "execution_count": null,
   "metadata": {},
   "outputs": [],
   "source": []
  },
  {
   "cell_type": "code",
   "execution_count": 79,
   "metadata": {},
   "outputs": [
    {
     "name": "stdout",
     "output_type": "stream",
     "text": [
      "Her name is Angela\n",
      "Her salary is 1000\n"
     ]
    }
   ],
   "source": [
    "print('Her name is %s\\nHer salary is %d'%('Angela',1000))"
   ]
  },
  {
   "cell_type": "code",
   "execution_count": 80,
   "metadata": {},
   "outputs": [
    {
     "name": "stdout",
     "output_type": "stream",
     "text": [
      "KEEP THE BLUE FLAG FLYING HIGH\n",
      "False\n"
     ]
    }
   ],
   "source": [
    "chelsea =  'keep the blue flag flying high'\n",
    "print(chelsea.upper())\n",
    "print(chelsea.isupper())"
   ]
  },
  {
   "cell_type": "code",
   "execution_count": 81,
   "metadata": {},
   "outputs": [
    {
     "data": {
      "text/plain": [
       "'keep the blue flag flying high'"
      ]
     },
     "execution_count": 81,
     "metadata": {},
     "output_type": "execute_result"
    }
   ],
   "source": [
    "chelsea =  'KEEP THE BLUE FLAG FLYING HIGH'\n",
    "chelsea.lower()"
   ]
  },
  {
   "cell_type": "code",
   "execution_count": 82,
   "metadata": {},
   "outputs": [
    {
     "name": "stdout",
     "output_type": "stream",
     "text": [
      "['m', 'a', 'h', 'e', 's', 'h']\n"
     ]
    }
   ],
   "source": [
    "print([i.lower() for i in 'MAHESH'])"
   ]
  },
  {
   "cell_type": "code",
   "execution_count": 84,
   "metadata": {},
   "outputs": [
    {
     "name": "stdout",
     "output_type": "stream",
     "text": [
      "['p', 'R']\n"
     ]
    }
   ],
   "source": [
    "words = ['S', 'r', 'm', 'V', 'p','R' ,'M']\n",
    "print(words[-3:-1])"
   ]
  },
  {
   "cell_type": "code",
   "execution_count": null,
   "metadata": {},
   "outputs": [],
   "source": []
  },
  {
   "cell_type": "code",
   "execution_count": 85,
   "metadata": {},
   "outputs": [
    {
     "name": "stdout",
     "output_type": "stream",
     "text": [
      "This function returns a string which has first letter in each word is uppercase and all remaining letters are lowercase.\n",
      "This Function Returns A String Which Has First Letter In Each Word Is Uppercase And All Remaining Letters Are Lowercase.\n",
      "THIS FUNCTION RETURNS A STRING WHICH HAS FIRST LETTER IN EACH WORD IS UPPERCASE AND ALL REMAINING LETTERS ARE LOWERCASE.\n",
      "this function returns a string which has first letter in each word is uppercase and all remaining letters are lowercase.\n",
      "this function returns a string which has first letter in each word is uppercase and all remaining letters are lowercase.\n"
     ]
    }
   ],
   "source": [
    "#URGENT s.title()\n",
    "name = \"thiS funCtion rEturns A striNg whicH HAS first letter in each word is uppercase and all remaining letters are lowercase.\"\n",
    "print(name.capitalize()) # ONLY first letter of fist word is capitalized\n",
    "print(name.title()) # first letter of all words capitalized\n",
    "print(name.upper()) # All letters are capitalized\n",
    "print(name.lower()) # All letters in lower case\n",
    "print(name.casefold()) # ALL in lower case"
   ]
  },
  {
   "cell_type": "code",
   "execution_count": 86,
   "metadata": {},
   "outputs": [
    {
     "name": "stdout",
     "output_type": "stream",
     "text": [
      "pythonpythonpython\n",
      "pythonpythonpython\n"
     ]
    }
   ],
   "source": [
    "#repetition\n",
    "str_rep =\"python\"\n",
    "print (str_rep*3)\n",
    "print(3*'python') # with digit multiplication as well, string can be displayed that many times"
   ]
  },
  {
   "cell_type": "code",
   "execution_count": 87,
   "metadata": {},
   "outputs": [
    {
     "data": {
      "text/plain": [
       "'keep the blue flag flying high lampard'"
      ]
     },
     "execution_count": 87,
     "metadata": {},
     "output_type": "execute_result"
    }
   ],
   "source": [
    "#Concatenation\n",
    "chelsea =  'keep the blue flag flying high'\n",
    "chelsea + ' lampard'"
   ]
  },
  {
   "cell_type": "code",
   "execution_count": 88,
   "metadata": {},
   "outputs": [
    {
     "name": "stdout",
     "output_type": "stream",
     "text": [
      "Not an element\n"
     ]
    }
   ],
   "source": [
    "#membership\n",
    "chelsea =  'keep the blue flag flying high'\n",
    "if 'z' in chelsea:\n",
    "    print('It is an element')\n",
    "    \n",
    "else:\n",
    "    print('Not an element')"
   ]
  },
  {
   "cell_type": "code",
   "execution_count": 89,
   "metadata": {},
   "outputs": [
    {
     "name": "stdout",
     "output_type": "stream",
     "text": [
      "don't let it be, don't let it be, don't let it be, don't let it be\n"
     ]
    }
   ],
   "source": [
    "song = 'let it be, let it be, let it be, let it be'\n",
    "print(song.replace('let', \"don't let\",-1)) #ALL occurence will be replaced"
   ]
  },
  {
   "cell_type": "code",
   "execution_count": 90,
   "metadata": {},
   "outputs": [
    {
     "name": "stdout",
     "output_type": "stream",
     "text": [
      "don't let it be, don't let it be, let it be, let it be\n"
     ]
    }
   ],
   "source": [
    "song = 'let it be, let it be, let it be, let it be'\n",
    "print(song.replace('let', \"don't let\", 2)) #only two occurences of 'let' is replaced"
   ]
  },
  {
   "cell_type": "code",
   "execution_count": 91,
   "metadata": {},
   "outputs": [
    {
     "name": "stdout",
     "output_type": "stream",
     "text": [
      "V\n",
      "i\n",
      "k\n",
      "a\n",
      "s\n",
      " \n",
      "K\n",
      "u\n",
      "m\n",
      "a\n",
      "r\n"
     ]
    }
   ],
   "source": [
    "#For Loop for a String\n",
    "x = \"Vikas Kumar\"\n",
    "for i in x:\n",
    "    print (i)"
   ]
  },
  {
   "cell_type": "code",
   "execution_count": 92,
   "metadata": {},
   "outputs": [
    {
     "name": "stdout",
     "output_type": "stream",
     "text": [
      "True\n",
      "False\n"
     ]
    }
   ],
   "source": [
    "#isalpha() methods returns “True” if all characters in the string are alphabets, Otherwise, It returns “False”\n",
    "str1 = \"this\"\n",
    "print (str1.isalpha())\n",
    "\n",
    "str2 = \"this is string example....wow!!!\"\n",
    "print (str2.isalpha())"
   ]
  },
  {
   "cell_type": "code",
   "execution_count": 93,
   "metadata": {},
   "outputs": [
    {
     "name": "stdout",
     "output_type": "stream",
     "text": [
      "False\n",
      "True\n"
     ]
    }
   ],
   "source": [
    "#isalnum()- 'is all alphanumeric' method \n",
    "# returns True if all characters in the string are alphanumeric. If not, returns False\n",
    "\n",
    "str1 = \"thi123s@@@\"\n",
    "print(str1.isalnum())\n",
    "\n",
    "str2 = \"thi123s\"\n",
    "print(str2.isalnum())"
   ]
  },
  {
   "cell_type": "code",
   "execution_count": 94,
   "metadata": {},
   "outputs": [
    {
     "data": {
      "text/plain": [
       "True"
      ]
     },
     "execution_count": 94,
     "metadata": {},
     "output_type": "execute_result"
    }
   ],
   "source": [
    "str1 = \"123\"\n",
    "str1.isdigit()"
   ]
  },
  {
   "cell_type": "code",
   "execution_count": 95,
   "metadata": {},
   "outputs": [
    {
     "data": {
      "text/plain": [
       "True"
      ]
     },
     "execution_count": 95,
     "metadata": {},
     "output_type": "execute_result"
    }
   ],
   "source": [
    "str1 = \"this is  boy\"\n",
    "str1.startswith('t')"
   ]
  },
  {
   "cell_type": "code",
   "execution_count": 96,
   "metadata": {},
   "outputs": [
    {
     "data": {
      "text/plain": [
       "True"
      ]
     },
     "execution_count": 96,
     "metadata": {},
     "output_type": "execute_result"
    }
   ],
   "source": [
    "str1 = \"this is  boy3\"\n",
    "str1.endswith('3')"
   ]
  },
  {
   "cell_type": "code",
   "execution_count": 212,
   "metadata": {},
   "outputs": [
    {
     "data": {
      "text/plain": [
       "['python', 'is', 'for', 'Data', 'Science']"
      ]
     },
     "execution_count": 212,
     "metadata": {},
     "output_type": "execute_result"
    }
   ],
   "source": [
    "str1 = 'python is for Data Science'\n",
    "str1.split()"
   ]
  },
  {
   "cell_type": "code",
   "execution_count": null,
   "metadata": {},
   "outputs": [],
   "source": []
  },
  {
   "cell_type": "code",
   "execution_count": 99,
   "metadata": {},
   "outputs": [
    {
     "name": "stdout",
     "output_type": "stream",
     "text": [
      "{'Black', 'White'}\n",
      "{'Green'}\n"
     ]
    }
   ],
   "source": [
    "#Lecture 2:Pg20_Task1_ using .difference()\n",
    "#Write a Python program to print out a set containing all the colors from color_list_1 which are not present in color_list_2:\n",
    "#color_list_1 = set([\"White\", \"Black\", \"Red\"]) color_list_2 = set([\"Red\", \"Green\"])\n",
    "\n",
    "color_list_1 = {'White', 'Black', 'Red'}\n",
    "color_list_2 = {\"Red\", \"Green\"}\n",
    "color_list_3 = color_list_1.difference(color_list_2) # i.e. all from 1, except what is present in 2 \n",
    "print(color_list_3)\n",
    "\n",
    "color_list_4 = color_list_2.difference(color_list_1) # i.e. all from 2, except what is present in 1\n",
    "print(color_list_4)"
   ]
  },
  {
   "cell_type": "code",
   "execution_count": 100,
   "metadata": {},
   "outputs": [
    {
     "name": "stdout",
     "output_type": "stream",
     "text": [
      "this is string example....wow!!!\n"
     ]
    }
   ],
   "source": [
    "#s.strip() returns a copy of the string in which all chars have been stripped from the beginning and the end of the string\n",
    "str = \"0000000this is string example....wow!!!0000000\";\n",
    "print (str.strip( '0' ))"
   ]
  },
  {
   "cell_type": "code",
   "execution_count": 101,
   "metadata": {},
   "outputs": [
    {
     "name": "stdout",
     "output_type": "stream",
     "text": [
      "VVIIKKAASS\n"
     ]
    }
   ],
   "source": [
    "name = 'VIKAS'\n",
    "final ='' # initialize an empty string\n",
    "for i in name:\n",
    "    final+= i*2\n",
    "\n",
    "print(final)"
   ]
  },
  {
   "cell_type": "code",
   "execution_count": 102,
   "metadata": {},
   "outputs": [
    {
     "name": "stdout",
     "output_type": "stream",
     "text": [
      "bytearray(b'Python is interesting.')\n"
     ]
    }
   ],
   "source": [
    "#The bytearray() method returns a bytearray object which is an array of the given bytes.\n",
    "\n",
    "string = \"Python is interesting.\"\n",
    "arr = bytearray(string, 'utf-8') # string with encoding 'utf-8'\n",
    "print(arr)"
   ]
  },
  {
   "cell_type": "code",
   "execution_count": 103,
   "metadata": {},
   "outputs": [
    {
     "name": "stdout",
     "output_type": "stream",
     "text": [
      "b'Python is interesting.'\n"
     ]
    }
   ],
   "source": [
    "#bytes() method returns a bytes object which is an immmutable sequence of integers in the range 0 <=x < 256.\n",
    "string = \"Python is interesting.\"\n",
    "\n",
    "arr = bytes(string, 'utf-8') # string with encoding 'utf-8'\n",
    "print(arr)"
   ]
  },
  {
   "cell_type": "code",
   "execution_count": null,
   "metadata": {},
   "outputs": [],
   "source": []
  },
  {
   "cell_type": "code",
   "execution_count": 104,
   "metadata": {},
   "outputs": [
    {
     "name": "stdout",
     "output_type": "stream",
     "text": [
      "in last 3 years, I have seen 0.10% of 45 lions \n"
     ]
    }
   ],
   "source": [
    "lion = 45\n",
    "print('in last %d years, I have seen %0.2f%% of %d lions '%(3,0.1,lion))"
   ]
  },
  {
   "cell_type": "code",
   "execution_count": 105,
   "metadata": {},
   "outputs": [
    {
     "data": {
      "text/plain": [
       "'Vikas'"
      ]
     },
     "execution_count": 105,
     "metadata": {},
     "output_type": "execute_result"
    }
   ],
   "source": [
    "#If print() function is NOT used then string is shown with single quotes\n",
    "Name = \"Vikas\"\n",
    "Name"
   ]
  },
  {
   "cell_type": "code",
   "execution_count": 106,
   "metadata": {},
   "outputs": [
    {
     "name": "stdout",
     "output_type": "stream",
     "text": [
      "6\n",
      "5\n"
     ]
    }
   ],
   "source": [
    "#Swap 2 variables_1\n",
    "# How will you swap 2 variables without using 3rd variable?\n",
    "a=5\n",
    "b=6\n",
    "\n",
    "a=a+b # a = 5+6 = 11\n",
    "b = a-b # b = 11 -6 = 5\n",
    "a = a-b # a = 11 - 5 = 6\n",
    "print(a)\n",
    "print(b)"
   ]
  },
  {
   "cell_type": "code",
   "execution_count": 107,
   "metadata": {},
   "outputs": [
    {
     "name": "stdout",
     "output_type": "stream",
     "text": [
      "6\n",
      "5\n"
     ]
    }
   ],
   "source": [
    "#Swap 2 variables_2: from above, 11 is of 4 bits. To save one bit, we can use XOR\n",
    "# How will you swap 2 variables without using 3rd variable?\n",
    "a=5\n",
    "b=6\n",
    "\n",
    "a=a^b #5^6 = 3\n",
    "b = a^b #3^6 = 5\n",
    "a = a^b #3^5 = 6\n",
    "\n",
    "print(a)\n",
    "print(b)"
   ]
  },
  {
   "cell_type": "code",
   "execution_count": 108,
   "metadata": {},
   "outputs": [
    {
     "name": "stdout",
     "output_type": "stream",
     "text": [
      "6\n",
      "5\n"
     ]
    }
   ],
   "source": [
    "#Swap 2 variables_3: Rotation of 2 arrays\n",
    "# How will you swap 2 variables without using 3rd variable?\n",
    "a=5\n",
    "b=6\n",
    "\n",
    "a,b = b,a\n",
    "print(a)\n",
    "print(b)"
   ]
  },
  {
   "cell_type": "code",
   "execution_count": 109,
   "metadata": {},
   "outputs": [
    {
     "name": "stdout",
     "output_type": "stream",
     "text": [
      "{'g': 2, 'o': 3, 'l': 1, 'e': 1, '.': 1, 'c': 1, 'm': 1}\n"
     ]
    }
   ],
   "source": [
    "#URGENT 3.Write a Python program to count the number of characters (character frequency) in a string. \n",
    "#Sample String : google.com Expected Result :<'g':2,'o':3,'l':1,'e':1,'.':1,'c':1,'m':1>\n",
    "def char_frequency(str1):\n",
    "    dict = {}\n",
    "    for n in str1:\n",
    "        keys = dict.keys()\n",
    "        if n in keys:\n",
    "            dict[n] += 1\n",
    "        else:\n",
    "            dict[n] = 1\n",
    "    return dict\n",
    "print(char_frequency('google.com'))"
   ]
  },
  {
   "cell_type": "code",
   "execution_count": 110,
   "metadata": {},
   "outputs": [
    {
     "name": "stdout",
     "output_type": "stream",
     "text": [
      "2\n",
      "3\n",
      "1\n",
      "1\n",
      "1\n",
      "1\n"
     ]
    }
   ],
   "source": [
    "#3 3.Write a Python program to count the number of characters (character frequency) in a string. \n",
    "#Sample String : google.com Expected Result :<'g':2,'o':3,'l':1,'e':1,'.':1,'c':1,'m':1>\n",
    "test3 = 'google.com'\n",
    "print(test3.count('g'))\n",
    "print(test3.count('o'))\n",
    "print(test3.count('l'))\n",
    "print(test3.count('e'))\n",
    "print(test3.count('c'))\n",
    "print(test3.count('m'))"
   ]
  },
  {
   "cell_type": "code",
   "execution_count": 112,
   "metadata": {},
   "outputs": [
    {
     "name": "stdout",
     "output_type": "stream",
     "text": [
      "ace\n",
      "pto\n"
     ]
    }
   ],
   "source": [
    "#4.Write a Python program to remove the characters which have odd index values of a given string.\n",
    "#https://www.w3resource.com/python-exercises/string/python-data-type-string-exercise-11.php\n",
    "def odd_values_string(str):\n",
    "  result = \"\" \n",
    "  for i in range(len(str)):\n",
    "    if i % 2 == 0:\n",
    "      result = result + str[i]\n",
    "  return result\n",
    "\n",
    "print(odd_values_string('abcdef'))\n",
    "print(odd_values_string('python'))"
   ]
  },
  {
   "cell_type": "code",
   "execution_count": 113,
   "metadata": {},
   "outputs": [
    {
     "name": "stdout",
     "output_type": "stream",
     "text": [
      "2.0\n"
     ]
    }
   ],
   "source": [
    "#Decorators in Python. Can change the behaviour of existing function at compile time\n",
    "def div(a,b):\n",
    "    print(a/b)\n",
    "\n",
    "def smart_div(func):# function inside a function\n",
    "    def inner(a,b):# same parameter taken\n",
    "        if a<b:\n",
    "            a,b = b,a\n",
    "        return func(a,b)\n",
    "    return inner\n",
    "div_NEW = smart_div(div)   \n",
    "div_NEW(10,20)"
   ]
  },
  {
   "cell_type": "code",
   "execution_count": 114,
   "metadata": {},
   "outputs": [
    {
     "data": {
      "text/plain": [
       "True"
      ]
     },
     "execution_count": 114,
     "metadata": {},
     "output_type": "execute_result"
    }
   ],
   "source": [
    "'hi'>'hI'"
   ]
  },
  {
   "cell_type": "code",
   "execution_count": 115,
   "metadata": {},
   "outputs": [
    {
     "name": "stdout",
     "output_type": "stream",
     "text": [
      "p\n",
      "y\n",
      "t\n",
      "h\n",
      "o\n",
      "n\n"
     ]
    }
   ],
   "source": [
    "#Looping and Counting\n",
    "s= 'python'\n",
    "for char in s[:6]:\n",
    "    print(char)"
   ]
  },
  {
   "cell_type": "code",
   "execution_count": 116,
   "metadata": {},
   "outputs": [
    {
     "data": {
      "text/plain": [
       "5"
      ]
     },
     "execution_count": 116,
     "metadata": {},
     "output_type": "execute_result"
    }
   ],
   "source": [
    "s='TtTtttt'\n",
    "s.count('t')"
   ]
  },
  {
   "cell_type": "code",
   "execution_count": 117,
   "metadata": {},
   "outputs": [
    {
     "name": "stdout",
     "output_type": "stream",
     "text": [
      "7\n",
      "TtTtttt\n"
     ]
    }
   ],
   "source": [
    "s='TtTtttt'\n",
    "print(s.lower().count('t'))\n",
    "print(s)"
   ]
  },
  {
   "cell_type": "code",
   "execution_count": 118,
   "metadata": {},
   "outputs": [
    {
     "data": {
      "text/plain": [
       "False"
      ]
     },
     "execution_count": 118,
     "metadata": {},
     "output_type": "execute_result"
    }
   ],
   "source": [
    "s = 'PYthon for Data Science'\n",
    "'PY' not in s"
   ]
  },
  {
   "cell_type": "code",
   "execution_count": 124,
   "metadata": {},
   "outputs": [
    {
     "data": {
      "text/plain": [
       "4"
      ]
     },
     "execution_count": 124,
     "metadata": {},
     "output_type": "execute_result"
    }
   ],
   "source": [
    "#find(): The find() method returns the lowest index of the substring if it is found in given string. \n",
    "#If its is not found then it returns -1.\n",
    "#syntax: str.find(sub,start,end)\n",
    "em = 'Hello@gmail.com on Sat'\n",
    "em.find('o',0,12)"
   ]
  },
  {
   "cell_type": "code",
   "execution_count": 125,
   "metadata": {},
   "outputs": [
    {
     "name": "stdout",
     "output_type": "stream",
     "text": [
      "-1\n"
     ]
    }
   ],
   "source": [
    "print('simplilearn'.find('z')) #print('simplilearn'.find('ea'))"
   ]
  },
  {
   "cell_type": "code",
   "execution_count": 126,
   "metadata": {},
   "outputs": [
    {
     "data": {
      "text/plain": [
       "'hi'"
      ]
     },
     "execution_count": 126,
     "metadata": {},
     "output_type": "execute_result"
    }
   ],
   "source": [
    "#URGENT \n",
    "s = '   hi    '\n",
    "s.strip() # Removes blank spaces"
   ]
  },
  {
   "cell_type": "code",
   "execution_count": 127,
   "metadata": {},
   "outputs": [
    {
     "data": {
      "text/plain": [
       "True"
      ]
     },
     "execution_count": 127,
     "metadata": {},
     "output_type": "execute_result"
    }
   ],
   "source": [
    "s ='Python'\n",
    "s.startswith('Py')"
   ]
  },
  {
   "cell_type": "code",
   "execution_count": 128,
   "metadata": {},
   "outputs": [
    {
     "data": {
      "text/plain": [
       "True"
      ]
     },
     "execution_count": 128,
     "metadata": {},
     "output_type": "execute_result"
    }
   ],
   "source": [
    "s ='Python'\n",
    "s.endswith('on')"
   ]
  },
  {
   "cell_type": "code",
   "execution_count": 221,
   "metadata": {},
   "outputs": [
    {
     "name": "stdout",
     "output_type": "stream",
     "text": [
      "0.8475\n"
     ]
    }
   ],
   "source": [
    "# Lecrure 3: 1.Take the string 'X-DSPAM-Confidence: 0.8475’ and extract the portion after ‘:’.\n",
    "test = 'X-DSPAM-Confidence: 0.8475'\n",
    "print(test.split(':')[1].split()[0])"
   ]
  },
  {
   "cell_type": "code",
   "execution_count": 130,
   "metadata": {},
   "outputs": [
    {
     "data": {
      "text/plain": [
       "'uct.ac.za'"
      ]
     },
     "execution_count": 130,
     "metadata": {},
     "output_type": "execute_result"
    }
   ],
   "source": [
    "# URGENT 2.From the string “From stephen.marquard@uct.ac.za Sat Jan 5 09:14:16 2008” \n",
    "#pull the second half of the email address i.e. uct.ac.za\n",
    "\n",
    "str = \"From stephen.marquard@uct.ac.za Sat Jan 5 09:14:16 2008\"\n",
    "str.split('@')[-1].split()[0]"
   ]
  },
  {
   "cell_type": "code",
   "execution_count": 131,
   "metadata": {},
   "outputs": [
    {
     "name": "stdout",
     "output_type": "stream",
     "text": [
      "ace\n",
      "pto\n"
     ]
    }
   ],
   "source": [
    "#4 Write a Python program to remove the characters which have odd index values of a given string.\n",
    "def test4(str):\n",
    "  result = \"\" \n",
    "  for i in range(len(str)):\n",
    "    if i % 2 == 0:\n",
    "      result = result + str[i]\n",
    "  return result\n",
    "\n",
    "print(test4('abcdef'))\n",
    "print(test4('python'))"
   ]
  },
  {
   "cell_type": "code",
   "execution_count": 14,
   "metadata": {},
   "outputs": [
    {
     "name": "stdout",
     "output_type": "stream",
     "text": [
      "123456 is Not a Palindrome\n"
     ]
    }
   ],
   "source": [
    "#Palindrome e.g. Madam\n",
    "def pal(num):\n",
    "    x1 = num[::-1] #used to reverse\n",
    "    if x1 == num:\n",
    "        print(num+ \" is Palindrome\")\n",
    "    else:\n",
    "        print(num+ \" is Not a Palindrome\")\n",
    "\n",
    "num = '123456'        \n",
    "pal(num)"
   ]
  },
  {
   "cell_type": "code",
   "execution_count": 16,
   "metadata": {},
   "outputs": [
    {
     "name": "stdout",
     "output_type": "stream",
     "text": [
      "sakiv\n"
     ]
    }
   ],
   "source": [
    "a = 'vikas'#[1,2,3,4,5,6] #'vikas'\n",
    "a = a[::-1]\n",
    "print(a)"
   ]
  },
  {
   "cell_type": "markdown",
   "metadata": {},
   "source": [
    "# 5. Set"
   ]
  },
  {
   "cell_type": "code",
   "execution_count": 134,
   "metadata": {},
   "outputs": [
    {
     "data": {
      "text/plain": [
       "{-2, 0, 8, 22, 31, 34, 76, 98}"
      ]
     },
     "execution_count": 134,
     "metadata": {},
     "output_type": "execute_result"
    }
   ],
   "source": [
    "s = {22,76,31,98,34,8,98,0,-2}\n",
    "s"
   ]
  },
  {
   "cell_type": "code",
   "execution_count": 135,
   "metadata": {},
   "outputs": [
    {
     "name": "stdout",
     "output_type": "stream",
     "text": [
      "The age is: 25\n"
     ]
    }
   ],
   "source": [
    "#globals(): The globals() method returns the dictionary of the current global symbol table.\n",
    "age = 23\n",
    "\n",
    "globals()['age'] = 25\n",
    "print('The age is:', age)"
   ]
  },
  {
   "cell_type": "code",
   "execution_count": null,
   "metadata": {},
   "outputs": [],
   "source": []
  },
  {
   "cell_type": "code",
   "execution_count": 138,
   "metadata": {},
   "outputs": [
    {
     "data": {
      "text/plain": [
       "set"
      ]
     },
     "execution_count": 138,
     "metadata": {},
     "output_type": "execute_result"
    }
   ],
   "source": [
    "integers = {1,2,3,4,5,6,7,5,1,8,4,2,6}\n",
    "type(integers)"
   ]
  },
  {
   "cell_type": "code",
   "execution_count": 139,
   "metadata": {},
   "outputs": [
    {
     "data": {
      "text/plain": [
       "{1, 2, 3, 4, 5, 6, 8}"
      ]
     },
     "execution_count": 139,
     "metadata": {},
     "output_type": "execute_result"
    }
   ],
   "source": [
    "integers = {1,2,3,4,5,6,7,5,1,8,4,2,6}\n",
    "integers.remove(7)\n",
    "integers"
   ]
  },
  {
   "cell_type": "code",
   "execution_count": 140,
   "metadata": {},
   "outputs": [
    {
     "data": {
      "text/plain": [
       "{1, 2, 3, 5, 6, 7, 8}"
      ]
     },
     "execution_count": 140,
     "metadata": {},
     "output_type": "execute_result"
    }
   ],
   "source": [
    "integers = {1,2,3,4,5,6,7,5,1,8,4,2,6}\n",
    "integers.discard(4)\n",
    "integers"
   ]
  },
  {
   "cell_type": "code",
   "execution_count": 141,
   "metadata": {},
   "outputs": [
    {
     "name": "stdout",
     "output_type": "stream",
     "text": [
      "{1, 2, 3, 4, 5, 6, 7, 8, 9}\n"
     ]
    }
   ],
   "source": [
    "integers = {1,2,3,4,5,6,7,5,1,8,4,2,6}\n",
    "real = {6,7,9,1,5}\n",
    "print(integers|real) #union"
   ]
  },
  {
   "cell_type": "code",
   "execution_count": 142,
   "metadata": {},
   "outputs": [
    {
     "name": "stdout",
     "output_type": "stream",
     "text": [
      "{1, 5, 6, 7}\n"
     ]
    }
   ],
   "source": [
    "#intersection\n",
    "integers = {1,2,3,4,5,6,7,5,1,8,4,2,6}\n",
    "real = {6,7,9,1,5}\n",
    "print(integers & real)"
   ]
  },
  {
   "cell_type": "code",
   "execution_count": 143,
   "metadata": {},
   "outputs": [
    {
     "name": "stdout",
     "output_type": "stream",
     "text": [
      "{8, 2, 3, 4}\n"
     ]
    }
   ],
   "source": [
    "#difference\n",
    "integers = {1,2,3,4,5,6,7,5,1,8,4,2,6}\n",
    "real = {6,7,9,1,5}\n",
    "print(integers - real) "
   ]
  },
  {
   "cell_type": "code",
   "execution_count": 144,
   "metadata": {},
   "outputs": [
    {
     "name": "stdout",
     "output_type": "stream",
     "text": [
      "{2, 3, 4, 8, 9}\n"
     ]
    }
   ],
   "source": [
    "#symmetric difference EXOR operation\n",
    "integers = {1,2,3,4,5,6,7,5,1,8,4,2,6}\n",
    "real = {6,7,9,1,5}\n",
    "print(integers ^ real) "
   ]
  },
  {
   "cell_type": "code",
   "execution_count": 145,
   "metadata": {},
   "outputs": [
    {
     "data": {
      "text/plain": [
       "{1, 2, 3, 4, 5, 6, 7, 8}"
      ]
     },
     "execution_count": 145,
     "metadata": {},
     "output_type": "execute_result"
    }
   ],
   "source": [
    "#type conversion from list to set\n",
    "integers = [1,2,3,4,5,6,7,5,1,8,4,2,6]\n",
    "q = set(integers)\n",
    "q"
   ]
  },
  {
   "cell_type": "code",
   "execution_count": 146,
   "metadata": {},
   "outputs": [
    {
     "data": {
      "text/plain": [
       "(1, 2, 3, 4, 5, 6, 7, 5, 1, 8, 4, 2, 6)"
      ]
     },
     "execution_count": 146,
     "metadata": {},
     "output_type": "execute_result"
    }
   ],
   "source": [
    "#type conversion from list to tuple\n",
    "integers = [1,2,3,4,5,6,7,5,1,8,4,2,6]\n",
    "q = tuple(integers)\n",
    "q"
   ]
  },
  {
   "cell_type": "code",
   "execution_count": 147,
   "metadata": {},
   "outputs": [
    {
     "name": "stdout",
     "output_type": "stream",
     "text": [
      "['apple', 'orange', 'pear']\n"
     ]
    }
   ],
   "source": [
    "#Convert Tuple to a List\n",
    "x = ('apple', 'orange', 'pear')\n",
    "y = list(x)\n",
    "# type(x)\n",
    "type(y)\n",
    "print(y)"
   ]
  },
  {
   "cell_type": "code",
   "execution_count": 148,
   "metadata": {},
   "outputs": [
    {
     "data": {
      "text/plain": [
       "{'vikas': 30, 'Gaurav': 21, 'Shaurya': 99, 'Siddhant': 35}"
      ]
     },
     "execution_count": 148,
     "metadata": {},
     "output_type": "execute_result"
    }
   ],
   "source": [
    "#convert list of tuples into dictionary\n",
    "tups = [('vikas',30),('Gaurav',21),('Shaurya',99),('Siddhant',35)]\n",
    "tups\n",
    "dict(tups)"
   ]
  },
  {
   "cell_type": "code",
   "execution_count": 149,
   "metadata": {},
   "outputs": [
    {
     "data": {
      "text/plain": [
       "'vikas'"
      ]
     },
     "execution_count": 149,
     "metadata": {},
     "output_type": "execute_result"
    }
   ],
   "source": [
    "student  = {'name':'vikas','age':35}\n",
    "student[ 'name']"
   ]
  },
  {
   "cell_type": "code",
   "execution_count": 150,
   "metadata": {},
   "outputs": [
    {
     "data": {
      "text/plain": [
       "{'name': 'vikas', 'age': 35, 'gender': 'male'}"
      ]
     },
     "execution_count": 150,
     "metadata": {},
     "output_type": "execute_result"
    }
   ],
   "source": [
    "student  = {'name':'vikas','age':35}\n",
    "student[ 'gender'] = 'male'\n",
    "student"
   ]
  },
  {
   "cell_type": "code",
   "execution_count": 151,
   "metadata": {},
   "outputs": [
    {
     "data": {
      "text/plain": [
       "{'age': 35, 'gender': 35}"
      ]
     },
     "execution_count": 151,
     "metadata": {},
     "output_type": "execute_result"
    }
   ],
   "source": [
    "#delete\n",
    "student  = {'name':'vikas','age':35,'gender':35}\n",
    "student.pop('name')\n",
    "student"
   ]
  },
  {
   "cell_type": "code",
   "execution_count": 152,
   "metadata": {},
   "outputs": [
    {
     "data": {
      "text/plain": [
       "{}"
      ]
     },
     "execution_count": 152,
     "metadata": {},
     "output_type": "execute_result"
    }
   ],
   "source": [
    "#delete\n",
    "student  = {'name':'vikas','age':35,'gender':35}\n",
    "student.clear()\n",
    "student"
   ]
  },
  {
   "cell_type": "code",
   "execution_count": 153,
   "metadata": {},
   "outputs": [
    {
     "name": "stdout",
     "output_type": "stream",
     "text": [
      "('run', 'to move with haste;act quickly')\n",
      "{'person': 'a human being', 'marathon': 'a running race that is about 26 miles', 'resist': 'to remain strong against the force'}\n"
     ]
    }
   ],
   "source": [
    "web_dict = {'person': 'a human being', \n",
    "            'marathon': 'a running race that is about 26 miles', \n",
    "            'resist': 'to remain strong against the force', \n",
    "            'run': 'to move with haste;act quickly'}\n",
    "\n",
    "del_value = web_dict.popitem() # remove an arbitrary item\n",
    "print(del_value)\n",
    "print(web_dict)"
   ]
  },
  {
   "cell_type": "code",
   "execution_count": 154,
   "metadata": {},
   "outputs": [
    {
     "data": {
      "text/plain": [
       "{'name': 'shaurya', 'age': 35, 'gender': 35}"
      ]
     },
     "execution_count": 154,
     "metadata": {},
     "output_type": "execute_result"
    }
   ],
   "source": [
    "#change\n",
    "student  = {'name':'vikas','age':35,'gender':35}\n",
    "student['name'] = 'shaurya'\n",
    "student"
   ]
  },
  {
   "cell_type": "code",
   "execution_count": 155,
   "metadata": {},
   "outputs": [
    {
     "name": "stdout",
     "output_type": "stream",
     "text": [
      "[2, 9, 20, 90] [2, 9, 20, 90]\n"
     ]
    }
   ],
   "source": [
    "x =[2,9]\n",
    "y = x\n",
    "y+=[20,90]\n",
    "print(x,y)"
   ]
  },
  {
   "cell_type": "code",
   "execution_count": 156,
   "metadata": {},
   "outputs": [
    {
     "data": {
      "text/plain": [
       "[3, 5, 8]"
      ]
     },
     "execution_count": 156,
     "metadata": {},
     "output_type": "execute_result"
    }
   ],
   "source": [
    "#Find missing numbers in a sorted list range\n",
    "nums = [1, 2, 4, 6, 7, 9, 10]\n",
    "sorted(set(range(nums[0],nums[-1]))-set(nums))"
   ]
  },
  {
   "cell_type": "markdown",
   "metadata": {},
   "source": [
    "# 6. Dictionary"
   ]
  },
  {
   "cell_type": "code",
   "execution_count": 157,
   "metadata": {},
   "outputs": [
    {
     "name": "stdout",
     "output_type": "stream",
     "text": [
      "Keys are: dict_keys(['1', '2', '3'])\n",
      "Values:  dict_values(['Vikas', 'Shaurya', 'Bunny'])\n",
      "Vikas\n",
      "Shaurya\n",
      "Shaurya\n"
     ]
    }
   ],
   "source": [
    "#Dictionary : dict()\n",
    "d={'1':'Vikas','2': 'Shaurya','3':'Bunny'}\n",
    "print('Keys are:', d.keys())\n",
    "print('Values: ', d.values())\n",
    "print(d['1'])\n",
    "print(d.get('2','Not a valid key'))\n",
    "print(d.get('2'))"
   ]
  },
  {
   "cell_type": "code",
   "execution_count": 158,
   "metadata": {},
   "outputs": [
    {
     "name": "stdout",
     "output_type": "stream",
     "text": [
      "{'brand': 'Honda', 'model': 'Civic', 'year': 1995}\n"
     ]
    }
   ],
   "source": [
    "new_dict = {'brand': 'Honda',  'model': 'Civic', 'year': 1995}\n",
    "print(new_dict)"
   ]
  },
  {
   "cell_type": "code",
   "execution_count": 159,
   "metadata": {},
   "outputs": [
    {
     "name": "stdout",
     "output_type": "stream",
     "text": [
      "brand\n",
      "model\n",
      "year\n"
     ]
    }
   ],
   "source": [
    "# new_dict.keys()\n",
    "new_dict = {'brand': 'Honda',  'model': 'Civic', 'year': 1995}\n",
    "for x in new_dict:\n",
    "    print(x)"
   ]
  },
  {
   "cell_type": "code",
   "execution_count": 160,
   "metadata": {},
   "outputs": [
    {
     "name": "stdout",
     "output_type": "stream",
     "text": [
      "Honda\n",
      "Civic\n",
      "1995\n"
     ]
    }
   ],
   "source": [
    "# new_dict.values()\n",
    "new_dict = {'brand': 'Honda',  'model': 'Civic', 'year': 1995}\n",
    "for x in new_dict:\n",
    "    print(new_dict[x])"
   ]
  },
  {
   "cell_type": "code",
   "execution_count": 161,
   "metadata": {},
   "outputs": [
    {
     "name": "stdout",
     "output_type": "stream",
     "text": [
      "brand Honda\n",
      "model Civic\n",
      "year 1995\n"
     ]
    }
   ],
   "source": [
    "#new_dict.items()\n",
    "for x, y in new_dict.items():\n",
    "    print(x, y)"
   ]
  },
  {
   "cell_type": "code",
   "execution_count": 162,
   "metadata": {},
   "outputs": [
    {
     "data": {
      "text/plain": [
       "{'brand': 'Honda', 'model': 'Civic', 'year': 2020}"
      ]
     },
     "execution_count": 162,
     "metadata": {},
     "output_type": "execute_result"
    }
   ],
   "source": [
    "#Change Item Value\n",
    "new_dict['year'] = 2020\n",
    "new_dict"
   ]
  },
  {
   "cell_type": "code",
   "execution_count": 163,
   "metadata": {},
   "outputs": [
    {
     "name": "stdout",
     "output_type": "stream",
     "text": [
      "18\n",
      "18\n",
      "24\n",
      "32\n"
     ]
    }
   ],
   "source": [
    "#Use the Filter() function to exclude items in an iterable object (lists, tuples, dictionaries, etc)\n",
    "ages = [5, 18, 12, 17, 18, 24, 32]\n",
    "def myFunc(x):\n",
    "    if x < 18:\n",
    "        return False\n",
    "    else:\n",
    "        return True\n",
    "adults = filter(myFunc, ages)\n",
    "for x in adults:\n",
    "    print(x)"
   ]
  },
  {
   "cell_type": "code",
   "execution_count": 164,
   "metadata": {},
   "outputs": [
    {
     "name": "stdout",
     "output_type": "stream",
     "text": [
      "Empty Dictionary: \n",
      "{}\n",
      "\n",
      "Dictionary with the use of Integer Keys: \n",
      "{1: 'Geeks', 2: 'For', 3: 'Geeks'}\n",
      "\n",
      "Dictionary with the use of Mixed Keys: \n",
      "{'Name': 'Geeks', 1: [1, 2, 3, 4]}\n",
      "\n",
      "Dictionary with the use of dict(): \n",
      "{1: 'Geeks', 2: 'For', 3: 'Geeks'}\n",
      "\n",
      "Dictionary with each item as a pair: \n",
      "{1: 'Geeks', 2: 'For'}\n"
     ]
    }
   ],
   "source": [
    "# Creating an empty Dictionary \n",
    "Dict = {} \n",
    "print(\"Empty Dictionary: \") \n",
    "print(Dict) \n",
    "  \n",
    "# Creating a Dictionary  \n",
    "# with Integer Keys \n",
    "Dict = {1: 'Geeks', 2: 'For', 3: 'Geeks'} \n",
    "print(\"\\nDictionary with the use of Integer Keys: \") \n",
    "print(Dict) \n",
    "  \n",
    "# Creating a Dictionary  \n",
    "# with Mixed keys \n",
    "Dict = {'Name': 'Geeks', 1: [1, 2, 3, 4]} \n",
    "print(\"\\nDictionary with the use of Mixed Keys: \") \n",
    "print(Dict) \n",
    "  \n",
    "# Creating a Dictionary \n",
    "# with dict() method \n",
    "Dict = dict({1: 'Geeks', 2: 'For', 3:'Geeks'}) \n",
    "print(\"\\nDictionary with the use of dict(): \") \n",
    "print(Dict) \n",
    "  \n",
    "# Creating a Dictionary \n",
    "# with each item as a Pair \n",
    "Dict = dict([(1, 'Geeks'), (2, 'For')]) \n",
    "print(\"\\nDictionary with each item as a pair: \") \n",
    "print(Dict) "
   ]
  },
  {
   "cell_type": "code",
   "execution_count": 165,
   "metadata": {},
   "outputs": [
    {
     "data": {
      "text/plain": [
       "600"
      ]
     },
     "execution_count": 165,
     "metadata": {},
     "output_type": "execute_result"
    }
   ],
   "source": [
    "d={1:100,2:200,3:300}\n",
    "sum(d.values())"
   ]
  },
  {
   "cell_type": "code",
   "execution_count": 166,
   "metadata": {},
   "outputs": [
    {
     "data": {
      "text/plain": [
       "300"
      ]
     },
     "execution_count": 166,
     "metadata": {},
     "output_type": "execute_result"
    }
   ],
   "source": [
    "d={1:100,2:200,3:300}\n",
    "max(d.values())"
   ]
  },
  {
   "cell_type": "code",
   "execution_count": 167,
   "metadata": {},
   "outputs": [
    {
     "data": {
      "text/plain": [
       "100"
      ]
     },
     "execution_count": 167,
     "metadata": {},
     "output_type": "execute_result"
    }
   ],
   "source": [
    "d={1:100,2:200,3:300}\n",
    "min(d.values())"
   ]
  },
  {
   "cell_type": "code",
   "execution_count": null,
   "metadata": {},
   "outputs": [],
   "source": []
  },
  {
   "cell_type": "code",
   "execution_count": 168,
   "metadata": {},
   "outputs": [
    {
     "name": "stdout",
     "output_type": "stream",
     "text": [
      "50\n",
      "30\n",
      "10\n",
      "40\n",
      "10\n",
      "20\n",
      "30\n",
      "40\n",
      "50\n"
     ]
    }
   ],
   "source": [
    "my_list = [50,30,10,40,10,20,30,40,50]\n",
    "for i in my_list:\n",
    "    print(i)"
   ]
  },
  {
   "cell_type": "code",
   "execution_count": 169,
   "metadata": {},
   "outputs": [
    {
     "name": "stdout",
     "output_type": "stream",
     "text": [
      "50\n",
      "30\n",
      "10\n",
      "40\n",
      "10\n",
      "20\n",
      "30\n",
      "40\n",
      "50\n"
     ]
    }
   ],
   "source": [
    "my_tup = (50,30,10,40,10,20,30,40,50)\n",
    "for i in my_tup:\n",
    "    print(i)"
   ]
  },
  {
   "cell_type": "code",
   "execution_count": 170,
   "metadata": {},
   "outputs": [
    {
     "name": "stdout",
     "output_type": "stream",
     "text": [
      "50\n",
      "20\n",
      "40\n",
      "10\n",
      "30\n"
     ]
    }
   ],
   "source": [
    "my_set = {50,30,10,40,10,20,30,40,50}\n",
    "for i in my_set:\n",
    "    print(i)"
   ]
  },
  {
   "cell_type": "code",
   "execution_count": 171,
   "metadata": {},
   "outputs": [],
   "source": [
    "# set1 = {1,7,3}\n",
    "# set2 = {2,6,0}\n",
    "# print(len(set1 +set2)) # sould give an error"
   ]
  },
  {
   "cell_type": "code",
   "execution_count": 172,
   "metadata": {},
   "outputs": [
    {
     "name": "stdout",
     "output_type": "stream",
     "text": [
      "My name is:  Vikas\n",
      "My rollnum is:  27\n",
      "My class is:  3\n",
      "My Section is:  Sirius\n"
     ]
    }
   ],
   "source": [
    "#IMP\n",
    "my_dict = {'name':'Vikas','rollnum':'27','class': '3','Section':'Sirius'}\n",
    "for key,val in my_dict.items():\n",
    "    print('My {} is:  {}'.format(key,val))"
   ]
  },
  {
   "cell_type": "code",
   "execution_count": 1,
   "metadata": {},
   "outputs": [
    {
     "name": "stdout",
     "output_type": "stream",
     "text": [
      "Original Dictionary:  {1: 34, 2: 45, 3: 23, 4: 2, 5: 78, 6: 56}\n",
      "sorted dictionary ascending:  [(4, 2), (3, 23), (1, 34), (2, 45), (6, 56), (5, 78)]\n",
      "sorted dictionary descending: [(5, 78), (6, 56), (2, 45), (1, 34), (3, 23), (4, 2)]\n"
     ]
    }
   ],
   "source": [
    "#Lecture 4: Page9: 1.Write a Python script to sort (ascending and descending) a dictionary by value\n",
    "import operator\n",
    "d = {1:34,2:45,3:23,4:2,5:78,6:56}\n",
    "print('Original Dictionary: ', d)\n",
    "\n",
    "d1 = sorted(d.items(), key=operator.itemgetter(1))\n",
    "print('sorted dictionary ascending: ', d1)\n",
    "\n",
    "d2 = sorted(d.items(), key=operator.itemgetter(1), reverse=True)\n",
    "#print('sorted dictionary ascending: ', d1 )\n",
    "print('sorted dictionary descending:' ,d2)"
   ]
  },
  {
   "cell_type": "code",
   "execution_count": 2,
   "metadata": {},
   "outputs": [
    {
     "name": "stdout",
     "output_type": "stream",
     "text": [
      "Original Dictionary:  {1: 34, 2: 45, 3: 23, 4: 2, 5: 78, 6: 56}\n",
      "After addition: Original Dictionary:  {1: 34, 2: 45, 3: 23, 4: 2, 5: 78, 6: 56, 7: 888}\n",
      "After addition: sorted dictionary ascending:  [(4, 2), (3, 23), (1, 34), (2, 45), (6, 56), (5, 78), (7, 888)]\n",
      "After addition: sorted dictionary descending: [(7, 888), (5, 78), (6, 56), (2, 45), (1, 34), (3, 23), (4, 2)]\n"
     ]
    }
   ],
   "source": [
    "#Lecture 4:  Page9: 2. Write a Python script to add a key to a dictionary.\n",
    "#Sample Dictionary : {0: 10, 1: 20}\n",
    "#Expected Result : {0: 10, 1: 20, 2: 30}\n",
    "    \n",
    "import operator\n",
    "d = {1:34,2:45,3:23,4:2,5:78,6:56}\n",
    "print('Original Dictionary: ', d)\n",
    "\n",
    "d[7]=888\n",
    "print('After addition: Original Dictionary: ', d)\n",
    "\n",
    "\n",
    "d1 = sorted(d.items(), key=operator.itemgetter(1))\n",
    "print('After addition: sorted dictionary ascending: ', d1)\n",
    "\n",
    "d2 = sorted(d.items(), key=operator.itemgetter(1), reverse=True)\n",
    "#print('sorted dictionary ascending: ', d1 )\n",
    "print('After addition: sorted dictionary descending:' ,d2)"
   ]
  },
  {
   "cell_type": "code",
   "execution_count": 3,
   "metadata": {},
   "outputs": [
    {
     "name": "stdout",
     "output_type": "stream",
     "text": [
      "Original Dictionary 1:  {1: 10, 2: 20}\n",
      "Original Dictionary 2:  {3: 30, 4: 40}\n",
      "Original Dictionary 3 :  {5: 50, 6: 60}\n",
      "Final Dictionary is : {1: 10, 2: 20, 3: 30, 4: 40, 5: 50, 6: 60}\n",
      "Original Dictionary 1 is still:  {1: 10, 2: 20}\n",
      "Original Dictionary 2 is still:  {3: 30, 4: 40}\n",
      "Original Dictionary 3 is still:  {5: 50, 6: 60}\n"
     ]
    }
   ],
   "source": [
    "#BEST\n",
    "#Lecture 4:  Page9: 3. Write a Python script to concatenate following dictionaries to create a new one.\n",
    "#Sample Dictionary : dic1={1:10, 2:20} ; dic2={3:30, 4:40} ; dic3={5:50,6:60}\n",
    "#Expected Result : {1: 10, 2: 20, 3: 30, 4: 40, 5: 50, 6: 60}\n",
    "\n",
    "import operator\n",
    "d1 = {1:10,2:20}\n",
    "print('Original Dictionary 1: ', d1)\n",
    "\n",
    "d2 = {3:30,4:40}\n",
    "print('Original Dictionary 2: ', d2)\n",
    "\n",
    "d3 = {5:50,6:60}\n",
    "print('Original Dictionary 3 : ', d3)\n",
    "\n",
    "D = {**d1, **d2,**d3}\n",
    "print(\"Final Dictionary is :\" , D)#ORIGINALITY is \"retained\" with d1, d2 and d3 values\n",
    "print('Original Dictionary 1 is still: ', d1)\n",
    "print('Original Dictionary 2 is still: ', d2)\n",
    "print('Original Dictionary 3 is still: ', d3)"
   ]
  },
  {
   "cell_type": "code",
   "execution_count": 4,
   "metadata": {},
   "outputs": [
    {
     "name": "stdout",
     "output_type": "stream",
     "text": [
      "Original Dictionary 1:  {1: 10, 2: 20}\n",
      "Original Dictionary 2:  {3: 30, 4: 40}\n",
      "Original Dictionary 3:  {5: 50, 6: 60}\n",
      "Final Dictionary is:  {1: 10, 2: 20, 3: 30, 4: 40, 5: 50, 6: 60}\n",
      "Original Dictionary 1 is now :  {1: 10, 2: 20, 3: 30, 4: 40, 5: 50, 6: 60}\n",
      "Original Dictionary 2 is now :  {3: 30, 4: 40, 5: 50, 6: 60}\n",
      "Original Dictionary 3 is now :  {5: 50, 6: 60}\n"
     ]
    }
   ],
   "source": [
    "#Lecture 4:  Page9: 3. Write a Python script to concatenate following dictionaries to create a new one.\n",
    "#Sample Dictionary : dic1={1:10, 2:20} ; dic2={3:30, 4:40} ; dic3={5:50,6:60}\n",
    "#Expected Result : {1: 10, 2: 20, 3: 30, 4: 40, 5: 50, 6: 60}\n",
    "\n",
    "import operator\n",
    "d1 = {1:10,2:20}\n",
    "print('Original Dictionary 1: ', d1)\n",
    "\n",
    "d2 = {3:30,4:40}\n",
    "print('Original Dictionary 2: ', d2)\n",
    "\n",
    "d3 = {5:50,6:60}\n",
    "print('Original Dictionary 3: ', d3)\n",
    "\n",
    "d2.update(d3)# Now d2 is updated with d3 value\n",
    "\n",
    "d1.update(d2) # Now d1 is updated with d2 value\n",
    "print(\"Final Dictionary is: \" ,d1) # Originality is LOST i.e d1 and d2 has now been appended\n",
    "print('Original Dictionary 1 is now : ', d1)\n",
    "print('Original Dictionary 2 is now : ', d2)\n",
    "print('Original Dictionary 3 is now : ', d3)"
   ]
  },
  {
   "cell_type": "code",
   "execution_count": 5,
   "metadata": {},
   "outputs": [
    {
     "name": "stdout",
     "output_type": "stream",
     "text": [
      "Original Dictionary 1:  {1: 10, 2: 20}\n",
      "Original Dictionary 2:  {3: 30, 4: 40}\n",
      "Original Dictionary 3:  {5: 50, 6: 60}\n",
      "Final Dictionary is:  {1: 10, 2: 20, 3: 30, 4: 40, 5: 50, 6: 60}\n",
      "Original Dictionary 1 is still:  {1: 10, 2: 20}\n",
      "Original Dictionary 2 is still:  {3: 30, 4: 40}\n",
      "Original Dictionary 3 is still:  {5: 50, 6: 60}\n"
     ]
    }
   ],
   "source": [
    "#Lecture 4:  Page9: 3. Write a Python script to concatenate following dictionaries to create a new one.\n",
    "#Sample Dictionary : dic1={1:10, 2:20} ; dic2={3:30, 4:40} ; dic3={5:50,6:60}\n",
    "#Expected Result : {1: 10, 2: 20, 3: 30, 4: 40, 5: 50, 6: 60}\n",
    "\n",
    "import operator\n",
    "d1 = {1:10,2:20}\n",
    "print('Original Dictionary 1: ', d1)\n",
    "\n",
    "d2 = {3:30,4:40}\n",
    "print('Original Dictionary 2: ', d2)\n",
    "\n",
    "d3 = {5:50,6:60}\n",
    "print('Original Dictionary 3: ', d3)\n",
    "\n",
    "temp= d1.copy()\n",
    "temp.update(d2)\n",
    "\n",
    "z= temp.copy()\n",
    "z.update(d3)\n",
    "\n",
    "print(\"Final Dictionary is: \" ,z)\n",
    "print('Original Dictionary 1 is still: ', d1)\n",
    "print('Original Dictionary 2 is still: ', d2)\n",
    "print('Original Dictionary 3 is still: ', d3)"
   ]
  },
  {
   "cell_type": "code",
   "execution_count": 6,
   "metadata": {},
   "outputs": [
    {
     "name": "stdout",
     "output_type": "stream",
     "text": [
      "enter lenght of dictionary10\n",
      "{1: 1, 2: 4, 3: 9, 4: 16, 5: 25, 6: 36, 7: 49, 8: 64, 9: 81, 10: 100}\n"
     ]
    }
   ],
   "source": [
    "#4.Write a Python script to generate and print a dictionary that contains a number (between 1 and n) in the form (x, x*x).\n",
    "#Sample Dictionary ( n = 5) :\n",
    "#Expected Output : {1: 1, 2: 4, 3: 9, 4: 16, 5: 25}\n",
    "\n",
    "it = int(input(\"enter lenght of dictionary\"))\n",
    "d ={}\n",
    "for i in range(1,it+1):\n",
    "    d[i] = i*i\n",
    "\n",
    "print(d)"
   ]
  },
  {
   "cell_type": "code",
   "execution_count": 7,
   "metadata": {},
   "outputs": [
    {
     "name": "stdout",
     "output_type": "stream",
     "text": [
      "Original Dictionary:  {1: 10, 2: 20}\n",
      "{1: 1, 2: 4, 3: 9, 4: 16, 5: 25, 6: 36, 7: 49, 8: 64, 9: 81, 10: 100}\n"
     ]
    }
   ],
   "source": [
    "# 5. Write a Python program to multiply all the items in a dictionary (keys and values separately).\n",
    "# d={1: 1, 2: 4, 3: `9, 4: 16, 5: 25, 6: 36, 7: 49, 8: 64, 9: 81, 10: 100}\n",
    "\n",
    "import operator\n",
    "d1 = {1:10,2:20}\n",
    "print('Original Dictionary: ', d1)\n",
    "\n",
    "d1=dict()\n",
    "for x in range(1,11):\n",
    "        d1[x]=x**2\n",
    "print(d1)"
   ]
  },
  {
   "cell_type": "code",
   "execution_count": 8,
   "metadata": {},
   "outputs": [
    {
     "name": "stdout",
     "output_type": "stream",
     "text": [
      "Appended dictionary is:  {1: 10, 2: 20, 3: 30, 4: 40}\n"
     ]
    }
   ],
   "source": [
    "#5:\n",
    "dict1 = {1:10,2:20}\n",
    "dict2 = {3:30,4:40}\n",
    "\n",
    "d={}\n",
    "{d.update(i) for i in (dict1,dict2) }\n",
    "\n",
    "print('Appended dictionary is: ', d)"
   ]
  },
  {
   "cell_type": "code",
   "execution_count": 9,
   "metadata": {},
   "outputs": [
    {
     "name": "stdout",
     "output_type": "stream",
     "text": [
      "{'Tim': 18, 'Charlie': 12, 'Tiffany': 22, 'Robert': 25, 'Sarah': 9}\n"
     ]
    }
   ],
   "source": [
    "Dict = {'Tim': 18,'Charlie':12,'Tiffany':22,'Robert':25}\n",
    "Dict.update({\"Sarah\":9})\n",
    "print(Dict)"
   ]
  },
  {
   "cell_type": "code",
   "execution_count": 10,
   "metadata": {},
   "outputs": [
    {
     "name": "stdout",
     "output_type": "stream",
     "text": [
      "Vikas\n",
      "['Maths', 'Science']\n"
     ]
    }
   ],
   "source": [
    "student = {'name': 'Vikas', 'age': 33, 'gender': 'Male','courses':['Maths', 'Science']}\n",
    "print(student['name'])\n",
    "print(student['courses'])"
   ]
  },
  {
   "cell_type": "code",
   "execution_count": 11,
   "metadata": {},
   "outputs": [
    {
     "name": "stdout",
     "output_type": "stream",
     "text": [
      "Vikas\n",
      "33\n"
     ]
    }
   ],
   "source": [
    "student = {1: 'Vikas', 'age': 33, 'gender': 'Male','courses':['Maths', 'Science']}\n",
    "print(student[1])\n",
    "print(student.get('age'))"
   ]
  },
  {
   "cell_type": "code",
   "execution_count": 12,
   "metadata": {},
   "outputs": [
    {
     "name": "stdout",
     "output_type": "stream",
     "text": [
      "None\n"
     ]
    }
   ],
   "source": [
    "student = {1: 'Vikas', 'age': 33, 'gender': 'Male','courses':['Maths', 'Science']}\n",
    "print(student.get('phone'))# as phone is not added, retun \"None\" as a value"
   ]
  },
  {
   "cell_type": "code",
   "execution_count": 13,
   "metadata": {},
   "outputs": [
    {
     "name": "stdout",
     "output_type": "stream",
     "text": [
      "Not found\n"
     ]
    }
   ],
   "source": [
    "student = {1: 'Vikas', 'age': 33, 'gender': 'Male','courses':['Maths', 'Science']}\n",
    "print(student.get('phone', 'Not found'))# as phone is not added, retun \"None\" as a value"
   ]
  },
  {
   "cell_type": "code",
   "execution_count": 14,
   "metadata": {},
   "outputs": [
    {
     "name": "stdout",
     "output_type": "stream",
     "text": [
      "{1: 'Vikas', 'age': 33, 'gender': 'female', 'courses': ['Maths', 'Science'], 'phone': '555-5555'}\n"
     ]
    }
   ],
   "source": [
    "student = {1: 'Vikas', 'age': 33, 'gender': 'Male','courses':['Maths', 'Science']}\n",
    "student['phone'] = '555-5555'\n",
    "student['gender'] = 'female'\n",
    "print(student)"
   ]
  },
  {
   "cell_type": "code",
   "execution_count": 15,
   "metadata": {},
   "outputs": [
    {
     "name": "stdout",
     "output_type": "stream",
     "text": [
      "{1: 'Kusum', 'age': 99, 'gender': 'female', 'courses': ['Maths', 'Science']}\n"
     ]
    }
   ],
   "source": [
    "student = {1: 'Vikas', 'age': 33, 'gender': 'Male','courses':['Maths', 'Science']}\n",
    "student[1] = 'Kusum'\n",
    "student['age'] = 99\n",
    "student['gender'] = 'female'\n",
    "\n",
    "print(student)"
   ]
  },
  {
   "cell_type": "code",
   "execution_count": 16,
   "metadata": {},
   "outputs": [
    {
     "name": "stdout",
     "output_type": "stream",
     "text": [
      "['How', 'much', 'wood', 'could', 'a', 'woodchuck', 'chuck', 'if', 'a', 'woodchuck', 'could', 'chuck', 'wood?', 'A', 'woodchuck', 'you', 'say?', 'Not', 'much', 'if', 'the', 'wood', 'were', 'mahogany']\n",
      "{'How': 1, 'much': 2, 'wood': 2, 'could': 2, 'a': 2, 'woodchuck': 3, 'chuck': 2, 'if': 2, 'wood?': 1, 'A': 1, 'you': 1, 'say?': 1, 'Not': 1, 'the': 1, 'were': 1, 'mahogany': 1}\n"
     ]
    },
    {
     "data": {
      "text/plain": [
       "[('woodchuck', 3),\n",
       " ('much', 2),\n",
       " ('wood', 2),\n",
       " ('could', 2),\n",
       " ('a', 2),\n",
       " ('chuck', 2),\n",
       " ('if', 2),\n",
       " ('How', 1),\n",
       " ('wood?', 1),\n",
       " ('A', 1),\n",
       " ('you', 1),\n",
       " ('say?', 1),\n",
       " ('Not', 1),\n",
       " ('the', 1),\n",
       " ('were', 1),\n",
       " ('mahogany', 1)]"
      ]
     },
     "execution_count": 16,
     "metadata": {},
     "output_type": "execute_result"
    }
   ],
   "source": [
    "#from the sentence sort the occurence of words\n",
    "counts =dict()\n",
    "\n",
    "mystr = \"How much wood could a woodchuck chuck if a woodchuck could chuck wood? A woodchuck you say? Not much if the wood were mahogany\"\n",
    "str_tup = mystr.split()\n",
    "\n",
    "print(str_tup)\n",
    "\n",
    "for word in str_tup:\n",
    "        counts.update({word:str_tup.count(word)})\n",
    "        \n",
    "print (counts)\n",
    "sorted(counts.items(),key = lambda k:k[1],reverse=True)   "
   ]
  },
  {
   "cell_type": "code",
   "execution_count": 17,
   "metadata": {},
   "outputs": [
    {
     "name": "stdout",
     "output_type": "stream",
     "text": [
      "[(11, 1), (12, 2), (13, 3), (14, 4)]\n"
     ]
    }
   ],
   "source": [
    "a=11,12,13,14\n",
    "b=1,2,3,4\n",
    "c=list(zip(a,b))\n",
    "print(c)"
   ]
  },
  {
   "cell_type": "code",
   "execution_count": 18,
   "metadata": {},
   "outputs": [
    {
     "name": "stdout",
     "output_type": "stream",
     "text": [
      "[(1, 'one'), (2, 'two'), (3, 'three')]\n",
      "{(1, 'one'), (3, 'three'), (2, 'two')}\n"
     ]
    }
   ],
   "source": [
    "numberList = [1, 2, 3]\n",
    "strList = ['one', 'two', 'three']\n",
    "\n",
    "result_list= list(zip(numberList, strList))# Converting itertor to list\n",
    "print(result_list)\n",
    "\n",
    "resultSet = set(zip(numberList, strList)) # Converting itertor to set\n",
    "print(resultSet)"
   ]
  },
  {
   "cell_type": "code",
   "execution_count": 19,
   "metadata": {},
   "outputs": [
    {
     "data": {
      "text/plain": [
       "(11, 12)"
      ]
     },
     "execution_count": 19,
     "metadata": {},
     "output_type": "execute_result"
    }
   ],
   "source": [
    "a=11,12,13,14\n",
    "a[0:2]"
   ]
  },
  {
   "cell_type": "code",
   "execution_count": 49,
   "metadata": {},
   "outputs": [
    {
     "name": "stdout",
     "output_type": "stream",
     "text": [
      "[(10, 20, 100), (40, 50, 100), (70, 80, 100)]\n"
     ]
    }
   ],
   "source": [
    "#Page:13: 1.Write a Python program to replace last value of tuples in a list. \n",
    "l=[(10, 20, 40), (40, 50, 60), (70, 80, 90)]\n",
    "for item in l:\n",
    "    tup=item[:-1]+(100,)\n",
    "    l[l.index(item)]=tup\n",
    "print(l)"
   ]
  },
  {
   "cell_type": "code",
   "execution_count": 57,
   "metadata": {},
   "outputs": [
    {
     "data": {
      "text/plain": [
       "[(2, 1), (1, 2), (2, 3), (4, 4), (2, 5)]"
      ]
     },
     "execution_count": 57,
     "metadata": {},
     "output_type": "execute_result"
    }
   ],
   "source": [
    "#Write a Python program to get a list, \n",
    "#sorted in increasing order by the last element in each tuple from a given list of non-empty tuples\n",
    "l_sample = [(2, 5), (1, 2), (4, 4), (2, 3), (2, 1)]\n",
    "def sort_custom(input_list):\n",
    "    return sorted(input_list, key=lambda x : x[1])\n",
    "sort_custom(l_sample)"
   ]
  },
  {
   "cell_type": "code",
   "execution_count": 21,
   "metadata": {},
   "outputs": [
    {
     "name": "stdout",
     "output_type": "stream",
     "text": [
      "[(10, 'a'), (1, 'b'), (22, 'c')]\n"
     ]
    }
   ],
   "source": [
    "#Incorrect\n",
    "#Page13: 2.Write a Python program to convert a given dictionary to a list of key-value tuples\n",
    "#Sample dict: {‘a’:10, ‘b’:1, ‘c’:22} Expected Output: [(10, ‘a’), (1,’b’), (22,’c’)]\n",
    "dict = {'a':10, 'b':1, 'c':22}\n",
    "\n",
    "dict1=dict.values()\n",
    "dict2= dict.keys()\n",
    "\n",
    "dict_list= list(zip(dict1, dict2))\n",
    "print(dict_list)"
   ]
  },
  {
   "cell_type": "code",
   "execution_count": 22,
   "metadata": {},
   "outputs": [
    {
     "data": {
      "text/plain": [
       "[(10, 1), (20, 2), (30, 3), (40, 4)]"
      ]
     },
     "execution_count": 22,
     "metadata": {},
     "output_type": "execute_result"
    }
   ],
   "source": [
    "#Incorrect\n",
    "#Page13: 2.Write a Python program to convert a given dictionary to a list of key-value tuples\n",
    "#Sample dict: {‘a’:10, ‘b’:1, ‘c’:22} Expected Output: [(10, ‘a’), (1,’b’), (22,’c’)]\n",
    "sampledict = {'a':10, 'b':1, 'c':22}\n",
    "[tuple(reversed(sampledict)) for sampledict in d.items()]"
   ]
  },
  {
   "cell_type": "code",
   "execution_count": 23,
   "metadata": {},
   "outputs": [
    {
     "data": {
      "text/plain": [
       "[(10, 'a'), (1, 'b'), (22, 'c')]"
      ]
     },
     "execution_count": 23,
     "metadata": {},
     "output_type": "execute_result"
    }
   ],
   "source": [
    "#Page13: 2.Write a Python program to convert a given dictionary to a list of key-value tuples\n",
    "#Sample dict: {‘a’:10, ‘b’:1, ‘c’:22} Expected Output: [(10, ‘a’), (1,’b’), (22,’c’)]\n",
    "d = {'a':10, 'b':1, 'c':22}\n",
    "l = list()\n",
    "for key, val in d.items() :\n",
    "    l.append( (val, key) )\n",
    "l"
   ]
  },
  {
   "cell_type": "code",
   "execution_count": 24,
   "metadata": {},
   "outputs": [
    {
     "data": {
      "text/plain": [
       "[(22, 'c'), (10, 'a'), (1, 'b')]"
      ]
     },
     "execution_count": 24,
     "metadata": {},
     "output_type": "execute_result"
    }
   ],
   "source": [
    "d = {'a':10, 'b':1, 'c':22}\n",
    "l = list()\n",
    "for key, val in d.items() :\n",
    "    l.append( (val, key) )\n",
    "\n",
    "l.sort(reverse=True)\n",
    "l"
   ]
  },
  {
   "cell_type": "code",
   "execution_count": 25,
   "metadata": {},
   "outputs": [
    {
     "name": "stdout",
     "output_type": "stream",
     "text": [
      "Mustang\n",
      "white\n"
     ]
    }
   ],
   "source": [
    "#setdefault():returns value of the item with the specified key.If key does not exist, insert the key, with the specified value\n",
    "\n",
    "car = {  \"brand\": \"Ford\",   \"model\": \"Mustang\",   \"year\": 1964}\n",
    "\n",
    "x = car.setdefault(\"model\", \"Bronco\")\n",
    "y = car.setdefault(\"color\", \"white\")\n",
    "print(x)\n",
    "print(y)"
   ]
  },
  {
   "cell_type": "code",
   "execution_count": 26,
   "metadata": {},
   "outputs": [
    {
     "name": "stdout",
     "output_type": "stream",
     "text": [
      "1 2\n"
     ]
    }
   ],
   "source": [
    "my_dict = {1:'Vikas',2:'Shaurya'}\n",
    "print(*my_dict )"
   ]
  },
  {
   "cell_type": "code",
   "execution_count": 27,
   "metadata": {},
   "outputs": [
    {
     "name": "stdout",
     "output_type": "stream",
     "text": [
      "{1: 'Mike', 2: 'Peter', 'Mike': 'Lawson', 'Peter': 'Plumming'}\n"
     ]
    }
   ],
   "source": [
    "dict1 = {1 : \"Mike\", 2 : \"Peter\"}\n",
    "dict2 = {\"Mike\" : \"Lawson\", \"Peter\" : \"Plumming\"}\n",
    "dict3 = {**dict1, **dict2}\n",
    "print(dict3)\n",
    "#output = {1 : \"Mike\", 2 : \"Peter\", \"Mike\" : \"Lawson\" \"Peter\" : \"Plumming\"}"
   ]
  },
  {
   "cell_type": "code",
   "execution_count": 28,
   "metadata": {},
   "outputs": [
    {
     "name": "stdout",
     "output_type": "stream",
     "text": [
      "{'x': [1, 2, 3], 'y': [1, 2], 'z': [1]}\n"
     ]
    }
   ],
   "source": [
    "#To convert a list of tuples into a dictionary.\n",
    "l = [(\"x\", 1), (\"x\", 2), (\"x\", 3), (\"y\", 1), (\"y\", 2), (\"z\", 1)]\n",
    "d = {}\n",
    "for a, b in l:\n",
    "    d.setdefault(a, []).append(b)\n",
    "print (d)"
   ]
  },
  {
   "cell_type": "code",
   "execution_count": 29,
   "metadata": {},
   "outputs": [
    {
     "name": "stdout",
     "output_type": "stream",
     "text": [
      "{'x': [1], 'y': [2], 'z': [3]}\n"
     ]
    }
   ],
   "source": [
    "#May be irrelevant example\n",
    "#To convert a list of tuples into a dictionary.\n",
    "l = [(\"x\", 1),   (\"y\", 2), (\"z\", 3)]\n",
    "d = {}\n",
    "for a, b in l:\n",
    "    d.setdefault(a, []).append(b)\n",
    "print (d)"
   ]
  },
  {
   "cell_type": "code",
   "execution_count": 30,
   "metadata": {},
   "outputs": [
    {
     "data": {
      "text/plain": [
       "dict_items([('a', 10), ('b', 1), ('c', 22)])"
      ]
     },
     "execution_count": 30,
     "metadata": {},
     "output_type": "execute_result"
    }
   ],
   "source": [
    "dict = {'a':10, 'b':1, 'c':22}\n",
    "dict.items()"
   ]
  },
  {
   "cell_type": "code",
   "execution_count": 31,
   "metadata": {},
   "outputs": [
    {
     "data": {
      "text/plain": [
       "dict_keys(['a', 'b', 'c'])"
      ]
     },
     "execution_count": 31,
     "metadata": {},
     "output_type": "execute_result"
    }
   ],
   "source": [
    "dict = {'a':10, 'b':1, 'c':22}\n",
    "dict.keys()"
   ]
  },
  {
   "cell_type": "code",
   "execution_count": 32,
   "metadata": {},
   "outputs": [
    {
     "data": {
      "text/plain": [
       "dict_values([10, 1, 22])"
      ]
     },
     "execution_count": 32,
     "metadata": {},
     "output_type": "execute_result"
    }
   ],
   "source": [
    "dict = {'a':10, 'b':1, 'c':22}\n",
    "dict.values()"
   ]
  },
  {
   "cell_type": "code",
   "execution_count": null,
   "metadata": {},
   "outputs": [],
   "source": []
  },
  {
   "cell_type": "code",
   "execution_count": null,
   "metadata": {},
   "outputs": [],
   "source": []
  },
  {
   "cell_type": "markdown",
   "metadata": {},
   "source": [
    "# Type conversion"
   ]
  },
  {
   "cell_type": "code",
   "execution_count": 173,
   "metadata": {},
   "outputs": [
    {
     "name": "stdout",
     "output_type": "stream",
     "text": [
      "22.5\n"
     ]
    },
    {
     "data": {
      "text/plain": [
       "float"
      ]
     },
     "execution_count": 173,
     "metadata": {},
     "output_type": "execute_result"
    }
   ],
   "source": [
    "x = 10\n",
    "y=12.5\n",
    "\n",
    "print(float(x)+y)\n",
    "type(x+y)"
   ]
  },
  {
   "cell_type": "code",
   "execution_count": 174,
   "metadata": {},
   "outputs": [
    {
     "name": "stdout",
     "output_type": "stream",
     "text": [
      "22\n"
     ]
    }
   ],
   "source": [
    "x = 10\n",
    "y=12.5\n",
    "\n",
    "print(x+int(y))"
   ]
  },
  {
   "cell_type": "code",
   "execution_count": 48,
   "metadata": {},
   "outputs": [
    {
     "name": "stdout",
     "output_type": "stream",
     "text": [
      "('apple', 'banana', 'cherry')\n",
      "('apple', 'banana', 'cherry', 'apple', 'banana', 'cherry')\n",
      "['apple', 'banana', 'cherry']\n"
     ]
    }
   ],
   "source": [
    "testtpl = (\"apple\", \"banana\", \"cherry\")\n",
    "print(testtpl)\n",
    "print(testtpl+tuple(testtpl))\n",
    "print(list(testtpl))"
   ]
  },
  {
   "cell_type": "code",
   "execution_count": 176,
   "metadata": {},
   "outputs": [],
   "source": [
    "x = 10"
   ]
  },
  {
   "cell_type": "code",
   "execution_count": 177,
   "metadata": {},
   "outputs": [
    {
     "data": {
      "text/plain": [
       "{'A', 'I', 'K', 'S', 'V'}"
      ]
     },
     "execution_count": 177,
     "metadata": {},
     "output_type": "execute_result"
    }
   ],
   "source": [
    "set(name)"
   ]
  },
  {
   "cell_type": "code",
   "execution_count": 178,
   "metadata": {},
   "outputs": [
    {
     "name": "stdout",
     "output_type": "stream",
     "text": [
      "A.S.A.P\n",
      "R.S.V.P\n"
     ]
    }
   ],
   "source": [
    "#join\n",
    "list1=['ASAP', 'RSVP']\n",
    "for item in list1:\n",
    "    print('.'.join(item))"
   ]
  },
  {
   "cell_type": "code",
   "execution_count": 179,
   "metadata": {},
   "outputs": [
    {
     "name": "stdout",
     "output_type": "stream",
     "text": [
      "A.S.A.P. \n",
      "R.S.V.P. \n"
     ]
    }
   ],
   "source": [
    "#URGENT join -- .at the end as well\n",
    "list1=['ASAP', 'RSVP']\n",
    "for item in list1:\n",
    "    print('.'.join(item +' '))"
   ]
  },
  {
   "cell_type": "code",
   "execution_count": 180,
   "metadata": {},
   "outputs": [
    {
     "data": {
      "text/plain": [
       "(4+6j)"
      ]
     },
     "execution_count": 180,
     "metadata": {},
     "output_type": "execute_result"
    }
   ],
   "source": [
    "# Retruned as complex number\n",
    "complex(4,6)"
   ]
  },
  {
   "cell_type": "code",
   "execution_count": 181,
   "metadata": {},
   "outputs": [
    {
     "data": {
      "text/plain": [
       "complex"
      ]
     },
     "execution_count": 181,
     "metadata": {},
     "output_type": "execute_result"
    }
   ],
   "source": [
    "#what type casting for complex number\n",
    "type(complex(4,6))"
   ]
  },
  {
   "cell_type": "code",
   "execution_count": 182,
   "metadata": {},
   "outputs": [
    {
     "data": {
      "text/plain": [
       "tuple"
      ]
     },
     "execution_count": 182,
     "metadata": {},
     "output_type": "execute_result"
    }
   ],
   "source": [
    "#what type of it is ...\n",
    "type((4,3))"
   ]
  },
  {
   "cell_type": "code",
   "execution_count": 183,
   "metadata": {},
   "outputs": [
    {
     "data": {
      "text/plain": [
       "builtin_function_or_method"
      ]
     },
     "execution_count": 183,
     "metadata": {},
     "output_type": "execute_result"
    }
   ],
   "source": [
    "#what type of it is ...\n",
    "type(print)"
   ]
  },
  {
   "cell_type": "code",
   "execution_count": 184,
   "metadata": {},
   "outputs": [
    {
     "name": "stdout",
     "output_type": "stream",
     "text": [
      "\n"
     ]
    },
    {
     "data": {
      "text/plain": [
       "NoneType"
      ]
     },
     "execution_count": 184,
     "metadata": {},
     "output_type": "execute_result"
    }
   ],
   "source": [
    "#what type of it is ...\n",
    "type(print())"
   ]
  },
  {
   "cell_type": "code",
   "execution_count": 185,
   "metadata": {},
   "outputs": [
    {
     "data": {
      "text/plain": [
       "type"
      ]
     },
     "execution_count": 185,
     "metadata": {},
     "output_type": "execute_result"
    }
   ],
   "source": [
    "type(type)"
   ]
  },
  {
   "cell_type": "code",
   "execution_count": null,
   "metadata": {},
   "outputs": [],
   "source": []
  },
  {
   "cell_type": "code",
   "execution_count": 224,
   "metadata": {},
   "outputs": [
    {
     "data": {
      "text/plain": [
       "False"
      ]
     },
     "execution_count": 224,
     "metadata": {},
     "output_type": "execute_result"
    }
   ],
   "source": [
    "(0, 3, 2) < (0, 2, 4)"
   ]
  },
  {
   "cell_type": "code",
   "execution_count": 187,
   "metadata": {},
   "outputs": [
    {
     "name": "stdout",
     "output_type": "stream",
     "text": [
      "(1, 2, 3, 1, 2, 3)\n"
     ]
    }
   ],
   "source": [
    "t1=(1,2,3)\n",
    "print(t1*2)"
   ]
  },
  {
   "cell_type": "code",
   "execution_count": 188,
   "metadata": {},
   "outputs": [
    {
     "data": {
      "text/plain": [
       "set"
      ]
     },
     "execution_count": 188,
     "metadata": {},
     "output_type": "execute_result"
    }
   ],
   "source": [
    "a=({'1:2'})\n",
    "type(a)"
   ]
  },
  {
   "cell_type": "code",
   "execution_count": 189,
   "metadata": {},
   "outputs": [
    {
     "data": {
      "text/plain": [
       "(2, 3)"
      ]
     },
     "execution_count": 189,
     "metadata": {},
     "output_type": "execute_result"
    }
   ],
   "source": [
    "a=(1,2,3,4)\n",
    "a[1:-1]"
   ]
  },
  {
   "cell_type": "code",
   "execution_count": 190,
   "metadata": {},
   "outputs": [
    {
     "data": {
      "text/plain": [
       "3"
      ]
     },
     "execution_count": 190,
     "metadata": {},
     "output_type": "execute_result"
    }
   ],
   "source": [
    "d = {'k1':[1,2,3,{'tricky':['oh','man','inception',{'target':[1,2,3,'hello']}]}]}\n",
    "d['k1'][3]['tricky'][3]['target'][2]"
   ]
  },
  {
   "cell_type": "code",
   "execution_count": 191,
   "metadata": {},
   "outputs": [
    {
     "data": {
      "text/plain": [
       "{0: 0, 1: 1, 2: 4, 3: 9, 4: 16, 5: 25}"
      ]
     },
     "execution_count": 191,
     "metadata": {},
     "output_type": "execute_result"
    }
   ],
   "source": [
    "a={i: i*i for i in range(6)}\n",
    "a"
   ]
  },
  {
   "cell_type": "code",
   "execution_count": 192,
   "metadata": {},
   "outputs": [
    {
     "data": {
      "text/plain": [
       "{1: 'check', 2: 'check', 3: 'check'}"
      ]
     },
     "execution_count": 192,
     "metadata": {},
     "output_type": "execute_result"
    }
   ],
   "source": [
    "a={}\n",
    "a.fromkeys([1,2,3],\"check\")"
   ]
  },
  {
   "cell_type": "code",
   "execution_count": 226,
   "metadata": {},
   "outputs": [
    {
     "data": {
      "text/plain": [
       "'hello'"
      ]
     },
     "execution_count": 226,
     "metadata": {},
     "output_type": "execute_result"
    }
   ],
   "source": [
    "lst = [1,2,[3,4],[5,[100,200,['hello']],23,11],1,7]\n",
    "lst[3][1][2][0]"
   ]
  },
  {
   "cell_type": "code",
   "execution_count": 195,
   "metadata": {},
   "outputs": [
    {
     "name": "stdout",
     "output_type": "stream",
     "text": [
      "The unique elements of the input list using set():\n",
      "\n",
      "100\n",
      "75\n",
      "12\n",
      "20\n",
      "25\n"
     ]
    }
   ],
   "source": [
    "#Given a list of numbers, where every number shows up twice except for one number, find that one number\n",
    "#https://www.journaldev.com/37091/get-unique-values-from-a-list-in-python\n",
    "list_inp = [100, 75, 100, 20, 75, 12, 75, 25] \n",
    " \n",
    "set_res = set(list_inp) \n",
    "print(\"The unique elements of the input list using set():\\n\") \n",
    "list_res = (list(set_res))\n",
    "  \n",
    "for item in list_res: \n",
    "    print(item) "
   ]
  },
  {
   "cell_type": "code",
   "execution_count": 196,
   "metadata": {},
   "outputs": [
    {
     "name": "stdout",
     "output_type": "stream",
     "text": [
      "Unique elements of the list using append():\n",
      "\n",
      "100\n",
      "75\n",
      "20\n",
      "12\n",
      "25\n"
     ]
    }
   ],
   "source": [
    "#Given a list of numbers, where every number shows up twice except for one number, find that one number\n",
    "list_inp = [100, 75, 100, 20, 75, 12, 75, 25] \n",
    " \n",
    "res_list = []\n",
    " \n",
    "for item in list_inp: \n",
    "    if item not in res_list: \n",
    "        res_list.append(item) \n",
    " \n",
    "print(\"Unique elements of the list using append():\\n\")    \n",
    "for item in res_list: \n",
    "    print(item) "
   ]
  },
  {
   "cell_type": "code",
   "execution_count": 197,
   "metadata": {},
   "outputs": [
    {
     "name": "stdout",
     "output_type": "stream",
     "text": [
      "Unique elements of the list using numpy.unique():\n",
      "\n",
      "[ 12  20  25  75 100]\n"
     ]
    }
   ],
   "source": [
    "#Given a list of numbers, where every number shows up twice except for one number, find that one number\n",
    "import numpy as N\n",
    "list_inp = [100, 75, 100, 20, 75, 12, 75, 25] \n",
    "\n",
    "res = N.array(list_inp) \n",
    "unique_res = N.unique(res) \n",
    "print(\"Unique elements of the list using numpy.unique():\\n\")\n",
    "print(unique_res)"
   ]
  },
  {
   "cell_type": "code",
   "execution_count": 198,
   "metadata": {},
   "outputs": [
    {
     "name": "stdout",
     "output_type": "stream",
     "text": [
      "Pair with sum 7 is: ( 5 , 2 )\n",
      "Pair with sum 7 is: ( -4 , 11 )\n"
     ]
    }
   ],
   "source": [
    "#Given an unsorted list and a number S, find all the pairs of numbers in that list such that their sum equals S.\n",
    "#https://www.educative.io/edpresso/how-to-implement-the-two-sum-problem-in-python\n",
    "\n",
    "def twoSumNaive(num_arr, pair_sum):\n",
    "  # search first element in the array\n",
    "  for i in range(len(num_arr) - 1):\n",
    "    # search other element in the array\n",
    "    for j in range(i + 1, len(num_arr)):\n",
    "      # if these two elemets sum to pair_sum, print the pair\n",
    "      if num_arr[i] + num_arr[j] == pair_sum:\n",
    "        print(\"Pair with sum\", pair_sum,\"is: (\", num_arr[i],\",\",num_arr[j],\")\")\n",
    "\n",
    "      \n",
    "\n",
    "# Driver Code\n",
    "num_arr = [3, 5, 2, -4, 8, 11]\n",
    "pair_sum = 7\n",
    "\n",
    "# Function call inside print\n",
    "twoSumNaive(num_arr, pair_sum) "
   ]
  },
  {
   "cell_type": "code",
   "execution_count": 199,
   "metadata": {},
   "outputs": [
    {
     "name": "stdout",
     "output_type": "stream",
     "text": [
      "Pair with sum 7 is: ( 2 , 5 )\n",
      "Pair with sum 7 is: ( 11 , -4 )\n"
     ]
    }
   ],
   "source": [
    "#Given an unsorted list and a number S, find all the pairs of numbers in that list such that their sum equals S.\n",
    "#https://www.educative.io/edpresso/how-to-implement-the-two-sum-problem-in-python\n",
    "\n",
    "def twoSumHashing(num_arr, pair_sum):\n",
    "    sums = []\n",
    "    hashTable = {}\n",
    "\n",
    "    for i in range(len(num_arr)):\n",
    "        complement = pair_sum - num_arr[i]\n",
    "        if complement in hashTable:\n",
    "            print(\"Pair with sum\", pair_sum,\"is: (\", num_arr[i],\",\",complement,\")\")\n",
    "        hashTable[num_arr[i]] = num_arr[i]\n",
    "\n",
    "# Driver Code\n",
    "num_arr = [3, 5, 2, -4, 8, 11]\n",
    "pair_sum = 7   \n",
    "  \n",
    "# Calling function\n",
    "twoSumHashing(num_arr, pair_sum)"
   ]
  },
  {
   "cell_type": "code",
   "execution_count": null,
   "metadata": {},
   "outputs": [],
   "source": []
  },
  {
   "cell_type": "code",
   "execution_count": null,
   "metadata": {},
   "outputs": [],
   "source": []
  }
 ],
 "metadata": {
  "kernelspec": {
   "display_name": "Python 3 (ipykernel)",
   "language": "python",
   "name": "python3"
  },
  "language_info": {
   "codemirror_mode": {
    "name": "ipython",
    "version": 3
   },
   "file_extension": ".py",
   "mimetype": "text/x-python",
   "name": "python",
   "nbconvert_exporter": "python",
   "pygments_lexer": "ipython3",
   "version": "3.9.7"
  }
 },
 "nbformat": 4,
 "nbformat_minor": 4
}
