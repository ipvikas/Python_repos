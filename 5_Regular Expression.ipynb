{
 "cells": [
  {
   "cell_type": "markdown",
   "metadata": {},
   "source": [
    "# Regular Expression"
   ]
  },
  {
   "cell_type": "code",
   "execution_count": 1,
   "metadata": {},
   "outputs": [],
   "source": [
    "# r --> raw string\n",
    "##ref: https://www.youtube.com/watch?v=K8L6KVGG-7o \n",
    "#https://docs.python.org/3/library/re.html"
   ]
  },
  {
   "cell_type": "raw",
   "metadata": {},
   "source": [
    "A regular expression (RegEx) is a special sequence of characters that uses a search pattern to find a string or set of strings. It can detect the presence or absence of a text by matching with a particular pattern , and also can split a pattern into one or more sub-patterns. Python provides a re module that supports the use of regex in Python. Its primary function is to offer a search , where it takes a regular expression and a string. Here it either returns the first match or else none. "
   ]
  },
  {
   "cell_type": "code",
   "execution_count": 2,
   "metadata": {},
   "outputs": [
    {
     "name": "stdout",
     "output_type": "stream",
     "text": [
      "Matches\n",
      "<re.Match object; span=(0, 10), match='good vibes'>\n"
     ]
    }
   ],
   "source": [
    "import re\n",
    "str1 ='good vibes'\n",
    "patt=r'good vibes'\n",
    "n=re.match(str1,patt)\n",
    "\n",
    "if n:\n",
    "    print('Matches')\n",
    "else:\n",
    "    print(\"Doesn't Match\")\n",
    "print(n)"
   ]
  },
  {
   "cell_type": "code",
   "execution_count": 3,
   "metadata": {},
   "outputs": [
    {
     "name": "stdout",
     "output_type": "stream",
     "text": [
      "Matches\n",
      "(5, 10)\n",
      "5\n",
      "10\n",
      "vibes\n",
      "i\n",
      "good vibes\n"
     ]
    }
   ],
   "source": [
    "import re\n",
    "str1 ='good vibes'\n",
    "patt=r'vibes' # vibes\n",
    "n=re.search(patt,str1,flags=re.I) \n",
    "if n:\n",
    "    print('Matches')\n",
    "else:\n",
    "    print(\"Doesn't Match\")\n",
    "    \n",
    "print(n.span())#Returns the tuple containing the starting and ending position of the match\n",
    "print(n.start())\n",
    "print(n.end())\n",
    "print(n.group()) #The part of the string is returned where the match is found\n",
    "print(n.group()[1])\n",
    "print(n.string) #Returns a string passed into the function"
   ]
  },
  {
   "cell_type": "code",
   "execution_count": 4,
   "metadata": {},
   "outputs": [
    {
     "data": {
      "text/plain": [
       "re.Match"
      ]
     },
     "execution_count": 4,
     "metadata": {},
     "output_type": "execute_result"
    }
   ],
   "source": [
    "type(n)"
   ]
  },
  {
   "cell_type": "code",
   "execution_count": 6,
   "metadata": {},
   "outputs": [
    {
     "name": "stdout",
     "output_type": "stream",
     "text": [
      "['good', 'good', 'good']\n"
     ]
    }
   ],
   "source": [
    "import re\n",
    "try:\n",
    "    fhand = open('regular.txt')\n",
    "    line =fhand.read()\n",
    "    lst = re.findall(r'good',line)\n",
    "    print(lst)\n",
    "    \n",
    "except:\n",
    "    print('error')"
   ]
  },
  {
   "cell_type": "code",
   "execution_count": null,
   "metadata": {},
   "outputs": [],
   "source": []
  },
  {
   "cell_type": "code",
   "execution_count": 5,
   "metadata": {},
   "outputs": [
    {
     "name": "stdout",
     "output_type": "stream",
     "text": [
      "[('g', 'ood'), ('G', 'ood'), ('g', 'ood'), ('G', 'ood'), ('G', 'ood'), ('g', 'ood'), ('f', 'ood'), ('f', 'ood')]\n"
     ]
    }
   ],
   "source": [
    "import re\n",
    "try:\n",
    "    fhand = open('regular.txt')\n",
    "    line =fhand.read()\n",
    "    lst = re.findall(r'(g|f)(ood)',line,flags=re.I)\n",
    "    print(lst)\n",
    "    \n",
    "except:\n",
    "    print('error')"
   ]
  },
  {
   "cell_type": "code",
   "execution_count": 7,
   "metadata": {},
   "outputs": [
    {
     "name": "stdout",
     "output_type": "stream",
     "text": [
      "<re.Match object; span=(0, 4), match='good'>\n",
      "<re.Match object; span=(12, 16), match='Good'>\n",
      "<re.Match object; span=(22, 26), match='good'>\n",
      "<re.Match object; span=(34, 38), match='Good'>\n",
      "<re.Match object; span=(44, 48), match='Good'>\n",
      "<re.Match object; span=(54, 58), match='good'>\n",
      "<re.Match object; span=(61, 65), match='food'>\n",
      "<re.Match object; span=(69, 73), match='food'>\n"
     ]
    }
   ],
   "source": [
    "try:\n",
    "    fhand = open('regular.txt')\n",
    "    line =fhand.read()\n",
    "    lst = re.finditer(r'(g|f)(ood)',line,flags=re.I)\n",
    "    for i in lst:\n",
    "        print(i)\n",
    "    \n",
    "except:\n",
    "    print('error')"
   ]
  },
  {
   "cell_type": "code",
   "execution_count": 8,
   "metadata": {},
   "outputs": [
    {
     "name": "stdout",
     "output_type": "stream",
     "text": [
      "['good', 'Good', 'good', 'Good', 'Good', 'good']\n"
     ]
    }
   ],
   "source": [
    "try:\n",
    "    fhand = open('regular.txt')\n",
    "    line =fhand.read()\n",
    "    lst = re.findall(r'^good',line,flags=re.I|re.M)\n",
    "    print(lst)\n",
    "        \n",
    "except:\n",
    "    print('error')"
   ]
  },
  {
   "cell_type": "code",
   "execution_count": 9,
   "metadata": {},
   "outputs": [
    {
     "name": "stdout",
     "output_type": "stream",
     "text": [
      "[]\n"
     ]
    }
   ],
   "source": [
    "try:\n",
    "    fhand = open('regular.txt')\n",
    "    line =fhand.read()\n",
    "    lst = re.findall(r'^good\\sday$',line,flags=re.I|re.M)\n",
    "    print(lst)\n",
    "        \n",
    "except:\n",
    "    print('error')"
   ]
  },
  {
   "cell_type": "code",
   "execution_count": 10,
   "metadata": {},
   "outputs": [
    {
     "name": "stdout",
     "output_type": "stream",
     "text": [
      "good\n",
      "Good\n",
      "good\n",
      "Good\n",
      "Good\n",
      "good\n",
      "day\n"
     ]
    }
   ],
   "source": [
    "import re\n",
    "try:\n",
    "    fhand = open('regular.txt')\n",
    "    for line in fhand.readlines():\n",
    "        x=re.search(r'^good|day$',line,flags=re.I|re.M) # ^ for Beginning of a String and $ for End of a String\n",
    "        if x:\n",
    "            print(x.group())\n",
    "    \n",
    "except:\n",
    "    print('error')"
   ]
  },
  {
   "cell_type": "code",
   "execution_count": 11,
   "metadata": {},
   "outputs": [
    {
     "name": "stdout",
     "output_type": "stream",
     "text": [
      "['a_s']\n"
     ]
    }
   ],
   "source": [
    "try:\n",
    "    fhand = open('regular.txt')\n",
    "    line = fhand.read()\n",
    "    lst =re.findall(r'[aeiou]_\\D',line,flags=re.I)\n",
    "    print(lst)                    \n",
    "except:\n",
    "    print('error')           "
   ]
  },
  {
   "cell_type": "code",
   "execution_count": 1,
   "metadata": {},
   "outputs": [],
   "source": [
    "import re\n",
    "\n",
    "#Part 1: e.g. Below is the given document and from this, we have to extract few words\n",
    "text_to_search = '''\n",
    "abcdefghijklmnopqurtuvwxyz\n",
    "\n",
    "ABCDEFGHIJKLMNOPQRSTUVWXYZ\n",
    "1234567890\n",
    "Ha HaHa\n",
    "MetaCharacters (Need to be escaped):\n",
    ". ^ $ * + ? { } [ ] \\ | ( )\n",
    "coreyms.com\n",
    "321-555-4321\n",
    "123.555.1234\n",
    "123*555*1234\n",
    "800-555-1234\n",
    "900-555-1234\n",
    "Mr. Schafer......\n",
    "Mr Smith\n",
    "Ms Davis\n",
    "Mrs. Robinson\n",
    "Mr. T\n",
    "CoreyMSchafer@gmail.com\n",
    "corey.schafer@university.edu\n",
    "corey-321-schafer@my-work.net\n",
    "https://www.google.com\n",
    "http://coreyms.com\n",
    "https://youtube.com\n",
    "https://www.nasa.gov\n",
    "'''\n",
    "\n",
    "sentence = 'Start a sentence and then bring it to an end'"
   ]
  },
  {
   "cell_type": "code",
   "execution_count": 2,
   "metadata": {},
   "outputs": [
    {
     "name": "stdout",
     "output_type": "stream",
     "text": [
      "ABCDEFGHIJKLMNOPQRSTUVWXYZ\n",
      "Ha\n",
      "HaHa\n",
      "MetaCharacters\n",
      "Need\n",
      "Mr\n",
      "Schafer\n",
      "Mr\n",
      "Smith\n",
      "Ms\n",
      "Davis\n",
      "Mrs\n",
      "Robinson\n",
      "Mr\n",
      "T\n",
      "CoreyMSchafer\n"
     ]
    }
   ],
   "source": [
    "################################################################################################################\n",
    "#Part 2: MAIN code: Uncomment and run to get the result\n",
    "\n",
    "# pattern = re.compile(r'.') # .       - Any Character Except New Line\n",
    "# pattern = re.compile(r'\\.')\n",
    "# pattern = re.compile(r'\\d')# \\d      - Digit (0-9)\n",
    "# pattern = re.compile(r'\\D') # \\D      - Not a Digit (0-9)\n",
    "# pattern = re.compile(r'\\w') # \\w      - Word Character (a-z, A-Z, 0-9, _)\n",
    "# pattern = re.compile(r'\\W') # \\W      - Not a Word Character\n",
    "#pattern = re.compile(r'\\s') # \\s      - Whitespace (space, tab, newline)\n",
    "#pattern = re.compile(r'\\S') # \\S      - Not Whitespace (space, tab, newline)\n",
    "#pattern = re.compile(r'\\b') # \\b      - Word Boundary\n",
    "#pattern = re.compile(r'\\B') # \\B      - Not a Word Boundary\n",
    "\n",
    "#pattern = re.compile(r'[1-3]') # []      - Matches Characters in brackets\n",
    "#pattern = re.compile(r'[^A-Za-z1-9\\n.-]') # [^ ]    - Matches Characters NOT in brackets\n",
    "#pattern = re.compile(r'M[r|s]') # |       - Either Or\n",
    "# pattern = re.compile(r'(Mr)') # ( )     - Group\n",
    "\n",
    "pattern = re.compile(r'[A-Z]\\w*') # *       -  0 or More\n",
    "# pattern = re.compile(r'\\d+') # +       - 1 or More\n",
    "# pattern = re.compile(r'\\w?Mr') # ?       - 0 or One\n",
    "# pattern = re.compile(r'\\d{5}') # {3}     - Exact Number\n",
    "# pattern = re.compile(r'\\w{3,4}')# {3,4}   - Range of Numbers (Minimum, Maximum)\n",
    "\n",
    "matches = pattern.finditer(text_to_search)\n",
    "for match in matches:\n",
    "    print(match.group(0))"
   ]
  },
  {
   "cell_type": "raw",
   "metadata": {},
   "source": [
    "####################################Regular Expression Snippets (for the reference only)###################################\n",
    "#Part 3: \n",
    ".       - Any Character Except New Line\n",
    "\n",
    "\\d      - Digit (0-9)\n",
    "\\D      - Not a Digit (0-9)\n",
    "\n",
    "\\w      - Word Character (a-z, A-Z, 0-9, _)\n",
    "\\W      - Not a Word Character\n",
    "\n",
    "\\s      - Whitespace (space, tab, newline)\n",
    "\\S      - Not Whitespace (space, tab, newline)\n",
    "\n",
    "\\b      - Word Boundary\n",
    "\\B      - Not a Word Boundary\n",
    "\n",
    "^       - Beginning of a String\n",
    "$       - End of a String\n",
    "\n",
    "[]      - Matches Characters in brackets\n",
    "[^ ]    - Matches Characters NOT in brackets\n",
    "|       - Either Or\n",
    "( )     - Group\n",
    "\n",
    "Quantifiers:\n",
    "*       - 0 or More\n",
    "+       - 1 or More\n",
    "?       - 0 or One\n",
    "{3}     - Exact Number\n",
    "{3,4}   - Range of Numbers (Minimum, Maximum)\n",
    "\n",
    "\n",
    "#### Sample Regexs ####\n",
    "\n",
    "[a-zA-Z0-9_.+-]+@[a-zA-Z0-9-]+\\.[a-zA-Z0-9-.]+"
   ]
  },
  {
   "cell_type": "code",
   "execution_count": 99,
   "metadata": {},
   "outputs": [
    {
     "name": "stdout",
     "output_type": "stream",
     "text": [
      "email id is:  xyzvikas@gmail.com\n",
      "email id is:  pqrvikas@gmail.com\n",
      "Phone number is:  9881176195\n",
      "URL is:  https://www.vikas.com\n",
      "Domain name is:  www.vikas.com\n",
      "Method/Protocol is:  www.\n",
      "web server is:  www.\n",
      "host name is:  vikas\n",
      "top level domain is:  .com\n"
     ]
    }
   ],
   "source": [
    "import re\n",
    "sample_text = '''Contact me over xyzvikas@gmail.com, another is pqrvikas@gmail.com; ring me on 9881176195 and \n",
    "website presence with profile page at https://www.vikas.com/profile'''\n",
    "\n",
    "#1: email id pattern\n",
    "pattern_email = re.compile(r'[a-zA-Z0-9_.+-]+@[a-zA-Z0-9-]+\\.[a-zA-Z0-9-]+')\n",
    "matches_email = pattern_email.finditer(sample_text)\n",
    "for match in matches_email:\n",
    "    print('email id is: ',match.group(0))\n",
    "\n",
    "#2: phone numbers pattern\n",
    "# pattern_phone = re.compile(r'\\d\\d\\d\\d\\d\\d\\d\\d\\d') \n",
    "pattern_phone = re.compile(r'\\d{10,12}') \n",
    "matches_phone = pattern_phone.finditer(sample_text)\n",
    "for match in matches_phone:\n",
    "    print('Phone number is: ', match.group(0))\n",
    "    \n",
    "#3: URL pattern. group(0) for url; group(1) for web server type; group(2) for host name; group(3) for top level domain\n",
    "pattern_web = re.compile(r'https?://(www\\.)?(\\w+)(\\.\\w+)')\n",
    "matches_web = pattern_web.finditer(sample_text)\n",
    "for match in matches_web:\n",
    "    print('URL is: ', match.group(0))# URL: https://www.google.com/\n",
    "    print('Domain name is: ', match.group(1)+match.group(2)+match.group(3))# Domain name: www.google.com\n",
    "    print('Method/Protocol is: ',match.group(1))# Method/Protocol: https://\n",
    "    print('web server is: ', match.group(1))# Web server type: www\n",
    "    print('host name is: ', match.group(2))# Host name: google\n",
    "    print('top level domain is: ', match.group(3))# Top-level domain: .com"
   ]
  },
  {
   "cell_type": "code",
   "execution_count": 17,
   "metadata": {},
   "outputs": [
    {
     "name": "stdout",
     "output_type": "stream",
     "text": [
      "Sat, Hat, Mat and Food\n"
     ]
    }
   ],
   "source": [
    "#Replacing a word\n",
    "import re\n",
    "str = \"Sat, Hat, Mat and Rat\"\n",
    "regex = re.compile(\"[R]at\") \n",
    "str = regex.sub(\"Food\", str)\n",
    "print(str)"
   ]
  },
  {
   "cell_type": "markdown",
   "metadata": {},
   "source": [
    "# Difference between match, search, findall"
   ]
  },
  {
   "cell_type": "code",
   "execution_count": 18,
   "metadata": {},
   "outputs": [],
   "source": [
    "# match(): This method matches the regex pattern in the string. Returns boolean value\n",
    "# search(): returns the match object if there is a match found in the string\n",
    "# findall(): Returns a list that contains all the matches of a pattern in the string\n",
    "# split(): Returns a list in which the string has been split in each match\n",
    "# sub(): Replace one or many matches in the string."
   ]
  },
  {
   "cell_type": "code",
   "execution_count": 19,
   "metadata": {},
   "outputs": [
    {
     "name": "stdout",
     "output_type": "stream",
     "text": [
      "<re.Match object; span=(0, 1), match='V'>\n",
      "<re.Match object; span=(30, 31), match='p'>\n",
      "['?', '?']\n",
      "['Vikas', ', you', ' are ', 'a goo', 'd BOY', '    p', '@gg.c', '    G', 'ood D', '    G', 'oodda']\n",
      "Vikas, you are a good BOY\n",
      "    <conf email id>\n",
      "    Good Day?\n",
      "    Goodday?\n",
      "    \n"
     ]
    }
   ],
   "source": [
    "try:\n",
    "    input_str = '''Vikas, you are a good BOY\n",
    "    p@gg.com\n",
    "    Good Day?\n",
    "    Goodday?\n",
    "    '''\n",
    "    result_match = re.match(r\"[v]\", input_str,flags=re.I|re.M) #re.match only matches for START of the string\n",
    "    print(result_match)\n",
    "    \n",
    "    result_search=re.search(r\"[p]\",input_str,flags=re.I|re.M)\n",
    "    print(result_search)\n",
    "    \n",
    "    result_findall=re.findall(r\"[?]\",input_str,flags=re.I|re.M)\n",
    "    print(result_findall)\n",
    "    \n",
    "    result_chunks=re.findall(r\".....\",input_str,flags=re.I|re.M) #makes match of number of dots\n",
    "    print(result_chunks)\n",
    "      \n",
    "    result_sub=re.sub(\"[a-zA-Z0-9_.+-]+@[a-zA-Z0-9-]+\\.[a-zA-Z0-9-]+\", \"<conf email id>\",input_str)\n",
    "    print(result_sub)\n",
    "      \n",
    "except:\n",
    "    print('error')"
   ]
  },
  {
   "cell_type": "code",
   "execution_count": 80,
   "metadata": {},
   "outputs": [
    {
     "name": "stdout",
     "output_type": "stream",
     "text": [
      "Pages are:\n",
      "\n",
      "apple-red-delicious-economy\n",
      "banana-small-elaichi-kela\n",
      "guava-amrood\n"
     ]
    }
   ],
   "source": [
    "import re\n",
    "links = '''https://www.adibuja.com/product/apple-red-delicious-economy\n",
    "https://www.adibuja.com/product/banana-small-elaichi-kela\n",
    "https://www.adibuja.com/product/guava-amrood'''\n",
    "\n",
    "pattern_page = re.compile(r'(https://www.adibuja.com/product/)(\\w.+)')\n",
    "matches_page = pattern_page.finditer(links)\n",
    "print('Pages are:\\n')\n",
    "for match in matches_page:\n",
    "    print(match.group(2))\n"
   ]
  },
  {
   "cell_type": "markdown",
   "metadata": {},
   "source": [
    "Twitter: Given a string with lowercase characters and left and right parentheses, remove the minimum number of parentheses so that the string is valid.\n",
    "For example, if the string is \")a(b((cd)e(f)g)\" then return \"ab((cd)e(f)g)\"."
   ]
  },
  {
   "cell_type": "code",
   "execution_count": null,
   "metadata": {},
   "outputs": [],
   "source": []
  },
  {
   "cell_type": "code",
   "execution_count": null,
   "metadata": {},
   "outputs": [],
   "source": []
  },
  {
   "cell_type": "code",
   "execution_count": null,
   "metadata": {},
   "outputs": [],
   "source": []
  },
  {
   "cell_type": "code",
   "execution_count": null,
   "metadata": {},
   "outputs": [],
   "source": []
  },
  {
   "cell_type": "code",
   "execution_count": null,
   "metadata": {},
   "outputs": [],
   "source": []
  }
 ],
 "metadata": {
  "kernelspec": {
   "display_name": "Python 3 (ipykernel)",
   "language": "python",
   "name": "python3"
  },
  "language_info": {
   "codemirror_mode": {
    "name": "ipython",
    "version": 3
   },
   "file_extension": ".py",
   "mimetype": "text/x-python",
   "name": "python",
   "nbconvert_exporter": "python",
   "pygments_lexer": "ipython3",
   "version": "3.9.7"
  }
 },
 "nbformat": 4,
 "nbformat_minor": 2
}
